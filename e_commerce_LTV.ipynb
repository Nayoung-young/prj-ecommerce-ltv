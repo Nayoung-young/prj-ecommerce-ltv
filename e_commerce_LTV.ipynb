{
  "nbformat": 4,
  "nbformat_minor": 0,
  "metadata": {
    "colab": {
      "provenance": [],
      "toc_visible": true,
      "include_colab_link": true
    },
    "kernelspec": {
      "name": "python3",
      "display_name": "Python 3"
    },
    "language_info": {
      "name": "python"
    }
  },
  "cells": [
    {
      "cell_type": "markdown",
      "metadata": {
        "id": "view-in-github",
        "colab_type": "text"
      },
      "source": [
        "<a href=\"https://colab.research.google.com/github/Nayoung-young/prj-ecommerce-ltv/blob/main/e_commerce_LTV.ipynb\" target=\"_parent\"><img src=\"https://colab.research.google.com/assets/colab-badge.svg\" alt=\"Open In Colab\"/></a>"
      ]
    },
    {
      "cell_type": "markdown",
      "source": [
        "# _0.라이브러리 임포트"
      ],
      "metadata": {
        "id": "cBlp2yHdjDhr"
      }
    },
    {
      "cell_type": "code",
      "source": [
        "!pip install plotly\n",
        "!pip install Lifetimes\n",
        "!pip install nb_black"
      ],
      "metadata": {
        "colab": {
          "base_uri": "https://localhost:8080/"
        },
        "id": "soamLyPU2w63",
        "outputId": "4df10cd7-ea1d-416e-ee9c-198648053e7a"
      },
      "execution_count": 91,
      "outputs": [
        {
          "output_type": "stream",
          "name": "stdout",
          "text": [
            "Looking in indexes: https://pypi.org/simple, https://us-python.pkg.dev/colab-wheels/public/simple/\n",
            "Requirement already satisfied: plotly in /usr/local/lib/python3.10/dist-packages (5.13.1)\n",
            "Requirement already satisfied: tenacity>=6.2.0 in /usr/local/lib/python3.10/dist-packages (from plotly) (8.2.2)\n",
            "Looking in indexes: https://pypi.org/simple, https://us-python.pkg.dev/colab-wheels/public/simple/\n",
            "Requirement already satisfied: Lifetimes in /usr/local/lib/python3.10/dist-packages (0.11.3)\n",
            "Requirement already satisfied: dill>=0.2.6 in /usr/local/lib/python3.10/dist-packages (from Lifetimes) (0.3.6)\n",
            "Requirement already satisfied: scipy>=1.0.0 in /usr/local/lib/python3.10/dist-packages (from Lifetimes) (1.10.1)\n",
            "Requirement already satisfied: pandas>=0.24.0 in /usr/local/lib/python3.10/dist-packages (from Lifetimes) (1.5.3)\n",
            "Requirement already satisfied: autograd>=1.2.0 in /usr/local/lib/python3.10/dist-packages (from Lifetimes) (1.5)\n",
            "Requirement already satisfied: numpy>=1.10.0 in /usr/local/lib/python3.10/dist-packages (from Lifetimes) (1.22.4)\n",
            "Requirement already satisfied: future>=0.15.2 in /usr/local/lib/python3.10/dist-packages (from autograd>=1.2.0->Lifetimes) (0.18.3)\n",
            "Requirement already satisfied: python-dateutil>=2.8.1 in /usr/local/lib/python3.10/dist-packages (from pandas>=0.24.0->Lifetimes) (2.8.2)\n",
            "Requirement already satisfied: pytz>=2020.1 in /usr/local/lib/python3.10/dist-packages (from pandas>=0.24.0->Lifetimes) (2022.7.1)\n",
            "Requirement already satisfied: six>=1.5 in /usr/local/lib/python3.10/dist-packages (from python-dateutil>=2.8.1->pandas>=0.24.0->Lifetimes) (1.16.0)\n",
            "Looking in indexes: https://pypi.org/simple, https://us-python.pkg.dev/colab-wheels/public/simple/\n",
            "Collecting nb_black\n",
            "  Using cached nb_black-1.0.7.tar.gz (4.8 kB)\n",
            "  \u001b[1;31merror\u001b[0m: \u001b[1msubprocess-exited-with-error\u001b[0m\n",
            "  \n",
            "  \u001b[31m×\u001b[0m \u001b[32mpython setup.py egg_info\u001b[0m did not run successfully.\n",
            "  \u001b[31m│\u001b[0m exit code: \u001b[1;36m1\u001b[0m\n",
            "  \u001b[31m╰─>\u001b[0m See above for output.\n",
            "  \n",
            "  \u001b[1;35mnote\u001b[0m: This error originates from a subprocess, and is likely not a problem with pip.\n",
            "  Preparing metadata (setup.py) ... \u001b[?25l\u001b[?25herror\n",
            "\u001b[1;31merror\u001b[0m: \u001b[1mmetadata-generation-failed\u001b[0m\n",
            "\n",
            "\u001b[31m×\u001b[0m Encountered error while generating package metadata.\n",
            "\u001b[31m╰─>\u001b[0m See above for output.\n",
            "\n",
            "\u001b[1;35mnote\u001b[0m: This is an issue with the package mentioned above, not pip.\n",
            "\u001b[1;36mhint\u001b[0m: See above for details.\n"
          ]
        }
      ]
    },
    {
      "cell_type": "code",
      "source": [
        "import pandas as pd # python에서의 엑셀과 같은 역할\n",
        "import numpy as np # 계산을 편하게 해 주는 라이브러리\n",
        "import matplotlib as mpl\n",
        "import matplotlib.pyplot as plt # 시각화\n",
        "import seaborn as sns # 시각화\n",
        "\n",
        "import matplotlib.ticker as ticker # 시각화\n",
        "import matplotlib.dates as mdates # 시각화\n",
        "\n",
        "import datetime as dt\n",
        "\n",
        "import warnings\n",
        "\n",
        "warnings.filterwarnings('ignore')\n",
        "sns.set_theme(style='white')\n",
        "\n",
        "# from other \n",
        "import matplotlib.colors as mcolors\n",
        "from sklearn.metrics import (silhouette_score,\n",
        "                             calinski_harabasz_score,\n",
        "                             davies_bouldin_score)\n",
        "%matplotlib inline\n",
        "sns.set_style('whitegrid')\n",
        "palette = 'Set2'\n",
        "\n",
        "# sns.set(font_scale=2)"
      ],
      "metadata": {
        "id": "DFIz0LDqjZpz"
      },
      "execution_count": 92,
      "outputs": []
    },
    {
      "cell_type": "markdown",
      "source": [
        "# _1. 데이터 불러오기 "
      ],
      "metadata": {
        "id": "MG1GToDam_CU"
      }
    },
    {
      "cell_type": "code",
      "source": [
        "%%time\n",
        "df = pd.read_csv('/content/e-commerce_LTV.csv', encoding= 'unicode_escape')\n",
        "df_base = df.copy()"
      ],
      "metadata": {
        "id": "3BlkuQ7-m_o2",
        "colab": {
          "base_uri": "https://localhost:8080/"
        },
        "outputId": "71c8c06a-e315-4642-b697-4f26f1cc14db"
      },
      "execution_count": 93,
      "outputs": [
        {
          "output_type": "stream",
          "name": "stdout",
          "text": [
            "CPU times: user 1.17 s, sys: 309 ms, total: 1.48 s\n",
            "Wall time: 1.67 s\n"
          ]
        }
      ]
    },
    {
      "cell_type": "code",
      "source": [
        "df_base.head()"
      ],
      "metadata": {
        "colab": {
          "base_uri": "https://localhost:8080/",
          "height": 250
        },
        "id": "lbYB2DtUeVxJ",
        "outputId": "7776064d-f8b3-4f54-ac01-8efc847271bd"
      },
      "execution_count": 94,
      "outputs": [
        {
          "output_type": "execute_result",
          "data": {
            "text/plain": [
              "  InvoiceNo StockCode                          Description  Quantity  \\\n",
              "0    536365    85123A   WHITE HANGING HEART T-LIGHT HOLDER         6   \n",
              "1    536365     71053                  WHITE METAL LANTERN         6   \n",
              "2    536365    84406B       CREAM CUPID HEARTS COAT HANGER         8   \n",
              "3    536365    84029G  KNITTED UNION FLAG HOT WATER BOTTLE         6   \n",
              "4    536365    84029E       RED WOOLLY HOTTIE WHITE HEART.         6   \n",
              "\n",
              "      InvoiceDate  UnitPrice  CustomerID         Country  \n",
              "0  12/1/2010 8:26          3      17,850  United Kingdom  \n",
              "1  12/1/2010 8:26          3      17,850  United Kingdom  \n",
              "2  12/1/2010 8:26          3      17,850  United Kingdom  \n",
              "3  12/1/2010 8:26          3      17,850  United Kingdom  \n",
              "4  12/1/2010 8:26          3      17,850  United Kingdom  "
            ],
            "text/html": [
              "\n",
              "  <div id=\"df-488a0b78-2720-41aa-923e-543bd8aa90b4\">\n",
              "    <div class=\"colab-df-container\">\n",
              "      <div>\n",
              "<style scoped>\n",
              "    .dataframe tbody tr th:only-of-type {\n",
              "        vertical-align: middle;\n",
              "    }\n",
              "\n",
              "    .dataframe tbody tr th {\n",
              "        vertical-align: top;\n",
              "    }\n",
              "\n",
              "    .dataframe thead th {\n",
              "        text-align: right;\n",
              "    }\n",
              "</style>\n",
              "<table border=\"1\" class=\"dataframe\">\n",
              "  <thead>\n",
              "    <tr style=\"text-align: right;\">\n",
              "      <th></th>\n",
              "      <th>InvoiceNo</th>\n",
              "      <th>StockCode</th>\n",
              "      <th>Description</th>\n",
              "      <th>Quantity</th>\n",
              "      <th>InvoiceDate</th>\n",
              "      <th>UnitPrice</th>\n",
              "      <th>CustomerID</th>\n",
              "      <th>Country</th>\n",
              "    </tr>\n",
              "  </thead>\n",
              "  <tbody>\n",
              "    <tr>\n",
              "      <th>0</th>\n",
              "      <td>536365</td>\n",
              "      <td>85123A</td>\n",
              "      <td>WHITE HANGING HEART T-LIGHT HOLDER</td>\n",
              "      <td>6</td>\n",
              "      <td>12/1/2010 8:26</td>\n",
              "      <td>3</td>\n",
              "      <td>17,850</td>\n",
              "      <td>United Kingdom</td>\n",
              "    </tr>\n",
              "    <tr>\n",
              "      <th>1</th>\n",
              "      <td>536365</td>\n",
              "      <td>71053</td>\n",
              "      <td>WHITE METAL LANTERN</td>\n",
              "      <td>6</td>\n",
              "      <td>12/1/2010 8:26</td>\n",
              "      <td>3</td>\n",
              "      <td>17,850</td>\n",
              "      <td>United Kingdom</td>\n",
              "    </tr>\n",
              "    <tr>\n",
              "      <th>2</th>\n",
              "      <td>536365</td>\n",
              "      <td>84406B</td>\n",
              "      <td>CREAM CUPID HEARTS COAT HANGER</td>\n",
              "      <td>8</td>\n",
              "      <td>12/1/2010 8:26</td>\n",
              "      <td>3</td>\n",
              "      <td>17,850</td>\n",
              "      <td>United Kingdom</td>\n",
              "    </tr>\n",
              "    <tr>\n",
              "      <th>3</th>\n",
              "      <td>536365</td>\n",
              "      <td>84029G</td>\n",
              "      <td>KNITTED UNION FLAG HOT WATER BOTTLE</td>\n",
              "      <td>6</td>\n",
              "      <td>12/1/2010 8:26</td>\n",
              "      <td>3</td>\n",
              "      <td>17,850</td>\n",
              "      <td>United Kingdom</td>\n",
              "    </tr>\n",
              "    <tr>\n",
              "      <th>4</th>\n",
              "      <td>536365</td>\n",
              "      <td>84029E</td>\n",
              "      <td>RED WOOLLY HOTTIE WHITE HEART.</td>\n",
              "      <td>6</td>\n",
              "      <td>12/1/2010 8:26</td>\n",
              "      <td>3</td>\n",
              "      <td>17,850</td>\n",
              "      <td>United Kingdom</td>\n",
              "    </tr>\n",
              "  </tbody>\n",
              "</table>\n",
              "</div>\n",
              "      <button class=\"colab-df-convert\" onclick=\"convertToInteractive('df-488a0b78-2720-41aa-923e-543bd8aa90b4')\"\n",
              "              title=\"Convert this dataframe to an interactive table.\"\n",
              "              style=\"display:none;\">\n",
              "        \n",
              "  <svg xmlns=\"http://www.w3.org/2000/svg\" height=\"24px\"viewBox=\"0 0 24 24\"\n",
              "       width=\"24px\">\n",
              "    <path d=\"M0 0h24v24H0V0z\" fill=\"none\"/>\n",
              "    <path d=\"M18.56 5.44l.94 2.06.94-2.06 2.06-.94-2.06-.94-.94-2.06-.94 2.06-2.06.94zm-11 1L8.5 8.5l.94-2.06 2.06-.94-2.06-.94L8.5 2.5l-.94 2.06-2.06.94zm10 10l.94 2.06.94-2.06 2.06-.94-2.06-.94-.94-2.06-.94 2.06-2.06.94z\"/><path d=\"M17.41 7.96l-1.37-1.37c-.4-.4-.92-.59-1.43-.59-.52 0-1.04.2-1.43.59L10.3 9.45l-7.72 7.72c-.78.78-.78 2.05 0 2.83L4 21.41c.39.39.9.59 1.41.59.51 0 1.02-.2 1.41-.59l7.78-7.78 2.81-2.81c.8-.78.8-2.07 0-2.86zM5.41 20L4 18.59l7.72-7.72 1.47 1.35L5.41 20z\"/>\n",
              "  </svg>\n",
              "      </button>\n",
              "      \n",
              "  <style>\n",
              "    .colab-df-container {\n",
              "      display:flex;\n",
              "      flex-wrap:wrap;\n",
              "      gap: 12px;\n",
              "    }\n",
              "\n",
              "    .colab-df-convert {\n",
              "      background-color: #E8F0FE;\n",
              "      border: none;\n",
              "      border-radius: 50%;\n",
              "      cursor: pointer;\n",
              "      display: none;\n",
              "      fill: #1967D2;\n",
              "      height: 32px;\n",
              "      padding: 0 0 0 0;\n",
              "      width: 32px;\n",
              "    }\n",
              "\n",
              "    .colab-df-convert:hover {\n",
              "      background-color: #E2EBFA;\n",
              "      box-shadow: 0px 1px 2px rgba(60, 64, 67, 0.3), 0px 1px 3px 1px rgba(60, 64, 67, 0.15);\n",
              "      fill: #174EA6;\n",
              "    }\n",
              "\n",
              "    [theme=dark] .colab-df-convert {\n",
              "      background-color: #3B4455;\n",
              "      fill: #D2E3FC;\n",
              "    }\n",
              "\n",
              "    [theme=dark] .colab-df-convert:hover {\n",
              "      background-color: #434B5C;\n",
              "      box-shadow: 0px 1px 3px 1px rgba(0, 0, 0, 0.15);\n",
              "      filter: drop-shadow(0px 1px 2px rgba(0, 0, 0, 0.3));\n",
              "      fill: #FFFFFF;\n",
              "    }\n",
              "  </style>\n",
              "\n",
              "      <script>\n",
              "        const buttonEl =\n",
              "          document.querySelector('#df-488a0b78-2720-41aa-923e-543bd8aa90b4 button.colab-df-convert');\n",
              "        buttonEl.style.display =\n",
              "          google.colab.kernel.accessAllowed ? 'block' : 'none';\n",
              "\n",
              "        async function convertToInteractive(key) {\n",
              "          const element = document.querySelector('#df-488a0b78-2720-41aa-923e-543bd8aa90b4');\n",
              "          const dataTable =\n",
              "            await google.colab.kernel.invokeFunction('convertToInteractive',\n",
              "                                                     [key], {});\n",
              "          if (!dataTable) return;\n",
              "\n",
              "          const docLinkHtml = 'Like what you see? Visit the ' +\n",
              "            '<a target=\"_blank\" href=https://colab.research.google.com/notebooks/data_table.ipynb>data table notebook</a>'\n",
              "            + ' to learn more about interactive tables.';\n",
              "          element.innerHTML = '';\n",
              "          dataTable['output_type'] = 'display_data';\n",
              "          await google.colab.output.renderOutput(dataTable, element);\n",
              "          const docLink = document.createElement('div');\n",
              "          docLink.innerHTML = docLinkHtml;\n",
              "          element.appendChild(docLink);\n",
              "        }\n",
              "      </script>\n",
              "    </div>\n",
              "  </div>\n",
              "  "
            ]
          },
          "metadata": {},
          "execution_count": 94
        }
      ]
    },
    {
      "cell_type": "code",
      "source": [
        "df_base.info()"
      ],
      "metadata": {
        "id": "2_BnqHxvm_ro",
        "colab": {
          "base_uri": "https://localhost:8080/"
        },
        "outputId": "153c9024-c61e-43a5-d3c6-190272329d7f"
      },
      "execution_count": 95,
      "outputs": [
        {
          "output_type": "stream",
          "name": "stdout",
          "text": [
            "<class 'pandas.core.frame.DataFrame'>\n",
            "RangeIndex: 541909 entries, 0 to 541908\n",
            "Data columns (total 8 columns):\n",
            " #   Column       Non-Null Count   Dtype  \n",
            "---  ------       --------------   -----  \n",
            " 0   InvoiceNo    541909 non-null  object \n",
            " 1   StockCode    541909 non-null  object \n",
            " 2   Description  540455 non-null  object \n",
            " 3   Quantity     541909 non-null  int64  \n",
            " 4   InvoiceDate  541909 non-null  object \n",
            " 5   UnitPrice    541909 non-null  float64\n",
            " 6   CustomerID   406829 non-null  float64\n",
            " 7   Country      541909 non-null  object \n",
            "dtypes: float64(2), int64(1), object(5)\n",
            "memory usage: 33.1+ MB\n"
          ]
        }
      ]
    },
    {
      "cell_type": "code",
      "source": [
        "len(df_base['InvoiceNo'].unique().tolist()) # InvoiceNo가 primary key인가? -> Nope "
      ],
      "metadata": {
        "colab": {
          "base_uri": "https://localhost:8080/"
        },
        "id": "aWvR_7Hvez2v",
        "outputId": "b92c1b87-51a7-4e8b-a2fc-d89818792787"
      },
      "execution_count": 96,
      "outputs": [
        {
          "output_type": "execute_result",
          "data": {
            "text/plain": [
              "25900"
            ]
          },
          "metadata": {},
          "execution_count": 96
        }
      ]
    },
    {
      "cell_type": "code",
      "source": [
        "print(min(df_base['Quantity'].tolist()))\n",
        "print(max(df_base['Quantity'].tolist())) # Quantity 범위 확인 "
      ],
      "metadata": {
        "colab": {
          "base_uri": "https://localhost:8080/"
        },
        "id": "JJxt9o04f_Pj",
        "outputId": "05d27d05-9e17-4a92-d810-adab5888d671"
      },
      "execution_count": 97,
      "outputs": [
        {
          "output_type": "stream",
          "name": "stdout",
          "text": [
            "-80995\n",
            "80995\n"
          ]
        }
      ]
    },
    {
      "cell_type": "code",
      "source": [
        "quantity = df_base['Quantity'].tolist() \n",
        "\n",
        "print(len(list(filter(lambda x: x < 0, quantity)))) # quantity < 0 인 경우 \n",
        "print(len(list(filter(lambda x: x > 0, quantity)))) # quantity > 0 인 경우 "
      ],
      "metadata": {
        "colab": {
          "base_uri": "https://localhost:8080/"
        },
        "id": "uN5O4EUEjDTY",
        "outputId": "f36c3872-14cd-444b-e3bc-b1fa0bc4b246"
      },
      "execution_count": 98,
      "outputs": [
        {
          "output_type": "stream",
          "name": "stdout",
          "text": [
            "10624\n",
            "531285\n"
          ]
        }
      ]
    },
    {
      "cell_type": "code",
      "source": [
        "sum(df_base['Quantity'].dropna())"
      ],
      "metadata": {
        "colab": {
          "base_uri": "https://localhost:8080/"
        },
        "id": "uZy3IDeJkZXt",
        "outputId": "042cd570-8ed1-4827-8a59-56b3de9cbcf5"
      },
      "execution_count": 99,
      "outputs": [
        {
          "output_type": "execute_result",
          "data": {
            "text/plain": [
              "5176450"
            ]
          },
          "metadata": {},
          "execution_count": 99
        }
      ]
    },
    {
      "cell_type": "code",
      "source": [
        "# df_base['Country'].unique().tolist() # Country 고유값"
      ],
      "metadata": {
        "id": "Kj93KJb0j_wv"
      },
      "execution_count": 100,
      "outputs": []
    },
    {
      "cell_type": "code",
      "source": [
        "# df_base.groupby(['Country']).agg(country_cnt = ('Country', 'count')).reset_index().sort_values(by = 'country_cnt', ascending =False)"
      ],
      "metadata": {
        "id": "0yMsWqWUggZo"
      },
      "execution_count": 101,
      "outputs": []
    },
    {
      "cell_type": "code",
      "source": [],
      "metadata": {
        "id": "D0TkvYPYkKmH"
      },
      "execution_count": 101,
      "outputs": []
    },
    {
      "cell_type": "markdown",
      "source": [
        "#_1. 데이터 전처리"
      ],
      "metadata": {
        "id": "ti33bHpqjHcM"
      }
    },
    {
      "cell_type": "code",
      "source": [
        "df_base.columns"
      ],
      "metadata": {
        "colab": {
          "base_uri": "https://localhost:8080/"
        },
        "id": "w6bRje4sk9RU",
        "outputId": "f80bf229-b3b9-4bab-f87e-7fce3130a1a3"
      },
      "execution_count": 102,
      "outputs": [
        {
          "output_type": "execute_result",
          "data": {
            "text/plain": [
              "Index(['InvoiceNo', 'StockCode', 'Description', 'Quantity', 'InvoiceDate',\n",
              "       'UnitPrice', 'CustomerID', 'Country'],\n",
              "      dtype='object')"
            ]
          },
          "metadata": {},
          "execution_count": 102
        }
      ]
    },
    {
      "cell_type": "markdown",
      "source": [
        "## 1.1 컬럼명 바꾸기 "
      ],
      "metadata": {
        "id": "xl1-Nfk3oF1q"
      }
    },
    {
      "cell_type": "code",
      "source": [
        "# 컬럼 이름 snake case 로 rename \n",
        "%%time\n",
        "df_base.rename(columns = {'InvoiceNo':'invoice_no', \n",
        "                        'StockCode':'stock_code', \n",
        "                        'Quantity': 'quantity',\n",
        "                        'Description':'description',\n",
        "                        'InvoiceDate': 'invoice_date',\n",
        "                        'UnitPrice': 'unit_price', \n",
        "                        'CustomerID': 'customer_id', \n",
        "                        'Country':'country'}, inplace = True)"
      ],
      "metadata": {
        "colab": {
          "base_uri": "https://localhost:8080/"
        },
        "id": "lySixIr-mfOi",
        "outputId": "66e89972-c707-46e6-f702-921b1278caf9"
      },
      "execution_count": 103,
      "outputs": [
        {
          "output_type": "stream",
          "name": "stdout",
          "text": [
            "CPU times: user 1.96 ms, sys: 3 µs, total: 1.96 ms\n",
            "Wall time: 2.33 ms\n"
          ]
        }
      ]
    },
    {
      "cell_type": "code",
      "source": [
        "LTV_columns = ['invoice_no', 'stock_code', 'quantity', 'invoice_date', 'unit_price', 'customer_id']\n",
        "df_LTV = df_base[LTV_columns]"
      ],
      "metadata": {
        "id": "7hox0TK9jaDb"
      },
      "execution_count": 104,
      "outputs": []
    },
    {
      "cell_type": "code",
      "source": [
        "df_LTV.info()"
      ],
      "metadata": {
        "colab": {
          "base_uri": "https://localhost:8080/"
        },
        "id": "7YGWzEx2ome6",
        "outputId": "58f0819a-f9fc-4755-8dee-2ba751d7db65"
      },
      "execution_count": 105,
      "outputs": [
        {
          "output_type": "stream",
          "name": "stdout",
          "text": [
            "<class 'pandas.core.frame.DataFrame'>\n",
            "RangeIndex: 541909 entries, 0 to 541908\n",
            "Data columns (total 6 columns):\n",
            " #   Column        Non-Null Count   Dtype  \n",
            "---  ------        --------------   -----  \n",
            " 0   invoice_no    541909 non-null  object \n",
            " 1   stock_code    541909 non-null  object \n",
            " 2   quantity      541909 non-null  int64  \n",
            " 3   invoice_date  541909 non-null  object \n",
            " 4   unit_price    541909 non-null  float64\n",
            " 5   customer_id   406829 non-null  float64\n",
            "dtypes: float64(2), int64(1), object(3)\n",
            "memory usage: 24.8+ MB\n"
          ]
        }
      ]
    },
    {
      "cell_type": "markdown",
      "source": [
        "## 1.2 결측값 처리 \n",
        "- customer_id: \n",
        "  - 결측값 = 비회원으로 추정\n",
        "  - 추후 LTV 계산에서 활용하지는 않을 것이지만 fillna(0)\n",
        "  - object로 타입 변환 "
      ],
      "metadata": {
        "id": "dc_8tbfBo2SA"
      }
    },
    {
      "cell_type": "code",
      "source": [
        "df_LTV_01 = df_LTV.copy()"
      ],
      "metadata": {
        "id": "Oob_5A2Ks-TC"
      },
      "execution_count": 106,
      "outputs": []
    },
    {
      "cell_type": "code",
      "source": [
        "## customer_id type 변환해도될지 체크 \n",
        "%%time \n",
        "list(filter(lambda x: str(x)[-1] != '0', df_LTV_01['customer_id'].unique().tolist()))"
      ],
      "metadata": {
        "id": "AO0zHkF3jaG8",
        "colab": {
          "base_uri": "https://localhost:8080/"
        },
        "outputId": "260b3948-3e0c-466c-b678-8bf692a4856a"
      },
      "execution_count": 107,
      "outputs": [
        {
          "output_type": "stream",
          "name": "stdout",
          "text": [
            "CPU times: user 13.9 ms, sys: 6.26 ms, total: 20.2 ms\n",
            "Wall time: 24 ms\n"
          ]
        },
        {
          "output_type": "execute_result",
          "data": {
            "text/plain": [
              "[nan]"
            ]
          },
          "metadata": {},
          "execution_count": 107
        }
      ]
    },
    {
      "cell_type": "code",
      "source": [
        "df_LTV_01['customer_id'].isna().sum() # customer_id 결측값 확인 "
      ],
      "metadata": {
        "colab": {
          "base_uri": "https://localhost:8080/"
        },
        "id": "9vI9yZQloOAL",
        "outputId": "dc4831af-47c6-4107-b424-af2ad540cb0d"
      },
      "execution_count": 108,
      "outputs": [
        {
          "output_type": "execute_result",
          "data": {
            "text/plain": [
              "135080"
            ]
          },
          "metadata": {},
          "execution_count": 108
        }
      ]
    },
    {
      "cell_type": "code",
      "source": [
        "df_LTV_01.sample(5)"
      ],
      "metadata": {
        "colab": {
          "base_uri": "https://localhost:8080/",
          "height": 206
        },
        "id": "FE4tFKrYoUIw",
        "outputId": "ac441afe-d705-4ed3-d6dd-43557e4e6e71"
      },
      "execution_count": 109,
      "outputs": [
        {
          "output_type": "execute_result",
          "data": {
            "text/plain": [
              "       invoice_no stock_code  quantity      invoice_date  unit_price  \\\n",
              "484663     577536      22563         1  11/20/2011 14:14           1   \n",
              "496954     578347      23192         1   11/24/2011 9:26           3   \n",
              "489038     577880      23451         6  11/22/2011 11:37           2   \n",
              "313629     564526      23243         4   8/25/2011 14:50           5   \n",
              "129530     547386      21892         1   3/22/2011 15:52           2   \n",
              "\n",
              "        customer_id  \n",
              "484663       15,850  \n",
              "496954          NaN  \n",
              "489038       14,515  \n",
              "313629       15,805  \n",
              "129530          NaN  "
            ],
            "text/html": [
              "\n",
              "  <div id=\"df-1dcf1e6f-d4c9-4c3e-bdb2-9b2927a9cdf8\">\n",
              "    <div class=\"colab-df-container\">\n",
              "      <div>\n",
              "<style scoped>\n",
              "    .dataframe tbody tr th:only-of-type {\n",
              "        vertical-align: middle;\n",
              "    }\n",
              "\n",
              "    .dataframe tbody tr th {\n",
              "        vertical-align: top;\n",
              "    }\n",
              "\n",
              "    .dataframe thead th {\n",
              "        text-align: right;\n",
              "    }\n",
              "</style>\n",
              "<table border=\"1\" class=\"dataframe\">\n",
              "  <thead>\n",
              "    <tr style=\"text-align: right;\">\n",
              "      <th></th>\n",
              "      <th>invoice_no</th>\n",
              "      <th>stock_code</th>\n",
              "      <th>quantity</th>\n",
              "      <th>invoice_date</th>\n",
              "      <th>unit_price</th>\n",
              "      <th>customer_id</th>\n",
              "    </tr>\n",
              "  </thead>\n",
              "  <tbody>\n",
              "    <tr>\n",
              "      <th>484663</th>\n",
              "      <td>577536</td>\n",
              "      <td>22563</td>\n",
              "      <td>1</td>\n",
              "      <td>11/20/2011 14:14</td>\n",
              "      <td>1</td>\n",
              "      <td>15,850</td>\n",
              "    </tr>\n",
              "    <tr>\n",
              "      <th>496954</th>\n",
              "      <td>578347</td>\n",
              "      <td>23192</td>\n",
              "      <td>1</td>\n",
              "      <td>11/24/2011 9:26</td>\n",
              "      <td>3</td>\n",
              "      <td>NaN</td>\n",
              "    </tr>\n",
              "    <tr>\n",
              "      <th>489038</th>\n",
              "      <td>577880</td>\n",
              "      <td>23451</td>\n",
              "      <td>6</td>\n",
              "      <td>11/22/2011 11:37</td>\n",
              "      <td>2</td>\n",
              "      <td>14,515</td>\n",
              "    </tr>\n",
              "    <tr>\n",
              "      <th>313629</th>\n",
              "      <td>564526</td>\n",
              "      <td>23243</td>\n",
              "      <td>4</td>\n",
              "      <td>8/25/2011 14:50</td>\n",
              "      <td>5</td>\n",
              "      <td>15,805</td>\n",
              "    </tr>\n",
              "    <tr>\n",
              "      <th>129530</th>\n",
              "      <td>547386</td>\n",
              "      <td>21892</td>\n",
              "      <td>1</td>\n",
              "      <td>3/22/2011 15:52</td>\n",
              "      <td>2</td>\n",
              "      <td>NaN</td>\n",
              "    </tr>\n",
              "  </tbody>\n",
              "</table>\n",
              "</div>\n",
              "      <button class=\"colab-df-convert\" onclick=\"convertToInteractive('df-1dcf1e6f-d4c9-4c3e-bdb2-9b2927a9cdf8')\"\n",
              "              title=\"Convert this dataframe to an interactive table.\"\n",
              "              style=\"display:none;\">\n",
              "        \n",
              "  <svg xmlns=\"http://www.w3.org/2000/svg\" height=\"24px\"viewBox=\"0 0 24 24\"\n",
              "       width=\"24px\">\n",
              "    <path d=\"M0 0h24v24H0V0z\" fill=\"none\"/>\n",
              "    <path d=\"M18.56 5.44l.94 2.06.94-2.06 2.06-.94-2.06-.94-.94-2.06-.94 2.06-2.06.94zm-11 1L8.5 8.5l.94-2.06 2.06-.94-2.06-.94L8.5 2.5l-.94 2.06-2.06.94zm10 10l.94 2.06.94-2.06 2.06-.94-2.06-.94-.94-2.06-.94 2.06-2.06.94z\"/><path d=\"M17.41 7.96l-1.37-1.37c-.4-.4-.92-.59-1.43-.59-.52 0-1.04.2-1.43.59L10.3 9.45l-7.72 7.72c-.78.78-.78 2.05 0 2.83L4 21.41c.39.39.9.59 1.41.59.51 0 1.02-.2 1.41-.59l7.78-7.78 2.81-2.81c.8-.78.8-2.07 0-2.86zM5.41 20L4 18.59l7.72-7.72 1.47 1.35L5.41 20z\"/>\n",
              "  </svg>\n",
              "      </button>\n",
              "      \n",
              "  <style>\n",
              "    .colab-df-container {\n",
              "      display:flex;\n",
              "      flex-wrap:wrap;\n",
              "      gap: 12px;\n",
              "    }\n",
              "\n",
              "    .colab-df-convert {\n",
              "      background-color: #E8F0FE;\n",
              "      border: none;\n",
              "      border-radius: 50%;\n",
              "      cursor: pointer;\n",
              "      display: none;\n",
              "      fill: #1967D2;\n",
              "      height: 32px;\n",
              "      padding: 0 0 0 0;\n",
              "      width: 32px;\n",
              "    }\n",
              "\n",
              "    .colab-df-convert:hover {\n",
              "      background-color: #E2EBFA;\n",
              "      box-shadow: 0px 1px 2px rgba(60, 64, 67, 0.3), 0px 1px 3px 1px rgba(60, 64, 67, 0.15);\n",
              "      fill: #174EA6;\n",
              "    }\n",
              "\n",
              "    [theme=dark] .colab-df-convert {\n",
              "      background-color: #3B4455;\n",
              "      fill: #D2E3FC;\n",
              "    }\n",
              "\n",
              "    [theme=dark] .colab-df-convert:hover {\n",
              "      background-color: #434B5C;\n",
              "      box-shadow: 0px 1px 3px 1px rgba(0, 0, 0, 0.15);\n",
              "      filter: drop-shadow(0px 1px 2px rgba(0, 0, 0, 0.3));\n",
              "      fill: #FFFFFF;\n",
              "    }\n",
              "  </style>\n",
              "\n",
              "      <script>\n",
              "        const buttonEl =\n",
              "          document.querySelector('#df-1dcf1e6f-d4c9-4c3e-bdb2-9b2927a9cdf8 button.colab-df-convert');\n",
              "        buttonEl.style.display =\n",
              "          google.colab.kernel.accessAllowed ? 'block' : 'none';\n",
              "\n",
              "        async function convertToInteractive(key) {\n",
              "          const element = document.querySelector('#df-1dcf1e6f-d4c9-4c3e-bdb2-9b2927a9cdf8');\n",
              "          const dataTable =\n",
              "            await google.colab.kernel.invokeFunction('convertToInteractive',\n",
              "                                                     [key], {});\n",
              "          if (!dataTable) return;\n",
              "\n",
              "          const docLinkHtml = 'Like what you see? Visit the ' +\n",
              "            '<a target=\"_blank\" href=https://colab.research.google.com/notebooks/data_table.ipynb>data table notebook</a>'\n",
              "            + ' to learn more about interactive tables.';\n",
              "          element.innerHTML = '';\n",
              "          dataTable['output_type'] = 'display_data';\n",
              "          await google.colab.output.renderOutput(dataTable, element);\n",
              "          const docLink = document.createElement('div');\n",
              "          docLink.innerHTML = docLinkHtml;\n",
              "          element.appendChild(docLink);\n",
              "        }\n",
              "      </script>\n",
              "    </div>\n",
              "  </div>\n",
              "  "
            ]
          },
          "metadata": {},
          "execution_count": 109
        }
      ]
    },
    {
      "cell_type": "code",
      "source": [
        "df_LTV_01[df_LTV_01['invoice_no'] == '536865' ] # 비회원으로 추정, LTV 계산에서 활용 불가 "
      ],
      "metadata": {
        "colab": {
          "base_uri": "https://localhost:8080/",
          "height": 423
        },
        "id": "dn-djSJqo_RN",
        "outputId": "ceaa8b4d-e598-4f4f-df51-18543bc3934b"
      },
      "execution_count": 110,
      "outputs": [
        {
          "output_type": "execute_result",
          "data": {
            "text/plain": [
              "     invoice_no stock_code  quantity     invoice_date  unit_price  customer_id\n",
              "5546     536865      10002         5  12/3/2010 11:28           2          NaN\n",
              "5547     536865    15056bl         2  12/3/2010 11:28          13          NaN\n",
              "5548     536865     18098c         7  12/3/2010 11:28           5          NaN\n",
              "5549     536865      20615         1  12/3/2010 11:28           4          NaN\n",
              "5550     536865      20655         1  12/3/2010 11:28           3          NaN\n",
              "...         ...        ...       ...              ...         ...          ...\n",
              "5681     536865     85099B         1  12/3/2010 11:28           4          NaN\n",
              "5682     536865      85152         1  12/3/2010 11:28           4          NaN\n",
              "5683     536865      85176         1  12/3/2010 11:28           2          NaN\n",
              "5684     536865          M         1  12/3/2010 11:28           3          NaN\n",
              "5685     536865        DOT         1  12/3/2010 11:28         498          NaN\n",
              "\n",
              "[140 rows x 6 columns]"
            ],
            "text/html": [
              "\n",
              "  <div id=\"df-119d68b5-0682-46a7-96ed-1beedd0e48b6\">\n",
              "    <div class=\"colab-df-container\">\n",
              "      <div>\n",
              "<style scoped>\n",
              "    .dataframe tbody tr th:only-of-type {\n",
              "        vertical-align: middle;\n",
              "    }\n",
              "\n",
              "    .dataframe tbody tr th {\n",
              "        vertical-align: top;\n",
              "    }\n",
              "\n",
              "    .dataframe thead th {\n",
              "        text-align: right;\n",
              "    }\n",
              "</style>\n",
              "<table border=\"1\" class=\"dataframe\">\n",
              "  <thead>\n",
              "    <tr style=\"text-align: right;\">\n",
              "      <th></th>\n",
              "      <th>invoice_no</th>\n",
              "      <th>stock_code</th>\n",
              "      <th>quantity</th>\n",
              "      <th>invoice_date</th>\n",
              "      <th>unit_price</th>\n",
              "      <th>customer_id</th>\n",
              "    </tr>\n",
              "  </thead>\n",
              "  <tbody>\n",
              "    <tr>\n",
              "      <th>5546</th>\n",
              "      <td>536865</td>\n",
              "      <td>10002</td>\n",
              "      <td>5</td>\n",
              "      <td>12/3/2010 11:28</td>\n",
              "      <td>2</td>\n",
              "      <td>NaN</td>\n",
              "    </tr>\n",
              "    <tr>\n",
              "      <th>5547</th>\n",
              "      <td>536865</td>\n",
              "      <td>15056bl</td>\n",
              "      <td>2</td>\n",
              "      <td>12/3/2010 11:28</td>\n",
              "      <td>13</td>\n",
              "      <td>NaN</td>\n",
              "    </tr>\n",
              "    <tr>\n",
              "      <th>5548</th>\n",
              "      <td>536865</td>\n",
              "      <td>18098c</td>\n",
              "      <td>7</td>\n",
              "      <td>12/3/2010 11:28</td>\n",
              "      <td>5</td>\n",
              "      <td>NaN</td>\n",
              "    </tr>\n",
              "    <tr>\n",
              "      <th>5549</th>\n",
              "      <td>536865</td>\n",
              "      <td>20615</td>\n",
              "      <td>1</td>\n",
              "      <td>12/3/2010 11:28</td>\n",
              "      <td>4</td>\n",
              "      <td>NaN</td>\n",
              "    </tr>\n",
              "    <tr>\n",
              "      <th>5550</th>\n",
              "      <td>536865</td>\n",
              "      <td>20655</td>\n",
              "      <td>1</td>\n",
              "      <td>12/3/2010 11:28</td>\n",
              "      <td>3</td>\n",
              "      <td>NaN</td>\n",
              "    </tr>\n",
              "    <tr>\n",
              "      <th>...</th>\n",
              "      <td>...</td>\n",
              "      <td>...</td>\n",
              "      <td>...</td>\n",
              "      <td>...</td>\n",
              "      <td>...</td>\n",
              "      <td>...</td>\n",
              "    </tr>\n",
              "    <tr>\n",
              "      <th>5681</th>\n",
              "      <td>536865</td>\n",
              "      <td>85099B</td>\n",
              "      <td>1</td>\n",
              "      <td>12/3/2010 11:28</td>\n",
              "      <td>4</td>\n",
              "      <td>NaN</td>\n",
              "    </tr>\n",
              "    <tr>\n",
              "      <th>5682</th>\n",
              "      <td>536865</td>\n",
              "      <td>85152</td>\n",
              "      <td>1</td>\n",
              "      <td>12/3/2010 11:28</td>\n",
              "      <td>4</td>\n",
              "      <td>NaN</td>\n",
              "    </tr>\n",
              "    <tr>\n",
              "      <th>5683</th>\n",
              "      <td>536865</td>\n",
              "      <td>85176</td>\n",
              "      <td>1</td>\n",
              "      <td>12/3/2010 11:28</td>\n",
              "      <td>2</td>\n",
              "      <td>NaN</td>\n",
              "    </tr>\n",
              "    <tr>\n",
              "      <th>5684</th>\n",
              "      <td>536865</td>\n",
              "      <td>M</td>\n",
              "      <td>1</td>\n",
              "      <td>12/3/2010 11:28</td>\n",
              "      <td>3</td>\n",
              "      <td>NaN</td>\n",
              "    </tr>\n",
              "    <tr>\n",
              "      <th>5685</th>\n",
              "      <td>536865</td>\n",
              "      <td>DOT</td>\n",
              "      <td>1</td>\n",
              "      <td>12/3/2010 11:28</td>\n",
              "      <td>498</td>\n",
              "      <td>NaN</td>\n",
              "    </tr>\n",
              "  </tbody>\n",
              "</table>\n",
              "<p>140 rows × 6 columns</p>\n",
              "</div>\n",
              "      <button class=\"colab-df-convert\" onclick=\"convertToInteractive('df-119d68b5-0682-46a7-96ed-1beedd0e48b6')\"\n",
              "              title=\"Convert this dataframe to an interactive table.\"\n",
              "              style=\"display:none;\">\n",
              "        \n",
              "  <svg xmlns=\"http://www.w3.org/2000/svg\" height=\"24px\"viewBox=\"0 0 24 24\"\n",
              "       width=\"24px\">\n",
              "    <path d=\"M0 0h24v24H0V0z\" fill=\"none\"/>\n",
              "    <path d=\"M18.56 5.44l.94 2.06.94-2.06 2.06-.94-2.06-.94-.94-2.06-.94 2.06-2.06.94zm-11 1L8.5 8.5l.94-2.06 2.06-.94-2.06-.94L8.5 2.5l-.94 2.06-2.06.94zm10 10l.94 2.06.94-2.06 2.06-.94-2.06-.94-.94-2.06-.94 2.06-2.06.94z\"/><path d=\"M17.41 7.96l-1.37-1.37c-.4-.4-.92-.59-1.43-.59-.52 0-1.04.2-1.43.59L10.3 9.45l-7.72 7.72c-.78.78-.78 2.05 0 2.83L4 21.41c.39.39.9.59 1.41.59.51 0 1.02-.2 1.41-.59l7.78-7.78 2.81-2.81c.8-.78.8-2.07 0-2.86zM5.41 20L4 18.59l7.72-7.72 1.47 1.35L5.41 20z\"/>\n",
              "  </svg>\n",
              "      </button>\n",
              "      \n",
              "  <style>\n",
              "    .colab-df-container {\n",
              "      display:flex;\n",
              "      flex-wrap:wrap;\n",
              "      gap: 12px;\n",
              "    }\n",
              "\n",
              "    .colab-df-convert {\n",
              "      background-color: #E8F0FE;\n",
              "      border: none;\n",
              "      border-radius: 50%;\n",
              "      cursor: pointer;\n",
              "      display: none;\n",
              "      fill: #1967D2;\n",
              "      height: 32px;\n",
              "      padding: 0 0 0 0;\n",
              "      width: 32px;\n",
              "    }\n",
              "\n",
              "    .colab-df-convert:hover {\n",
              "      background-color: #E2EBFA;\n",
              "      box-shadow: 0px 1px 2px rgba(60, 64, 67, 0.3), 0px 1px 3px 1px rgba(60, 64, 67, 0.15);\n",
              "      fill: #174EA6;\n",
              "    }\n",
              "\n",
              "    [theme=dark] .colab-df-convert {\n",
              "      background-color: #3B4455;\n",
              "      fill: #D2E3FC;\n",
              "    }\n",
              "\n",
              "    [theme=dark] .colab-df-convert:hover {\n",
              "      background-color: #434B5C;\n",
              "      box-shadow: 0px 1px 3px 1px rgba(0, 0, 0, 0.15);\n",
              "      filter: drop-shadow(0px 1px 2px rgba(0, 0, 0, 0.3));\n",
              "      fill: #FFFFFF;\n",
              "    }\n",
              "  </style>\n",
              "\n",
              "      <script>\n",
              "        const buttonEl =\n",
              "          document.querySelector('#df-119d68b5-0682-46a7-96ed-1beedd0e48b6 button.colab-df-convert');\n",
              "        buttonEl.style.display =\n",
              "          google.colab.kernel.accessAllowed ? 'block' : 'none';\n",
              "\n",
              "        async function convertToInteractive(key) {\n",
              "          const element = document.querySelector('#df-119d68b5-0682-46a7-96ed-1beedd0e48b6');\n",
              "          const dataTable =\n",
              "            await google.colab.kernel.invokeFunction('convertToInteractive',\n",
              "                                                     [key], {});\n",
              "          if (!dataTable) return;\n",
              "\n",
              "          const docLinkHtml = 'Like what you see? Visit the ' +\n",
              "            '<a target=\"_blank\" href=https://colab.research.google.com/notebooks/data_table.ipynb>data table notebook</a>'\n",
              "            + ' to learn more about interactive tables.';\n",
              "          element.innerHTML = '';\n",
              "          dataTable['output_type'] = 'display_data';\n",
              "          await google.colab.output.renderOutput(dataTable, element);\n",
              "          const docLink = document.createElement('div');\n",
              "          docLink.innerHTML = docLinkHtml;\n",
              "          element.appendChild(docLink);\n",
              "        }\n",
              "      </script>\n",
              "    </div>\n",
              "  </div>\n",
              "  "
            ]
          },
          "metadata": {},
          "execution_count": 110
        }
      ]
    },
    {
      "cell_type": "code",
      "source": [
        "df_LTV_01['customer_id'] = df_LTV_01['customer_id'].fillna(0)"
      ],
      "metadata": {
        "id": "8tOncEeMpiHM"
      },
      "execution_count": 111,
      "outputs": []
    },
    {
      "cell_type": "code",
      "source": [
        "df_LTV_01['customer_id'].isna().sum() # customer_id"
      ],
      "metadata": {
        "colab": {
          "base_uri": "https://localhost:8080/"
        },
        "id": "FFB05nArrGya",
        "outputId": "9d603901-a1c5-4508-fe6b-0ba08010b0f7"
      },
      "execution_count": 112,
      "outputs": [
        {
          "output_type": "execute_result",
          "data": {
            "text/plain": [
              "0"
            ]
          },
          "metadata": {},
          "execution_count": 112
        }
      ]
    },
    {
      "cell_type": "code",
      "source": [
        "%%time \n",
        "df_LTV_01 = df_LTV_01.astype({'customer_id' : 'int'}) # float 였으므로 .0 없애기 위해 먼저 int로 변환 \n",
        "df_LTV_01 = df_LTV_01.astype({'customer_id' : 'str'})"
      ],
      "metadata": {
        "colab": {
          "base_uri": "https://localhost:8080/"
        },
        "id": "AMLx6x7KmI0k",
        "outputId": "78837d0b-e38a-49a7-de79-4549570704dc"
      },
      "execution_count": 113,
      "outputs": [
        {
          "output_type": "stream",
          "name": "stdout",
          "text": [
            "CPU times: user 383 ms, sys: 77.3 ms, total: 461 ms\n",
            "Wall time: 498 ms\n"
          ]
        }
      ]
    },
    {
      "cell_type": "code",
      "source": [
        "## invoice_no, stock_code도 type str로 변경 \n",
        "df_LTV_01 = df_LTV_01.astype({'invoice_no' : 'str'})\n",
        "df_LTV_01 = df_LTV_01.astype({'stock_code' : 'str'})"
      ],
      "metadata": {
        "id": "LXLfr5tSjEF9"
      },
      "execution_count": 114,
      "outputs": []
    },
    {
      "cell_type": "code",
      "source": [
        "df_LTV_01.info()"
      ],
      "metadata": {
        "colab": {
          "base_uri": "https://localhost:8080/"
        },
        "id": "oOb2IQ5Andim",
        "outputId": "9c21d8be-8148-46a2-ece3-0e929814492e"
      },
      "execution_count": 115,
      "outputs": [
        {
          "output_type": "stream",
          "name": "stdout",
          "text": [
            "<class 'pandas.core.frame.DataFrame'>\n",
            "RangeIndex: 541909 entries, 0 to 541908\n",
            "Data columns (total 6 columns):\n",
            " #   Column        Non-Null Count   Dtype  \n",
            "---  ------        --------------   -----  \n",
            " 0   invoice_no    541909 non-null  object \n",
            " 1   stock_code    541909 non-null  object \n",
            " 2   quantity      541909 non-null  int64  \n",
            " 3   invoice_date  541909 non-null  object \n",
            " 4   unit_price    541909 non-null  float64\n",
            " 5   customer_id   541909 non-null  object \n",
            "dtypes: float64(1), int64(1), object(4)\n",
            "memory usage: 24.8+ MB\n"
          ]
        }
      ]
    },
    {
      "cell_type": "markdown",
      "source": [
        "## 1.3 invoice_date\n",
        "- 현재 type: object -> datetime으로 변경 "
      ],
      "metadata": {
        "id": "sGr3iLrfu4wm"
      }
    },
    {
      "cell_type": "code",
      "source": [
        "df_LTV_01.sample(10)"
      ],
      "metadata": {
        "colab": {
          "base_uri": "https://localhost:8080/",
          "height": 362
        },
        "id": "OUbnOvF_vkrU",
        "outputId": "f4dbd667-9355-4a37-a68e-e15ffe0fcbcf"
      },
      "execution_count": 116,
      "outputs": [
        {
          "output_type": "execute_result",
          "data": {
            "text/plain": [
              "       invoice_no stock_code  quantity      invoice_date  unit_price  \\\n",
              "210675     555312      84755        16    6/2/2011 10:39           1   \n",
              "403230     571556      22318         6   10/18/2011 9:24           3   \n",
              "45676      540276      22352         6    1/6/2011 12:16           3   \n",
              "463385     576062     79190B         5  11/13/2011 15:30           0   \n",
              "435693     574076      22634         1   11/2/2011 15:38          20   \n",
              "102912     545044      20975        48   2/27/2011 11:31           1   \n",
              "409484     572063      21888         1  10/20/2011 12:57           4   \n",
              "340214     566612      23351         6   9/13/2011 17:16           1   \n",
              "392502     570693      22909         4  10/11/2011 16:50           1   \n",
              "151108     549542      22755         2   4/10/2011 11:11           1   \n",
              "\n",
              "       customer_id  \n",
              "210675       16484  \n",
              "403230       12662  \n",
              "45676        14680  \n",
              "463385       12867  \n",
              "435693           0  \n",
              "102912       15738  \n",
              "409484       14606  \n",
              "340214       16229  \n",
              "392502       16161  \n",
              "151108       15311  "
            ],
            "text/html": [
              "\n",
              "  <div id=\"df-c4533954-c87f-4e78-8dbf-06324ed21fdf\">\n",
              "    <div class=\"colab-df-container\">\n",
              "      <div>\n",
              "<style scoped>\n",
              "    .dataframe tbody tr th:only-of-type {\n",
              "        vertical-align: middle;\n",
              "    }\n",
              "\n",
              "    .dataframe tbody tr th {\n",
              "        vertical-align: top;\n",
              "    }\n",
              "\n",
              "    .dataframe thead th {\n",
              "        text-align: right;\n",
              "    }\n",
              "</style>\n",
              "<table border=\"1\" class=\"dataframe\">\n",
              "  <thead>\n",
              "    <tr style=\"text-align: right;\">\n",
              "      <th></th>\n",
              "      <th>invoice_no</th>\n",
              "      <th>stock_code</th>\n",
              "      <th>quantity</th>\n",
              "      <th>invoice_date</th>\n",
              "      <th>unit_price</th>\n",
              "      <th>customer_id</th>\n",
              "    </tr>\n",
              "  </thead>\n",
              "  <tbody>\n",
              "    <tr>\n",
              "      <th>210675</th>\n",
              "      <td>555312</td>\n",
              "      <td>84755</td>\n",
              "      <td>16</td>\n",
              "      <td>6/2/2011 10:39</td>\n",
              "      <td>1</td>\n",
              "      <td>16484</td>\n",
              "    </tr>\n",
              "    <tr>\n",
              "      <th>403230</th>\n",
              "      <td>571556</td>\n",
              "      <td>22318</td>\n",
              "      <td>6</td>\n",
              "      <td>10/18/2011 9:24</td>\n",
              "      <td>3</td>\n",
              "      <td>12662</td>\n",
              "    </tr>\n",
              "    <tr>\n",
              "      <th>45676</th>\n",
              "      <td>540276</td>\n",
              "      <td>22352</td>\n",
              "      <td>6</td>\n",
              "      <td>1/6/2011 12:16</td>\n",
              "      <td>3</td>\n",
              "      <td>14680</td>\n",
              "    </tr>\n",
              "    <tr>\n",
              "      <th>463385</th>\n",
              "      <td>576062</td>\n",
              "      <td>79190B</td>\n",
              "      <td>5</td>\n",
              "      <td>11/13/2011 15:30</td>\n",
              "      <td>0</td>\n",
              "      <td>12867</td>\n",
              "    </tr>\n",
              "    <tr>\n",
              "      <th>435693</th>\n",
              "      <td>574076</td>\n",
              "      <td>22634</td>\n",
              "      <td>1</td>\n",
              "      <td>11/2/2011 15:38</td>\n",
              "      <td>20</td>\n",
              "      <td>0</td>\n",
              "    </tr>\n",
              "    <tr>\n",
              "      <th>102912</th>\n",
              "      <td>545044</td>\n",
              "      <td>20975</td>\n",
              "      <td>48</td>\n",
              "      <td>2/27/2011 11:31</td>\n",
              "      <td>1</td>\n",
              "      <td>15738</td>\n",
              "    </tr>\n",
              "    <tr>\n",
              "      <th>409484</th>\n",
              "      <td>572063</td>\n",
              "      <td>21888</td>\n",
              "      <td>1</td>\n",
              "      <td>10/20/2011 12:57</td>\n",
              "      <td>4</td>\n",
              "      <td>14606</td>\n",
              "    </tr>\n",
              "    <tr>\n",
              "      <th>340214</th>\n",
              "      <td>566612</td>\n",
              "      <td>23351</td>\n",
              "      <td>6</td>\n",
              "      <td>9/13/2011 17:16</td>\n",
              "      <td>1</td>\n",
              "      <td>16229</td>\n",
              "    </tr>\n",
              "    <tr>\n",
              "      <th>392502</th>\n",
              "      <td>570693</td>\n",
              "      <td>22909</td>\n",
              "      <td>4</td>\n",
              "      <td>10/11/2011 16:50</td>\n",
              "      <td>1</td>\n",
              "      <td>16161</td>\n",
              "    </tr>\n",
              "    <tr>\n",
              "      <th>151108</th>\n",
              "      <td>549542</td>\n",
              "      <td>22755</td>\n",
              "      <td>2</td>\n",
              "      <td>4/10/2011 11:11</td>\n",
              "      <td>1</td>\n",
              "      <td>15311</td>\n",
              "    </tr>\n",
              "  </tbody>\n",
              "</table>\n",
              "</div>\n",
              "      <button class=\"colab-df-convert\" onclick=\"convertToInteractive('df-c4533954-c87f-4e78-8dbf-06324ed21fdf')\"\n",
              "              title=\"Convert this dataframe to an interactive table.\"\n",
              "              style=\"display:none;\">\n",
              "        \n",
              "  <svg xmlns=\"http://www.w3.org/2000/svg\" height=\"24px\"viewBox=\"0 0 24 24\"\n",
              "       width=\"24px\">\n",
              "    <path d=\"M0 0h24v24H0V0z\" fill=\"none\"/>\n",
              "    <path d=\"M18.56 5.44l.94 2.06.94-2.06 2.06-.94-2.06-.94-.94-2.06-.94 2.06-2.06.94zm-11 1L8.5 8.5l.94-2.06 2.06-.94-2.06-.94L8.5 2.5l-.94 2.06-2.06.94zm10 10l.94 2.06.94-2.06 2.06-.94-2.06-.94-.94-2.06-.94 2.06-2.06.94z\"/><path d=\"M17.41 7.96l-1.37-1.37c-.4-.4-.92-.59-1.43-.59-.52 0-1.04.2-1.43.59L10.3 9.45l-7.72 7.72c-.78.78-.78 2.05 0 2.83L4 21.41c.39.39.9.59 1.41.59.51 0 1.02-.2 1.41-.59l7.78-7.78 2.81-2.81c.8-.78.8-2.07 0-2.86zM5.41 20L4 18.59l7.72-7.72 1.47 1.35L5.41 20z\"/>\n",
              "  </svg>\n",
              "      </button>\n",
              "      \n",
              "  <style>\n",
              "    .colab-df-container {\n",
              "      display:flex;\n",
              "      flex-wrap:wrap;\n",
              "      gap: 12px;\n",
              "    }\n",
              "\n",
              "    .colab-df-convert {\n",
              "      background-color: #E8F0FE;\n",
              "      border: none;\n",
              "      border-radius: 50%;\n",
              "      cursor: pointer;\n",
              "      display: none;\n",
              "      fill: #1967D2;\n",
              "      height: 32px;\n",
              "      padding: 0 0 0 0;\n",
              "      width: 32px;\n",
              "    }\n",
              "\n",
              "    .colab-df-convert:hover {\n",
              "      background-color: #E2EBFA;\n",
              "      box-shadow: 0px 1px 2px rgba(60, 64, 67, 0.3), 0px 1px 3px 1px rgba(60, 64, 67, 0.15);\n",
              "      fill: #174EA6;\n",
              "    }\n",
              "\n",
              "    [theme=dark] .colab-df-convert {\n",
              "      background-color: #3B4455;\n",
              "      fill: #D2E3FC;\n",
              "    }\n",
              "\n",
              "    [theme=dark] .colab-df-convert:hover {\n",
              "      background-color: #434B5C;\n",
              "      box-shadow: 0px 1px 3px 1px rgba(0, 0, 0, 0.15);\n",
              "      filter: drop-shadow(0px 1px 2px rgba(0, 0, 0, 0.3));\n",
              "      fill: #FFFFFF;\n",
              "    }\n",
              "  </style>\n",
              "\n",
              "      <script>\n",
              "        const buttonEl =\n",
              "          document.querySelector('#df-c4533954-c87f-4e78-8dbf-06324ed21fdf button.colab-df-convert');\n",
              "        buttonEl.style.display =\n",
              "          google.colab.kernel.accessAllowed ? 'block' : 'none';\n",
              "\n",
              "        async function convertToInteractive(key) {\n",
              "          const element = document.querySelector('#df-c4533954-c87f-4e78-8dbf-06324ed21fdf');\n",
              "          const dataTable =\n",
              "            await google.colab.kernel.invokeFunction('convertToInteractive',\n",
              "                                                     [key], {});\n",
              "          if (!dataTable) return;\n",
              "\n",
              "          const docLinkHtml = 'Like what you see? Visit the ' +\n",
              "            '<a target=\"_blank\" href=https://colab.research.google.com/notebooks/data_table.ipynb>data table notebook</a>'\n",
              "            + ' to learn more about interactive tables.';\n",
              "          element.innerHTML = '';\n",
              "          dataTable['output_type'] = 'display_data';\n",
              "          await google.colab.output.renderOutput(dataTable, element);\n",
              "          const docLink = document.createElement('div');\n",
              "          docLink.innerHTML = docLinkHtml;\n",
              "          element.appendChild(docLink);\n",
              "        }\n",
              "      </script>\n",
              "    </div>\n",
              "  </div>\n",
              "  "
            ]
          },
          "metadata": {},
          "execution_count": 116
        }
      ]
    },
    {
      "cell_type": "code",
      "source": [
        "df_LTV_01['invoice_datetime'] = pd.to_datetime(df_LTV_01['invoice_date'], format = '%m/%d/%Y %H:%M')\n",
        "\n",
        "df_LTV_01['invoice_date'] = df_LTV_01['invoice_datetime'].dt.date\n",
        "df_LTV_01['invoice_date'] = pd.to_datetime(df_LTV_01['invoice_date'], format = '%Y-%m-%d')\n"
      ],
      "metadata": {
        "id": "H8CshCcpu45n"
      },
      "execution_count": 117,
      "outputs": []
    },
    {
      "cell_type": "code",
      "source": [
        "df_LTV_01.info()"
      ],
      "metadata": {
        "colab": {
          "base_uri": "https://localhost:8080/"
        },
        "id": "M48HsH5Zu48v",
        "outputId": "6366e705-e764-4358-ab44-020161429e7a"
      },
      "execution_count": 118,
      "outputs": [
        {
          "output_type": "stream",
          "name": "stdout",
          "text": [
            "<class 'pandas.core.frame.DataFrame'>\n",
            "RangeIndex: 541909 entries, 0 to 541908\n",
            "Data columns (total 7 columns):\n",
            " #   Column            Non-Null Count   Dtype         \n",
            "---  ------            --------------   -----         \n",
            " 0   invoice_no        541909 non-null  object        \n",
            " 1   stock_code        541909 non-null  object        \n",
            " 2   quantity          541909 non-null  int64         \n",
            " 3   invoice_date      541909 non-null  datetime64[ns]\n",
            " 4   unit_price        541909 non-null  float64       \n",
            " 5   customer_id       541909 non-null  object        \n",
            " 6   invoice_datetime  541909 non-null  datetime64[ns]\n",
            "dtypes: datetime64[ns](2), float64(1), int64(1), object(3)\n",
            "memory usage: 28.9+ MB\n"
          ]
        }
      ]
    },
    {
      "cell_type": "code",
      "source": [
        "# date관련 데이터 추가하기: 월 정보\n",
        "# df_LTV_01['invoice_year'] = df_LTV_01['invoice_datetime'].dt.year\n",
        "# df_LTV_01['invoice_month'] = df_LTV_01['invoice_datetime'].dt.month\n",
        "# df_LTV_01['invoice_day'] = df_LTV_01['invoice_datetime'].dt.day\n",
        "\n",
        "# df_LTV_01 = df_LTV_01.astype({'invoice_year' : 'int'}) \n",
        "# df_LTV_01 = df_LTV_01.astype({'invoice_month' : 'int'}) \n",
        "# df_LTV_01 = df_LTV_01.astype({'invoice_day' : 'int'}) \n",
        "\n",
        "## 최종 모델에서 활용하지 않았음 \n",
        "\n",
        "df_LTV_01.head()"
      ],
      "metadata": {
        "colab": {
          "base_uri": "https://localhost:8080/",
          "height": 206
        },
        "id": "zFGd5PTEw5Xy",
        "outputId": "dab4d830-abbb-408e-eedd-3b89c3461968"
      },
      "execution_count": 119,
      "outputs": [
        {
          "output_type": "execute_result",
          "data": {
            "text/plain": [
              "  invoice_no stock_code  quantity invoice_date  unit_price customer_id  \\\n",
              "0     536365     85123A         6   2010-12-01           3       17850   \n",
              "1     536365      71053         6   2010-12-01           3       17850   \n",
              "2     536365     84406B         8   2010-12-01           3       17850   \n",
              "3     536365     84029G         6   2010-12-01           3       17850   \n",
              "4     536365     84029E         6   2010-12-01           3       17850   \n",
              "\n",
              "     invoice_datetime  \n",
              "0 2010-12-01 08:26:00  \n",
              "1 2010-12-01 08:26:00  \n",
              "2 2010-12-01 08:26:00  \n",
              "3 2010-12-01 08:26:00  \n",
              "4 2010-12-01 08:26:00  "
            ],
            "text/html": [
              "\n",
              "  <div id=\"df-df886245-fd80-46ad-bcd1-b631503c8d79\">\n",
              "    <div class=\"colab-df-container\">\n",
              "      <div>\n",
              "<style scoped>\n",
              "    .dataframe tbody tr th:only-of-type {\n",
              "        vertical-align: middle;\n",
              "    }\n",
              "\n",
              "    .dataframe tbody tr th {\n",
              "        vertical-align: top;\n",
              "    }\n",
              "\n",
              "    .dataframe thead th {\n",
              "        text-align: right;\n",
              "    }\n",
              "</style>\n",
              "<table border=\"1\" class=\"dataframe\">\n",
              "  <thead>\n",
              "    <tr style=\"text-align: right;\">\n",
              "      <th></th>\n",
              "      <th>invoice_no</th>\n",
              "      <th>stock_code</th>\n",
              "      <th>quantity</th>\n",
              "      <th>invoice_date</th>\n",
              "      <th>unit_price</th>\n",
              "      <th>customer_id</th>\n",
              "      <th>invoice_datetime</th>\n",
              "    </tr>\n",
              "  </thead>\n",
              "  <tbody>\n",
              "    <tr>\n",
              "      <th>0</th>\n",
              "      <td>536365</td>\n",
              "      <td>85123A</td>\n",
              "      <td>6</td>\n",
              "      <td>2010-12-01</td>\n",
              "      <td>3</td>\n",
              "      <td>17850</td>\n",
              "      <td>2010-12-01 08:26:00</td>\n",
              "    </tr>\n",
              "    <tr>\n",
              "      <th>1</th>\n",
              "      <td>536365</td>\n",
              "      <td>71053</td>\n",
              "      <td>6</td>\n",
              "      <td>2010-12-01</td>\n",
              "      <td>3</td>\n",
              "      <td>17850</td>\n",
              "      <td>2010-12-01 08:26:00</td>\n",
              "    </tr>\n",
              "    <tr>\n",
              "      <th>2</th>\n",
              "      <td>536365</td>\n",
              "      <td>84406B</td>\n",
              "      <td>8</td>\n",
              "      <td>2010-12-01</td>\n",
              "      <td>3</td>\n",
              "      <td>17850</td>\n",
              "      <td>2010-12-01 08:26:00</td>\n",
              "    </tr>\n",
              "    <tr>\n",
              "      <th>3</th>\n",
              "      <td>536365</td>\n",
              "      <td>84029G</td>\n",
              "      <td>6</td>\n",
              "      <td>2010-12-01</td>\n",
              "      <td>3</td>\n",
              "      <td>17850</td>\n",
              "      <td>2010-12-01 08:26:00</td>\n",
              "    </tr>\n",
              "    <tr>\n",
              "      <th>4</th>\n",
              "      <td>536365</td>\n",
              "      <td>84029E</td>\n",
              "      <td>6</td>\n",
              "      <td>2010-12-01</td>\n",
              "      <td>3</td>\n",
              "      <td>17850</td>\n",
              "      <td>2010-12-01 08:26:00</td>\n",
              "    </tr>\n",
              "  </tbody>\n",
              "</table>\n",
              "</div>\n",
              "      <button class=\"colab-df-convert\" onclick=\"convertToInteractive('df-df886245-fd80-46ad-bcd1-b631503c8d79')\"\n",
              "              title=\"Convert this dataframe to an interactive table.\"\n",
              "              style=\"display:none;\">\n",
              "        \n",
              "  <svg xmlns=\"http://www.w3.org/2000/svg\" height=\"24px\"viewBox=\"0 0 24 24\"\n",
              "       width=\"24px\">\n",
              "    <path d=\"M0 0h24v24H0V0z\" fill=\"none\"/>\n",
              "    <path d=\"M18.56 5.44l.94 2.06.94-2.06 2.06-.94-2.06-.94-.94-2.06-.94 2.06-2.06.94zm-11 1L8.5 8.5l.94-2.06 2.06-.94-2.06-.94L8.5 2.5l-.94 2.06-2.06.94zm10 10l.94 2.06.94-2.06 2.06-.94-2.06-.94-.94-2.06-.94 2.06-2.06.94z\"/><path d=\"M17.41 7.96l-1.37-1.37c-.4-.4-.92-.59-1.43-.59-.52 0-1.04.2-1.43.59L10.3 9.45l-7.72 7.72c-.78.78-.78 2.05 0 2.83L4 21.41c.39.39.9.59 1.41.59.51 0 1.02-.2 1.41-.59l7.78-7.78 2.81-2.81c.8-.78.8-2.07 0-2.86zM5.41 20L4 18.59l7.72-7.72 1.47 1.35L5.41 20z\"/>\n",
              "  </svg>\n",
              "      </button>\n",
              "      \n",
              "  <style>\n",
              "    .colab-df-container {\n",
              "      display:flex;\n",
              "      flex-wrap:wrap;\n",
              "      gap: 12px;\n",
              "    }\n",
              "\n",
              "    .colab-df-convert {\n",
              "      background-color: #E8F0FE;\n",
              "      border: none;\n",
              "      border-radius: 50%;\n",
              "      cursor: pointer;\n",
              "      display: none;\n",
              "      fill: #1967D2;\n",
              "      height: 32px;\n",
              "      padding: 0 0 0 0;\n",
              "      width: 32px;\n",
              "    }\n",
              "\n",
              "    .colab-df-convert:hover {\n",
              "      background-color: #E2EBFA;\n",
              "      box-shadow: 0px 1px 2px rgba(60, 64, 67, 0.3), 0px 1px 3px 1px rgba(60, 64, 67, 0.15);\n",
              "      fill: #174EA6;\n",
              "    }\n",
              "\n",
              "    [theme=dark] .colab-df-convert {\n",
              "      background-color: #3B4455;\n",
              "      fill: #D2E3FC;\n",
              "    }\n",
              "\n",
              "    [theme=dark] .colab-df-convert:hover {\n",
              "      background-color: #434B5C;\n",
              "      box-shadow: 0px 1px 3px 1px rgba(0, 0, 0, 0.15);\n",
              "      filter: drop-shadow(0px 1px 2px rgba(0, 0, 0, 0.3));\n",
              "      fill: #FFFFFF;\n",
              "    }\n",
              "  </style>\n",
              "\n",
              "      <script>\n",
              "        const buttonEl =\n",
              "          document.querySelector('#df-df886245-fd80-46ad-bcd1-b631503c8d79 button.colab-df-convert');\n",
              "        buttonEl.style.display =\n",
              "          google.colab.kernel.accessAllowed ? 'block' : 'none';\n",
              "\n",
              "        async function convertToInteractive(key) {\n",
              "          const element = document.querySelector('#df-df886245-fd80-46ad-bcd1-b631503c8d79');\n",
              "          const dataTable =\n",
              "            await google.colab.kernel.invokeFunction('convertToInteractive',\n",
              "                                                     [key], {});\n",
              "          if (!dataTable) return;\n",
              "\n",
              "          const docLinkHtml = 'Like what you see? Visit the ' +\n",
              "            '<a target=\"_blank\" href=https://colab.research.google.com/notebooks/data_table.ipynb>data table notebook</a>'\n",
              "            + ' to learn more about interactive tables.';\n",
              "          element.innerHTML = '';\n",
              "          dataTable['output_type'] = 'display_data';\n",
              "          await google.colab.output.renderOutput(dataTable, element);\n",
              "          const docLink = document.createElement('div');\n",
              "          docLink.innerHTML = docLinkHtml;\n",
              "          element.appendChild(docLink);\n",
              "        }\n",
              "      </script>\n",
              "    </div>\n",
              "  </div>\n",
              "  "
            ]
          },
          "metadata": {},
          "execution_count": 119
        }
      ]
    },
    {
      "cell_type": "markdown",
      "source": [
        "#_2. 파악을 위한 시각화 \n",
        "\n",
        "**[ 변수 정보 ]**\n",
        "*   InvoiceNo: Invoice number that consists 6 digits. If this code starts with letter 'c', it indicates a cancellation.\n",
        "*   StockCode: Product code that consists 5 digits.\n",
        "*   Description: Product name.\n",
        "*   Quantity: The quantities of each product per transaction.\n",
        "*   InvoiceDate: Represents the day and time when each transaction was generated.\n",
        "*   CustomerID: Customer number that consists 5 digits. Each customer has a unique customer ID.\n",
        "*   Country: Name of the country where each customer resides.\n"
      ],
      "metadata": {
        "id": "WYxHUCGujLla"
      }
    },
    {
      "cell_type": "code",
      "source": [
        "# 시각화 라이브러리 \n",
        "import plotly.graph_objs as go\n",
        "from plotly.offline import iplot"
      ],
      "metadata": {
        "id": "yx6VA1T70jbR"
      },
      "execution_count": 120,
      "outputs": []
    },
    {
      "cell_type": "code",
      "source": [
        "world_map = df_base[['customer_id', 'invoice_no', 'country']\n",
        "              ].groupby(['customer_id', 'invoice_no', 'country']\n",
        "                       ).count().reset_index()\n",
        "\n",
        "countries = world_map['country'].value_counts()\n",
        "\n",
        "data = dict(type='choropleth',\n",
        "            locations = countries.index,\n",
        "            locationmode = 'country names',\n",
        "            z = countries,\n",
        "            text = countries.index,\n",
        "            colorbar = {'title':'Orders'},\n",
        "            colorscale='Viridis',\n",
        "            reversescale = False)\n",
        "\n",
        "layout = dict(title={'text': \"Number of Orders by Countries\",\n",
        "                     'y':0.9,\n",
        "                     'x':0.5,\n",
        "                     'xanchor': 'center',\n",
        "                     'yanchor': 'top'},\n",
        "              geo = dict(resolution = 50,\n",
        "                         showocean = True,\n",
        "                         oceancolor = \"LightBlue\",\n",
        "                         showland = True,\n",
        "                         landcolor = \"whitesmoke\",\n",
        "                         showframe = True),\n",
        "             template = 'plotly_white',\n",
        "             height = 600,\n",
        "             width = 1000)\n",
        "\n",
        "choromap = go.Figure(data = [data], layout = layout)\n",
        "iplot(choromap, validate = False)"
      ],
      "metadata": {
        "id": "FflifDvRjae-",
        "colab": {
          "base_uri": "https://localhost:8080/",
          "height": 637
        },
        "outputId": "7b577690-647d-49f0-fde8-4de358bd9ad3"
      },
      "execution_count": 121,
      "outputs": [
        {
          "output_type": "display_data",
          "data": {
            "text/html": [
              "<html>\n",
              "<head><meta charset=\"utf-8\" /></head>\n",
              "<body>\n",
              "    <div>            <script src=\"https://cdnjs.cloudflare.com/ajax/libs/mathjax/2.7.5/MathJax.js?config=TeX-AMS-MML_SVG\"></script><script type=\"text/javascript\">if (window.MathJax && window.MathJax.Hub && window.MathJax.Hub.Config) {window.MathJax.Hub.Config({SVG: {font: \"STIX-Web\"}});}</script>                <script type=\"text/javascript\">window.PlotlyConfig = {MathJaxConfig: 'local'};</script>\n",
              "        <script src=\"https://cdn.plot.ly/plotly-2.18.2.min.js\"></script>                <div id=\"e6dd3f2f-a5bb-4de9-adcb-0dbc0259ca33\" class=\"plotly-graph-div\" style=\"height:600px; width:1000px;\"></div>            <script type=\"text/javascript\">                                    window.PLOTLYENV=window.PLOTLYENV || {};                                    if (document.getElementById(\"e6dd3f2f-a5bb-4de9-adcb-0dbc0259ca33\")) {                    Plotly.newPlot(                        \"e6dd3f2f-a5bb-4de9-adcb-0dbc0259ca33\",                        [{\"colorbar\":{\"title\":{\"text\":\"Orders\"}},\"colorscale\":[[0.0,\"#440154\"],[0.1111111111111111,\"#482878\"],[0.2222222222222222,\"#3e4989\"],[0.3333333333333333,\"#31688e\"],[0.4444444444444444,\"#26828e\"],[0.5555555555555556,\"#1f9e89\"],[0.6666666666666666,\"#35b779\"],[0.7777777777777778,\"#6ece58\"],[0.8888888888888888,\"#b5de2b\"],[1.0,\"#fde725\"]],\"locationmode\":\"country names\",\"locations\":[\"United Kingdom\",\"Germany\",\"France\",\"EIRE\",\"Belgium\",\"Spain\",\"Netherlands\",\"Switzerland\",\"Portugal\",\"Australia\",\"Italy\",\"Finland\",\"Sweden\",\"Norway\",\"Channel Islands\",\"Japan\",\"Poland\",\"Denmark\",\"Cyprus\",\"Austria\",\"Singapore\",\"Malta\",\"Unspecified\",\"USA\",\"Iceland\",\"Israel\",\"Canada\",\"Greece\",\"Czech Republic\",\"European Community\",\"Lithuania\",\"United Arab Emirates\",\"Saudi Arabia\",\"Bahrain\",\"RSA\",\"Lebanon\",\"Brazil\"],\"reversescale\":false,\"text\":[\"United Kingdom\",\"Germany\",\"France\",\"EIRE\",\"Belgium\",\"Spain\",\"Netherlands\",\"Switzerland\",\"Portugal\",\"Australia\",\"Italy\",\"Finland\",\"Sweden\",\"Norway\",\"Channel Islands\",\"Japan\",\"Poland\",\"Denmark\",\"Cyprus\",\"Austria\",\"Singapore\",\"Malta\",\"Unspecified\",\"USA\",\"Iceland\",\"Israel\",\"Canada\",\"Greece\",\"Czech Republic\",\"European Community\",\"Lithuania\",\"United Arab Emirates\",\"Saudi Arabia\",\"Bahrain\",\"RSA\",\"Lebanon\",\"Brazil\"],\"z\":[19857,603,458,319,119,105,101,71,70,69,55,48,46,40,33,28,24,21,20,19,10,10,8,7,7,6,6,6,5,5,4,3,2,2,1,1,1],\"type\":\"choropleth\"}],                        {\"geo\":{\"landcolor\":\"whitesmoke\",\"oceancolor\":\"LightBlue\",\"resolution\":50,\"showframe\":true,\"showland\":true,\"showocean\":true},\"height\":600,\"template\":{\"data\":{\"barpolar\":[{\"marker\":{\"line\":{\"color\":\"white\",\"width\":0.5},\"pattern\":{\"fillmode\":\"overlay\",\"size\":10,\"solidity\":0.2}},\"type\":\"barpolar\"}],\"bar\":[{\"error_x\":{\"color\":\"#2a3f5f\"},\"error_y\":{\"color\":\"#2a3f5f\"},\"marker\":{\"line\":{\"color\":\"white\",\"width\":0.5},\"pattern\":{\"fillmode\":\"overlay\",\"size\":10,\"solidity\":0.2}},\"type\":\"bar\"}],\"carpet\":[{\"aaxis\":{\"endlinecolor\":\"#2a3f5f\",\"gridcolor\":\"#C8D4E3\",\"linecolor\":\"#C8D4E3\",\"minorgridcolor\":\"#C8D4E3\",\"startlinecolor\":\"#2a3f5f\"},\"baxis\":{\"endlinecolor\":\"#2a3f5f\",\"gridcolor\":\"#C8D4E3\",\"linecolor\":\"#C8D4E3\",\"minorgridcolor\":\"#C8D4E3\",\"startlinecolor\":\"#2a3f5f\"},\"type\":\"carpet\"}],\"choropleth\":[{\"colorbar\":{\"outlinewidth\":0,\"ticks\":\"\"},\"type\":\"choropleth\"}],\"contourcarpet\":[{\"colorbar\":{\"outlinewidth\":0,\"ticks\":\"\"},\"type\":\"contourcarpet\"}],\"contour\":[{\"colorbar\":{\"outlinewidth\":0,\"ticks\":\"\"},\"colorscale\":[[0.0,\"#0d0887\"],[0.1111111111111111,\"#46039f\"],[0.2222222222222222,\"#7201a8\"],[0.3333333333333333,\"#9c179e\"],[0.4444444444444444,\"#bd3786\"],[0.5555555555555556,\"#d8576b\"],[0.6666666666666666,\"#ed7953\"],[0.7777777777777778,\"#fb9f3a\"],[0.8888888888888888,\"#fdca26\"],[1.0,\"#f0f921\"]],\"type\":\"contour\"}],\"heatmapgl\":[{\"colorbar\":{\"outlinewidth\":0,\"ticks\":\"\"},\"colorscale\":[[0.0,\"#0d0887\"],[0.1111111111111111,\"#46039f\"],[0.2222222222222222,\"#7201a8\"],[0.3333333333333333,\"#9c179e\"],[0.4444444444444444,\"#bd3786\"],[0.5555555555555556,\"#d8576b\"],[0.6666666666666666,\"#ed7953\"],[0.7777777777777778,\"#fb9f3a\"],[0.8888888888888888,\"#fdca26\"],[1.0,\"#f0f921\"]],\"type\":\"heatmapgl\"}],\"heatmap\":[{\"colorbar\":{\"outlinewidth\":0,\"ticks\":\"\"},\"colorscale\":[[0.0,\"#0d0887\"],[0.1111111111111111,\"#46039f\"],[0.2222222222222222,\"#7201a8\"],[0.3333333333333333,\"#9c179e\"],[0.4444444444444444,\"#bd3786\"],[0.5555555555555556,\"#d8576b\"],[0.6666666666666666,\"#ed7953\"],[0.7777777777777778,\"#fb9f3a\"],[0.8888888888888888,\"#fdca26\"],[1.0,\"#f0f921\"]],\"type\":\"heatmap\"}],\"histogram2dcontour\":[{\"colorbar\":{\"outlinewidth\":0,\"ticks\":\"\"},\"colorscale\":[[0.0,\"#0d0887\"],[0.1111111111111111,\"#46039f\"],[0.2222222222222222,\"#7201a8\"],[0.3333333333333333,\"#9c179e\"],[0.4444444444444444,\"#bd3786\"],[0.5555555555555556,\"#d8576b\"],[0.6666666666666666,\"#ed7953\"],[0.7777777777777778,\"#fb9f3a\"],[0.8888888888888888,\"#fdca26\"],[1.0,\"#f0f921\"]],\"type\":\"histogram2dcontour\"}],\"histogram2d\":[{\"colorbar\":{\"outlinewidth\":0,\"ticks\":\"\"},\"colorscale\":[[0.0,\"#0d0887\"],[0.1111111111111111,\"#46039f\"],[0.2222222222222222,\"#7201a8\"],[0.3333333333333333,\"#9c179e\"],[0.4444444444444444,\"#bd3786\"],[0.5555555555555556,\"#d8576b\"],[0.6666666666666666,\"#ed7953\"],[0.7777777777777778,\"#fb9f3a\"],[0.8888888888888888,\"#fdca26\"],[1.0,\"#f0f921\"]],\"type\":\"histogram2d\"}],\"histogram\":[{\"marker\":{\"pattern\":{\"fillmode\":\"overlay\",\"size\":10,\"solidity\":0.2}},\"type\":\"histogram\"}],\"mesh3d\":[{\"colorbar\":{\"outlinewidth\":0,\"ticks\":\"\"},\"type\":\"mesh3d\"}],\"parcoords\":[{\"line\":{\"colorbar\":{\"outlinewidth\":0,\"ticks\":\"\"}},\"type\":\"parcoords\"}],\"pie\":[{\"automargin\":true,\"type\":\"pie\"}],\"scatter3d\":[{\"line\":{\"colorbar\":{\"outlinewidth\":0,\"ticks\":\"\"}},\"marker\":{\"colorbar\":{\"outlinewidth\":0,\"ticks\":\"\"}},\"type\":\"scatter3d\"}],\"scattercarpet\":[{\"marker\":{\"colorbar\":{\"outlinewidth\":0,\"ticks\":\"\"}},\"type\":\"scattercarpet\"}],\"scattergeo\":[{\"marker\":{\"colorbar\":{\"outlinewidth\":0,\"ticks\":\"\"}},\"type\":\"scattergeo\"}],\"scattergl\":[{\"marker\":{\"colorbar\":{\"outlinewidth\":0,\"ticks\":\"\"}},\"type\":\"scattergl\"}],\"scattermapbox\":[{\"marker\":{\"colorbar\":{\"outlinewidth\":0,\"ticks\":\"\"}},\"type\":\"scattermapbox\"}],\"scatterpolargl\":[{\"marker\":{\"colorbar\":{\"outlinewidth\":0,\"ticks\":\"\"}},\"type\":\"scatterpolargl\"}],\"scatterpolar\":[{\"marker\":{\"colorbar\":{\"outlinewidth\":0,\"ticks\":\"\"}},\"type\":\"scatterpolar\"}],\"scatter\":[{\"fillpattern\":{\"fillmode\":\"overlay\",\"size\":10,\"solidity\":0.2},\"type\":\"scatter\"}],\"scatterternary\":[{\"marker\":{\"colorbar\":{\"outlinewidth\":0,\"ticks\":\"\"}},\"type\":\"scatterternary\"}],\"surface\":[{\"colorbar\":{\"outlinewidth\":0,\"ticks\":\"\"},\"colorscale\":[[0.0,\"#0d0887\"],[0.1111111111111111,\"#46039f\"],[0.2222222222222222,\"#7201a8\"],[0.3333333333333333,\"#9c179e\"],[0.4444444444444444,\"#bd3786\"],[0.5555555555555556,\"#d8576b\"],[0.6666666666666666,\"#ed7953\"],[0.7777777777777778,\"#fb9f3a\"],[0.8888888888888888,\"#fdca26\"],[1.0,\"#f0f921\"]],\"type\":\"surface\"}],\"table\":[{\"cells\":{\"fill\":{\"color\":\"#EBF0F8\"},\"line\":{\"color\":\"white\"}},\"header\":{\"fill\":{\"color\":\"#C8D4E3\"},\"line\":{\"color\":\"white\"}},\"type\":\"table\"}]},\"layout\":{\"annotationdefaults\":{\"arrowcolor\":\"#2a3f5f\",\"arrowhead\":0,\"arrowwidth\":1},\"autotypenumbers\":\"strict\",\"coloraxis\":{\"colorbar\":{\"outlinewidth\":0,\"ticks\":\"\"}},\"colorscale\":{\"diverging\":[[0,\"#8e0152\"],[0.1,\"#c51b7d\"],[0.2,\"#de77ae\"],[0.3,\"#f1b6da\"],[0.4,\"#fde0ef\"],[0.5,\"#f7f7f7\"],[0.6,\"#e6f5d0\"],[0.7,\"#b8e186\"],[0.8,\"#7fbc41\"],[0.9,\"#4d9221\"],[1,\"#276419\"]],\"sequential\":[[0.0,\"#0d0887\"],[0.1111111111111111,\"#46039f\"],[0.2222222222222222,\"#7201a8\"],[0.3333333333333333,\"#9c179e\"],[0.4444444444444444,\"#bd3786\"],[0.5555555555555556,\"#d8576b\"],[0.6666666666666666,\"#ed7953\"],[0.7777777777777778,\"#fb9f3a\"],[0.8888888888888888,\"#fdca26\"],[1.0,\"#f0f921\"]],\"sequentialminus\":[[0.0,\"#0d0887\"],[0.1111111111111111,\"#46039f\"],[0.2222222222222222,\"#7201a8\"],[0.3333333333333333,\"#9c179e\"],[0.4444444444444444,\"#bd3786\"],[0.5555555555555556,\"#d8576b\"],[0.6666666666666666,\"#ed7953\"],[0.7777777777777778,\"#fb9f3a\"],[0.8888888888888888,\"#fdca26\"],[1.0,\"#f0f921\"]]},\"colorway\":[\"#636efa\",\"#EF553B\",\"#00cc96\",\"#ab63fa\",\"#FFA15A\",\"#19d3f3\",\"#FF6692\",\"#B6E880\",\"#FF97FF\",\"#FECB52\"],\"font\":{\"color\":\"#2a3f5f\"},\"geo\":{\"bgcolor\":\"white\",\"lakecolor\":\"white\",\"landcolor\":\"white\",\"showlakes\":true,\"showland\":true,\"subunitcolor\":\"#C8D4E3\"},\"hoverlabel\":{\"align\":\"left\"},\"hovermode\":\"closest\",\"mapbox\":{\"style\":\"light\"},\"paper_bgcolor\":\"white\",\"plot_bgcolor\":\"white\",\"polar\":{\"angularaxis\":{\"gridcolor\":\"#EBF0F8\",\"linecolor\":\"#EBF0F8\",\"ticks\":\"\"},\"bgcolor\":\"white\",\"radialaxis\":{\"gridcolor\":\"#EBF0F8\",\"linecolor\":\"#EBF0F8\",\"ticks\":\"\"}},\"scene\":{\"xaxis\":{\"backgroundcolor\":\"white\",\"gridcolor\":\"#DFE8F3\",\"gridwidth\":2,\"linecolor\":\"#EBF0F8\",\"showbackground\":true,\"ticks\":\"\",\"zerolinecolor\":\"#EBF0F8\"},\"yaxis\":{\"backgroundcolor\":\"white\",\"gridcolor\":\"#DFE8F3\",\"gridwidth\":2,\"linecolor\":\"#EBF0F8\",\"showbackground\":true,\"ticks\":\"\",\"zerolinecolor\":\"#EBF0F8\"},\"zaxis\":{\"backgroundcolor\":\"white\",\"gridcolor\":\"#DFE8F3\",\"gridwidth\":2,\"linecolor\":\"#EBF0F8\",\"showbackground\":true,\"ticks\":\"\",\"zerolinecolor\":\"#EBF0F8\"}},\"shapedefaults\":{\"line\":{\"color\":\"#2a3f5f\"}},\"ternary\":{\"aaxis\":{\"gridcolor\":\"#DFE8F3\",\"linecolor\":\"#A2B1C6\",\"ticks\":\"\"},\"baxis\":{\"gridcolor\":\"#DFE8F3\",\"linecolor\":\"#A2B1C6\",\"ticks\":\"\"},\"bgcolor\":\"white\",\"caxis\":{\"gridcolor\":\"#DFE8F3\",\"linecolor\":\"#A2B1C6\",\"ticks\":\"\"}},\"title\":{\"x\":0.05},\"xaxis\":{\"automargin\":true,\"gridcolor\":\"#EBF0F8\",\"linecolor\":\"#EBF0F8\",\"ticks\":\"\",\"title\":{\"standoff\":15},\"zerolinecolor\":\"#EBF0F8\",\"zerolinewidth\":2},\"yaxis\":{\"automargin\":true,\"gridcolor\":\"#EBF0F8\",\"linecolor\":\"#EBF0F8\",\"ticks\":\"\",\"title\":{\"standoff\":15},\"zerolinecolor\":\"#EBF0F8\",\"zerolinewidth\":2}}},\"title\":{\"text\":\"Number of Orders by Countries\",\"x\":0.5,\"xanchor\":\"center\",\"y\":0.9,\"yanchor\":\"top\"},\"width\":1000},                        {\"responsive\": true}                    ).then(function(){\n",
              "                            \n",
              "var gd = document.getElementById('e6dd3f2f-a5bb-4de9-adcb-0dbc0259ca33');\n",
              "var x = new MutationObserver(function (mutations, observer) {{\n",
              "        var display = window.getComputedStyle(gd).display;\n",
              "        if (!display || display === 'none') {{\n",
              "            console.log([gd, 'removed!']);\n",
              "            Plotly.purge(gd);\n",
              "            observer.disconnect();\n",
              "        }}\n",
              "}});\n",
              "\n",
              "// Listen for the removal of the full notebook cells\n",
              "var notebookContainer = gd.closest('#notebook-container');\n",
              "if (notebookContainer) {{\n",
              "    x.observe(notebookContainer, {childList: true});\n",
              "}}\n",
              "\n",
              "// Listen for the clearing of the current output cell\n",
              "var outputEl = gd.closest('.output');\n",
              "if (outputEl) {{\n",
              "    x.observe(outputEl, {childList: true});\n",
              "}}\n",
              "\n",
              "                        })                };                            </script>        </div>\n",
              "</body>\n",
              "</html>"
            ]
          },
          "metadata": {}
        }
      ]
    },
    {
      "cell_type": "code",
      "source": [
        "def desc_stats(dataframe):\n",
        "    desc_df = pd.DataFrame(index= dataframe.columns, \n",
        "                           columns= dataframe.describe().T.columns,\n",
        "                           data= dataframe.describe().T)\n",
        "    \n",
        "    f,ax = plt.subplots(figsize=(10,\n",
        "                                 desc_df.shape[0] * 0.81))\n",
        "    sns.heatmap(desc_df,\n",
        "                annot = True,\n",
        "                cmap = \"Greens\",\n",
        "                fmt = '.2f',\n",
        "                ax = ax,\n",
        "                linecolor = 'white',\n",
        "                linewidths = 1.1,\n",
        "                cbar = False,\n",
        "                annot_kws = {\"size\": 12})\n",
        "    plt.xticks(size = 18)\n",
        "    plt.yticks(size = 14,\n",
        "               rotation = 0)\n",
        "    plt.title(\"Descriptive Statistics\", size = 14)\n",
        "    plt.show()\n",
        "    \n",
        "desc_stats(df_LTV_01.select_dtypes(include = [float, int]))"
      ],
      "metadata": {
        "id": "OZPNRkHijahK",
        "colab": {
          "base_uri": "https://localhost:8080/",
          "height": 222
        },
        "outputId": "34169805-a07e-42d8-8a74-8515fd8bdeb9"
      },
      "execution_count": 122,
      "outputs": [
        {
          "output_type": "display_data",
          "data": {
            "text/plain": [
              "<Figure size 1000x162 with 1 Axes>"
            ],
            "image/png": "[encoded data removed]"
          },
          "metadata": {}
        }
      ]
    },
    {
      "cell_type": "markdown",
      "source": [
        "* 취소된 주문내역 때문에 quantity < 0인 row 존재 \n",
        "* total_price = quantity * unit_price로 구할 예정 "
      ],
      "metadata": {
        "id": "1HjyYolc2fHn"
      }
    },
    {
      "cell_type": "markdown",
      "source": [
        "## 2.1 unit_price, quantity에 대한 확인 \n",
        "- quantity < 0 인 부분 확인  \n",
        "- stock_code가 같은데도 unit_price가 다른 경우에 대한 확인 "
      ],
      "metadata": {
        "id": "PzhwTI397b6K"
      }
    },
    {
      "cell_type": "code",
      "source": [
        "df_LTV_01[df_LTV_01['quantity'] < 0].sample(5)"
      ],
      "metadata": {
        "colab": {
          "base_uri": "https://localhost:8080/",
          "height": 206
        },
        "id": "gfd9oVdz6cDQ",
        "outputId": "b80c01ae-3275-444a-b668-ac2645c99f9b"
      },
      "execution_count": 123,
      "outputs": [
        {
          "output_type": "execute_result",
          "data": {
            "text/plain": [
              "       invoice_no stock_code  quantity invoice_date  unit_price customer_id  \\\n",
              "202495     554432     85132A       -97   2011-05-24           0           0   \n",
              "47129     C540381      22962        -1   2011-01-06           1       16705   \n",
              "481924    C577392      23169        -6   2011-11-18           4       16560   \n",
              "203531    C554518      23168        -3   2011-05-24           1       16592   \n",
              "274374    C560904          M        -1   2011-07-21           9       14875   \n",
              "\n",
              "          invoice_datetime  \n",
              "202495 2011-05-24 12:16:00  \n",
              "47129  2011-01-06 17:37:00  \n",
              "481924 2011-11-18 17:05:00  \n",
              "203531 2011-05-24 16:58:00  \n",
              "274374 2011-07-21 17:51:00  "
            ],
            "text/html": [
              "\n",
              "  <div id=\"df-b076882c-2a07-4706-8d58-a74e6a61c0e9\">\n",
              "    <div class=\"colab-df-container\">\n",
              "      <div>\n",
              "<style scoped>\n",
              "    .dataframe tbody tr th:only-of-type {\n",
              "        vertical-align: middle;\n",
              "    }\n",
              "\n",
              "    .dataframe tbody tr th {\n",
              "        vertical-align: top;\n",
              "    }\n",
              "\n",
              "    .dataframe thead th {\n",
              "        text-align: right;\n",
              "    }\n",
              "</style>\n",
              "<table border=\"1\" class=\"dataframe\">\n",
              "  <thead>\n",
              "    <tr style=\"text-align: right;\">\n",
              "      <th></th>\n",
              "      <th>invoice_no</th>\n",
              "      <th>stock_code</th>\n",
              "      <th>quantity</th>\n",
              "      <th>invoice_date</th>\n",
              "      <th>unit_price</th>\n",
              "      <th>customer_id</th>\n",
              "      <th>invoice_datetime</th>\n",
              "    </tr>\n",
              "  </thead>\n",
              "  <tbody>\n",
              "    <tr>\n",
              "      <th>202495</th>\n",
              "      <td>554432</td>\n",
              "      <td>85132A</td>\n",
              "      <td>-97</td>\n",
              "      <td>2011-05-24</td>\n",
              "      <td>0</td>\n",
              "      <td>0</td>\n",
              "      <td>2011-05-24 12:16:00</td>\n",
              "    </tr>\n",
              "    <tr>\n",
              "      <th>47129</th>\n",
              "      <td>C540381</td>\n",
              "      <td>22962</td>\n",
              "      <td>-1</td>\n",
              "      <td>2011-01-06</td>\n",
              "      <td>1</td>\n",
              "      <td>16705</td>\n",
              "      <td>2011-01-06 17:37:00</td>\n",
              "    </tr>\n",
              "    <tr>\n",
              "      <th>481924</th>\n",
              "      <td>C577392</td>\n",
              "      <td>23169</td>\n",
              "      <td>-6</td>\n",
              "      <td>2011-11-18</td>\n",
              "      <td>4</td>\n",
              "      <td>16560</td>\n",
              "      <td>2011-11-18 17:05:00</td>\n",
              "    </tr>\n",
              "    <tr>\n",
              "      <th>203531</th>\n",
              "      <td>C554518</td>\n",
              "      <td>23168</td>\n",
              "      <td>-3</td>\n",
              "      <td>2011-05-24</td>\n",
              "      <td>1</td>\n",
              "      <td>16592</td>\n",
              "      <td>2011-05-24 16:58:00</td>\n",
              "    </tr>\n",
              "    <tr>\n",
              "      <th>274374</th>\n",
              "      <td>C560904</td>\n",
              "      <td>M</td>\n",
              "      <td>-1</td>\n",
              "      <td>2011-07-21</td>\n",
              "      <td>9</td>\n",
              "      <td>14875</td>\n",
              "      <td>2011-07-21 17:51:00</td>\n",
              "    </tr>\n",
              "  </tbody>\n",
              "</table>\n",
              "</div>\n",
              "      <button class=\"colab-df-convert\" onclick=\"convertToInteractive('df-b076882c-2a07-4706-8d58-a74e6a61c0e9')\"\n",
              "              title=\"Convert this dataframe to an interactive table.\"\n",
              "              style=\"display:none;\">\n",
              "        \n",
              "  <svg xmlns=\"http://www.w3.org/2000/svg\" height=\"24px\"viewBox=\"0 0 24 24\"\n",
              "       width=\"24px\">\n",
              "    <path d=\"M0 0h24v24H0V0z\" fill=\"none\"/>\n",
              "    <path d=\"M18.56 5.44l.94 2.06.94-2.06 2.06-.94-2.06-.94-.94-2.06-.94 2.06-2.06.94zm-11 1L8.5 8.5l.94-2.06 2.06-.94-2.06-.94L8.5 2.5l-.94 2.06-2.06.94zm10 10l.94 2.06.94-2.06 2.06-.94-2.06-.94-.94-2.06-.94 2.06-2.06.94z\"/><path d=\"M17.41 7.96l-1.37-1.37c-.4-.4-.92-.59-1.43-.59-.52 0-1.04.2-1.43.59L10.3 9.45l-7.72 7.72c-.78.78-.78 2.05 0 2.83L4 21.41c.39.39.9.59 1.41.59.51 0 1.02-.2 1.41-.59l7.78-7.78 2.81-2.81c.8-.78.8-2.07 0-2.86zM5.41 20L4 18.59l7.72-7.72 1.47 1.35L5.41 20z\"/>\n",
              "  </svg>\n",
              "      </button>\n",
              "      \n",
              "  <style>\n",
              "    .colab-df-container {\n",
              "      display:flex;\n",
              "      flex-wrap:wrap;\n",
              "      gap: 12px;\n",
              "    }\n",
              "\n",
              "    .colab-df-convert {\n",
              "      background-color: #E8F0FE;\n",
              "      border: none;\n",
              "      border-radius: 50%;\n",
              "      cursor: pointer;\n",
              "      display: none;\n",
              "      fill: #1967D2;\n",
              "      height: 32px;\n",
              "      padding: 0 0 0 0;\n",
              "      width: 32px;\n",
              "    }\n",
              "\n",
              "    .colab-df-convert:hover {\n",
              "      background-color: #E2EBFA;\n",
              "      box-shadow: 0px 1px 2px rgba(60, 64, 67, 0.3), 0px 1px 3px 1px rgba(60, 64, 67, 0.15);\n",
              "      fill: #174EA6;\n",
              "    }\n",
              "\n",
              "    [theme=dark] .colab-df-convert {\n",
              "      background-color: #3B4455;\n",
              "      fill: #D2E3FC;\n",
              "    }\n",
              "\n",
              "    [theme=dark] .colab-df-convert:hover {\n",
              "      background-color: #434B5C;\n",
              "      box-shadow: 0px 1px 3px 1px rgba(0, 0, 0, 0.15);\n",
              "      filter: drop-shadow(0px 1px 2px rgba(0, 0, 0, 0.3));\n",
              "      fill: #FFFFFF;\n",
              "    }\n",
              "  </style>\n",
              "\n",
              "      <script>\n",
              "        const buttonEl =\n",
              "          document.querySelector('#df-b076882c-2a07-4706-8d58-a74e6a61c0e9 button.colab-df-convert');\n",
              "        buttonEl.style.display =\n",
              "          google.colab.kernel.accessAllowed ? 'block' : 'none';\n",
              "\n",
              "        async function convertToInteractive(key) {\n",
              "          const element = document.querySelector('#df-b076882c-2a07-4706-8d58-a74e6a61c0e9');\n",
              "          const dataTable =\n",
              "            await google.colab.kernel.invokeFunction('convertToInteractive',\n",
              "                                                     [key], {});\n",
              "          if (!dataTable) return;\n",
              "\n",
              "          const docLinkHtml = 'Like what you see? Visit the ' +\n",
              "            '<a target=\"_blank\" href=https://colab.research.google.com/notebooks/data_table.ipynb>data table notebook</a>'\n",
              "            + ' to learn more about interactive tables.';\n",
              "          element.innerHTML = '';\n",
              "          dataTable['output_type'] = 'display_data';\n",
              "          await google.colab.output.renderOutput(dataTable, element);\n",
              "          const docLink = document.createElement('div');\n",
              "          docLink.innerHTML = docLinkHtml;\n",
              "          element.appendChild(docLink);\n",
              "        }\n",
              "      </script>\n",
              "    </div>\n",
              "  </div>\n",
              "  "
            ]
          },
          "metadata": {},
          "execution_count": 123
        }
      ]
    },
    {
      "cell_type": "code",
      "source": [
        "# pd.set_option('display.max_columns', None) ## 모든 열을 출력한다.\n",
        "# pd.set_option('display.max_rows', None) ## 모든 열을 출력한다."
      ],
      "metadata": {
        "id": "zK1mwdsLatkH"
      },
      "execution_count": 124,
      "outputs": []
    },
    {
      "cell_type": "code",
      "source": [
        "# df_LTV_01[df_LTV_01['customer_id'] == 12471] # quantity < 0인 행이 있는 customer 확인 "
      ],
      "metadata": {
        "id": "MX7xg1hDZb6d"
      },
      "execution_count": 125,
      "outputs": []
    },
    {
      "cell_type": "markdown",
      "source": [
        "- invoice_no 가장 앞에 C가 있으면 취소한 내역, 취소했을 시 quantity < 0 \n",
        "- but, C 뒤 번호로 어떤 내역을 취소한 건지 확인 불가 (해당하는 invoice_no 없음) -> 주문 전체 취소라면 그 주문번호 앞에 C가 붙어있지만, 아니라면 아예 새로운 주문번호 + C 를 부여하는 듯? \n",
        "\n",
        "구매 내역만 필요하긴 하지만, \n",
        "- 구매 건수: 환불 건수 제외하고 nunique \n",
        "- 총 주문금액: 주문 금액 - 환불금액 의 sum이어야 함 \n",
        "\n",
        "quantity < 0 인 경우를 확인해보자. "
      ],
      "metadata": {
        "id": "ezJPDpW9cQxG"
      }
    },
    {
      "cell_type": "code",
      "source": [
        "df_LTV_01[df_LTV_01['unit_price'] == 0].sample(5) # unit_price == 0인 경우 확인 "
      ],
      "metadata": {
        "colab": {
          "base_uri": "https://localhost:8080/",
          "height": 206
        },
        "id": "jFGj2VqwdL5J",
        "outputId": "1e91468e-3578-4a85-a0d3-14c3a96a3c1f"
      },
      "execution_count": 126,
      "outputs": [
        {
          "output_type": "execute_result",
          "data": {
            "text/plain": [
              "       invoice_no stock_code  quantity invoice_date  unit_price customer_id  \\\n",
              "221896     556289      20823      -102   2011-06-10           0           0   \n",
              "205991     554857       POST       800   2011-05-27           0           0   \n",
              "193206     553521      22559         1   2011-05-17           0           0   \n",
              "7194       537002      21651        70   2010-12-03           0           0   \n",
              "124018     546933      22364         2   2011-03-18           0           0   \n",
              "\n",
              "          invoice_datetime  \n",
              "221896 2011-06-10 09:23:00  \n",
              "205991 2011-05-27 10:08:00  \n",
              "193206 2011-05-17 14:35:00  \n",
              "7194   2010-12-03 15:33:00  \n",
              "124018 2011-03-18 11:02:00  "
            ],
            "text/html": [
              "\n",
              "  <div id=\"df-f923ac0b-c549-41cb-aab9-e9a500fc157d\">\n",
              "    <div class=\"colab-df-container\">\n",
              "      <div>\n",
              "<style scoped>\n",
              "    .dataframe tbody tr th:only-of-type {\n",
              "        vertical-align: middle;\n",
              "    }\n",
              "\n",
              "    .dataframe tbody tr th {\n",
              "        vertical-align: top;\n",
              "    }\n",
              "\n",
              "    .dataframe thead th {\n",
              "        text-align: right;\n",
              "    }\n",
              "</style>\n",
              "<table border=\"1\" class=\"dataframe\">\n",
              "  <thead>\n",
              "    <tr style=\"text-align: right;\">\n",
              "      <th></th>\n",
              "      <th>invoice_no</th>\n",
              "      <th>stock_code</th>\n",
              "      <th>quantity</th>\n",
              "      <th>invoice_date</th>\n",
              "      <th>unit_price</th>\n",
              "      <th>customer_id</th>\n",
              "      <th>invoice_datetime</th>\n",
              "    </tr>\n",
              "  </thead>\n",
              "  <tbody>\n",
              "    <tr>\n",
              "      <th>221896</th>\n",
              "      <td>556289</td>\n",
              "      <td>20823</td>\n",
              "      <td>-102</td>\n",
              "      <td>2011-06-10</td>\n",
              "      <td>0</td>\n",
              "      <td>0</td>\n",
              "      <td>2011-06-10 09:23:00</td>\n",
              "    </tr>\n",
              "    <tr>\n",
              "      <th>205991</th>\n",
              "      <td>554857</td>\n",
              "      <td>POST</td>\n",
              "      <td>800</td>\n",
              "      <td>2011-05-27</td>\n",
              "      <td>0</td>\n",
              "      <td>0</td>\n",
              "      <td>2011-05-27 10:08:00</td>\n",
              "    </tr>\n",
              "    <tr>\n",
              "      <th>193206</th>\n",
              "      <td>553521</td>\n",
              "      <td>22559</td>\n",
              "      <td>1</td>\n",
              "      <td>2011-05-17</td>\n",
              "      <td>0</td>\n",
              "      <td>0</td>\n",
              "      <td>2011-05-17 14:35:00</td>\n",
              "    </tr>\n",
              "    <tr>\n",
              "      <th>7194</th>\n",
              "      <td>537002</td>\n",
              "      <td>21651</td>\n",
              "      <td>70</td>\n",
              "      <td>2010-12-03</td>\n",
              "      <td>0</td>\n",
              "      <td>0</td>\n",
              "      <td>2010-12-03 15:33:00</td>\n",
              "    </tr>\n",
              "    <tr>\n",
              "      <th>124018</th>\n",
              "      <td>546933</td>\n",
              "      <td>22364</td>\n",
              "      <td>2</td>\n",
              "      <td>2011-03-18</td>\n",
              "      <td>0</td>\n",
              "      <td>0</td>\n",
              "      <td>2011-03-18 11:02:00</td>\n",
              "    </tr>\n",
              "  </tbody>\n",
              "</table>\n",
              "</div>\n",
              "      <button class=\"colab-df-convert\" onclick=\"convertToInteractive('df-f923ac0b-c549-41cb-aab9-e9a500fc157d')\"\n",
              "              title=\"Convert this dataframe to an interactive table.\"\n",
              "              style=\"display:none;\">\n",
              "        \n",
              "  <svg xmlns=\"http://www.w3.org/2000/svg\" height=\"24px\"viewBox=\"0 0 24 24\"\n",
              "       width=\"24px\">\n",
              "    <path d=\"M0 0h24v24H0V0z\" fill=\"none\"/>\n",
              "    <path d=\"M18.56 5.44l.94 2.06.94-2.06 2.06-.94-2.06-.94-.94-2.06-.94 2.06-2.06.94zm-11 1L8.5 8.5l.94-2.06 2.06-.94-2.06-.94L8.5 2.5l-.94 2.06-2.06.94zm10 10l.94 2.06.94-2.06 2.06-.94-2.06-.94-.94-2.06-.94 2.06-2.06.94z\"/><path d=\"M17.41 7.96l-1.37-1.37c-.4-.4-.92-.59-1.43-.59-.52 0-1.04.2-1.43.59L10.3 9.45l-7.72 7.72c-.78.78-.78 2.05 0 2.83L4 21.41c.39.39.9.59 1.41.59.51 0 1.02-.2 1.41-.59l7.78-7.78 2.81-2.81c.8-.78.8-2.07 0-2.86zM5.41 20L4 18.59l7.72-7.72 1.47 1.35L5.41 20z\"/>\n",
              "  </svg>\n",
              "      </button>\n",
              "      \n",
              "  <style>\n",
              "    .colab-df-container {\n",
              "      display:flex;\n",
              "      flex-wrap:wrap;\n",
              "      gap: 12px;\n",
              "    }\n",
              "\n",
              "    .colab-df-convert {\n",
              "      background-color: #E8F0FE;\n",
              "      border: none;\n",
              "      border-radius: 50%;\n",
              "      cursor: pointer;\n",
              "      display: none;\n",
              "      fill: #1967D2;\n",
              "      height: 32px;\n",
              "      padding: 0 0 0 0;\n",
              "      width: 32px;\n",
              "    }\n",
              "\n",
              "    .colab-df-convert:hover {\n",
              "      background-color: #E2EBFA;\n",
              "      box-shadow: 0px 1px 2px rgba(60, 64, 67, 0.3), 0px 1px 3px 1px rgba(60, 64, 67, 0.15);\n",
              "      fill: #174EA6;\n",
              "    }\n",
              "\n",
              "    [theme=dark] .colab-df-convert {\n",
              "      background-color: #3B4455;\n",
              "      fill: #D2E3FC;\n",
              "    }\n",
              "\n",
              "    [theme=dark] .colab-df-convert:hover {\n",
              "      background-color: #434B5C;\n",
              "      box-shadow: 0px 1px 3px 1px rgba(0, 0, 0, 0.15);\n",
              "      filter: drop-shadow(0px 1px 2px rgba(0, 0, 0, 0.3));\n",
              "      fill: #FFFFFF;\n",
              "    }\n",
              "  </style>\n",
              "\n",
              "      <script>\n",
              "        const buttonEl =\n",
              "          document.querySelector('#df-f923ac0b-c549-41cb-aab9-e9a500fc157d button.colab-df-convert');\n",
              "        buttonEl.style.display =\n",
              "          google.colab.kernel.accessAllowed ? 'block' : 'none';\n",
              "\n",
              "        async function convertToInteractive(key) {\n",
              "          const element = document.querySelector('#df-f923ac0b-c549-41cb-aab9-e9a500fc157d');\n",
              "          const dataTable =\n",
              "            await google.colab.kernel.invokeFunction('convertToInteractive',\n",
              "                                                     [key], {});\n",
              "          if (!dataTable) return;\n",
              "\n",
              "          const docLinkHtml = 'Like what you see? Visit the ' +\n",
              "            '<a target=\"_blank\" href=https://colab.research.google.com/notebooks/data_table.ipynb>data table notebook</a>'\n",
              "            + ' to learn more about interactive tables.';\n",
              "          element.innerHTML = '';\n",
              "          dataTable['output_type'] = 'display_data';\n",
              "          await google.colab.output.renderOutput(dataTable, element);\n",
              "          const docLink = document.createElement('div');\n",
              "          docLink.innerHTML = docLinkHtml;\n",
              "          element.appendChild(docLink);\n",
              "        }\n",
              "      </script>\n",
              "    </div>\n",
              "  </div>\n",
              "  "
            ]
          },
          "metadata": {},
          "execution_count": 126
        }
      ]
    },
    {
      "cell_type": "code",
      "source": [
        "df_LTV_01[df_LTV_01['unit_price'] < 0].head() # unit_price < 0인 경우 확인 "
      ],
      "metadata": {
        "colab": {
          "base_uri": "https://localhost:8080/",
          "height": 112
        },
        "id": "uGmHLgWmU7dt",
        "outputId": "d881bb9a-291b-4fa4-beaa-ada0229f8957"
      },
      "execution_count": 127,
      "outputs": [
        {
          "output_type": "execute_result",
          "data": {
            "text/plain": [
              "       invoice_no stock_code  quantity invoice_date  unit_price customer_id  \\\n",
              "299983    A563186          B         1   2011-08-12     -11,062           0   \n",
              "299984    A563187          B         1   2011-08-12     -11,062           0   \n",
              "\n",
              "          invoice_datetime  \n",
              "299983 2011-08-12 14:51:00  \n",
              "299984 2011-08-12 14:52:00  "
            ],
            "text/html": [
              "\n",
              "  <div id=\"df-fe24a5cb-67cf-4522-b042-5573cf0f684d\">\n",
              "    <div class=\"colab-df-container\">\n",
              "      <div>\n",
              "<style scoped>\n",
              "    .dataframe tbody tr th:only-of-type {\n",
              "        vertical-align: middle;\n",
              "    }\n",
              "\n",
              "    .dataframe tbody tr th {\n",
              "        vertical-align: top;\n",
              "    }\n",
              "\n",
              "    .dataframe thead th {\n",
              "        text-align: right;\n",
              "    }\n",
              "</style>\n",
              "<table border=\"1\" class=\"dataframe\">\n",
              "  <thead>\n",
              "    <tr style=\"text-align: right;\">\n",
              "      <th></th>\n",
              "      <th>invoice_no</th>\n",
              "      <th>stock_code</th>\n",
              "      <th>quantity</th>\n",
              "      <th>invoice_date</th>\n",
              "      <th>unit_price</th>\n",
              "      <th>customer_id</th>\n",
              "      <th>invoice_datetime</th>\n",
              "    </tr>\n",
              "  </thead>\n",
              "  <tbody>\n",
              "    <tr>\n",
              "      <th>299983</th>\n",
              "      <td>A563186</td>\n",
              "      <td>B</td>\n",
              "      <td>1</td>\n",
              "      <td>2011-08-12</td>\n",
              "      <td>-11,062</td>\n",
              "      <td>0</td>\n",
              "      <td>2011-08-12 14:51:00</td>\n",
              "    </tr>\n",
              "    <tr>\n",
              "      <th>299984</th>\n",
              "      <td>A563187</td>\n",
              "      <td>B</td>\n",
              "      <td>1</td>\n",
              "      <td>2011-08-12</td>\n",
              "      <td>-11,062</td>\n",
              "      <td>0</td>\n",
              "      <td>2011-08-12 14:52:00</td>\n",
              "    </tr>\n",
              "  </tbody>\n",
              "</table>\n",
              "</div>\n",
              "      <button class=\"colab-df-convert\" onclick=\"convertToInteractive('df-fe24a5cb-67cf-4522-b042-5573cf0f684d')\"\n",
              "              title=\"Convert this dataframe to an interactive table.\"\n",
              "              style=\"display:none;\">\n",
              "        \n",
              "  <svg xmlns=\"http://www.w3.org/2000/svg\" height=\"24px\"viewBox=\"0 0 24 24\"\n",
              "       width=\"24px\">\n",
              "    <path d=\"M0 0h24v24H0V0z\" fill=\"none\"/>\n",
              "    <path d=\"M18.56 5.44l.94 2.06.94-2.06 2.06-.94-2.06-.94-.94-2.06-.94 2.06-2.06.94zm-11 1L8.5 8.5l.94-2.06 2.06-.94-2.06-.94L8.5 2.5l-.94 2.06-2.06.94zm10 10l.94 2.06.94-2.06 2.06-.94-2.06-.94-.94-2.06-.94 2.06-2.06.94z\"/><path d=\"M17.41 7.96l-1.37-1.37c-.4-.4-.92-.59-1.43-.59-.52 0-1.04.2-1.43.59L10.3 9.45l-7.72 7.72c-.78.78-.78 2.05 0 2.83L4 21.41c.39.39.9.59 1.41.59.51 0 1.02-.2 1.41-.59l7.78-7.78 2.81-2.81c.8-.78.8-2.07 0-2.86zM5.41 20L4 18.59l7.72-7.72 1.47 1.35L5.41 20z\"/>\n",
              "  </svg>\n",
              "      </button>\n",
              "      \n",
              "  <style>\n",
              "    .colab-df-container {\n",
              "      display:flex;\n",
              "      flex-wrap:wrap;\n",
              "      gap: 12px;\n",
              "    }\n",
              "\n",
              "    .colab-df-convert {\n",
              "      background-color: #E8F0FE;\n",
              "      border: none;\n",
              "      border-radius: 50%;\n",
              "      cursor: pointer;\n",
              "      display: none;\n",
              "      fill: #1967D2;\n",
              "      height: 32px;\n",
              "      padding: 0 0 0 0;\n",
              "      width: 32px;\n",
              "    }\n",
              "\n",
              "    .colab-df-convert:hover {\n",
              "      background-color: #E2EBFA;\n",
              "      box-shadow: 0px 1px 2px rgba(60, 64, 67, 0.3), 0px 1px 3px 1px rgba(60, 64, 67, 0.15);\n",
              "      fill: #174EA6;\n",
              "    }\n",
              "\n",
              "    [theme=dark] .colab-df-convert {\n",
              "      background-color: #3B4455;\n",
              "      fill: #D2E3FC;\n",
              "    }\n",
              "\n",
              "    [theme=dark] .colab-df-convert:hover {\n",
              "      background-color: #434B5C;\n",
              "      box-shadow: 0px 1px 3px 1px rgba(0, 0, 0, 0.15);\n",
              "      filter: drop-shadow(0px 1px 2px rgba(0, 0, 0, 0.3));\n",
              "      fill: #FFFFFF;\n",
              "    }\n",
              "  </style>\n",
              "\n",
              "      <script>\n",
              "        const buttonEl =\n",
              "          document.querySelector('#df-fe24a5cb-67cf-4522-b042-5573cf0f684d button.colab-df-convert');\n",
              "        buttonEl.style.display =\n",
              "          google.colab.kernel.accessAllowed ? 'block' : 'none';\n",
              "\n",
              "        async function convertToInteractive(key) {\n",
              "          const element = document.querySelector('#df-fe24a5cb-67cf-4522-b042-5573cf0f684d');\n",
              "          const dataTable =\n",
              "            await google.colab.kernel.invokeFunction('convertToInteractive',\n",
              "                                                     [key], {});\n",
              "          if (!dataTable) return;\n",
              "\n",
              "          const docLinkHtml = 'Like what you see? Visit the ' +\n",
              "            '<a target=\"_blank\" href=https://colab.research.google.com/notebooks/data_table.ipynb>data table notebook</a>'\n",
              "            + ' to learn more about interactive tables.';\n",
              "          element.innerHTML = '';\n",
              "          dataTable['output_type'] = 'display_data';\n",
              "          await google.colab.output.renderOutput(dataTable, element);\n",
              "          const docLink = document.createElement('div');\n",
              "          docLink.innerHTML = docLinkHtml;\n",
              "          element.appendChild(docLink);\n",
              "        }\n",
              "      </script>\n",
              "    </div>\n",
              "  </div>\n",
              "  "
            ]
          },
          "metadata": {},
          "execution_count": 127
        }
      ]
    },
    {
      "cell_type": "code",
      "source": [
        "df_base[df_base['stock_code'] == 'B'] # unit_price < 0 인 상품 확인 \n",
        "\n",
        "# stock_code = 'B'인 상품: \tAdjust bad debt\t <- 즉, 구매 내역은 아님 \n",
        "# 어차피 customer_id = NaN이기 때문에 추후 드랍할 예정 "
      ],
      "metadata": {
        "colab": {
          "base_uri": "https://localhost:8080/",
          "height": 143
        },
        "id": "Qny1oONJVktb",
        "outputId": "c1bbddc0-7001-4adf-a76b-7cbc327778d1"
      },
      "execution_count": 128,
      "outputs": [
        {
          "output_type": "execute_result",
          "data": {
            "text/plain": [
              "       invoice_no stock_code      description  quantity     invoice_date  \\\n",
              "299982    A563185          B  Adjust bad debt         1  8/12/2011 14:50   \n",
              "299983    A563186          B  Adjust bad debt         1  8/12/2011 14:51   \n",
              "299984    A563187          B  Adjust bad debt         1  8/12/2011 14:52   \n",
              "\n",
              "        unit_price  customer_id         country  \n",
              "299982      11,062          NaN  United Kingdom  \n",
              "299983     -11,062          NaN  United Kingdom  \n",
              "299984     -11,062          NaN  United Kingdom  "
            ],
            "text/html": [
              "\n",
              "  <div id=\"df-9a5eafef-52d2-40cc-b122-a314b4b48b72\">\n",
              "    <div class=\"colab-df-container\">\n",
              "      <div>\n",
              "<style scoped>\n",
              "    .dataframe tbody tr th:only-of-type {\n",
              "        vertical-align: middle;\n",
              "    }\n",
              "\n",
              "    .dataframe tbody tr th {\n",
              "        vertical-align: top;\n",
              "    }\n",
              "\n",
              "    .dataframe thead th {\n",
              "        text-align: right;\n",
              "    }\n",
              "</style>\n",
              "<table border=\"1\" class=\"dataframe\">\n",
              "  <thead>\n",
              "    <tr style=\"text-align: right;\">\n",
              "      <th></th>\n",
              "      <th>invoice_no</th>\n",
              "      <th>stock_code</th>\n",
              "      <th>description</th>\n",
              "      <th>quantity</th>\n",
              "      <th>invoice_date</th>\n",
              "      <th>unit_price</th>\n",
              "      <th>customer_id</th>\n",
              "      <th>country</th>\n",
              "    </tr>\n",
              "  </thead>\n",
              "  <tbody>\n",
              "    <tr>\n",
              "      <th>299982</th>\n",
              "      <td>A563185</td>\n",
              "      <td>B</td>\n",
              "      <td>Adjust bad debt</td>\n",
              "      <td>1</td>\n",
              "      <td>8/12/2011 14:50</td>\n",
              "      <td>11,062</td>\n",
              "      <td>NaN</td>\n",
              "      <td>United Kingdom</td>\n",
              "    </tr>\n",
              "    <tr>\n",
              "      <th>299983</th>\n",
              "      <td>A563186</td>\n",
              "      <td>B</td>\n",
              "      <td>Adjust bad debt</td>\n",
              "      <td>1</td>\n",
              "      <td>8/12/2011 14:51</td>\n",
              "      <td>-11,062</td>\n",
              "      <td>NaN</td>\n",
              "      <td>United Kingdom</td>\n",
              "    </tr>\n",
              "    <tr>\n",
              "      <th>299984</th>\n",
              "      <td>A563187</td>\n",
              "      <td>B</td>\n",
              "      <td>Adjust bad debt</td>\n",
              "      <td>1</td>\n",
              "      <td>8/12/2011 14:52</td>\n",
              "      <td>-11,062</td>\n",
              "      <td>NaN</td>\n",
              "      <td>United Kingdom</td>\n",
              "    </tr>\n",
              "  </tbody>\n",
              "</table>\n",
              "</div>\n",
              "      <button class=\"colab-df-convert\" onclick=\"convertToInteractive('df-9a5eafef-52d2-40cc-b122-a314b4b48b72')\"\n",
              "              title=\"Convert this dataframe to an interactive table.\"\n",
              "              style=\"display:none;\">\n",
              "        \n",
              "  <svg xmlns=\"http://www.w3.org/2000/svg\" height=\"24px\"viewBox=\"0 0 24 24\"\n",
              "       width=\"24px\">\n",
              "    <path d=\"M0 0h24v24H0V0z\" fill=\"none\"/>\n",
              "    <path d=\"M18.56 5.44l.94 2.06.94-2.06 2.06-.94-2.06-.94-.94-2.06-.94 2.06-2.06.94zm-11 1L8.5 8.5l.94-2.06 2.06-.94-2.06-.94L8.5 2.5l-.94 2.06-2.06.94zm10 10l.94 2.06.94-2.06 2.06-.94-2.06-.94-.94-2.06-.94 2.06-2.06.94z\"/><path d=\"M17.41 7.96l-1.37-1.37c-.4-.4-.92-.59-1.43-.59-.52 0-1.04.2-1.43.59L10.3 9.45l-7.72 7.72c-.78.78-.78 2.05 0 2.83L4 21.41c.39.39.9.59 1.41.59.51 0 1.02-.2 1.41-.59l7.78-7.78 2.81-2.81c.8-.78.8-2.07 0-2.86zM5.41 20L4 18.59l7.72-7.72 1.47 1.35L5.41 20z\"/>\n",
              "  </svg>\n",
              "      </button>\n",
              "      \n",
              "  <style>\n",
              "    .colab-df-container {\n",
              "      display:flex;\n",
              "      flex-wrap:wrap;\n",
              "      gap: 12px;\n",
              "    }\n",
              "\n",
              "    .colab-df-convert {\n",
              "      background-color: #E8F0FE;\n",
              "      border: none;\n",
              "      border-radius: 50%;\n",
              "      cursor: pointer;\n",
              "      display: none;\n",
              "      fill: #1967D2;\n",
              "      height: 32px;\n",
              "      padding: 0 0 0 0;\n",
              "      width: 32px;\n",
              "    }\n",
              "\n",
              "    .colab-df-convert:hover {\n",
              "      background-color: #E2EBFA;\n",
              "      box-shadow: 0px 1px 2px rgba(60, 64, 67, 0.3), 0px 1px 3px 1px rgba(60, 64, 67, 0.15);\n",
              "      fill: #174EA6;\n",
              "    }\n",
              "\n",
              "    [theme=dark] .colab-df-convert {\n",
              "      background-color: #3B4455;\n",
              "      fill: #D2E3FC;\n",
              "    }\n",
              "\n",
              "    [theme=dark] .colab-df-convert:hover {\n",
              "      background-color: #434B5C;\n",
              "      box-shadow: 0px 1px 3px 1px rgba(0, 0, 0, 0.15);\n",
              "      filter: drop-shadow(0px 1px 2px rgba(0, 0, 0, 0.3));\n",
              "      fill: #FFFFFF;\n",
              "    }\n",
              "  </style>\n",
              "\n",
              "      <script>\n",
              "        const buttonEl =\n",
              "          document.querySelector('#df-9a5eafef-52d2-40cc-b122-a314b4b48b72 button.colab-df-convert');\n",
              "        buttonEl.style.display =\n",
              "          google.colab.kernel.accessAllowed ? 'block' : 'none';\n",
              "\n",
              "        async function convertToInteractive(key) {\n",
              "          const element = document.querySelector('#df-9a5eafef-52d2-40cc-b122-a314b4b48b72');\n",
              "          const dataTable =\n",
              "            await google.colab.kernel.invokeFunction('convertToInteractive',\n",
              "                                                     [key], {});\n",
              "          if (!dataTable) return;\n",
              "\n",
              "          const docLinkHtml = 'Like what you see? Visit the ' +\n",
              "            '<a target=\"_blank\" href=https://colab.research.google.com/notebooks/data_table.ipynb>data table notebook</a>'\n",
              "            + ' to learn more about interactive tables.';\n",
              "          element.innerHTML = '';\n",
              "          dataTable['output_type'] = 'display_data';\n",
              "          await google.colab.output.renderOutput(dataTable, element);\n",
              "          const docLink = document.createElement('div');\n",
              "          docLink.innerHTML = docLinkHtml;\n",
              "          element.appendChild(docLink);\n",
              "        }\n",
              "      </script>\n",
              "    </div>\n",
              "  </div>\n",
              "  "
            ]
          },
          "metadata": {},
          "execution_count": 128
        }
      ]
    },
    {
      "cell_type": "code",
      "source": [
        "print((df_LTV_01[df_LTV_01['unit_price'] == 0].shape)) \n",
        "print((df_LTV_01[df_LTV_01['customer_id'] == 0].shape))\n",
        "\n",
        "print((df_LTV_01[(df_LTV_01['customer_id'] == 0) & (df_LTV_01['unit_price'] == 0)].shape))"
      ],
      "metadata": {
        "colab": {
          "base_uri": "https://localhost:8080/"
        },
        "id": "nEO4YzIHeRwy",
        "outputId": "d13d8a64-e20c-4ab0-cf04-5779ee6a6d05"
      },
      "execution_count": 129,
      "outputs": [
        {
          "output_type": "stream",
          "name": "stdout",
          "text": [
            "(2515, 7)\n",
            "(0, 7)\n",
            "(0, 7)\n"
          ]
        }
      ]
    },
    {
      "cell_type": "code",
      "source": [
        "# df_LTV_01[ (df_LTV_01['unit_price'] == 0) & (df_LTV_01['customer_id'] != 0) ]"
      ],
      "metadata": {
        "id": "HmfhgmeefKIG"
      },
      "execution_count": 130,
      "outputs": []
    },
    {
      "cell_type": "code",
      "source": [
        "df_base[df_base['stock_code'] == '22034'] # unit_price == 0 인 상품 확인 "
      ],
      "metadata": {
        "colab": {
          "base_uri": "https://localhost:8080/",
          "height": 331
        },
        "id": "v1Q6ubxMdZri",
        "outputId": "86acb9d8-609f-4202-add5-b1402b68243b"
      },
      "execution_count": 131,
      "outputs": [
        {
          "output_type": "execute_result",
          "data": {
            "text/plain": [
              "       invoice_no stock_code           description  quantity  \\\n",
              "8828       537153      22034  ROBIN CHRISTMAS CARD         3   \n",
              "19996      537999      22034                   NaN      -223   \n",
              "35347      539436      22034  ROBIN CHRISTMAS CARD         5   \n",
              "44297     C540164      22034  ROBIN CHRISTMAS CARD       -12   \n",
              "243332     558445      22034                   NaN       -18   \n",
              "270602     560578      22034                   NaN        12   \n",
              "469110     576580      22034                   NaN        -5   \n",
              "490649     578065      22034  ROBIN CHRISTMAS CARD         1   \n",
              "501878     578833      22034  ROBIN CHRISTMAS CARD         1   \n",
              "\n",
              "            invoice_date  unit_price  customer_id         country  \n",
              "8828     12/5/2010 13:03           0       16,718  United Kingdom  \n",
              "19996    12/9/2010 11:44           0          NaN  United Kingdom  \n",
              "35347   12/17/2010 14:49           0          NaN  United Kingdom  \n",
              "44297     1/5/2011 12:02           0       14,911            EIRE  \n",
              "243332   6/29/2011 13:39           0          NaN  United Kingdom  \n",
              "270602   7/19/2011 15:12           0          NaN  United Kingdom  \n",
              "469110  11/15/2011 14:15           0          NaN  United Kingdom  \n",
              "490649  11/22/2011 15:41           1          NaN  United Kingdom  \n",
              "501878  11/25/2011 15:23           1          NaN  United Kingdom  "
            ],
            "text/html": [
              "\n",
              "  <div id=\"df-aa515bb2-4421-4af4-8bd7-aa70ed5388a3\">\n",
              "    <div class=\"colab-df-container\">\n",
              "      <div>\n",
              "<style scoped>\n",
              "    .dataframe tbody tr th:only-of-type {\n",
              "        vertical-align: middle;\n",
              "    }\n",
              "\n",
              "    .dataframe tbody tr th {\n",
              "        vertical-align: top;\n",
              "    }\n",
              "\n",
              "    .dataframe thead th {\n",
              "        text-align: right;\n",
              "    }\n",
              "</style>\n",
              "<table border=\"1\" class=\"dataframe\">\n",
              "  <thead>\n",
              "    <tr style=\"text-align: right;\">\n",
              "      <th></th>\n",
              "      <th>invoice_no</th>\n",
              "      <th>stock_code</th>\n",
              "      <th>description</th>\n",
              "      <th>quantity</th>\n",
              "      <th>invoice_date</th>\n",
              "      <th>unit_price</th>\n",
              "      <th>customer_id</th>\n",
              "      <th>country</th>\n",
              "    </tr>\n",
              "  </thead>\n",
              "  <tbody>\n",
              "    <tr>\n",
              "      <th>8828</th>\n",
              "      <td>537153</td>\n",
              "      <td>22034</td>\n",
              "      <td>ROBIN CHRISTMAS CARD</td>\n",
              "      <td>3</td>\n",
              "      <td>12/5/2010 13:03</td>\n",
              "      <td>0</td>\n",
              "      <td>16,718</td>\n",
              "      <td>United Kingdom</td>\n",
              "    </tr>\n",
              "    <tr>\n",
              "      <th>19996</th>\n",
              "      <td>537999</td>\n",
              "      <td>22034</td>\n",
              "      <td>NaN</td>\n",
              "      <td>-223</td>\n",
              "      <td>12/9/2010 11:44</td>\n",
              "      <td>0</td>\n",
              "      <td>NaN</td>\n",
              "      <td>United Kingdom</td>\n",
              "    </tr>\n",
              "    <tr>\n",
              "      <th>35347</th>\n",
              "      <td>539436</td>\n",
              "      <td>22034</td>\n",
              "      <td>ROBIN CHRISTMAS CARD</td>\n",
              "      <td>5</td>\n",
              "      <td>12/17/2010 14:49</td>\n",
              "      <td>0</td>\n",
              "      <td>NaN</td>\n",
              "      <td>United Kingdom</td>\n",
              "    </tr>\n",
              "    <tr>\n",
              "      <th>44297</th>\n",
              "      <td>C540164</td>\n",
              "      <td>22034</td>\n",
              "      <td>ROBIN CHRISTMAS CARD</td>\n",
              "      <td>-12</td>\n",
              "      <td>1/5/2011 12:02</td>\n",
              "      <td>0</td>\n",
              "      <td>14,911</td>\n",
              "      <td>EIRE</td>\n",
              "    </tr>\n",
              "    <tr>\n",
              "      <th>243332</th>\n",
              "      <td>558445</td>\n",
              "      <td>22034</td>\n",
              "      <td>NaN</td>\n",
              "      <td>-18</td>\n",
              "      <td>6/29/2011 13:39</td>\n",
              "      <td>0</td>\n",
              "      <td>NaN</td>\n",
              "      <td>United Kingdom</td>\n",
              "    </tr>\n",
              "    <tr>\n",
              "      <th>270602</th>\n",
              "      <td>560578</td>\n",
              "      <td>22034</td>\n",
              "      <td>NaN</td>\n",
              "      <td>12</td>\n",
              "      <td>7/19/2011 15:12</td>\n",
              "      <td>0</td>\n",
              "      <td>NaN</td>\n",
              "      <td>United Kingdom</td>\n",
              "    </tr>\n",
              "    <tr>\n",
              "      <th>469110</th>\n",
              "      <td>576580</td>\n",
              "      <td>22034</td>\n",
              "      <td>NaN</td>\n",
              "      <td>-5</td>\n",
              "      <td>11/15/2011 14:15</td>\n",
              "      <td>0</td>\n",
              "      <td>NaN</td>\n",
              "      <td>United Kingdom</td>\n",
              "    </tr>\n",
              "    <tr>\n",
              "      <th>490649</th>\n",
              "      <td>578065</td>\n",
              "      <td>22034</td>\n",
              "      <td>ROBIN CHRISTMAS CARD</td>\n",
              "      <td>1</td>\n",
              "      <td>11/22/2011 15:41</td>\n",
              "      <td>1</td>\n",
              "      <td>NaN</td>\n",
              "      <td>United Kingdom</td>\n",
              "    </tr>\n",
              "    <tr>\n",
              "      <th>501878</th>\n",
              "      <td>578833</td>\n",
              "      <td>22034</td>\n",
              "      <td>ROBIN CHRISTMAS CARD</td>\n",
              "      <td>1</td>\n",
              "      <td>11/25/2011 15:23</td>\n",
              "      <td>1</td>\n",
              "      <td>NaN</td>\n",
              "      <td>United Kingdom</td>\n",
              "    </tr>\n",
              "  </tbody>\n",
              "</table>\n",
              "</div>\n",
              "      <button class=\"colab-df-convert\" onclick=\"convertToInteractive('df-aa515bb2-4421-4af4-8bd7-aa70ed5388a3')\"\n",
              "              title=\"Convert this dataframe to an interactive table.\"\n",
              "              style=\"display:none;\">\n",
              "        \n",
              "  <svg xmlns=\"http://www.w3.org/2000/svg\" height=\"24px\"viewBox=\"0 0 24 24\"\n",
              "       width=\"24px\">\n",
              "    <path d=\"M0 0h24v24H0V0z\" fill=\"none\"/>\n",
              "    <path d=\"M18.56 5.44l.94 2.06.94-2.06 2.06-.94-2.06-.94-.94-2.06-.94 2.06-2.06.94zm-11 1L8.5 8.5l.94-2.06 2.06-.94-2.06-.94L8.5 2.5l-.94 2.06-2.06.94zm10 10l.94 2.06.94-2.06 2.06-.94-2.06-.94-.94-2.06-.94 2.06-2.06.94z\"/><path d=\"M17.41 7.96l-1.37-1.37c-.4-.4-.92-.59-1.43-.59-.52 0-1.04.2-1.43.59L10.3 9.45l-7.72 7.72c-.78.78-.78 2.05 0 2.83L4 21.41c.39.39.9.59 1.41.59.51 0 1.02-.2 1.41-.59l7.78-7.78 2.81-2.81c.8-.78.8-2.07 0-2.86zM5.41 20L4 18.59l7.72-7.72 1.47 1.35L5.41 20z\"/>\n",
              "  </svg>\n",
              "      </button>\n",
              "      \n",
              "  <style>\n",
              "    .colab-df-container {\n",
              "      display:flex;\n",
              "      flex-wrap:wrap;\n",
              "      gap: 12px;\n",
              "    }\n",
              "\n",
              "    .colab-df-convert {\n",
              "      background-color: #E8F0FE;\n",
              "      border: none;\n",
              "      border-radius: 50%;\n",
              "      cursor: pointer;\n",
              "      display: none;\n",
              "      fill: #1967D2;\n",
              "      height: 32px;\n",
              "      padding: 0 0 0 0;\n",
              "      width: 32px;\n",
              "    }\n",
              "\n",
              "    .colab-df-convert:hover {\n",
              "      background-color: #E2EBFA;\n",
              "      box-shadow: 0px 1px 2px rgba(60, 64, 67, 0.3), 0px 1px 3px 1px rgba(60, 64, 67, 0.15);\n",
              "      fill: #174EA6;\n",
              "    }\n",
              "\n",
              "    [theme=dark] .colab-df-convert {\n",
              "      background-color: #3B4455;\n",
              "      fill: #D2E3FC;\n",
              "    }\n",
              "\n",
              "    [theme=dark] .colab-df-convert:hover {\n",
              "      background-color: #434B5C;\n",
              "      box-shadow: 0px 1px 3px 1px rgba(0, 0, 0, 0.15);\n",
              "      filter: drop-shadow(0px 1px 2px rgba(0, 0, 0, 0.3));\n",
              "      fill: #FFFFFF;\n",
              "    }\n",
              "  </style>\n",
              "\n",
              "      <script>\n",
              "        const buttonEl =\n",
              "          document.querySelector('#df-aa515bb2-4421-4af4-8bd7-aa70ed5388a3 button.colab-df-convert');\n",
              "        buttonEl.style.display =\n",
              "          google.colab.kernel.accessAllowed ? 'block' : 'none';\n",
              "\n",
              "        async function convertToInteractive(key) {\n",
              "          const element = document.querySelector('#df-aa515bb2-4421-4af4-8bd7-aa70ed5388a3');\n",
              "          const dataTable =\n",
              "            await google.colab.kernel.invokeFunction('convertToInteractive',\n",
              "                                                     [key], {});\n",
              "          if (!dataTable) return;\n",
              "\n",
              "          const docLinkHtml = 'Like what you see? Visit the ' +\n",
              "            '<a target=\"_blank\" href=https://colab.research.google.com/notebooks/data_table.ipynb>data table notebook</a>'\n",
              "            + ' to learn more about interactive tables.';\n",
              "          element.innerHTML = '';\n",
              "          dataTable['output_type'] = 'display_data';\n",
              "          await google.colab.output.renderOutput(dataTable, element);\n",
              "          const docLink = document.createElement('div');\n",
              "          docLink.innerHTML = docLinkHtml;\n",
              "          element.appendChild(docLink);\n",
              "        }\n",
              "      </script>\n",
              "    </div>\n",
              "  </div>\n",
              "  "
            ]
          },
          "metadata": {},
          "execution_count": 131
        }
      ]
    },
    {
      "cell_type": "markdown",
      "source": [
        "- unit_price = 0인 이유에 대해 확정짓기 어려움 \n",
        "\n",
        "    - 같은 stock_code인데도 unit_price = 0 인 경우 존재 \n",
        "    -  unit_price = 0 인 경우 중 customer_id이 NaN이었던 경우가 대부분이긴 했으나, 이유를 추측하기 어려움 \n",
        "\n",
        "\n",
        "**추측**\n",
        "1.   단기성 이벤트로 해당 상품을 무료로 증정한 적이 있었다 \n",
        "2.   프로모션이 진행됨에 따라 같은 stock_code여도 unit_price가 다를 수 있다 "
      ],
      "metadata": {
        "id": "bffBBSNjfvoy"
      }
    },
    {
      "cell_type": "markdown",
      "source": [
        "## 2.2 unit_price, quantity에 대한 전처리"
      ],
      "metadata": {
        "id": "HgDO72CCgunz"
      }
    },
    {
      "cell_type": "code",
      "source": [
        "# df_LTV_01['total_price'] = df_LTV_01['quantity'] * df_LTV_01['unit_price']"
      ],
      "metadata": {
        "id": "yO2pZBfglz-Z"
      },
      "execution_count": 132,
      "outputs": []
    },
    {
      "cell_type": "code",
      "source": [
        "# df_LTV_01.groupby('customer_id').agg({\"total_price\": \"sum\"})"
      ],
      "metadata": {
        "id": "AC29Y3srllKV"
      },
      "execution_count": 133,
      "outputs": []
    },
    {
      "cell_type": "code",
      "source": [
        "## rollback을 위해 copy \n",
        "df_LTV_02 = df_LTV_01.copy()\n",
        "# df_LTV_02 = df_LTV_02[df_LTV_02['quantity'] > 0]"
      ],
      "metadata": {
        "id": "LE9t3eS3eK2Y"
      },
      "execution_count": 134,
      "outputs": []
    },
    {
      "cell_type": "code",
      "source": [
        "# ## total_price = quantity * unit_price 열 추가 \n",
        "df_LTV_02['total_price'] = df_LTV_02['quantity'] * df_LTV_02['unit_price']"
      ],
      "metadata": {
        "id": "zqRcQjudO7Fi"
      },
      "execution_count": 135,
      "outputs": []
    },
    {
      "cell_type": "code",
      "source": [
        "# ## total_price = quantity * unit_price 열 추가 \n",
        "# df_LTV_02['total_price'] = df_LTV_02['quantity'] * df_LTV_02['unit_price']"
      ],
      "metadata": {
        "id": "fhOfRzrY8JZM"
      },
      "execution_count": 136,
      "outputs": []
    },
    {
      "cell_type": "code",
      "source": [
        "df_LTV_01.shape"
      ],
      "metadata": {
        "id": "UuNzkwc91OTu",
        "colab": {
          "base_uri": "https://localhost:8080/"
        },
        "outputId": "ffbd2b76-96b0-4a00-a41a-37145c460973"
      },
      "execution_count": 137,
      "outputs": [
        {
          "output_type": "execute_result",
          "data": {
            "text/plain": [
              "(541909, 7)"
            ]
          },
          "metadata": {},
          "execution_count": 137
        }
      ]
    },
    {
      "cell_type": "code",
      "source": [
        "df_LTV_02.shape"
      ],
      "metadata": {
        "id": "ycm7M3h11OaI",
        "colab": {
          "base_uri": "https://localhost:8080/"
        },
        "outputId": "b07540dc-bf9f-4279-eaab-b7c9a61e6eb1"
      },
      "execution_count": 138,
      "outputs": [
        {
          "output_type": "execute_result",
          "data": {
            "text/plain": [
              "(541909, 8)"
            ]
          },
          "metadata": {},
          "execution_count": 138
        }
      ]
    },
    {
      "cell_type": "code",
      "source": [
        "## customer_id == '0'인 경우 drop \n",
        "df_LTV_02 = df_LTV_02[ df_LTV_02['customer_id'] != '0']"
      ],
      "metadata": {
        "id": "cI_zTZMamLL3"
      },
      "execution_count": 139,
      "outputs": []
    },
    {
      "cell_type": "markdown",
      "source": [
        "Hypothetically, we could consider to use the invoice numbers as dummy variables that each represent an otherwise unknown customer. But this would distort our model. We are interested in repeat customers and their demand patterns. \n",
        "\n",
        "(출처: https://towardsdatascience.com/buy-til-you-die-predict-customer-lifetime-value-in-python-9701bfd4ddc0) "
      ],
      "metadata": {
        "id": "Pj2hLCfakp9M"
      }
    },
    {
      "cell_type": "code",
      "source": [
        "df_LTV_02.shape"
      ],
      "metadata": {
        "colab": {
          "base_uri": "https://localhost:8080/"
        },
        "id": "xIa0QmtSmUrk",
        "outputId": "6b811535-f26e-4f57-8d1c-679beafe9057"
      },
      "execution_count": 140,
      "outputs": [
        {
          "output_type": "execute_result",
          "data": {
            "text/plain": [
              "(406829, 8)"
            ]
          },
          "metadata": {},
          "execution_count": 140
        }
      ]
    },
    {
      "cell_type": "code",
      "source": [
        "df_LTV_02.info() # 최종 LTV 계산에 활용할 데이터 형태 "
      ],
      "metadata": {
        "colab": {
          "base_uri": "https://localhost:8080/"
        },
        "id": "95Z1Ho4MmX3E",
        "outputId": "41dbf2e7-d1c0-4bdc-96d4-8cbb92801c6e"
      },
      "execution_count": 141,
      "outputs": [
        {
          "output_type": "stream",
          "name": "stdout",
          "text": [
            "<class 'pandas.core.frame.DataFrame'>\n",
            "Int64Index: 406829 entries, 0 to 541908\n",
            "Data columns (total 8 columns):\n",
            " #   Column            Non-Null Count   Dtype         \n",
            "---  ------            --------------   -----         \n",
            " 0   invoice_no        406829 non-null  object        \n",
            " 1   stock_code        406829 non-null  object        \n",
            " 2   quantity          406829 non-null  int64         \n",
            " 3   invoice_date      406829 non-null  datetime64[ns]\n",
            " 4   unit_price        406829 non-null  float64       \n",
            " 5   customer_id       406829 non-null  object        \n",
            " 6   invoice_datetime  406829 non-null  datetime64[ns]\n",
            " 7   total_price       406829 non-null  float64       \n",
            "dtypes: datetime64[ns](2), float64(2), int64(1), object(3)\n",
            "memory usage: 27.9+ MB\n"
          ]
        }
      ]
    },
    {
      "cell_type": "code",
      "source": [
        "df_LTV_02.head()"
      ],
      "metadata": {
        "colab": {
          "base_uri": "https://localhost:8080/",
          "height": 206
        },
        "id": "fOJ_rOQmLyDR",
        "outputId": "31eff35c-6430-47de-e66e-2e27b5c69135"
      },
      "execution_count": 142,
      "outputs": [
        {
          "output_type": "execute_result",
          "data": {
            "text/plain": [
              "  invoice_no stock_code  quantity invoice_date  unit_price customer_id  \\\n",
              "0     536365     85123A         6   2010-12-01           3       17850   \n",
              "1     536365      71053         6   2010-12-01           3       17850   \n",
              "2     536365     84406B         8   2010-12-01           3       17850   \n",
              "3     536365     84029G         6   2010-12-01           3       17850   \n",
              "4     536365     84029E         6   2010-12-01           3       17850   \n",
              "\n",
              "     invoice_datetime  total_price  \n",
              "0 2010-12-01 08:26:00           15  \n",
              "1 2010-12-01 08:26:00           20  \n",
              "2 2010-12-01 08:26:00           22  \n",
              "3 2010-12-01 08:26:00           20  \n",
              "4 2010-12-01 08:26:00           20  "
            ],
            "text/html": [
              "\n",
              "  <div id=\"df-5123cf20-4514-418a-80bc-16fb720582ac\">\n",
              "    <div class=\"colab-df-container\">\n",
              "      <div>\n",
              "<style scoped>\n",
              "    .dataframe tbody tr th:only-of-type {\n",
              "        vertical-align: middle;\n",
              "    }\n",
              "\n",
              "    .dataframe tbody tr th {\n",
              "        vertical-align: top;\n",
              "    }\n",
              "\n",
              "    .dataframe thead th {\n",
              "        text-align: right;\n",
              "    }\n",
              "</style>\n",
              "<table border=\"1\" class=\"dataframe\">\n",
              "  <thead>\n",
              "    <tr style=\"text-align: right;\">\n",
              "      <th></th>\n",
              "      <th>invoice_no</th>\n",
              "      <th>stock_code</th>\n",
              "      <th>quantity</th>\n",
              "      <th>invoice_date</th>\n",
              "      <th>unit_price</th>\n",
              "      <th>customer_id</th>\n",
              "      <th>invoice_datetime</th>\n",
              "      <th>total_price</th>\n",
              "    </tr>\n",
              "  </thead>\n",
              "  <tbody>\n",
              "    <tr>\n",
              "      <th>0</th>\n",
              "      <td>536365</td>\n",
              "      <td>85123A</td>\n",
              "      <td>6</td>\n",
              "      <td>2010-12-01</td>\n",
              "      <td>3</td>\n",
              "      <td>17850</td>\n",
              "      <td>2010-12-01 08:26:00</td>\n",
              "      <td>15</td>\n",
              "    </tr>\n",
              "    <tr>\n",
              "      <th>1</th>\n",
              "      <td>536365</td>\n",
              "      <td>71053</td>\n",
              "      <td>6</td>\n",
              "      <td>2010-12-01</td>\n",
              "      <td>3</td>\n",
              "      <td>17850</td>\n",
              "      <td>2010-12-01 08:26:00</td>\n",
              "      <td>20</td>\n",
              "    </tr>\n",
              "    <tr>\n",
              "      <th>2</th>\n",
              "      <td>536365</td>\n",
              "      <td>84406B</td>\n",
              "      <td>8</td>\n",
              "      <td>2010-12-01</td>\n",
              "      <td>3</td>\n",
              "      <td>17850</td>\n",
              "      <td>2010-12-01 08:26:00</td>\n",
              "      <td>22</td>\n",
              "    </tr>\n",
              "    <tr>\n",
              "      <th>3</th>\n",
              "      <td>536365</td>\n",
              "      <td>84029G</td>\n",
              "      <td>6</td>\n",
              "      <td>2010-12-01</td>\n",
              "      <td>3</td>\n",
              "      <td>17850</td>\n",
              "      <td>2010-12-01 08:26:00</td>\n",
              "      <td>20</td>\n",
              "    </tr>\n",
              "    <tr>\n",
              "      <th>4</th>\n",
              "      <td>536365</td>\n",
              "      <td>84029E</td>\n",
              "      <td>6</td>\n",
              "      <td>2010-12-01</td>\n",
              "      <td>3</td>\n",
              "      <td>17850</td>\n",
              "      <td>2010-12-01 08:26:00</td>\n",
              "      <td>20</td>\n",
              "    </tr>\n",
              "  </tbody>\n",
              "</table>\n",
              "</div>\n",
              "      <button class=\"colab-df-convert\" onclick=\"convertToInteractive('df-5123cf20-4514-418a-80bc-16fb720582ac')\"\n",
              "              title=\"Convert this dataframe to an interactive table.\"\n",
              "              style=\"display:none;\">\n",
              "        \n",
              "  <svg xmlns=\"http://www.w3.org/2000/svg\" height=\"24px\"viewBox=\"0 0 24 24\"\n",
              "       width=\"24px\">\n",
              "    <path d=\"M0 0h24v24H0V0z\" fill=\"none\"/>\n",
              "    <path d=\"M18.56 5.44l.94 2.06.94-2.06 2.06-.94-2.06-.94-.94-2.06-.94 2.06-2.06.94zm-11 1L8.5 8.5l.94-2.06 2.06-.94-2.06-.94L8.5 2.5l-.94 2.06-2.06.94zm10 10l.94 2.06.94-2.06 2.06-.94-2.06-.94-.94-2.06-.94 2.06-2.06.94z\"/><path d=\"M17.41 7.96l-1.37-1.37c-.4-.4-.92-.59-1.43-.59-.52 0-1.04.2-1.43.59L10.3 9.45l-7.72 7.72c-.78.78-.78 2.05 0 2.83L4 21.41c.39.39.9.59 1.41.59.51 0 1.02-.2 1.41-.59l7.78-7.78 2.81-2.81c.8-.78.8-2.07 0-2.86zM5.41 20L4 18.59l7.72-7.72 1.47 1.35L5.41 20z\"/>\n",
              "  </svg>\n",
              "      </button>\n",
              "      \n",
              "  <style>\n",
              "    .colab-df-container {\n",
              "      display:flex;\n",
              "      flex-wrap:wrap;\n",
              "      gap: 12px;\n",
              "    }\n",
              "\n",
              "    .colab-df-convert {\n",
              "      background-color: #E8F0FE;\n",
              "      border: none;\n",
              "      border-radius: 50%;\n",
              "      cursor: pointer;\n",
              "      display: none;\n",
              "      fill: #1967D2;\n",
              "      height: 32px;\n",
              "      padding: 0 0 0 0;\n",
              "      width: 32px;\n",
              "    }\n",
              "\n",
              "    .colab-df-convert:hover {\n",
              "      background-color: #E2EBFA;\n",
              "      box-shadow: 0px 1px 2px rgba(60, 64, 67, 0.3), 0px 1px 3px 1px rgba(60, 64, 67, 0.15);\n",
              "      fill: #174EA6;\n",
              "    }\n",
              "\n",
              "    [theme=dark] .colab-df-convert {\n",
              "      background-color: #3B4455;\n",
              "      fill: #D2E3FC;\n",
              "    }\n",
              "\n",
              "    [theme=dark] .colab-df-convert:hover {\n",
              "      background-color: #434B5C;\n",
              "      box-shadow: 0px 1px 3px 1px rgba(0, 0, 0, 0.15);\n",
              "      filter: drop-shadow(0px 1px 2px rgba(0, 0, 0, 0.3));\n",
              "      fill: #FFFFFF;\n",
              "    }\n",
              "  </style>\n",
              "\n",
              "      <script>\n",
              "        const buttonEl =\n",
              "          document.querySelector('#df-5123cf20-4514-418a-80bc-16fb720582ac button.colab-df-convert');\n",
              "        buttonEl.style.display =\n",
              "          google.colab.kernel.accessAllowed ? 'block' : 'none';\n",
              "\n",
              "        async function convertToInteractive(key) {\n",
              "          const element = document.querySelector('#df-5123cf20-4514-418a-80bc-16fb720582ac');\n",
              "          const dataTable =\n",
              "            await google.colab.kernel.invokeFunction('convertToInteractive',\n",
              "                                                     [key], {});\n",
              "          if (!dataTable) return;\n",
              "\n",
              "          const docLinkHtml = 'Like what you see? Visit the ' +\n",
              "            '<a target=\"_blank\" href=https://colab.research.google.com/notebooks/data_table.ipynb>data table notebook</a>'\n",
              "            + ' to learn more about interactive tables.';\n",
              "          element.innerHTML = '';\n",
              "          dataTable['output_type'] = 'display_data';\n",
              "          await google.colab.output.renderOutput(dataTable, element);\n",
              "          const docLink = document.createElement('div');\n",
              "          docLink.innerHTML = docLinkHtml;\n",
              "          element.appendChild(docLink);\n",
              "        }\n",
              "      </script>\n",
              "    </div>\n",
              "  </div>\n",
              "  "
            ]
          },
          "metadata": {},
          "execution_count": 142
        }
      ]
    },
    {
      "cell_type": "markdown",
      "source": [
        "#_3. Life Time Value (고객 생애가치) 계산 "
      ],
      "metadata": {
        "id": "-mDA6rrfjNuP"
      }
    },
    {
      "cell_type": "code",
      "source": [
        "max(df_LTV_01['invoice_date'])"
      ],
      "metadata": {
        "colab": {
          "base_uri": "https://localhost:8080/"
        },
        "id": "lgbIrXJwMt2B",
        "outputId": "d5722538-6fd8-4333-f6ca-74bf9a4b2e4f"
      },
      "execution_count": 143,
      "outputs": [
        {
          "output_type": "execute_result",
          "data": {
            "text/plain": [
              "Timestamp('2011-12-09 00:00:00')"
            ]
          },
          "metadata": {},
          "execution_count": 143
        }
      ]
    },
    {
      "cell_type": "code",
      "source": [
        "today_date = dt.datetime(2011, 12, 9)"
      ],
      "metadata": {
        "id": "xWrTNKnnMrRV"
      },
      "execution_count": 144,
      "outputs": []
    },
    {
      "cell_type": "markdown",
      "source": [
        "## 3.1 RFM analysis"
      ],
      "metadata": {
        "id": "VIGxVKgrcJAs"
      }
    },
    {
      "cell_type": "markdown",
      "source": [
        "**RFM**\n",
        "- recency:\n",
        "    - the number of days between her first and her latest transaction \n",
        "    - affects retention, a measure of engagement\n",
        "- frequency:  the number of time periods in which one or more repeat purchases were recorded\n",
        "- monetary: affects a customer's lifetime value \n",
        "- T: the number of days between her “birth” — the first invoice\n",
        "\n",
        "RFM scoring을 통해 고객을 segmentation할 수도 있음 "
      ],
      "metadata": {
        "id": "lfLdX-X3Ocb1"
      }
    },
    {
      "cell_type": "markdown",
      "source": [
        "**나에게 가장 좋은 고객?**  \n",
        "- T와 recency가 크게 차이나지 않으면서(즉, 첫 구매 이후와 마지막 구매와의 간격이 T와 비슷하면서), frequency와 monetary가 높은 고객 (자주 구매하면서도 구매할 때마다 높은 금액으로 구매하는 꾸준한 단골 충성 고객) "
      ],
      "metadata": {
        "id": "nJwv_7ugkVBX"
      }
    },
    {
      "cell_type": "code",
      "source": [
        "# df_LTV_02[df_LTV_02['customer_id'] == '14527']"
      ],
      "metadata": {
        "id": "2ikiqOz1mQRr"
      },
      "execution_count": 145,
      "outputs": []
    },
    {
      "cell_type": "code",
      "source": [
        "# df_LTV_02[df_LTV_02['customer_id'] == '12348']"
      ],
      "metadata": {
        "id": "MrxND-15WbO-"
      },
      "execution_count": 146,
      "outputs": []
    },
    {
      "cell_type": "code",
      "source": [
        "# %%time \n",
        "# ltv_df = df_LTV_02.groupby(\"customer_id\").agg(\n",
        "#     {\n",
        "#         \"invoice_date\": [\n",
        "#             lambda x: (x.max() - x.min()).days,\n",
        "#             lambda x: (today_date - x.min()).days,\n",
        "#         ],\n",
        "#         \"total_price\": \"sum\",\n",
        "#     }\n",
        "# )\n",
        "\n",
        "# # invoice_df = df_LTV_02[ df_LTV_02['quantity'] > 0 ].groupby(\"customer_id\").agg( { \"invoice_no\": \"nunique\" })\n",
        "# invoice_df = df_LTV_02[ df_LTV_02['quantity'] > 0 ].groupby(\"customer_id\").agg( { \"invoice_date\": \"nunique\" })\n",
        "\n",
        "\n",
        "# ltv_df.columns = ltv_df.columns.droplevel(0)\n",
        "\n",
        "# invoice_df.head()\n",
        "\n",
        "# ltv_df = pd.merge(ltv_df, invoice_df, left_index=True, right_index=True)\n",
        "# ltv_df.columns = [\"recency\", \"T\", \"monetary\", \"frequency\"]\n",
        "\n",
        "# ltv_df.head()"
      ],
      "metadata": {
        "id": "kzDq5xGeRCRi"
      },
      "execution_count": 147,
      "outputs": []
    },
    {
      "cell_type": "code",
      "source": [
        "# ltv_df.info()"
      ],
      "metadata": {
        "id": "s3eyfGrnSdfR"
      },
      "execution_count": 148,
      "outputs": []
    },
    {
      "cell_type": "code",
      "source": [
        "# %%time \n",
        "# # Regency & Tenure (unit: week)\n",
        "# # ltv_df[\"recency\"] = ltv_df[\"recency\"] / 7\n",
        "# # ltv_df[\"T\"] = ltv_df[\"T\"] / 7\n",
        "\n",
        "# # Frequency (drop if frequency == 0)\n",
        "# # it just counts the days that have seen a transaction since the second invoice\n",
        "# ltv_df['frequency'] = ltv_df['frequency'] - 1 \n",
        "# ltv_df = ltv_df[ltv_df[\"frequency\"] > 1]\n",
        "\n",
        "# # Average Order Value  \n",
        "# ltv_df[\"monetary\"] = ltv_df[\"monetary\"] / ltv_df[\"frequency\"]\n"
      ],
      "metadata": {
        "id": "3U8isjZSja-J"
      },
      "execution_count": 149,
      "outputs": []
    },
    {
      "cell_type": "code",
      "source": [
        "# ltv_df[ ltv_df.index == '15311']"
      ],
      "metadata": {
        "id": "kNDNClrimZ1k"
      },
      "execution_count": 150,
      "outputs": []
    },
    {
      "cell_type": "code",
      "source": [
        "# ltv_df.head()\n",
        "\n",
        "# # recency = 가장 최근 구매와 첫 구매와의 차이 (일)\n",
        "# # T = 첫 구매 이후 시간 (일) (T <= recency)\n",
        "# # frequency = 구매가 발생한 일수 (일)\n",
        "# # monetary = 구매 일수 별 평균 구매금액 (원)"
      ],
      "metadata": {
        "id": "QTj20NqyOlhl"
      },
      "execution_count": 151,
      "outputs": []
    },
    {
      "cell_type": "code",
      "source": [
        "# ltv_df[ ltv_df['recency'] > ltv_df['T'] ]"
      ],
      "metadata": {
        "id": "gSc_Ve9Ypfx1"
      },
      "execution_count": 152,
      "outputs": []
    },
    {
      "cell_type": "code",
      "source": [
        "# df_LTV_02 [ df_LTV_02['customer_id'] == '15311']"
      ],
      "metadata": {
        "id": "wLNI2d7SrSLf"
      },
      "execution_count": 153,
      "outputs": []
    },
    {
      "cell_type": "code",
      "source": [
        "# ltv_df.info()"
      ],
      "metadata": {
        "id": "0EI4N5ETtrCg"
      },
      "execution_count": 154,
      "outputs": []
    },
    {
      "cell_type": "markdown",
      "source": [
        "## 3.2 Split train set and test set "
      ],
      "metadata": {
        "id": "aVwPjOYo5KeH"
      }
    },
    {
      "cell_type": "code",
      "source": [
        "from lifetimes import BetaGeoFitter, GammaGammaFitter\n",
        "from lifetimes.utils import \\\n",
        "    calibration_and_holdout_data, \\\n",
        "    summary_data_from_transaction_data, \\\n",
        "    calculate_alive_path\n",
        "from lifetimes.plotting import \\\n",
        "    plot_frequency_recency_matrix, \\\n",
        "    plot_probability_alive_matrix, \\\n",
        "    plot_period_transactions, \\\n",
        "    plot_history_alive, \\\n",
        "    plot_cumulative_transactions, \\\n",
        "    plot_calibration_purchases_vs_holdout_purchases, \\\n",
        "    plot_transaction_rate_heterogeneity, \\\n",
        "    plot_dropout_rate_heterogeneity\n",
        "\n",
        "import math "
      ],
      "metadata": {
        "id": "-tWi1UEKjWUB"
      },
      "execution_count": 155,
      "outputs": []
    },
    {
      "cell_type": "code",
      "source": [
        "df_LTV_03 = df_LTV_02[df_LTV_02['quantity'] > 0]\n",
        "df_sorted = df_LTV_03.sort_values(by = 'invoice_date', ascending = True)"
      ],
      "metadata": {
        "id": "reyJGk6B6kuV"
      },
      "execution_count": 156,
      "outputs": []
    },
    {
      "cell_type": "code",
      "source": [
        "# df_sorted = df_LTV_03.sort_values(by = 'invoice_date', ascending = True)\n",
        "\n",
        "# rows = df_sorted.shape[0]\n",
        "# row_holdout = math.floor(rows*0.7)                                         # days to reserve for holdout period\n",
        "\n",
        "# t_holdout = df_sorted.iloc[row_holdout]['invoice_date']\n",
        "# print(t_holdout)"
      ],
      "metadata": {
        "id": "q7VBM4iQlQ6H"
      },
      "execution_count": 157,
      "outputs": []
    },
    {
      "cell_type": "code",
      "source": [
        "%%time \n",
        "# train/test split (calibration/holdout)\n",
        "# df_sorted = df_LTV_03.sort_values(by = 'invoice_date', ascending = True)\n",
        "\n",
        "rows = df_sorted.shape[0]\n",
        "row_holdout = math.floor(rows*0.7)                                         # days to reserve for holdout period\n",
        "\n",
        "t_holdout = df_sorted.iloc[row_holdout]['invoice_date']\n",
        "\n",
        "min_date =df_LTV_03[\"invoice_date\"].min()                     # end date of observations\n",
        "print(\"start of observations:\", min_date)\n",
        "\n",
        "max_date =df_LTV_03[\"invoice_date\"].max()\n",
        "print(\"end of observations:\", max_date)   \n",
        "\n",
        "max_cal_date = t_holdout    # end date of chosen calibration period\n",
        "print(\"end of calibration period:\", max_cal_date)\n",
        "\n",
        "df_ch = calibration_and_holdout_data(\n",
        "        transactions =df_LTV_03, \n",
        "        customer_id_col = \"customer_id\", \n",
        "        datetime_col = \"invoice_date\",\n",
        "        monetary_value_col = \"total_price\", \n",
        "        calibration_period_end = max_cal_date, \n",
        "        observation_period_end = max_date, \n",
        "        freq = \"D\")  # Default 'D' for days, 'W' for weeks, 'h' for hours\n",
        "\n",
        "print(\"customer behavior in calibration and holdout periods\")\n",
        "pd.options.display.float_format = '{:,.0f}'.format\n",
        "df_ch"
      ],
      "metadata": {
        "id": "z_xUvqxOpy2c",
        "colab": {
          "base_uri": "https://localhost:8080/",
          "height": 627
        },
        "outputId": "ac151113-2731-48c1-9d3d-058146fdfa29"
      },
      "execution_count": 158,
      "outputs": [
        {
          "output_type": "stream",
          "name": "stdout",
          "text": [
            "start of observations: 2010-12-01 00:00:00\n",
            "end of observations: 2011-12-09 00:00:00\n",
            "end of calibration period: 2011-10-09 00:00:00\n",
            "customer behavior in calibration and holdout periods\n",
            "CPU times: user 16.8 s, sys: 211 ms, total: 17 s\n",
            "Wall time: 42.1 s\n"
          ]
        },
        {
          "output_type": "execute_result",
          "data": {
            "text/plain": [
              "             frequency_cal  recency_cal  T_cal  monetary_value_cal  \\\n",
              "customer_id                                                          \n",
              "12346                    0            0    264                   0   \n",
              "12347                    4          238    306                 520   \n",
              "12348                    3          283    297                 301   \n",
              "12350                    0            0    249                   0   \n",
              "12352                    5          224    235                 380   \n",
              "...                    ...          ...    ...                 ...   \n",
              "18280                    0            0    216                   0   \n",
              "18281                    0            0    119                   0   \n",
              "18282                    0            0     65                   0   \n",
              "18283                    8          242    276                 127   \n",
              "18287                    0            0    140                   0   \n",
              "\n",
              "             frequency_holdout  monetary_value_holdout  duration_holdout  \n",
              "customer_id                                                               \n",
              "12346                        0                       0                61  \n",
              "12347                        2                      26                61  \n",
              "12348                        0                       0                61  \n",
              "12350                        0                       0                61  \n",
              "12352                        1                      21                61  \n",
              "...                        ...                     ...               ...  \n",
              "18280                        0                       0                61  \n",
              "18281                        0                       0                61  \n",
              "18282                        1                      16                61  \n",
              "18283                        5                       3                61  \n",
              "18287                        2                      26                61  \n",
              "\n",
              "[3721 rows x 7 columns]"
            ],
            "text/html": [
              "\n",
              "  <div id=\"df-d865d03e-f643-4dd0-8de5-969a165fc07d\">\n",
              "    <div class=\"colab-df-container\">\n",
              "      <div>\n",
              "<style scoped>\n",
              "    .dataframe tbody tr th:only-of-type {\n",
              "        vertical-align: middle;\n",
              "    }\n",
              "\n",
              "    .dataframe tbody tr th {\n",
              "        vertical-align: top;\n",
              "    }\n",
              "\n",
              "    .dataframe thead th {\n",
              "        text-align: right;\n",
              "    }\n",
              "</style>\n",
              "<table border=\"1\" class=\"dataframe\">\n",
              "  <thead>\n",
              "    <tr style=\"text-align: right;\">\n",
              "      <th></th>\n",
              "      <th>frequency_cal</th>\n",
              "      <th>recency_cal</th>\n",
              "      <th>T_cal</th>\n",
              "      <th>monetary_value_cal</th>\n",
              "      <th>frequency_holdout</th>\n",
              "      <th>monetary_value_holdout</th>\n",
              "      <th>duration_holdout</th>\n",
              "    </tr>\n",
              "    <tr>\n",
              "      <th>customer_id</th>\n",
              "      <th></th>\n",
              "      <th></th>\n",
              "      <th></th>\n",
              "      <th></th>\n",
              "      <th></th>\n",
              "      <th></th>\n",
              "      <th></th>\n",
              "    </tr>\n",
              "  </thead>\n",
              "  <tbody>\n",
              "    <tr>\n",
              "      <th>12346</th>\n",
              "      <td>0</td>\n",
              "      <td>0</td>\n",
              "      <td>264</td>\n",
              "      <td>0</td>\n",
              "      <td>0</td>\n",
              "      <td>0</td>\n",
              "      <td>61</td>\n",
              "    </tr>\n",
              "    <tr>\n",
              "      <th>12347</th>\n",
              "      <td>4</td>\n",
              "      <td>238</td>\n",
              "      <td>306</td>\n",
              "      <td>520</td>\n",
              "      <td>2</td>\n",
              "      <td>26</td>\n",
              "      <td>61</td>\n",
              "    </tr>\n",
              "    <tr>\n",
              "      <th>12348</th>\n",
              "      <td>3</td>\n",
              "      <td>283</td>\n",
              "      <td>297</td>\n",
              "      <td>301</td>\n",
              "      <td>0</td>\n",
              "      <td>0</td>\n",
              "      <td>61</td>\n",
              "    </tr>\n",
              "    <tr>\n",
              "      <th>12350</th>\n",
              "      <td>0</td>\n",
              "      <td>0</td>\n",
              "      <td>249</td>\n",
              "      <td>0</td>\n",
              "      <td>0</td>\n",
              "      <td>0</td>\n",
              "      <td>61</td>\n",
              "    </tr>\n",
              "    <tr>\n",
              "      <th>12352</th>\n",
              "      <td>5</td>\n",
              "      <td>224</td>\n",
              "      <td>235</td>\n",
              "      <td>380</td>\n",
              "      <td>1</td>\n",
              "      <td>21</td>\n",
              "      <td>61</td>\n",
              "    </tr>\n",
              "    <tr>\n",
              "      <th>...</th>\n",
              "      <td>...</td>\n",
              "      <td>...</td>\n",
              "      <td>...</td>\n",
              "      <td>...</td>\n",
              "      <td>...</td>\n",
              "      <td>...</td>\n",
              "      <td>...</td>\n",
              "    </tr>\n",
              "    <tr>\n",
              "      <th>18280</th>\n",
              "      <td>0</td>\n",
              "      <td>0</td>\n",
              "      <td>216</td>\n",
              "      <td>0</td>\n",
              "      <td>0</td>\n",
              "      <td>0</td>\n",
              "      <td>61</td>\n",
              "    </tr>\n",
              "    <tr>\n",
              "      <th>18281</th>\n",
              "      <td>0</td>\n",
              "      <td>0</td>\n",
              "      <td>119</td>\n",
              "      <td>0</td>\n",
              "      <td>0</td>\n",
              "      <td>0</td>\n",
              "      <td>61</td>\n",
              "    </tr>\n",
              "    <tr>\n",
              "      <th>18282</th>\n",
              "      <td>0</td>\n",
              "      <td>0</td>\n",
              "      <td>65</td>\n",
              "      <td>0</td>\n",
              "      <td>1</td>\n",
              "      <td>16</td>\n",
              "      <td>61</td>\n",
              "    </tr>\n",
              "    <tr>\n",
              "      <th>18283</th>\n",
              "      <td>8</td>\n",
              "      <td>242</td>\n",
              "      <td>276</td>\n",
              "      <td>127</td>\n",
              "      <td>5</td>\n",
              "      <td>3</td>\n",
              "      <td>61</td>\n",
              "    </tr>\n",
              "    <tr>\n",
              "      <th>18287</th>\n",
              "      <td>0</td>\n",
              "      <td>0</td>\n",
              "      <td>140</td>\n",
              "      <td>0</td>\n",
              "      <td>2</td>\n",
              "      <td>26</td>\n",
              "      <td>61</td>\n",
              "    </tr>\n",
              "  </tbody>\n",
              "</table>\n",
              "<p>3721 rows × 7 columns</p>\n",
              "</div>\n",
              "      <button class=\"colab-df-convert\" onclick=\"convertToInteractive('df-d865d03e-f643-4dd0-8de5-969a165fc07d')\"\n",
              "              title=\"Convert this dataframe to an interactive table.\"\n",
              "              style=\"display:none;\">\n",
              "        \n",
              "  <svg xmlns=\"http://www.w3.org/2000/svg\" height=\"24px\"viewBox=\"0 0 24 24\"\n",
              "       width=\"24px\">\n",
              "    <path d=\"M0 0h24v24H0V0z\" fill=\"none\"/>\n",
              "    <path d=\"M18.56 5.44l.94 2.06.94-2.06 2.06-.94-2.06-.94-.94-2.06-.94 2.06-2.06.94zm-11 1L8.5 8.5l.94-2.06 2.06-.94-2.06-.94L8.5 2.5l-.94 2.06-2.06.94zm10 10l.94 2.06.94-2.06 2.06-.94-2.06-.94-.94-2.06-.94 2.06-2.06.94z\"/><path d=\"M17.41 7.96l-1.37-1.37c-.4-.4-.92-.59-1.43-.59-.52 0-1.04.2-1.43.59L10.3 9.45l-7.72 7.72c-.78.78-.78 2.05 0 2.83L4 21.41c.39.39.9.59 1.41.59.51 0 1.02-.2 1.41-.59l7.78-7.78 2.81-2.81c.8-.78.8-2.07 0-2.86zM5.41 20L4 18.59l7.72-7.72 1.47 1.35L5.41 20z\"/>\n",
              "  </svg>\n",
              "      </button>\n",
              "      \n",
              "  <style>\n",
              "    .colab-df-container {\n",
              "      display:flex;\n",
              "      flex-wrap:wrap;\n",
              "      gap: 12px;\n",
              "    }\n",
              "\n",
              "    .colab-df-convert {\n",
              "      background-color: #E8F0FE;\n",
              "      border: none;\n",
              "      border-radius: 50%;\n",
              "      cursor: pointer;\n",
              "      display: none;\n",
              "      fill: #1967D2;\n",
              "      height: 32px;\n",
              "      padding: 0 0 0 0;\n",
              "      width: 32px;\n",
              "    }\n",
              "\n",
              "    .colab-df-convert:hover {\n",
              "      background-color: #E2EBFA;\n",
              "      box-shadow: 0px 1px 2px rgba(60, 64, 67, 0.3), 0px 1px 3px 1px rgba(60, 64, 67, 0.15);\n",
              "      fill: #174EA6;\n",
              "    }\n",
              "\n",
              "    [theme=dark] .colab-df-convert {\n",
              "      background-color: #3B4455;\n",
              "      fill: #D2E3FC;\n",
              "    }\n",
              "\n",
              "    [theme=dark] .colab-df-convert:hover {\n",
              "      background-color: #434B5C;\n",
              "      box-shadow: 0px 1px 3px 1px rgba(0, 0, 0, 0.15);\n",
              "      filter: drop-shadow(0px 1px 2px rgba(0, 0, 0, 0.3));\n",
              "      fill: #FFFFFF;\n",
              "    }\n",
              "  </style>\n",
              "\n",
              "      <script>\n",
              "        const buttonEl =\n",
              "          document.querySelector('#df-d865d03e-f643-4dd0-8de5-969a165fc07d button.colab-df-convert');\n",
              "        buttonEl.style.display =\n",
              "          google.colab.kernel.accessAllowed ? 'block' : 'none';\n",
              "\n",
              "        async function convertToInteractive(key) {\n",
              "          const element = document.querySelector('#df-d865d03e-f643-4dd0-8de5-969a165fc07d');\n",
              "          const dataTable =\n",
              "            await google.colab.kernel.invokeFunction('convertToInteractive',\n",
              "                                                     [key], {});\n",
              "          if (!dataTable) return;\n",
              "\n",
              "          const docLinkHtml = 'Like what you see? Visit the ' +\n",
              "            '<a target=\"_blank\" href=https://colab.research.google.com/notebooks/data_table.ipynb>data table notebook</a>'\n",
              "            + ' to learn more about interactive tables.';\n",
              "          element.innerHTML = '';\n",
              "          dataTable['output_type'] = 'display_data';\n",
              "          await google.colab.output.renderOutput(dataTable, element);\n",
              "          const docLink = document.createElement('div');\n",
              "          docLink.innerHTML = docLinkHtml;\n",
              "          element.appendChild(docLink);\n",
              "        }\n",
              "      </script>\n",
              "    </div>\n",
              "  </div>\n",
              "  "
            ]
          },
          "metadata": {},
          "execution_count": 158
        }
      ]
    },
    {
      "cell_type": "markdown",
      "source": [
        "직접 row 기준으로 7:3 나눌 때랑 다른 점: \n",
        "- calibration 메소드는 일단 해당 데이터셋에 있는 모든 customer_id에 대해서 행을 만들어두고, frequency = 0이더라도 T를 계산해둠 \n",
        "- 직접 row 기준으로 나눌 때는 구매 내역이 있는 customer_id에 대해서만 행이 생성되므로 다른 결과를 초래하는 것\n",
        ".. 이 맞나? \n",
        "흠 \n",
        "먼가 이상  \n"
      ],
      "metadata": {
        "id": "21GE8cWJqbKm"
      }
    },
    {
      "cell_type": "code",
      "source": [
        "# 직접 계산한 것과 비교 \n",
        "%%time \n",
        "# df_sorted = df_LTV_03.sort_values(by = 'invoice_date', ascending = True)\n",
        "\n",
        "rows = df_sorted.shape[0]\n",
        "row_holdout = math.floor(rows*0.7)                                         # days to reserve for holdout period\n",
        "\n",
        "t_holdout = df_sorted.iloc[row_holdout]['invoice_date']\n",
        "\n",
        "df_LTV_tmp =  df_LTV_03[:(row_holdout+1)]\n",
        "max_cal_date = df_LTV_tmp[\"invoice_date\"].max()    # end date of chosen calibration period\n",
        "print(\"end of calibration period:\", max_cal_date)\n",
        "\n",
        "ltv_df_train = df_LTV_tmp.groupby(\"customer_id\").agg(\n",
        "    {\n",
        "        \"invoice_datetime\": [\n",
        "            lambda x: (x.max() - x.min()).days,\n",
        "            lambda x: (max_cal_date - x.min()).days,\n",
        "        ],\n",
        "        \"total_price\": \"sum\",\n",
        "        \"invoice_date\": \"nunique\"\n",
        "    }\n",
        ")\n",
        "\n",
        "ltv_df_train.columns = ltv_df_train.columns.droplevel(0)\n",
        "ltv_df_train.columns = [\"recency\", \"T\", \"monetary\", \"frequency\"]\n",
        "\n",
        "ltv_df_train['frequency'] = ltv_df_train['frequency'] - 1 \n",
        "ltv_df_train[\"monetary\"] = ltv_df_train[\"monetary\"] / ltv_df_train[\"frequency\"]\n",
        "\n",
        "ltv_df_train.head()\n",
        "\n",
        "# recency = 가장 최근 구매와 첫 구매와의 차이 (일)\n",
        "# T = 첫 구매 이후 시간 (일) (T <= recency)\n",
        "# frequency = 구매가 발생한 일수 (일)\n",
        "# monetary = 구매 일수 별 평균 구매금액 (원)\n",
        "\n",
        "ltv_df_train.head()"
      ],
      "metadata": {
        "colab": {
          "base_uri": "https://localhost:8080/",
          "height": 291
        },
        "id": "YdW7XeGwl696",
        "outputId": "9d58d831-8fe8-4528-ba6e-269b0c73e573"
      },
      "execution_count": 159,
      "outputs": [
        {
          "output_type": "stream",
          "name": "stdout",
          "text": [
            "end of calibration period: 2011-10-09 00:00:00\n",
            "CPU times: user 2.43 s, sys: 8.88 ms, total: 2.43 s\n",
            "Wall time: 3.62 s\n"
          ]
        },
        {
          "output_type": "execute_result",
          "data": {
            "text/plain": [
              "             recency    T  monetary  frequency\n",
              "customer_id                                   \n",
              "12346              0  263       inf          0\n",
              "12347            237  305       698          4\n",
              "12348            282  296       599          3\n",
              "12350              0  248       inf          0\n",
              "12352            224  234       439          5"
            ],
            "text/html": [
              "\n",
              "  <div id=\"df-069b669c-be6b-4691-8baa-2b7442e9bb88\">\n",
              "    <div class=\"colab-df-container\">\n",
              "      <div>\n",
              "<style scoped>\n",
              "    .dataframe tbody tr th:only-of-type {\n",
              "        vertical-align: middle;\n",
              "    }\n",
              "\n",
              "    .dataframe tbody tr th {\n",
              "        vertical-align: top;\n",
              "    }\n",
              "\n",
              "    .dataframe thead th {\n",
              "        text-align: right;\n",
              "    }\n",
              "</style>\n",
              "<table border=\"1\" class=\"dataframe\">\n",
              "  <thead>\n",
              "    <tr style=\"text-align: right;\">\n",
              "      <th></th>\n",
              "      <th>recency</th>\n",
              "      <th>T</th>\n",
              "      <th>monetary</th>\n",
              "      <th>frequency</th>\n",
              "    </tr>\n",
              "    <tr>\n",
              "      <th>customer_id</th>\n",
              "      <th></th>\n",
              "      <th></th>\n",
              "      <th></th>\n",
              "      <th></th>\n",
              "    </tr>\n",
              "  </thead>\n",
              "  <tbody>\n",
              "    <tr>\n",
              "      <th>12346</th>\n",
              "      <td>0</td>\n",
              "      <td>263</td>\n",
              "      <td>inf</td>\n",
              "      <td>0</td>\n",
              "    </tr>\n",
              "    <tr>\n",
              "      <th>12347</th>\n",
              "      <td>237</td>\n",
              "      <td>305</td>\n",
              "      <td>698</td>\n",
              "      <td>4</td>\n",
              "    </tr>\n",
              "    <tr>\n",
              "      <th>12348</th>\n",
              "      <td>282</td>\n",
              "      <td>296</td>\n",
              "      <td>599</td>\n",
              "      <td>3</td>\n",
              "    </tr>\n",
              "    <tr>\n",
              "      <th>12350</th>\n",
              "      <td>0</td>\n",
              "      <td>248</td>\n",
              "      <td>inf</td>\n",
              "      <td>0</td>\n",
              "    </tr>\n",
              "    <tr>\n",
              "      <th>12352</th>\n",
              "      <td>224</td>\n",
              "      <td>234</td>\n",
              "      <td>439</td>\n",
              "      <td>5</td>\n",
              "    </tr>\n",
              "  </tbody>\n",
              "</table>\n",
              "</div>\n",
              "      <button class=\"colab-df-convert\" onclick=\"convertToInteractive('df-069b669c-be6b-4691-8baa-2b7442e9bb88')\"\n",
              "              title=\"Convert this dataframe to an interactive table.\"\n",
              "              style=\"display:none;\">\n",
              "        \n",
              "  <svg xmlns=\"http://www.w3.org/2000/svg\" height=\"24px\"viewBox=\"0 0 24 24\"\n",
              "       width=\"24px\">\n",
              "    <path d=\"M0 0h24v24H0V0z\" fill=\"none\"/>\n",
              "    <path d=\"M18.56 5.44l.94 2.06.94-2.06 2.06-.94-2.06-.94-.94-2.06-.94 2.06-2.06.94zm-11 1L8.5 8.5l.94-2.06 2.06-.94-2.06-.94L8.5 2.5l-.94 2.06-2.06.94zm10 10l.94 2.06.94-2.06 2.06-.94-2.06-.94-.94-2.06-.94 2.06-2.06.94z\"/><path d=\"M17.41 7.96l-1.37-1.37c-.4-.4-.92-.59-1.43-.59-.52 0-1.04.2-1.43.59L10.3 9.45l-7.72 7.72c-.78.78-.78 2.05 0 2.83L4 21.41c.39.39.9.59 1.41.59.51 0 1.02-.2 1.41-.59l7.78-7.78 2.81-2.81c.8-.78.8-2.07 0-2.86zM5.41 20L4 18.59l7.72-7.72 1.47 1.35L5.41 20z\"/>\n",
              "  </svg>\n",
              "      </button>\n",
              "      \n",
              "  <style>\n",
              "    .colab-df-container {\n",
              "      display:flex;\n",
              "      flex-wrap:wrap;\n",
              "      gap: 12px;\n",
              "    }\n",
              "\n",
              "    .colab-df-convert {\n",
              "      background-color: #E8F0FE;\n",
              "      border: none;\n",
              "      border-radius: 50%;\n",
              "      cursor: pointer;\n",
              "      display: none;\n",
              "      fill: #1967D2;\n",
              "      height: 32px;\n",
              "      padding: 0 0 0 0;\n",
              "      width: 32px;\n",
              "    }\n",
              "\n",
              "    .colab-df-convert:hover {\n",
              "      background-color: #E2EBFA;\n",
              "      box-shadow: 0px 1px 2px rgba(60, 64, 67, 0.3), 0px 1px 3px 1px rgba(60, 64, 67, 0.15);\n",
              "      fill: #174EA6;\n",
              "    }\n",
              "\n",
              "    [theme=dark] .colab-df-convert {\n",
              "      background-color: #3B4455;\n",
              "      fill: #D2E3FC;\n",
              "    }\n",
              "\n",
              "    [theme=dark] .colab-df-convert:hover {\n",
              "      background-color: #434B5C;\n",
              "      box-shadow: 0px 1px 3px 1px rgba(0, 0, 0, 0.15);\n",
              "      filter: drop-shadow(0px 1px 2px rgba(0, 0, 0, 0.3));\n",
              "      fill: #FFFFFF;\n",
              "    }\n",
              "  </style>\n",
              "\n",
              "      <script>\n",
              "        const buttonEl =\n",
              "          document.querySelector('#df-069b669c-be6b-4691-8baa-2b7442e9bb88 button.colab-df-convert');\n",
              "        buttonEl.style.display =\n",
              "          google.colab.kernel.accessAllowed ? 'block' : 'none';\n",
              "\n",
              "        async function convertToInteractive(key) {\n",
              "          const element = document.querySelector('#df-069b669c-be6b-4691-8baa-2b7442e9bb88');\n",
              "          const dataTable =\n",
              "            await google.colab.kernel.invokeFunction('convertToInteractive',\n",
              "                                                     [key], {});\n",
              "          if (!dataTable) return;\n",
              "\n",
              "          const docLinkHtml = 'Like what you see? Visit the ' +\n",
              "            '<a target=\"_blank\" href=https://colab.research.google.com/notebooks/data_table.ipynb>data table notebook</a>'\n",
              "            + ' to learn more about interactive tables.';\n",
              "          element.innerHTML = '';\n",
              "          dataTable['output_type'] = 'display_data';\n",
              "          await google.colab.output.renderOutput(dataTable, element);\n",
              "          const docLink = document.createElement('div');\n",
              "          docLink.innerHTML = docLinkHtml;\n",
              "          element.appendChild(docLink);\n",
              "        }\n",
              "      </script>\n",
              "    </div>\n",
              "  </div>\n",
              "  "
            ]
          },
          "metadata": {},
          "execution_count": 159
        }
      ]
    },
    {
      "cell_type": "code",
      "source": [
        "df_ch.info() # 라이브러리로 계산 "
      ],
      "metadata": {
        "id": "14SKoXTGtnNS",
        "colab": {
          "base_uri": "https://localhost:8080/"
        },
        "outputId": "8765c50a-9501-4745-d39c-5b6d778cd023"
      },
      "execution_count": 160,
      "outputs": [
        {
          "output_type": "stream",
          "name": "stdout",
          "text": [
            "<class 'pandas.core.frame.DataFrame'>\n",
            "Index: 3721 entries, 12346 to 18287\n",
            "Data columns (total 7 columns):\n",
            " #   Column                  Non-Null Count  Dtype  \n",
            "---  ------                  --------------  -----  \n",
            " 0   frequency_cal           3721 non-null   float64\n",
            " 1   recency_cal             3721 non-null   float64\n",
            " 2   T_cal                   3721 non-null   float64\n",
            " 3   monetary_value_cal      3721 non-null   float64\n",
            " 4   frequency_holdout       3721 non-null   float64\n",
            " 5   monetary_value_holdout  3721 non-null   float64\n",
            " 6   duration_holdout        3721 non-null   float64\n",
            "dtypes: float64(7)\n",
            "memory usage: 361.6+ KB\n"
          ]
        }
      ]
    },
    {
      "cell_type": "code",
      "source": [
        "ltv_df_train.info() # 직접 계산 "
      ],
      "metadata": {
        "colab": {
          "base_uri": "https://localhost:8080/"
        },
        "id": "86_h_jZtqwYN",
        "outputId": "13add5e6-b1a6-4466-e9ba-01598db5951d"
      },
      "execution_count": 161,
      "outputs": [
        {
          "output_type": "stream",
          "name": "stdout",
          "text": [
            "<class 'pandas.core.frame.DataFrame'>\n",
            "Index: 3707 entries, 12346 to 18287\n",
            "Data columns (total 4 columns):\n",
            " #   Column     Non-Null Count  Dtype  \n",
            "---  ------     --------------  -----  \n",
            " 0   recency    3707 non-null   int64  \n",
            " 1   T          3707 non-null   int64  \n",
            " 2   monetary   3707 non-null   float64\n",
            " 3   frequency  3707 non-null   int64  \n",
            "dtypes: float64(1), int64(3)\n",
            "memory usage: 144.8+ KB\n"
          ]
        }
      ]
    },
    {
      "cell_type": "code",
      "source": [
        "df_LTV_03.info() # original dataset "
      ],
      "metadata": {
        "colab": {
          "base_uri": "https://localhost:8080/"
        },
        "id": "a3AM3_QBq57b",
        "outputId": "a01ed9e4-acb4-4b41-b144-40d9c6cee505"
      },
      "execution_count": 162,
      "outputs": [
        {
          "output_type": "stream",
          "name": "stdout",
          "text": [
            "<class 'pandas.core.frame.DataFrame'>\n",
            "Int64Index: 397924 entries, 0 to 541908\n",
            "Data columns (total 8 columns):\n",
            " #   Column            Non-Null Count   Dtype         \n",
            "---  ------            --------------   -----         \n",
            " 0   invoice_no        397924 non-null  object        \n",
            " 1   stock_code        397924 non-null  object        \n",
            " 2   quantity          397924 non-null  int64         \n",
            " 3   invoice_date      397924 non-null  datetime64[ns]\n",
            " 4   unit_price        397924 non-null  float64       \n",
            " 5   customer_id       397924 non-null  object        \n",
            " 6   invoice_datetime  397924 non-null  datetime64[ns]\n",
            " 7   total_price       397924 non-null  float64       \n",
            "dtypes: datetime64[ns](2), float64(2), int64(1), object(3)\n",
            "memory usage: 27.3+ MB\n"
          ]
        }
      ]
    },
    {
      "cell_type": "code",
      "source": [
        "df_LTV_tmp =  df_LTV_03[:(row_holdout+1)]\n",
        "df_LTV_tmp['customer_id'].nunique()"
      ],
      "metadata": {
        "colab": {
          "base_uri": "https://localhost:8080/"
        },
        "id": "iQ_rpvpsrRkg",
        "outputId": "f92252ee-64e3-4bdf-edc9-ec7752351299"
      },
      "execution_count": 163,
      "outputs": [
        {
          "output_type": "execute_result",
          "data": {
            "text/plain": [
              "3707"
            ]
          },
          "metadata": {},
          "execution_count": 163
        }
      ]
    },
    {
      "cell_type": "code",
      "source": [
        "df_LTV_03['customer_id'].nunique()"
      ],
      "metadata": {
        "colab": {
          "base_uri": "https://localhost:8080/"
        },
        "id": "NKfB4RvzrAbG",
        "outputId": "427e8419-de69-4109-f5e4-5db191550a23"
      },
      "execution_count": 164,
      "outputs": [
        {
          "output_type": "execute_result",
          "data": {
            "text/plain": [
              "4339"
            ]
          },
          "metadata": {},
          "execution_count": 164
        }
      ]
    },
    {
      "cell_type": "code",
      "source": [
        "# training: frequency\n",
        "# pd.options.display.float_format = '{:,.3f}'.format\n",
        "\n",
        "# x = df_ch[\"frequency_cal\"].value_counts(normalize=True)\n",
        "# x = x.nlargest(15)\n",
        "# print(\"frequency:\")\n",
        "# x.sort_index(ascending=True)"
      ],
      "metadata": {
        "id": "0aqmhz08t6Gs"
      },
      "execution_count": 165,
      "outputs": []
    },
    {
      "cell_type": "code",
      "source": [
        "# training: axis length\n",
        "max_freq = df_ch[\"frequency_cal\"].quantile(0.98)\n",
        "max_rec = df_ch[\"recency_cal\"].max()\n",
        "max_T = df_ch[\"T_cal\"].max()\n",
        "\n",
        "\n",
        "# training\n",
        "fig = plt.figure(figsize=(8, 4)) \n",
        "ax = sns.distplot(df_ch[\"frequency_cal\"])\n",
        "ax.set_xlim(0, max_freq)\n",
        "ax.set_title(\"frequency (days): distribution of the customers\");\n",
        "\n",
        "\n",
        "# training\n",
        "fig = plt.figure(figsize=(8, 4)) \n",
        "ax = sns.distplot(df_ch[\"recency_cal\"])\n",
        "ax.set_xlim(0, max_rec)\n",
        "ax.set_title(\"recency (days): distribution of the customers\")\n",
        "\n",
        "\n",
        "# training\n",
        "fig = plt.figure(figsize=(8, 4)) \n",
        "ax = sns.distplot(df_ch[\"T_cal\"])\n",
        "ax.set_xlim(0, max_T)\n",
        "ax.set_title(\"customer age T (days): distribution of the customers\")"
      ],
      "metadata": {
        "id": "j2lcPkQfuBPX",
        "colab": {
          "base_uri": "https://localhost:8080/",
          "height": 1000
        },
        "outputId": "bc716c69-5e68-4524-d388-8dd75737bace"
      },
      "execution_count": 166,
      "outputs": [
        {
          "output_type": "execute_result",
          "data": {
            "text/plain": [
              "Text(0.5, 1.0, 'customer age T (days): distribution of the customers')"
            ]
          },
          "metadata": {},
          "execution_count": 166
        },
        {
          "output_type": "display_data",
          "data": {
            "text/plain": [
              "<Figure size 800x400 with 1 Axes>"
            ],
            "image/png": "[encoded data removed]"
          },
          "metadata": {}
        },
        {
          "output_type": "display_data",
          "data": {
            "text/plain": [
              "<Figure size 800x400 with 1 Axes>"
            ],
            "image/png": "[encoded data removed]"
          },
          "metadata": {}
        },
        {
          "output_type": "display_data",
          "data": {
            "text/plain": [
              "<Figure size 800x400 with 1 Axes>"
            ],
            "image/png": "[encoded data removed]"
          },
          "metadata": {}
        }
      ]
    },
    {
      "cell_type": "markdown",
      "source": [
        "## 3.4 BG/NBD \n",
        "- BG(Beta Geometric)/NBD(Negative Binomial Distribution)\n",
        "-  assume that the number of transactions made by each customer follows a Poisson process with a heterogeneity in transaction rates across customers following a gamma distribution\n",
        "\n",
        "by using `BetaGeoFitter` and `lifetimes` packages."
      ],
      "metadata": {
        "id": "KOtFWtaOcDlN"
      }
    },
    {
      "cell_type": "code",
      "source": [
        "# BGF = BetaGeoFitter(penalizer_coef=0.001)  # avoid overfitting\n",
        "# ## In typical applications, penalizers on the order of 0.001 to 0.1 are effective\n",
        "\n",
        "# BGF.fit(ltv_df[\"frequency\"], ltv_df[\"recency\"], ltv_df[\"T\"])"
      ],
      "metadata": {
        "id": "f1f2ROo4OlkX"
      },
      "execution_count": 167,
      "outputs": []
    },
    {
      "cell_type": "code",
      "source": [
        "# training: BG/NBD model\n",
        "BGF = BetaGeoFitter(penalizer_coef=1e-06)\n",
        "BGF.fit(\n",
        "        frequency = df_ch[\"frequency_cal\"], \n",
        "        recency = df_ch[\"recency_cal\"], \n",
        "        T = df_ch[\"T_cal\"],   \n",
        "        weights = None,  \n",
        "        verbose = True,   \n",
        "        tol = 1e-06)"
      ],
      "metadata": {
        "colab": {
          "base_uri": "https://localhost:8080/"
        },
        "id": "tL-mtF4CvbF8",
        "outputId": "b25c02ce-ce97-412a-dab8-51ae7d970474"
      },
      "execution_count": 168,
      "outputs": [
        {
          "output_type": "stream",
          "name": "stdout",
          "text": [
            "Optimization terminated successfully.\n",
            "         Current function value: -1.650059\n",
            "         Iterations: 52\n",
            "         Function evaluations: 53\n",
            "         Gradient evaluations: 53\n"
          ]
        },
        {
          "output_type": "execute_result",
          "data": {
            "text/plain": [
              "<lifetimes.BetaGeoFitter: fitted with 3721 subjects, a: 0.00, alpha: 69.55, b: 0.00, r: 0.77>"
            ]
          },
          "metadata": {},
          "execution_count": 168
        }
      ]
    },
    {
      "cell_type": "code",
      "source": [
        "BGF.summary"
      ],
      "metadata": {
        "id": "izgzHrO9ZoF9",
        "colab": {
          "base_uri": "https://localhost:8080/",
          "height": 174
        },
        "outputId": "fdd77f6c-07e6-4a1d-dd52-ea94d28b8015"
      },
      "execution_count": 169,
      "outputs": [
        {
          "output_type": "execute_result",
          "data": {
            "text/plain": [
              "       coef  se(coef)  lower 95% bound  upper 95% bound\n",
              "r         1         0                1                1\n",
              "alpha    70         3               64               75\n",
              "a         0         0               -0                0\n",
              "b         0         6              -13               13"
            ],
            "text/html": [
              "\n",
              "  <div id=\"df-1f1b3a9e-61f3-41b3-892e-6decf0ee889f\">\n",
              "    <div class=\"colab-df-container\">\n",
              "      <div>\n",
              "<style scoped>\n",
              "    .dataframe tbody tr th:only-of-type {\n",
              "        vertical-align: middle;\n",
              "    }\n",
              "\n",
              "    .dataframe tbody tr th {\n",
              "        vertical-align: top;\n",
              "    }\n",
              "\n",
              "    .dataframe thead th {\n",
              "        text-align: right;\n",
              "    }\n",
              "</style>\n",
              "<table border=\"1\" class=\"dataframe\">\n",
              "  <thead>\n",
              "    <tr style=\"text-align: right;\">\n",
              "      <th></th>\n",
              "      <th>coef</th>\n",
              "      <th>se(coef)</th>\n",
              "      <th>lower 95% bound</th>\n",
              "      <th>upper 95% bound</th>\n",
              "    </tr>\n",
              "  </thead>\n",
              "  <tbody>\n",
              "    <tr>\n",
              "      <th>r</th>\n",
              "      <td>1</td>\n",
              "      <td>0</td>\n",
              "      <td>1</td>\n",
              "      <td>1</td>\n",
              "    </tr>\n",
              "    <tr>\n",
              "      <th>alpha</th>\n",
              "      <td>70</td>\n",
              "      <td>3</td>\n",
              "      <td>64</td>\n",
              "      <td>75</td>\n",
              "    </tr>\n",
              "    <tr>\n",
              "      <th>a</th>\n",
              "      <td>0</td>\n",
              "      <td>0</td>\n",
              "      <td>-0</td>\n",
              "      <td>0</td>\n",
              "    </tr>\n",
              "    <tr>\n",
              "      <th>b</th>\n",
              "      <td>0</td>\n",
              "      <td>6</td>\n",
              "      <td>-13</td>\n",
              "      <td>13</td>\n",
              "    </tr>\n",
              "  </tbody>\n",
              "</table>\n",
              "</div>\n",
              "      <button class=\"colab-df-convert\" onclick=\"convertToInteractive('df-1f1b3a9e-61f3-41b3-892e-6decf0ee889f')\"\n",
              "              title=\"Convert this dataframe to an interactive table.\"\n",
              "              style=\"display:none;\">\n",
              "        \n",
              "  <svg xmlns=\"http://www.w3.org/2000/svg\" height=\"24px\"viewBox=\"0 0 24 24\"\n",
              "       width=\"24px\">\n",
              "    <path d=\"M0 0h24v24H0V0z\" fill=\"none\"/>\n",
              "    <path d=\"M18.56 5.44l.94 2.06.94-2.06 2.06-.94-2.06-.94-.94-2.06-.94 2.06-2.06.94zm-11 1L8.5 8.5l.94-2.06 2.06-.94-2.06-.94L8.5 2.5l-.94 2.06-2.06.94zm10 10l.94 2.06.94-2.06 2.06-.94-2.06-.94-.94-2.06-.94 2.06-2.06.94z\"/><path d=\"M17.41 7.96l-1.37-1.37c-.4-.4-.92-.59-1.43-.59-.52 0-1.04.2-1.43.59L10.3 9.45l-7.72 7.72c-.78.78-.78 2.05 0 2.83L4 21.41c.39.39.9.59 1.41.59.51 0 1.02-.2 1.41-.59l7.78-7.78 2.81-2.81c.8-.78.8-2.07 0-2.86zM5.41 20L4 18.59l7.72-7.72 1.47 1.35L5.41 20z\"/>\n",
              "  </svg>\n",
              "      </button>\n",
              "      \n",
              "  <style>\n",
              "    .colab-df-container {\n",
              "      display:flex;\n",
              "      flex-wrap:wrap;\n",
              "      gap: 12px;\n",
              "    }\n",
              "\n",
              "    .colab-df-convert {\n",
              "      background-color: #E8F0FE;\n",
              "      border: none;\n",
              "      border-radius: 50%;\n",
              "      cursor: pointer;\n",
              "      display: none;\n",
              "      fill: #1967D2;\n",
              "      height: 32px;\n",
              "      padding: 0 0 0 0;\n",
              "      width: 32px;\n",
              "    }\n",
              "\n",
              "    .colab-df-convert:hover {\n",
              "      background-color: #E2EBFA;\n",
              "      box-shadow: 0px 1px 2px rgba(60, 64, 67, 0.3), 0px 1px 3px 1px rgba(60, 64, 67, 0.15);\n",
              "      fill: #174EA6;\n",
              "    }\n",
              "\n",
              "    [theme=dark] .colab-df-convert {\n",
              "      background-color: #3B4455;\n",
              "      fill: #D2E3FC;\n",
              "    }\n",
              "\n",
              "    [theme=dark] .colab-df-convert:hover {\n",
              "      background-color: #434B5C;\n",
              "      box-shadow: 0px 1px 3px 1px rgba(0, 0, 0, 0.15);\n",
              "      filter: drop-shadow(0px 1px 2px rgba(0, 0, 0, 0.3));\n",
              "      fill: #FFFFFF;\n",
              "    }\n",
              "  </style>\n",
              "\n",
              "      <script>\n",
              "        const buttonEl =\n",
              "          document.querySelector('#df-1f1b3a9e-61f3-41b3-892e-6decf0ee889f button.colab-df-convert');\n",
              "        buttonEl.style.display =\n",
              "          google.colab.kernel.accessAllowed ? 'block' : 'none';\n",
              "\n",
              "        async function convertToInteractive(key) {\n",
              "          const element = document.querySelector('#df-1f1b3a9e-61f3-41b3-892e-6decf0ee889f');\n",
              "          const dataTable =\n",
              "            await google.colab.kernel.invokeFunction('convertToInteractive',\n",
              "                                                     [key], {});\n",
              "          if (!dataTable) return;\n",
              "\n",
              "          const docLinkHtml = 'Like what you see? Visit the ' +\n",
              "            '<a target=\"_blank\" href=https://colab.research.google.com/notebooks/data_table.ipynb>data table notebook</a>'\n",
              "            + ' to learn more about interactive tables.';\n",
              "          element.innerHTML = '';\n",
              "          dataTable['output_type'] = 'display_data';\n",
              "          await google.colab.output.renderOutput(dataTable, element);\n",
              "          const docLink = document.createElement('div');\n",
              "          docLink.innerHTML = docLinkHtml;\n",
              "          element.appendChild(docLink);\n",
              "        }\n",
              "      </script>\n",
              "    </div>\n",
              "  </div>\n",
              "  "
            ]
          },
          "metadata": {},
          "execution_count": 169
        }
      ]
    },
    {
      "cell_type": "code",
      "source": [
        "# training: does the model reflect the actual data closely enough?\n",
        "\n",
        "# frequency of repeat transactions: predicted vs actual\n",
        "fig = plt.figure(figsize=(12, 12))\n",
        "plot_period_transactions(BGF);"
      ],
      "metadata": {
        "colab": {
          "base_uri": "https://localhost:8080/",
          "height": 507
        },
        "id": "zvEy8EMpviuq",
        "outputId": "8c962c33-6cc5-47ab-a2f2-c7a4a692f06f"
      },
      "execution_count": 170,
      "outputs": [
        {
          "output_type": "display_data",
          "data": {
            "text/plain": [
              "<Figure size 1200x1200 with 0 Axes>"
            ]
          },
          "metadata": {}
        },
        {
          "output_type": "display_data",
          "data": {
            "text/plain": [
              "<Figure size 640x480 with 1 Axes>"
            ],
            "image/png": "[encoded data removed]"
          },
          "metadata": {}
        }
      ]
    },
    {
      "cell_type": "code",
      "source": [
        "# testing: predicted vs actual purchases in holdout period\n",
        "fig = plt.figure(figsize=(7, 7)) \n",
        "plot_calibration_purchases_vs_holdout_purchases(BGF, df_ch);\n",
        "\n",
        "## y축 간격이 마음대로 달라져서... 음 7:3 일 때가 가장 작긴 한 듯 "
      ],
      "metadata": {
        "colab": {
          "base_uri": "https://localhost:8080/",
          "height": 498
        },
        "id": "xGVs7TN6vnVZ",
        "outputId": "160983d5-60c8-4833-f6e4-f1936543ca72"
      },
      "execution_count": 171,
      "outputs": [
        {
          "output_type": "display_data",
          "data": {
            "text/plain": [
              "<Figure size 700x700 with 0 Axes>"
            ]
          },
          "metadata": {}
        },
        {
          "output_type": "display_data",
          "data": {
            "text/plain": [
              "<Figure size 640x480 with 1 Axes>"
            ],
            "image/png": "[encoded data removed]"
          },
          "metadata": {}
        }
      ]
    },
    {
      "cell_type": "markdown",
      "source": [
        "## 3.5 Predicted Purchases \n"
      ],
      "metadata": {
        "id": "V_wCQnivdxnx"
      }
    },
    {
      "cell_type": "markdown",
      "source": [
        "### 3.5.1 Regency-frequency plot"
      ],
      "metadata": {
        "id": "oXFahIhe-XES"
      }
    },
    {
      "cell_type": "code",
      "source": [
        "# helper function: plot expected number of future purchases a customer with \n",
        "#    frequency f and recency r will make in forecast period\n",
        "\n",
        "def plot_freq_rec(t):\n",
        "    fig = plt.figure(figsize=(7, 7)) \n",
        "    plot_frequency_recency_matrix(\n",
        "            model = BGF,   \n",
        "            T = t);\n",
        "            \n",
        "            \n",
        "# call plotter function for different forecast periods:\n",
        "tFC = [10, 90]\n",
        "_ = [plot_freq_rec(t) for t in tFC]\n"
      ],
      "metadata": {
        "colab": {
          "base_uri": "https://localhost:8080/",
          "height": 1000
        },
        "id": "exrp13ggxwuf",
        "outputId": "90191ce9-aa47-44fc-81e6-0c073bb695f0"
      },
      "execution_count": 172,
      "outputs": [
        {
          "output_type": "display_data",
          "data": {
            "text/plain": [
              "<Figure size 700x700 with 2 Axes>"
            ],
            "image/png": "[encoded data removed]"
          },
          "metadata": {}
        },
        {
          "output_type": "display_data",
          "data": {
            "text/plain": [
              "<Figure size 700x700 with 2 Axes>"
            ],
            "image/png": "[encoded data removed]"
          },
          "metadata": {}
        }
      ]
    },
    {
      "cell_type": "markdown",
      "source": [
        "Each matrix demonstrates that a customer with a high frequency (80 or more transactions ), combined with a long recency (more than 300 days between first and latest transactions), will exhibit the highest propensity for future purchases: orange to red, implying 15 to 25 transactions over the next 90 days."
      ],
      "metadata": {
        "id": "McY6o5EOWBUB"
      }
    },
    {
      "cell_type": "markdown",
      "source": [
        "### 3.5.2 Prediction for one customer "
      ],
      "metadata": {
        "id": "rPf_DKKu-Rkc"
      }
    },
    {
      "cell_type": "code",
      "source": [
        "df_sorted = df_LTV_03.sort_values(by = 'invoice_date', ascending = True)\n",
        "rows = df_sorted.shape[0]\n",
        "row_holdout = math.floor(rows*0.7)"
      ],
      "metadata": {
        "id": "VEXNhCO4EKw_"
      },
      "execution_count": null,
      "outputs": []
    },
    {
      "cell_type": "code",
      "source": [
        "# determine recency, frequency, T, monetary value for each customer\n",
        "df_train =  df_LTV_03[:(row_holdout+1)]\n",
        "max_cal_date = df_train[\"invoice_date\"].max()    # end date of chosen calibration period\n",
        "\n",
        "rfm_train = summary_data_from_transaction_data(\n",
        "    transactions = df_train, \n",
        "    customer_id_col = \"customer_id\", \n",
        "    datetime_col = \"invoice_date\", \n",
        "    monetary_value_col = \"total_price\", \n",
        "    observation_period_end = max_date, \n",
        "    freq = \"D\")\n",
        "\n",
        "pd.options.display.float_format = '{:,.0f}'.format\n",
        "# rfm_train.head()"
      ],
      "metadata": {
        "id": "zxaIFm7D-HUm"
      },
      "execution_count": 204,
      "outputs": []
    },
    {
      "cell_type": "code",
      "source": [
        "# actual purchases \n",
        "df_test = df_LTV_03[row_holdout:]\n",
        "\n",
        "rfm_test = summary_data_from_transaction_data(\n",
        "    transactions = df_test, \n",
        "    customer_id_col = \"customer_id\", \n",
        "    datetime_col = \"invoice_date\", \n",
        "    monetary_value_col = \"total_price\", \n",
        "    observation_period_end = max_date, \n",
        "    freq = \"D\")\n",
        "\n",
        "pd.options.display.float_format = '{:,.0f}'.format\n",
        "# rfm_test.head()"
      ],
      "metadata": {
        "id": "kwt-ppIXEAm-"
      },
      "execution_count": 205,
      "outputs": []
    },
    {
      "cell_type": "code",
      "source": [
        "# predict purchases for a selected customer for t days\n",
        "t = 30\n",
        "cust_id = '12748'\n",
        "\n",
        "df_rft_C = rfm_train.loc[cust_id,:]\n",
        "predC = BGF.predict(    t, \n",
        "                        df_rft_C[\"frequency\"], \n",
        "                        df_rft_C[\"recency\"], \n",
        "                        df_rft_C[\"T\"])\n",
        "print(\"customer\", cust_id, \": expected number of purchases within\", t, \"days =\", f'{predC:.1f}')\n"
      ],
      "metadata": {
        "colab": {
          "base_uri": "https://localhost:8080/"
        },
        "id": "J7F-MZdY3WQn",
        "outputId": "5acef07b-62f4-47c8-eac0-534cf8b66b32"
      },
      "execution_count": 208,
      "outputs": [
        {
          "output_type": "stream",
          "name": "stdout",
          "text": [
            "customer 12748 : expected number of purchases within 30 days = 5.7\n"
          ]
        }
      ]
    },
    {
      "cell_type": "code",
      "source": [
        "min(df_train.invoice_date)"
      ],
      "metadata": {
        "colab": {
          "base_uri": "https://localhost:8080/"
        },
        "id": "R1wwfW_0FwGH",
        "outputId": "e24d283f-d049-419f-e670-289c3c45e6f8"
      },
      "execution_count": 211,
      "outputs": [
        {
          "output_type": "execute_result",
          "data": {
            "text/plain": [
              "Timestamp('2010-12-01 00:00:00')"
            ]
          },
          "metadata": {},
          "execution_count": 211
        }
      ]
    },
    {
      "cell_type": "code",
      "source": [
        "# actual purchases \n",
        "tmp_max_date = max_cal_date + dt.timedelta(days = t)\n",
        "# print(tmp_max_date)\n",
        "\n",
        "df_tmp = df_test[df_test['customer_id'] == cust_id]\n",
        "df_tmp = df_tmp[df_tmp['invoice_date'] < tmp_max_date]\n",
        "df_tmp['invoice_date'].nunique()"
      ],
      "metadata": {
        "colab": {
          "base_uri": "https://localhost:8080/"
        },
        "id": "0cI5-1LpFQ5N",
        "outputId": "b56e4f62-3876-4a40-a0f9-fd8049d83bd6"
      },
      "execution_count": 221,
      "outputs": [
        {
          "output_type": "execute_result",
          "data": {
            "text/plain": [
              "11"
            ]
          },
          "metadata": {},
          "execution_count": 221
        }
      ]
    },
    {
      "cell_type": "code",
      "source": [
        "# helper function: predict each customer's purchases over next t days\n",
        "def predict_purch(df, t):\n",
        "        df[\"predict_purch_\" + str(t)] = \\\n",
        "                BGF.predict(\n",
        "                    t, \n",
        "                    df[\"frequency\"], \n",
        "                    df[\"recency\"], \n",
        "                    df[\"T\"])\n",
        "                    \n",
        "                    \n",
        "# call helper function: predict each customer's purchases over multiple time periods\n",
        "t_FC = [10, 30, 60, 90]\n",
        "_ = [predict_purch(rfm_train, t) for t in t_FC]\n",
        "pd.options.display.float_format = '{:,.1f}'.format\n",
        "print(\"predicted number of purchases for each customer over next t days:\")\n",
        "rfm_train"
      ],
      "metadata": {
        "colab": {
          "base_uri": "https://localhost:8080/",
          "height": 537
        },
        "id": "aIvNbuM7HPYT",
        "outputId": "56d017c2-fc7e-4612-d2f4-ae0219018051"
      },
      "execution_count": 223,
      "outputs": [
        {
          "output_type": "stream",
          "name": "stdout",
          "text": [
            "predicted number of purchases for each customer over next t days:\n"
          ]
        },
        {
          "output_type": "execute_result",
          "data": {
            "text/plain": [
              "             frequency  recency     T  monetary_value  predict_purch_10  \\\n",
              "customer_id                                                               \n",
              "12346              0.0      0.0 325.0             0.0               0.0   \n",
              "12347              4.0    238.0 367.0           519.8               0.1   \n",
              "12348              3.0    283.0 358.0           301.5               0.1   \n",
              "12350              0.0      0.0 310.0             0.0               0.0   \n",
              "12352              5.0    224.0 296.0           379.6               0.2   \n",
              "...                ...      ...   ...             ...               ...   \n",
              "18280              0.0      0.0 277.0             0.0               0.0   \n",
              "18281              0.0      0.0 180.0             0.0               0.0   \n",
              "18282              0.0      0.0 126.0             0.0               0.0   \n",
              "18283              8.0    242.0 337.0           126.5               0.2   \n",
              "18287              0.0      0.0 201.0             0.0               0.0   \n",
              "\n",
              "             predict_purch_30  predict_purch_60  predict_purch_90  \n",
              "customer_id                                                        \n",
              "12346                     0.1               0.1               0.2  \n",
              "12347                     0.3               0.7               1.0  \n",
              "12348                     0.3               0.5               0.8  \n",
              "12350                     0.1               0.1               0.2  \n",
              "12352                     0.5               0.9               1.4  \n",
              "...                       ...               ...               ...  \n",
              "18280                     0.1               0.1               0.2  \n",
              "18281                     0.1               0.2               0.3  \n",
              "18282                     0.1               0.2               0.4  \n",
              "18283                     0.6               1.3               1.9  \n",
              "18287                     0.1               0.2               0.3  \n",
              "\n",
              "[3707 rows x 8 columns]"
            ],
            "text/html": [
              "\n",
              "  <div id=\"df-f1b7f750-6afa-4ee6-85d5-d6c67576dea8\">\n",
              "    <div class=\"colab-df-container\">\n",
              "      <div>\n",
              "<style scoped>\n",
              "    .dataframe tbody tr th:only-of-type {\n",
              "        vertical-align: middle;\n",
              "    }\n",
              "\n",
              "    .dataframe tbody tr th {\n",
              "        vertical-align: top;\n",
              "    }\n",
              "\n",
              "    .dataframe thead th {\n",
              "        text-align: right;\n",
              "    }\n",
              "</style>\n",
              "<table border=\"1\" class=\"dataframe\">\n",
              "  <thead>\n",
              "    <tr style=\"text-align: right;\">\n",
              "      <th></th>\n",
              "      <th>frequency</th>\n",
              "      <th>recency</th>\n",
              "      <th>T</th>\n",
              "      <th>monetary_value</th>\n",
              "      <th>predict_purch_10</th>\n",
              "      <th>predict_purch_30</th>\n",
              "      <th>predict_purch_60</th>\n",
              "      <th>predict_purch_90</th>\n",
              "    </tr>\n",
              "    <tr>\n",
              "      <th>customer_id</th>\n",
              "      <th></th>\n",
              "      <th></th>\n",
              "      <th></th>\n",
              "      <th></th>\n",
              "      <th></th>\n",
              "      <th></th>\n",
              "      <th></th>\n",
              "      <th></th>\n",
              "    </tr>\n",
              "  </thead>\n",
              "  <tbody>\n",
              "    <tr>\n",
              "      <th>12346</th>\n",
              "      <td>0.0</td>\n",
              "      <td>0.0</td>\n",
              "      <td>325.0</td>\n",
              "      <td>0.0</td>\n",
              "      <td>0.0</td>\n",
              "      <td>0.1</td>\n",
              "      <td>0.1</td>\n",
              "      <td>0.2</td>\n",
              "    </tr>\n",
              "    <tr>\n",
              "      <th>12347</th>\n",
              "      <td>4.0</td>\n",
              "      <td>238.0</td>\n",
              "      <td>367.0</td>\n",
              "      <td>519.8</td>\n",
              "      <td>0.1</td>\n",
              "      <td>0.3</td>\n",
              "      <td>0.7</td>\n",
              "      <td>1.0</td>\n",
              "    </tr>\n",
              "    <tr>\n",
              "      <th>12348</th>\n",
              "      <td>3.0</td>\n",
              "      <td>283.0</td>\n",
              "      <td>358.0</td>\n",
              "      <td>301.5</td>\n",
              "      <td>0.1</td>\n",
              "      <td>0.3</td>\n",
              "      <td>0.5</td>\n",
              "      <td>0.8</td>\n",
              "    </tr>\n",
              "    <tr>\n",
              "      <th>12350</th>\n",
              "      <td>0.0</td>\n",
              "      <td>0.0</td>\n",
              "      <td>310.0</td>\n",
              "      <td>0.0</td>\n",
              "      <td>0.0</td>\n",
              "      <td>0.1</td>\n",
              "      <td>0.1</td>\n",
              "      <td>0.2</td>\n",
              "    </tr>\n",
              "    <tr>\n",
              "      <th>12352</th>\n",
              "      <td>5.0</td>\n",
              "      <td>224.0</td>\n",
              "      <td>296.0</td>\n",
              "      <td>379.6</td>\n",
              "      <td>0.2</td>\n",
              "      <td>0.5</td>\n",
              "      <td>0.9</td>\n",
              "      <td>1.4</td>\n",
              "    </tr>\n",
              "    <tr>\n",
              "      <th>...</th>\n",
              "      <td>...</td>\n",
              "      <td>...</td>\n",
              "      <td>...</td>\n",
              "      <td>...</td>\n",
              "      <td>...</td>\n",
              "      <td>...</td>\n",
              "      <td>...</td>\n",
              "      <td>...</td>\n",
              "    </tr>\n",
              "    <tr>\n",
              "      <th>18280</th>\n",
              "      <td>0.0</td>\n",
              "      <td>0.0</td>\n",
              "      <td>277.0</td>\n",
              "      <td>0.0</td>\n",
              "      <td>0.0</td>\n",
              "      <td>0.1</td>\n",
              "      <td>0.1</td>\n",
              "      <td>0.2</td>\n",
              "    </tr>\n",
              "    <tr>\n",
              "      <th>18281</th>\n",
              "      <td>0.0</td>\n",
              "      <td>0.0</td>\n",
              "      <td>180.0</td>\n",
              "      <td>0.0</td>\n",
              "      <td>0.0</td>\n",
              "      <td>0.1</td>\n",
              "      <td>0.2</td>\n",
              "      <td>0.3</td>\n",
              "    </tr>\n",
              "    <tr>\n",
              "      <th>18282</th>\n",
              "      <td>0.0</td>\n",
              "      <td>0.0</td>\n",
              "      <td>126.0</td>\n",
              "      <td>0.0</td>\n",
              "      <td>0.0</td>\n",
              "      <td>0.1</td>\n",
              "      <td>0.2</td>\n",
              "      <td>0.4</td>\n",
              "    </tr>\n",
              "    <tr>\n",
              "      <th>18283</th>\n",
              "      <td>8.0</td>\n",
              "      <td>242.0</td>\n",
              "      <td>337.0</td>\n",
              "      <td>126.5</td>\n",
              "      <td>0.2</td>\n",
              "      <td>0.6</td>\n",
              "      <td>1.3</td>\n",
              "      <td>1.9</td>\n",
              "    </tr>\n",
              "    <tr>\n",
              "      <th>18287</th>\n",
              "      <td>0.0</td>\n",
              "      <td>0.0</td>\n",
              "      <td>201.0</td>\n",
              "      <td>0.0</td>\n",
              "      <td>0.0</td>\n",
              "      <td>0.1</td>\n",
              "      <td>0.2</td>\n",
              "      <td>0.3</td>\n",
              "    </tr>\n",
              "  </tbody>\n",
              "</table>\n",
              "<p>3707 rows × 8 columns</p>\n",
              "</div>\n",
              "      <button class=\"colab-df-convert\" onclick=\"convertToInteractive('df-f1b7f750-6afa-4ee6-85d5-d6c67576dea8')\"\n",
              "              title=\"Convert this dataframe to an interactive table.\"\n",
              "              style=\"display:none;\">\n",
              "        \n",
              "  <svg xmlns=\"http://www.w3.org/2000/svg\" height=\"24px\"viewBox=\"0 0 24 24\"\n",
              "       width=\"24px\">\n",
              "    <path d=\"M0 0h24v24H0V0z\" fill=\"none\"/>\n",
              "    <path d=\"M18.56 5.44l.94 2.06.94-2.06 2.06-.94-2.06-.94-.94-2.06-.94 2.06-2.06.94zm-11 1L8.5 8.5l.94-2.06 2.06-.94-2.06-.94L8.5 2.5l-.94 2.06-2.06.94zm10 10l.94 2.06.94-2.06 2.06-.94-2.06-.94-.94-2.06-.94 2.06-2.06.94z\"/><path d=\"M17.41 7.96l-1.37-1.37c-.4-.4-.92-.59-1.43-.59-.52 0-1.04.2-1.43.59L10.3 9.45l-7.72 7.72c-.78.78-.78 2.05 0 2.83L4 21.41c.39.39.9.59 1.41.59.51 0 1.02-.2 1.41-.59l7.78-7.78 2.81-2.81c.8-.78.8-2.07 0-2.86zM5.41 20L4 18.59l7.72-7.72 1.47 1.35L5.41 20z\"/>\n",
              "  </svg>\n",
              "      </button>\n",
              "      \n",
              "  <style>\n",
              "    .colab-df-container {\n",
              "      display:flex;\n",
              "      flex-wrap:wrap;\n",
              "      gap: 12px;\n",
              "    }\n",
              "\n",
              "    .colab-df-convert {\n",
              "      background-color: #E8F0FE;\n",
              "      border: none;\n",
              "      border-radius: 50%;\n",
              "      cursor: pointer;\n",
              "      display: none;\n",
              "      fill: #1967D2;\n",
              "      height: 32px;\n",
              "      padding: 0 0 0 0;\n",
              "      width: 32px;\n",
              "    }\n",
              "\n",
              "    .colab-df-convert:hover {\n",
              "      background-color: #E2EBFA;\n",
              "      box-shadow: 0px 1px 2px rgba(60, 64, 67, 0.3), 0px 1px 3px 1px rgba(60, 64, 67, 0.15);\n",
              "      fill: #174EA6;\n",
              "    }\n",
              "\n",
              "    [theme=dark] .colab-df-convert {\n",
              "      background-color: #3B4455;\n",
              "      fill: #D2E3FC;\n",
              "    }\n",
              "\n",
              "    [theme=dark] .colab-df-convert:hover {\n",
              "      background-color: #434B5C;\n",
              "      box-shadow: 0px 1px 3px 1px rgba(0, 0, 0, 0.15);\n",
              "      filter: drop-shadow(0px 1px 2px rgba(0, 0, 0, 0.3));\n",
              "      fill: #FFFFFF;\n",
              "    }\n",
              "  </style>\n",
              "\n",
              "      <script>\n",
              "        const buttonEl =\n",
              "          document.querySelector('#df-f1b7f750-6afa-4ee6-85d5-d6c67576dea8 button.colab-df-convert');\n",
              "        buttonEl.style.display =\n",
              "          google.colab.kernel.accessAllowed ? 'block' : 'none';\n",
              "\n",
              "        async function convertToInteractive(key) {\n",
              "          const element = document.querySelector('#df-f1b7f750-6afa-4ee6-85d5-d6c67576dea8');\n",
              "          const dataTable =\n",
              "            await google.colab.kernel.invokeFunction('convertToInteractive',\n",
              "                                                     [key], {});\n",
              "          if (!dataTable) return;\n",
              "\n",
              "          const docLinkHtml = 'Like what you see? Visit the ' +\n",
              "            '<a target=\"_blank\" href=https://colab.research.google.com/notebooks/data_table.ipynb>data table notebook</a>'\n",
              "            + ' to learn more about interactive tables.';\n",
              "          element.innerHTML = '';\n",
              "          dataTable['output_type'] = 'display_data';\n",
              "          await google.colab.output.renderOutput(dataTable, element);\n",
              "          const docLink = document.createElement('div');\n",
              "          docLink.innerHTML = docLinkHtml;\n",
              "          element.appendChild(docLink);\n",
              "        }\n",
              "      </script>\n",
              "    </div>\n",
              "  </div>\n",
              "  "
            ]
          },
          "metadata": {},
          "execution_count": 223
        }
      ]
    },
    {
      "cell_type": "code",
      "source": [
        "# top 10 customers over next 30 days\n",
        "print(\"top 10 customers, by their predicted purchases over next 30 days\")\n",
        "rfm_train.sort_values(by=\"predict_purch_30\", ascending=False).head(10)"
      ],
      "metadata": {
        "id": "Zw91cgTOOlmu",
        "colab": {
          "base_uri": "https://localhost:8080/",
          "height": 476
        },
        "outputId": "71adff89-a7c7-4f82-d84a-a1354e67317a"
      },
      "execution_count": 224,
      "outputs": [
        {
          "output_type": "stream",
          "name": "stdout",
          "text": [
            "top 10 customers, by their predicted purchases over next 30 days\n"
          ]
        },
        {
          "output_type": "execute_result",
          "data": {
            "text/plain": [
              "             frequency  recency     T  monetary_value  predict_purch_10  \\\n",
              "customer_id                                                               \n",
              "14911             95.0    310.0 373.0         1,015.6               2.2   \n",
              "17841             85.0    310.0 373.0           314.2               1.9   \n",
              "12748             83.0    310.0 373.0           241.9               1.9   \n",
              "14606             72.0    307.0 373.0           137.6               1.6   \n",
              "15311             70.0    310.0 373.0           698.9               1.6   \n",
              "12971             55.0    307.0 372.0           162.6               1.3   \n",
              "13089             52.0    305.0 369.0           885.1               1.2   \n",
              "14527             42.0    305.0 369.0           136.0               1.0   \n",
              "13798             42.0    309.0 372.0           758.4               1.0   \n",
              "16422             40.0    305.0 369.0           733.2               0.9   \n",
              "\n",
              "             predict_purch_30  predict_purch_60  predict_purch_90  \n",
              "customer_id                                                        \n",
              "14911                     6.5              13.0              19.5  \n",
              "17841                     5.8              11.6              17.4  \n",
              "12748                     5.7              11.4              17.0  \n",
              "14606                     4.9               9.9              14.8  \n",
              "15311                     4.8               9.6              14.4  \n",
              "12971                     3.8               7.6              11.4  \n",
              "13089                     3.6               7.2              10.8  \n",
              "14527                     2.9               5.9               8.8  \n",
              "13798                     2.9               5.8               8.7  \n",
              "16422                     2.8               5.6               8.4  "
            ],
            "text/html": [
              "\n",
              "  <div id=\"df-ff37e296-7f35-41aa-a5a2-39ac6040a4d0\">\n",
              "    <div class=\"colab-df-container\">\n",
              "      <div>\n",
              "<style scoped>\n",
              "    .dataframe tbody tr th:only-of-type {\n",
              "        vertical-align: middle;\n",
              "    }\n",
              "\n",
              "    .dataframe tbody tr th {\n",
              "        vertical-align: top;\n",
              "    }\n",
              "\n",
              "    .dataframe thead th {\n",
              "        text-align: right;\n",
              "    }\n",
              "</style>\n",
              "<table border=\"1\" class=\"dataframe\">\n",
              "  <thead>\n",
              "    <tr style=\"text-align: right;\">\n",
              "      <th></th>\n",
              "      <th>frequency</th>\n",
              "      <th>recency</th>\n",
              "      <th>T</th>\n",
              "      <th>monetary_value</th>\n",
              "      <th>predict_purch_10</th>\n",
              "      <th>predict_purch_30</th>\n",
              "      <th>predict_purch_60</th>\n",
              "      <th>predict_purch_90</th>\n",
              "    </tr>\n",
              "    <tr>\n",
              "      <th>customer_id</th>\n",
              "      <th></th>\n",
              "      <th></th>\n",
              "      <th></th>\n",
              "      <th></th>\n",
              "      <th></th>\n",
              "      <th></th>\n",
              "      <th></th>\n",
              "      <th></th>\n",
              "    </tr>\n",
              "  </thead>\n",
              "  <tbody>\n",
              "    <tr>\n",
              "      <th>14911</th>\n",
              "      <td>95.0</td>\n",
              "      <td>310.0</td>\n",
              "      <td>373.0</td>\n",
              "      <td>1,015.6</td>\n",
              "      <td>2.2</td>\n",
              "      <td>6.5</td>\n",
              "      <td>13.0</td>\n",
              "      <td>19.5</td>\n",
              "    </tr>\n",
              "    <tr>\n",
              "      <th>17841</th>\n",
              "      <td>85.0</td>\n",
              "      <td>310.0</td>\n",
              "      <td>373.0</td>\n",
              "      <td>314.2</td>\n",
              "      <td>1.9</td>\n",
              "      <td>5.8</td>\n",
              "      <td>11.6</td>\n",
              "      <td>17.4</td>\n",
              "    </tr>\n",
              "    <tr>\n",
              "      <th>12748</th>\n",
              "      <td>83.0</td>\n",
              "      <td>310.0</td>\n",
              "      <td>373.0</td>\n",
              "      <td>241.9</td>\n",
              "      <td>1.9</td>\n",
              "      <td>5.7</td>\n",
              "      <td>11.4</td>\n",
              "      <td>17.0</td>\n",
              "    </tr>\n",
              "    <tr>\n",
              "      <th>14606</th>\n",
              "      <td>72.0</td>\n",
              "      <td>307.0</td>\n",
              "      <td>373.0</td>\n",
              "      <td>137.6</td>\n",
              "      <td>1.6</td>\n",
              "      <td>4.9</td>\n",
              "      <td>9.9</td>\n",
              "      <td>14.8</td>\n",
              "    </tr>\n",
              "    <tr>\n",
              "      <th>15311</th>\n",
              "      <td>70.0</td>\n",
              "      <td>310.0</td>\n",
              "      <td>373.0</td>\n",
              "      <td>698.9</td>\n",
              "      <td>1.6</td>\n",
              "      <td>4.8</td>\n",
              "      <td>9.6</td>\n",
              "      <td>14.4</td>\n",
              "    </tr>\n",
              "    <tr>\n",
              "      <th>12971</th>\n",
              "      <td>55.0</td>\n",
              "      <td>307.0</td>\n",
              "      <td>372.0</td>\n",
              "      <td>162.6</td>\n",
              "      <td>1.3</td>\n",
              "      <td>3.8</td>\n",
              "      <td>7.6</td>\n",
              "      <td>11.4</td>\n",
              "    </tr>\n",
              "    <tr>\n",
              "      <th>13089</th>\n",
              "      <td>52.0</td>\n",
              "      <td>305.0</td>\n",
              "      <td>369.0</td>\n",
              "      <td>885.1</td>\n",
              "      <td>1.2</td>\n",
              "      <td>3.6</td>\n",
              "      <td>7.2</td>\n",
              "      <td>10.8</td>\n",
              "    </tr>\n",
              "    <tr>\n",
              "      <th>14527</th>\n",
              "      <td>42.0</td>\n",
              "      <td>305.0</td>\n",
              "      <td>369.0</td>\n",
              "      <td>136.0</td>\n",
              "      <td>1.0</td>\n",
              "      <td>2.9</td>\n",
              "      <td>5.9</td>\n",
              "      <td>8.8</td>\n",
              "    </tr>\n",
              "    <tr>\n",
              "      <th>13798</th>\n",
              "      <td>42.0</td>\n",
              "      <td>309.0</td>\n",
              "      <td>372.0</td>\n",
              "      <td>758.4</td>\n",
              "      <td>1.0</td>\n",
              "      <td>2.9</td>\n",
              "      <td>5.8</td>\n",
              "      <td>8.7</td>\n",
              "    </tr>\n",
              "    <tr>\n",
              "      <th>16422</th>\n",
              "      <td>40.0</td>\n",
              "      <td>305.0</td>\n",
              "      <td>369.0</td>\n",
              "      <td>733.2</td>\n",
              "      <td>0.9</td>\n",
              "      <td>2.8</td>\n",
              "      <td>5.6</td>\n",
              "      <td>8.4</td>\n",
              "    </tr>\n",
              "  </tbody>\n",
              "</table>\n",
              "</div>\n",
              "      <button class=\"colab-df-convert\" onclick=\"convertToInteractive('df-ff37e296-7f35-41aa-a5a2-39ac6040a4d0')\"\n",
              "              title=\"Convert this dataframe to an interactive table.\"\n",
              "              style=\"display:none;\">\n",
              "        \n",
              "  <svg xmlns=\"http://www.w3.org/2000/svg\" height=\"24px\"viewBox=\"0 0 24 24\"\n",
              "       width=\"24px\">\n",
              "    <path d=\"M0 0h24v24H0V0z\" fill=\"none\"/>\n",
              "    <path d=\"M18.56 5.44l.94 2.06.94-2.06 2.06-.94-2.06-.94-.94-2.06-.94 2.06-2.06.94zm-11 1L8.5 8.5l.94-2.06 2.06-.94-2.06-.94L8.5 2.5l-.94 2.06-2.06.94zm10 10l.94 2.06.94-2.06 2.06-.94-2.06-.94-.94-2.06-.94 2.06-2.06.94z\"/><path d=\"M17.41 7.96l-1.37-1.37c-.4-.4-.92-.59-1.43-.59-.52 0-1.04.2-1.43.59L10.3 9.45l-7.72 7.72c-.78.78-.78 2.05 0 2.83L4 21.41c.39.39.9.59 1.41.59.51 0 1.02-.2 1.41-.59l7.78-7.78 2.81-2.81c.8-.78.8-2.07 0-2.86zM5.41 20L4 18.59l7.72-7.72 1.47 1.35L5.41 20z\"/>\n",
              "  </svg>\n",
              "      </button>\n",
              "      \n",
              "  <style>\n",
              "    .colab-df-container {\n",
              "      display:flex;\n",
              "      flex-wrap:wrap;\n",
              "      gap: 12px;\n",
              "    }\n",
              "\n",
              "    .colab-df-convert {\n",
              "      background-color: #E8F0FE;\n",
              "      border: none;\n",
              "      border-radius: 50%;\n",
              "      cursor: pointer;\n",
              "      display: none;\n",
              "      fill: #1967D2;\n",
              "      height: 32px;\n",
              "      padding: 0 0 0 0;\n",
              "      width: 32px;\n",
              "    }\n",
              "\n",
              "    .colab-df-convert:hover {\n",
              "      background-color: #E2EBFA;\n",
              "      box-shadow: 0px 1px 2px rgba(60, 64, 67, 0.3), 0px 1px 3px 1px rgba(60, 64, 67, 0.15);\n",
              "      fill: #174EA6;\n",
              "    }\n",
              "\n",
              "    [theme=dark] .colab-df-convert {\n",
              "      background-color: #3B4455;\n",
              "      fill: #D2E3FC;\n",
              "    }\n",
              "\n",
              "    [theme=dark] .colab-df-convert:hover {\n",
              "      background-color: #434B5C;\n",
              "      box-shadow: 0px 1px 3px 1px rgba(0, 0, 0, 0.15);\n",
              "      filter: drop-shadow(0px 1px 2px rgba(0, 0, 0, 0.3));\n",
              "      fill: #FFFFFF;\n",
              "    }\n",
              "  </style>\n",
              "\n",
              "      <script>\n",
              "        const buttonEl =\n",
              "          document.querySelector('#df-ff37e296-7f35-41aa-a5a2-39ac6040a4d0 button.colab-df-convert');\n",
              "        buttonEl.style.display =\n",
              "          google.colab.kernel.accessAllowed ? 'block' : 'none';\n",
              "\n",
              "        async function convertToInteractive(key) {\n",
              "          const element = document.querySelector('#df-ff37e296-7f35-41aa-a5a2-39ac6040a4d0');\n",
              "          const dataTable =\n",
              "            await google.colab.kernel.invokeFunction('convertToInteractive',\n",
              "                                                     [key], {});\n",
              "          if (!dataTable) return;\n",
              "\n",
              "          const docLinkHtml = 'Like what you see? Visit the ' +\n",
              "            '<a target=\"_blank\" href=https://colab.research.google.com/notebooks/data_table.ipynb>data table notebook</a>'\n",
              "            + ' to learn more about interactive tables.';\n",
              "          element.innerHTML = '';\n",
              "          dataTable['output_type'] = 'display_data';\n",
              "          await google.colab.output.renderOutput(dataTable, element);\n",
              "          const docLink = document.createElement('div');\n",
              "          docLink.innerHTML = docLinkHtml;\n",
              "          element.appendChild(docLink);\n",
              "        }\n",
              "      </script>\n",
              "    </div>\n",
              "  </div>\n",
              "  "
            ]
          },
          "metadata": {},
          "execution_count": 224
        }
      ]
    },
    {
      "cell_type": "code",
      "source": [
        "# helper function: probability of n repeat purchases within t days\n",
        "def prob_purch(t, n):\n",
        "    p = BGF.probability_of_n_purchases_up_to_time(t, n)\n",
        "    return p\n",
        "    \n",
        "  # call helper function: probability of n repeat purchases within t days\n",
        "t = 90                  # forecast period, days\n",
        "purch = range(0,10,1)   # number of repeat purchases \n",
        "probs = [prob_purch(t,n) for n in purch]\n",
        "\n",
        "dict_probs = dict(zip(purch, probs))\n",
        "#_ = [print(k,\":\",f'{v:.2f}') for k,v in dict_probs.items()]\n",
        "\n",
        "plt.plot(purch, probs, '-o', color='blue')\n",
        "plt.xlabel(\"avg number of purchases\")\n",
        "plt.ylabel(\"probability\")\n",
        "plt.xticks(purch)\n",
        "plt.show()"
      ],
      "metadata": {
        "colab": {
          "base_uri": "https://localhost:8080/",
          "height": 458
        },
        "id": "Ttqs0KpfIjm9",
        "outputId": "18cc85f5-2328-406d-e9e2-39480b4347e9"
      },
      "execution_count": 232,
      "outputs": [
        {
          "output_type": "display_data",
          "data": {
            "text/plain": [
              "<Figure size 640x480 with 1 Axes>"
            ],
            "image/png": "[encoded data removed]"
          },
          "metadata": {}
        }
      ]
    },
    {
      "cell_type": "code",
      "source": [],
      "metadata": {
        "id": "SMZhamiSIuGB"
      },
      "execution_count": null,
      "outputs": []
    },
    {
      "cell_type": "markdown",
      "source": [
        "## 3.6 Customer Churn Probability"
      ],
      "metadata": {
        "id": "K454iJOcyI1z"
      }
    },
    {
      "cell_type": "code",
      "source": [],
      "metadata": {
        "id": "jvfh3VT8I9nA"
      },
      "execution_count": null,
      "outputs": []
    },
    {
      "cell_type": "code",
      "source": [],
      "metadata": {
        "id": "It4shEM-I9qo"
      },
      "execution_count": null,
      "outputs": []
    },
    {
      "cell_type": "markdown",
      "source": [
        "## 3.7 Customer Lifetime Value"
      ],
      "metadata": {
        "id": "zDPdOww8yLYI"
      }
    },
    {
      "cell_type": "code",
      "source": [],
      "metadata": {
        "id": "tNEAv4OqI-HQ"
      },
      "execution_count": null,
      "outputs": []
    },
    {
      "cell_type": "code",
      "source": [],
      "metadata": {
        "id": "1djkro9BI-Lb"
      },
      "execution_count": null,
      "outputs": []
    },
    {
      "cell_type": "markdown",
      "source": [
        "## 3.8 The Gamma-Gamma Model"
      ],
      "metadata": {
        "id": "zlHSDgAyyOuR"
      }
    },
    {
      "cell_type": "code",
      "source": [],
      "metadata": {
        "id": "nM-KdJyAI-ot"
      },
      "execution_count": null,
      "outputs": []
    },
    {
      "cell_type": "code",
      "source": [],
      "metadata": {
        "id": "yg-9J7ZEI-ry"
      },
      "execution_count": null,
      "outputs": []
    },
    {
      "cell_type": "markdown",
      "source": [
        "## 3.9 Fitting the Gamma-Gamma Model to the RFT Data"
      ],
      "metadata": {
        "id": "tP2oDIQxyTmb"
      }
    },
    {
      "cell_type": "code",
      "source": [],
      "metadata": {
        "id": "p7CGDc3PI_Jd"
      },
      "execution_count": null,
      "outputs": []
    },
    {
      "cell_type": "code",
      "source": [],
      "metadata": {
        "id": "maWWwjfjI_ME"
      },
      "execution_count": null,
      "outputs": []
    },
    {
      "cell_type": "markdown",
      "source": [
        "## 3.10 GG Predictions"
      ],
      "metadata": {
        "id": "H83Z007CyVJ7"
      }
    },
    {
      "cell_type": "code",
      "source": [],
      "metadata": {
        "id": "XFTI_kS3I_1i"
      },
      "execution_count": null,
      "outputs": []
    },
    {
      "cell_type": "code",
      "source": [],
      "metadata": {
        "id": "stJzT6VfI_4I"
      },
      "execution_count": null,
      "outputs": []
    },
    {
      "cell_type": "markdown",
      "source": [
        "## 3.11 Customer Lifetime Value CLV"
      ],
      "metadata": {
        "id": "LVPog0hNyabk"
      }
    },
    {
      "cell_type": "code",
      "source": [],
      "metadata": {
        "id": "G6_KvG9lJAUd"
      },
      "execution_count": null,
      "outputs": []
    },
    {
      "cell_type": "code",
      "source": [],
      "metadata": {
        "id": "j76yZEa8JAXP"
      },
      "execution_count": null,
      "outputs": []
    },
    {
      "cell_type": "markdown",
      "source": [
        "# _4. 결론 "
      ],
      "metadata": {
        "id": "25ND283SyffQ"
      }
    }
  ]
}