{
  "nbformat": 4,
  "nbformat_minor": 0,
  "metadata": {
    "colab": {
      "provenance": [],
      "toc_visible": true,
      "include_colab_link": true
    },
    "kernelspec": {
      "name": "python3",
      "display_name": "Python 3"
    },
    "language_info": {
      "name": "python"
    }
  },
  "cells": [
    {
      "cell_type": "markdown",
      "metadata": {
        "id": "view-in-github",
        "colab_type": "text"
      },
      "source": [
        "<a href=\"https://colab.research.google.com/github/Nayoung-young/prj-ecommerce-ltv/blob/main/e_commerce_LTV.ipynb\" target=\"_parent\"><img src=\"https://colab.research.google.com/assets/colab-badge.svg\" alt=\"Open In Colab\"/></a>"
      ]
    },
    {
      "cell_type": "markdown",
      "source": [
        "# _0.라이브러리 임포트"
      ],
      "metadata": {
        "id": "cBlp2yHdjDhr"
      }
    },
    {
      "cell_type": "code",
      "source": [
        "!pip install plotly\n",
        "!pip install Lifetimes\n",
        "!pip install nb_black"
      ],
      "metadata": {
        "colab": {
          "base_uri": "https://localhost:8080/"
        },
        "id": "soamLyPU2w63",
        "outputId": "5f545d02-3501-4429-84c0-2522b9d5d86d"
      },
      "execution_count": 1,
      "outputs": [
        {
          "output_type": "stream",
          "name": "stdout",
          "text": [
            "Looking in indexes: https://pypi.org/simple, https://us-python.pkg.dev/colab-wheels/public/simple/\n",
            "Requirement already satisfied: plotly in /usr/local/lib/python3.9/dist-packages (5.13.1)\n",
            "Requirement already satisfied: tenacity>=6.2.0 in /usr/local/lib/python3.9/dist-packages (from plotly) (8.2.2)\n",
            "Looking in indexes: https://pypi.org/simple, https://us-python.pkg.dev/colab-wheels/public/simple/\n",
            "Collecting Lifetimes\n",
            "  Downloading Lifetimes-0.11.3-py3-none-any.whl (584 kB)\n",
            "\u001b[2K     \u001b[90m━━━━━━━━━━━━━━━━━━━━━━━━━━━━━━━━━━━━━━\u001b[0m \u001b[32m584.2/584.2 kB\u001b[0m \u001b[31m15.8 MB/s\u001b[0m eta \u001b[36m0:00:00\u001b[0m\n",
            "\u001b[?25hRequirement already satisfied: scipy>=1.0.0 in /usr/local/lib/python3.9/dist-packages (from Lifetimes) (1.10.1)\n",
            "Requirement already satisfied: numpy>=1.10.0 in /usr/local/lib/python3.9/dist-packages (from Lifetimes) (1.22.4)\n",
            "Requirement already satisfied: autograd>=1.2.0 in /usr/local/lib/python3.9/dist-packages (from Lifetimes) (1.5)\n",
            "Collecting dill>=0.2.6\n",
            "  Downloading dill-0.3.6-py3-none-any.whl (110 kB)\n",
            "\u001b[2K     \u001b[90m━━━━━━━━━━━━━━━━━━━━━━━━━━━━━━━━━━━━━━\u001b[0m \u001b[32m110.5/110.5 kB\u001b[0m \u001b[31m15.5 MB/s\u001b[0m eta \u001b[36m0:00:00\u001b[0m\n",
            "\u001b[?25hRequirement already satisfied: pandas>=0.24.0 in /usr/local/lib/python3.9/dist-packages (from Lifetimes) (1.5.3)\n",
            "Requirement already satisfied: future>=0.15.2 in /usr/local/lib/python3.9/dist-packages (from autograd>=1.2.0->Lifetimes) (0.18.3)\n",
            "Requirement already satisfied: pytz>=2020.1 in /usr/local/lib/python3.9/dist-packages (from pandas>=0.24.0->Lifetimes) (2022.7.1)\n",
            "Requirement already satisfied: python-dateutil>=2.8.1 in /usr/local/lib/python3.9/dist-packages (from pandas>=0.24.0->Lifetimes) (2.8.2)\n",
            "Requirement already satisfied: six>=1.5 in /usr/local/lib/python3.9/dist-packages (from python-dateutil>=2.8.1->pandas>=0.24.0->Lifetimes) (1.16.0)\n",
            "Installing collected packages: dill, Lifetimes\n",
            "Successfully installed Lifetimes-0.11.3 dill-0.3.6\n",
            "Looking in indexes: https://pypi.org/simple, https://us-python.pkg.dev/colab-wheels/public/simple/\n",
            "Collecting nb_black\n",
            "  Downloading nb_black-1.0.7.tar.gz (4.8 kB)\n",
            "  \u001b[1;31merror\u001b[0m: \u001b[1msubprocess-exited-with-error\u001b[0m\n",
            "  \n",
            "  \u001b[31m×\u001b[0m \u001b[32mpython setup.py egg_info\u001b[0m did not run successfully.\n",
            "  \u001b[31m│\u001b[0m exit code: \u001b[1;36m1\u001b[0m\n",
            "  \u001b[31m╰─>\u001b[0m See above for output.\n",
            "  \n",
            "  \u001b[1;35mnote\u001b[0m: This error originates from a subprocess, and is likely not a problem with pip.\n",
            "  Preparing metadata (setup.py) ... \u001b[?25l\u001b[?25herror\n",
            "\u001b[1;31merror\u001b[0m: \u001b[1mmetadata-generation-failed\u001b[0m\n",
            "\n",
            "\u001b[31m×\u001b[0m Encountered error while generating package metadata.\n",
            "\u001b[31m╰─>\u001b[0m See above for output.\n",
            "\n",
            "\u001b[1;35mnote\u001b[0m: This is an issue with the package mentioned above, not pip.\n",
            "\u001b[1;36mhint\u001b[0m: See above for details.\n"
          ]
        }
      ]
    },
    {
      "cell_type": "code",
      "source": [
        "import pandas as pd # python에서의 엑셀과 같은 역할\n",
        "import numpy as np # 계산을 편하게 해 주는 라이브러리\n",
        "import matplotlib as mpl\n",
        "import matplotlib.pyplot as plt # 시각화\n",
        "import seaborn as sns # 시각화\n",
        "\n",
        "import matplotlib.ticker as ticker # 시각화\n",
        "import matplotlib.dates as mdates # 시각화\n",
        "\n",
        "import datetime as dt\n",
        "\n",
        "import warnings\n",
        "\n",
        "warnings.filterwarnings('ignore')\n",
        "sns.set_theme(style='white')\n",
        "\n",
        "# from other \n",
        "import matplotlib.colors as mcolors\n",
        "from sklearn.metrics import (silhouette_score,\n",
        "                             calinski_harabasz_score,\n",
        "                             davies_bouldin_score)\n",
        "%matplotlib inline\n",
        "sns.set_style('whitegrid')\n",
        "palette = 'Set2'\n",
        "\n",
        "# sns.set(font_scale=2)"
      ],
      "metadata": {
        "id": "DFIz0LDqjZpz"
      },
      "execution_count": 2,
      "outputs": []
    },
    {
      "cell_type": "markdown",
      "source": [
        "# _1. 데이터 불러오기 "
      ],
      "metadata": {
        "id": "MG1GToDam_CU"
      }
    },
    {
      "cell_type": "code",
      "source": [
        "%%time\n",
        "df = pd.read_csv('/content/e-commerce_LTV.csv', encoding= 'unicode_escape')\n",
        "df_base = df.copy()"
      ],
      "metadata": {
        "id": "3BlkuQ7-m_o2",
        "colab": {
          "base_uri": "https://localhost:8080/"
        },
        "outputId": "a6ea2877-bef4-44ba-9608-cf744e71462f"
      },
      "execution_count": 3,
      "outputs": [
        {
          "output_type": "stream",
          "name": "stdout",
          "text": [
            "CPU times: user 856 ms, sys: 214 ms, total: 1.07 s\n",
            "Wall time: 1.17 s\n"
          ]
        }
      ]
    },
    {
      "cell_type": "code",
      "source": [
        "df_base.head()"
      ],
      "metadata": {
        "colab": {
          "base_uri": "https://localhost:8080/",
          "height": 250
        },
        "id": "lbYB2DtUeVxJ",
        "outputId": "d0a9c1f0-0071-43b3-f312-88a48787946c"
      },
      "execution_count": 4,
      "outputs": [
        {
          "output_type": "execute_result",
          "data": {
            "text/plain": [
              "  InvoiceNo StockCode                          Description  Quantity  \\\n",
              "0    536365    85123A   WHITE HANGING HEART T-LIGHT HOLDER         6   \n",
              "1    536365     71053                  WHITE METAL LANTERN         6   \n",
              "2    536365    84406B       CREAM CUPID HEARTS COAT HANGER         8   \n",
              "3    536365    84029G  KNITTED UNION FLAG HOT WATER BOTTLE         6   \n",
              "4    536365    84029E       RED WOOLLY HOTTIE WHITE HEART.         6   \n",
              "\n",
              "      InvoiceDate  UnitPrice  CustomerID         Country  \n",
              "0  12/1/2010 8:26       2.55     17850.0  United Kingdom  \n",
              "1  12/1/2010 8:26       3.39     17850.0  United Kingdom  \n",
              "2  12/1/2010 8:26       2.75     17850.0  United Kingdom  \n",
              "3  12/1/2010 8:26       3.39     17850.0  United Kingdom  \n",
              "4  12/1/2010 8:26       3.39     17850.0  United Kingdom  "
            ],
            "text/html": [
              "\n",
              "  <div id=\"df-2bc250b7-26f0-44ae-950b-ede218262ca9\">\n",
              "    <div class=\"colab-df-container\">\n",
              "      <div>\n",
              "<style scoped>\n",
              "    .dataframe tbody tr th:only-of-type {\n",
              "        vertical-align: middle;\n",
              "    }\n",
              "\n",
              "    .dataframe tbody tr th {\n",
              "        vertical-align: top;\n",
              "    }\n",
              "\n",
              "    .dataframe thead th {\n",
              "        text-align: right;\n",
              "    }\n",
              "</style>\n",
              "<table border=\"1\" class=\"dataframe\">\n",
              "  <thead>\n",
              "    <tr style=\"text-align: right;\">\n",
              "      <th></th>\n",
              "      <th>InvoiceNo</th>\n",
              "      <th>StockCode</th>\n",
              "      <th>Description</th>\n",
              "      <th>Quantity</th>\n",
              "      <th>InvoiceDate</th>\n",
              "      <th>UnitPrice</th>\n",
              "      <th>CustomerID</th>\n",
              "      <th>Country</th>\n",
              "    </tr>\n",
              "  </thead>\n",
              "  <tbody>\n",
              "    <tr>\n",
              "      <th>0</th>\n",
              "      <td>536365</td>\n",
              "      <td>85123A</td>\n",
              "      <td>WHITE HANGING HEART T-LIGHT HOLDER</td>\n",
              "      <td>6</td>\n",
              "      <td>12/1/2010 8:26</td>\n",
              "      <td>2.55</td>\n",
              "      <td>17850.0</td>\n",
              "      <td>United Kingdom</td>\n",
              "    </tr>\n",
              "    <tr>\n",
              "      <th>1</th>\n",
              "      <td>536365</td>\n",
              "      <td>71053</td>\n",
              "      <td>WHITE METAL LANTERN</td>\n",
              "      <td>6</td>\n",
              "      <td>12/1/2010 8:26</td>\n",
              "      <td>3.39</td>\n",
              "      <td>17850.0</td>\n",
              "      <td>United Kingdom</td>\n",
              "    </tr>\n",
              "    <tr>\n",
              "      <th>2</th>\n",
              "      <td>536365</td>\n",
              "      <td>84406B</td>\n",
              "      <td>CREAM CUPID HEARTS COAT HANGER</td>\n",
              "      <td>8</td>\n",
              "      <td>12/1/2010 8:26</td>\n",
              "      <td>2.75</td>\n",
              "      <td>17850.0</td>\n",
              "      <td>United Kingdom</td>\n",
              "    </tr>\n",
              "    <tr>\n",
              "      <th>3</th>\n",
              "      <td>536365</td>\n",
              "      <td>84029G</td>\n",
              "      <td>KNITTED UNION FLAG HOT WATER BOTTLE</td>\n",
              "      <td>6</td>\n",
              "      <td>12/1/2010 8:26</td>\n",
              "      <td>3.39</td>\n",
              "      <td>17850.0</td>\n",
              "      <td>United Kingdom</td>\n",
              "    </tr>\n",
              "    <tr>\n",
              "      <th>4</th>\n",
              "      <td>536365</td>\n",
              "      <td>84029E</td>\n",
              "      <td>RED WOOLLY HOTTIE WHITE HEART.</td>\n",
              "      <td>6</td>\n",
              "      <td>12/1/2010 8:26</td>\n",
              "      <td>3.39</td>\n",
              "      <td>17850.0</td>\n",
              "      <td>United Kingdom</td>\n",
              "    </tr>\n",
              "  </tbody>\n",
              "</table>\n",
              "</div>\n",
              "      <button class=\"colab-df-convert\" onclick=\"convertToInteractive('df-2bc250b7-26f0-44ae-950b-ede218262ca9')\"\n",
              "              title=\"Convert this dataframe to an interactive table.\"\n",
              "              style=\"display:none;\">\n",
              "        \n",
              "  <svg xmlns=\"http://www.w3.org/2000/svg\" height=\"24px\"viewBox=\"0 0 24 24\"\n",
              "       width=\"24px\">\n",
              "    <path d=\"M0 0h24v24H0V0z\" fill=\"none\"/>\n",
              "    <path d=\"M18.56 5.44l.94 2.06.94-2.06 2.06-.94-2.06-.94-.94-2.06-.94 2.06-2.06.94zm-11 1L8.5 8.5l.94-2.06 2.06-.94-2.06-.94L8.5 2.5l-.94 2.06-2.06.94zm10 10l.94 2.06.94-2.06 2.06-.94-2.06-.94-.94-2.06-.94 2.06-2.06.94z\"/><path d=\"M17.41 7.96l-1.37-1.37c-.4-.4-.92-.59-1.43-.59-.52 0-1.04.2-1.43.59L10.3 9.45l-7.72 7.72c-.78.78-.78 2.05 0 2.83L4 21.41c.39.39.9.59 1.41.59.51 0 1.02-.2 1.41-.59l7.78-7.78 2.81-2.81c.8-.78.8-2.07 0-2.86zM5.41 20L4 18.59l7.72-7.72 1.47 1.35L5.41 20z\"/>\n",
              "  </svg>\n",
              "      </button>\n",
              "      \n",
              "  <style>\n",
              "    .colab-df-container {\n",
              "      display:flex;\n",
              "      flex-wrap:wrap;\n",
              "      gap: 12px;\n",
              "    }\n",
              "\n",
              "    .colab-df-convert {\n",
              "      background-color: #E8F0FE;\n",
              "      border: none;\n",
              "      border-radius: 50%;\n",
              "      cursor: pointer;\n",
              "      display: none;\n",
              "      fill: #1967D2;\n",
              "      height: 32px;\n",
              "      padding: 0 0 0 0;\n",
              "      width: 32px;\n",
              "    }\n",
              "\n",
              "    .colab-df-convert:hover {\n",
              "      background-color: #E2EBFA;\n",
              "      box-shadow: 0px 1px 2px rgba(60, 64, 67, 0.3), 0px 1px 3px 1px rgba(60, 64, 67, 0.15);\n",
              "      fill: #174EA6;\n",
              "    }\n",
              "\n",
              "    [theme=dark] .colab-df-convert {\n",
              "      background-color: #3B4455;\n",
              "      fill: #D2E3FC;\n",
              "    }\n",
              "\n",
              "    [theme=dark] .colab-df-convert:hover {\n",
              "      background-color: #434B5C;\n",
              "      box-shadow: 0px 1px 3px 1px rgba(0, 0, 0, 0.15);\n",
              "      filter: drop-shadow(0px 1px 2px rgba(0, 0, 0, 0.3));\n",
              "      fill: #FFFFFF;\n",
              "    }\n",
              "  </style>\n",
              "\n",
              "      <script>\n",
              "        const buttonEl =\n",
              "          document.querySelector('#df-2bc250b7-26f0-44ae-950b-ede218262ca9 button.colab-df-convert');\n",
              "        buttonEl.style.display =\n",
              "          google.colab.kernel.accessAllowed ? 'block' : 'none';\n",
              "\n",
              "        async function convertToInteractive(key) {\n",
              "          const element = document.querySelector('#df-2bc250b7-26f0-44ae-950b-ede218262ca9');\n",
              "          const dataTable =\n",
              "            await google.colab.kernel.invokeFunction('convertToInteractive',\n",
              "                                                     [key], {});\n",
              "          if (!dataTable) return;\n",
              "\n",
              "          const docLinkHtml = 'Like what you see? Visit the ' +\n",
              "            '<a target=\"_blank\" href=https://colab.research.google.com/notebooks/data_table.ipynb>data table notebook</a>'\n",
              "            + ' to learn more about interactive tables.';\n",
              "          element.innerHTML = '';\n",
              "          dataTable['output_type'] = 'display_data';\n",
              "          await google.colab.output.renderOutput(dataTable, element);\n",
              "          const docLink = document.createElement('div');\n",
              "          docLink.innerHTML = docLinkHtml;\n",
              "          element.appendChild(docLink);\n",
              "        }\n",
              "      </script>\n",
              "    </div>\n",
              "  </div>\n",
              "  "
            ]
          },
          "metadata": {},
          "execution_count": 4
        }
      ]
    },
    {
      "cell_type": "code",
      "source": [
        "df_base.info()"
      ],
      "metadata": {
        "id": "2_BnqHxvm_ro",
        "colab": {
          "base_uri": "https://localhost:8080/"
        },
        "outputId": "2c3f2152-541c-47db-ea9c-a176287399a9"
      },
      "execution_count": 5,
      "outputs": [
        {
          "output_type": "stream",
          "name": "stdout",
          "text": [
            "<class 'pandas.core.frame.DataFrame'>\n",
            "RangeIndex: 541909 entries, 0 to 541908\n",
            "Data columns (total 8 columns):\n",
            " #   Column       Non-Null Count   Dtype  \n",
            "---  ------       --------------   -----  \n",
            " 0   InvoiceNo    541909 non-null  object \n",
            " 1   StockCode    541909 non-null  object \n",
            " 2   Description  540455 non-null  object \n",
            " 3   Quantity     541909 non-null  int64  \n",
            " 4   InvoiceDate  541909 non-null  object \n",
            " 5   UnitPrice    541909 non-null  float64\n",
            " 6   CustomerID   406829 non-null  float64\n",
            " 7   Country      541909 non-null  object \n",
            "dtypes: float64(2), int64(1), object(5)\n",
            "memory usage: 33.1+ MB\n"
          ]
        }
      ]
    },
    {
      "cell_type": "code",
      "source": [
        "len(df_base['InvoiceNo'].unique().tolist()) # InvoiceNo가 primary key인가? -> Nope "
      ],
      "metadata": {
        "colab": {
          "base_uri": "https://localhost:8080/"
        },
        "id": "aWvR_7Hvez2v",
        "outputId": "06aa91af-07d5-4465-9971-6bc0a86c4273"
      },
      "execution_count": 6,
      "outputs": [
        {
          "output_type": "execute_result",
          "data": {
            "text/plain": [
              "25900"
            ]
          },
          "metadata": {},
          "execution_count": 6
        }
      ]
    },
    {
      "cell_type": "code",
      "source": [
        "print(min(df_base['Quantity'].tolist()))\n",
        "print(max(df_base['Quantity'].tolist())) # Quantity 범위 확인 "
      ],
      "metadata": {
        "colab": {
          "base_uri": "https://localhost:8080/"
        },
        "id": "JJxt9o04f_Pj",
        "outputId": "ed911da8-92d0-4bff-a4cf-428adc211189"
      },
      "execution_count": 7,
      "outputs": [
        {
          "output_type": "stream",
          "name": "stdout",
          "text": [
            "-80995\n",
            "80995\n"
          ]
        }
      ]
    },
    {
      "cell_type": "code",
      "source": [
        "quantity = df_base['Quantity'].tolist() \n",
        "\n",
        "print(len(list(filter(lambda x: x < 0, quantity)))) # quantity < 0 인 경우 \n",
        "print(len(list(filter(lambda x: x > 0, quantity)))) # quantity > 0 인 경우 "
      ],
      "metadata": {
        "colab": {
          "base_uri": "https://localhost:8080/"
        },
        "id": "uN5O4EUEjDTY",
        "outputId": "488f97de-c66f-47a1-c076-7d3afc9001d0"
      },
      "execution_count": 8,
      "outputs": [
        {
          "output_type": "stream",
          "name": "stdout",
          "text": [
            "10624\n",
            "531285\n"
          ]
        }
      ]
    },
    {
      "cell_type": "code",
      "source": [
        "sum(df_base['Quantity'].dropna())"
      ],
      "metadata": {
        "colab": {
          "base_uri": "https://localhost:8080/"
        },
        "id": "uZy3IDeJkZXt",
        "outputId": "b9e76d97-dfa6-4700-f8e1-b36050a17e44"
      },
      "execution_count": 9,
      "outputs": [
        {
          "output_type": "execute_result",
          "data": {
            "text/plain": [
              "5176450"
            ]
          },
          "metadata": {},
          "execution_count": 9
        }
      ]
    },
    {
      "cell_type": "code",
      "source": [
        "# df_base['Country'].unique().tolist() # Country 고유값"
      ],
      "metadata": {
        "id": "Kj93KJb0j_wv"
      },
      "execution_count": 10,
      "outputs": []
    },
    {
      "cell_type": "code",
      "source": [
        "# df_base.groupby(['Country']).agg(country_cnt = ('Country', 'count')).reset_index().sort_values(by = 'country_cnt', ascending =False)"
      ],
      "metadata": {
        "id": "0yMsWqWUggZo"
      },
      "execution_count": 11,
      "outputs": []
    },
    {
      "cell_type": "code",
      "source": [],
      "metadata": {
        "id": "D0TkvYPYkKmH"
      },
      "execution_count": 11,
      "outputs": []
    },
    {
      "cell_type": "markdown",
      "source": [
        "#_1. 데이터 전처리"
      ],
      "metadata": {
        "id": "ti33bHpqjHcM"
      }
    },
    {
      "cell_type": "code",
      "source": [
        "df_base.columns"
      ],
      "metadata": {
        "colab": {
          "base_uri": "https://localhost:8080/"
        },
        "id": "w6bRje4sk9RU",
        "outputId": "2a39b4f4-ec2c-4f6e-d44f-f1025f26b6b9"
      },
      "execution_count": 12,
      "outputs": [
        {
          "output_type": "execute_result",
          "data": {
            "text/plain": [
              "Index(['InvoiceNo', 'StockCode', 'Description', 'Quantity', 'InvoiceDate',\n",
              "       'UnitPrice', 'CustomerID', 'Country'],\n",
              "      dtype='object')"
            ]
          },
          "metadata": {},
          "execution_count": 12
        }
      ]
    },
    {
      "cell_type": "markdown",
      "source": [
        "## 1.1 컬럼명 바꾸기 "
      ],
      "metadata": {
        "id": "xl1-Nfk3oF1q"
      }
    },
    {
      "cell_type": "code",
      "source": [
        "# 컬럼 이름 snake case 로 rename \n",
        "%%time\n",
        "df_base.rename(columns = {'InvoiceNo':'invoice_no', \n",
        "                        'StockCode':'stock_code', \n",
        "                        'Quantity': 'quantity',\n",
        "                        'Description':'description',\n",
        "                        'InvoiceDate': 'invoice_date',\n",
        "                        'UnitPrice': 'unit_price', \n",
        "                        'CustomerID': 'customer_id', \n",
        "                        'Country':'country'}, inplace = True)"
      ],
      "metadata": {
        "colab": {
          "base_uri": "https://localhost:8080/"
        },
        "id": "lySixIr-mfOi",
        "outputId": "0ca80994-8fc0-4caf-d5eb-4323e444d8fe"
      },
      "execution_count": 13,
      "outputs": [
        {
          "output_type": "stream",
          "name": "stdout",
          "text": [
            "CPU times: user 1.04 ms, sys: 2 µs, total: 1.04 ms\n",
            "Wall time: 1.05 ms\n"
          ]
        }
      ]
    },
    {
      "cell_type": "code",
      "source": [
        "LTV_columns = ['invoice_no', 'stock_code', 'quantity', 'invoice_date', 'unit_price', 'customer_id']\n",
        "df_LTV = df_base[LTV_columns]"
      ],
      "metadata": {
        "id": "7hox0TK9jaDb"
      },
      "execution_count": 14,
      "outputs": []
    },
    {
      "cell_type": "code",
      "source": [
        "df_LTV.info()"
      ],
      "metadata": {
        "colab": {
          "base_uri": "https://localhost:8080/"
        },
        "id": "7YGWzEx2ome6",
        "outputId": "490114cb-8e7c-4c48-ec10-37fed94a63dd"
      },
      "execution_count": 15,
      "outputs": [
        {
          "output_type": "stream",
          "name": "stdout",
          "text": [
            "<class 'pandas.core.frame.DataFrame'>\n",
            "RangeIndex: 541909 entries, 0 to 541908\n",
            "Data columns (total 6 columns):\n",
            " #   Column        Non-Null Count   Dtype  \n",
            "---  ------        --------------   -----  \n",
            " 0   invoice_no    541909 non-null  object \n",
            " 1   stock_code    541909 non-null  object \n",
            " 2   quantity      541909 non-null  int64  \n",
            " 3   invoice_date  541909 non-null  object \n",
            " 4   unit_price    541909 non-null  float64\n",
            " 5   customer_id   406829 non-null  float64\n",
            "dtypes: float64(2), int64(1), object(3)\n",
            "memory usage: 24.8+ MB\n"
          ]
        }
      ]
    },
    {
      "cell_type": "markdown",
      "source": [
        "## 1.2 결측값 처리 \n",
        "- customer_id: \n",
        "  - 결측값 = 비회원으로 추정\n",
        "  - 추후 LTV 계산에서 활용하지는 않을 것이지만 fillna(0)\n",
        "  - object로 타입 변환 "
      ],
      "metadata": {
        "id": "dc_8tbfBo2SA"
      }
    },
    {
      "cell_type": "code",
      "source": [
        "df_LTV_01 = df_LTV.copy()"
      ],
      "metadata": {
        "id": "Oob_5A2Ks-TC"
      },
      "execution_count": 16,
      "outputs": []
    },
    {
      "cell_type": "code",
      "source": [
        "## customer_id type 변환해도될지 체크 \n",
        "%%time \n",
        "list(filter(lambda x: str(x)[-1] != '0', df_LTV_01['customer_id'].unique().tolist()))"
      ],
      "metadata": {
        "id": "AO0zHkF3jaG8",
        "colab": {
          "base_uri": "https://localhost:8080/"
        },
        "outputId": "57ed3383-4edf-421a-cb80-11d009605323"
      },
      "execution_count": 17,
      "outputs": [
        {
          "output_type": "stream",
          "name": "stdout",
          "text": [
            "CPU times: user 11.6 ms, sys: 7.06 ms, total: 18.6 ms\n",
            "Wall time: 23.8 ms\n"
          ]
        },
        {
          "output_type": "execute_result",
          "data": {
            "text/plain": [
              "[nan]"
            ]
          },
          "metadata": {},
          "execution_count": 17
        }
      ]
    },
    {
      "cell_type": "code",
      "source": [
        "df_LTV_01['customer_id'].isna().sum() # customer_id 결측값 확인 "
      ],
      "metadata": {
        "colab": {
          "base_uri": "https://localhost:8080/"
        },
        "id": "9vI9yZQloOAL",
        "outputId": "d89574a4-25b3-45c7-8b33-de7d207d4c03"
      },
      "execution_count": 18,
      "outputs": [
        {
          "output_type": "execute_result",
          "data": {
            "text/plain": [
              "135080"
            ]
          },
          "metadata": {},
          "execution_count": 18
        }
      ]
    },
    {
      "cell_type": "code",
      "source": [
        "df_LTV_01.sample(5)"
      ],
      "metadata": {
        "colab": {
          "base_uri": "https://localhost:8080/",
          "height": 206
        },
        "id": "FE4tFKrYoUIw",
        "outputId": "8505ff95-b6c6-420f-89de-1f3598b3494b"
      },
      "execution_count": 19,
      "outputs": [
        {
          "output_type": "execute_result",
          "data": {
            "text/plain": [
              "       invoice_no stock_code  quantity      invoice_date  unit_price  \\\n",
              "188487     553037      22423        32    5/13/2011 8:10       10.95   \n",
              "213087     555519      21934        18    6/5/2011 11:02        1.65   \n",
              "129071     547374      22570         1   3/22/2011 13:54        3.75   \n",
              "510257     579442      22325         3  11/29/2011 13:37        4.95   \n",
              "129384     547385      84678         1   3/22/2011 15:48        4.96   \n",
              "\n",
              "        customer_id  \n",
              "188487      12471.0  \n",
              "213087      16682.0  \n",
              "129071      16110.0  \n",
              "510257      15152.0  \n",
              "129384          NaN  "
            ],
            "text/html": [
              "\n",
              "  <div id=\"df-ef19bb0c-fc4d-48f5-9010-67be9fec478b\">\n",
              "    <div class=\"colab-df-container\">\n",
              "      <div>\n",
              "<style scoped>\n",
              "    .dataframe tbody tr th:only-of-type {\n",
              "        vertical-align: middle;\n",
              "    }\n",
              "\n",
              "    .dataframe tbody tr th {\n",
              "        vertical-align: top;\n",
              "    }\n",
              "\n",
              "    .dataframe thead th {\n",
              "        text-align: right;\n",
              "    }\n",
              "</style>\n",
              "<table border=\"1\" class=\"dataframe\">\n",
              "  <thead>\n",
              "    <tr style=\"text-align: right;\">\n",
              "      <th></th>\n",
              "      <th>invoice_no</th>\n",
              "      <th>stock_code</th>\n",
              "      <th>quantity</th>\n",
              "      <th>invoice_date</th>\n",
              "      <th>unit_price</th>\n",
              "      <th>customer_id</th>\n",
              "    </tr>\n",
              "  </thead>\n",
              "  <tbody>\n",
              "    <tr>\n",
              "      <th>188487</th>\n",
              "      <td>553037</td>\n",
              "      <td>22423</td>\n",
              "      <td>32</td>\n",
              "      <td>5/13/2011 8:10</td>\n",
              "      <td>10.95</td>\n",
              "      <td>12471.0</td>\n",
              "    </tr>\n",
              "    <tr>\n",
              "      <th>213087</th>\n",
              "      <td>555519</td>\n",
              "      <td>21934</td>\n",
              "      <td>18</td>\n",
              "      <td>6/5/2011 11:02</td>\n",
              "      <td>1.65</td>\n",
              "      <td>16682.0</td>\n",
              "    </tr>\n",
              "    <tr>\n",
              "      <th>129071</th>\n",
              "      <td>547374</td>\n",
              "      <td>22570</td>\n",
              "      <td>1</td>\n",
              "      <td>3/22/2011 13:54</td>\n",
              "      <td>3.75</td>\n",
              "      <td>16110.0</td>\n",
              "    </tr>\n",
              "    <tr>\n",
              "      <th>510257</th>\n",
              "      <td>579442</td>\n",
              "      <td>22325</td>\n",
              "      <td>3</td>\n",
              "      <td>11/29/2011 13:37</td>\n",
              "      <td>4.95</td>\n",
              "      <td>15152.0</td>\n",
              "    </tr>\n",
              "    <tr>\n",
              "      <th>129384</th>\n",
              "      <td>547385</td>\n",
              "      <td>84678</td>\n",
              "      <td>1</td>\n",
              "      <td>3/22/2011 15:48</td>\n",
              "      <td>4.96</td>\n",
              "      <td>NaN</td>\n",
              "    </tr>\n",
              "  </tbody>\n",
              "</table>\n",
              "</div>\n",
              "      <button class=\"colab-df-convert\" onclick=\"convertToInteractive('df-ef19bb0c-fc4d-48f5-9010-67be9fec478b')\"\n",
              "              title=\"Convert this dataframe to an interactive table.\"\n",
              "              style=\"display:none;\">\n",
              "        \n",
              "  <svg xmlns=\"http://www.w3.org/2000/svg\" height=\"24px\"viewBox=\"0 0 24 24\"\n",
              "       width=\"24px\">\n",
              "    <path d=\"M0 0h24v24H0V0z\" fill=\"none\"/>\n",
              "    <path d=\"M18.56 5.44l.94 2.06.94-2.06 2.06-.94-2.06-.94-.94-2.06-.94 2.06-2.06.94zm-11 1L8.5 8.5l.94-2.06 2.06-.94-2.06-.94L8.5 2.5l-.94 2.06-2.06.94zm10 10l.94 2.06.94-2.06 2.06-.94-2.06-.94-.94-2.06-.94 2.06-2.06.94z\"/><path d=\"M17.41 7.96l-1.37-1.37c-.4-.4-.92-.59-1.43-.59-.52 0-1.04.2-1.43.59L10.3 9.45l-7.72 7.72c-.78.78-.78 2.05 0 2.83L4 21.41c.39.39.9.59 1.41.59.51 0 1.02-.2 1.41-.59l7.78-7.78 2.81-2.81c.8-.78.8-2.07 0-2.86zM5.41 20L4 18.59l7.72-7.72 1.47 1.35L5.41 20z\"/>\n",
              "  </svg>\n",
              "      </button>\n",
              "      \n",
              "  <style>\n",
              "    .colab-df-container {\n",
              "      display:flex;\n",
              "      flex-wrap:wrap;\n",
              "      gap: 12px;\n",
              "    }\n",
              "\n",
              "    .colab-df-convert {\n",
              "      background-color: #E8F0FE;\n",
              "      border: none;\n",
              "      border-radius: 50%;\n",
              "      cursor: pointer;\n",
              "      display: none;\n",
              "      fill: #1967D2;\n",
              "      height: 32px;\n",
              "      padding: 0 0 0 0;\n",
              "      width: 32px;\n",
              "    }\n",
              "\n",
              "    .colab-df-convert:hover {\n",
              "      background-color: #E2EBFA;\n",
              "      box-shadow: 0px 1px 2px rgba(60, 64, 67, 0.3), 0px 1px 3px 1px rgba(60, 64, 67, 0.15);\n",
              "      fill: #174EA6;\n",
              "    }\n",
              "\n",
              "    [theme=dark] .colab-df-convert {\n",
              "      background-color: #3B4455;\n",
              "      fill: #D2E3FC;\n",
              "    }\n",
              "\n",
              "    [theme=dark] .colab-df-convert:hover {\n",
              "      background-color: #434B5C;\n",
              "      box-shadow: 0px 1px 3px 1px rgba(0, 0, 0, 0.15);\n",
              "      filter: drop-shadow(0px 1px 2px rgba(0, 0, 0, 0.3));\n",
              "      fill: #FFFFFF;\n",
              "    }\n",
              "  </style>\n",
              "\n",
              "      <script>\n",
              "        const buttonEl =\n",
              "          document.querySelector('#df-ef19bb0c-fc4d-48f5-9010-67be9fec478b button.colab-df-convert');\n",
              "        buttonEl.style.display =\n",
              "          google.colab.kernel.accessAllowed ? 'block' : 'none';\n",
              "\n",
              "        async function convertToInteractive(key) {\n",
              "          const element = document.querySelector('#df-ef19bb0c-fc4d-48f5-9010-67be9fec478b');\n",
              "          const dataTable =\n",
              "            await google.colab.kernel.invokeFunction('convertToInteractive',\n",
              "                                                     [key], {});\n",
              "          if (!dataTable) return;\n",
              "\n",
              "          const docLinkHtml = 'Like what you see? Visit the ' +\n",
              "            '<a target=\"_blank\" href=https://colab.research.google.com/notebooks/data_table.ipynb>data table notebook</a>'\n",
              "            + ' to learn more about interactive tables.';\n",
              "          element.innerHTML = '';\n",
              "          dataTable['output_type'] = 'display_data';\n",
              "          await google.colab.output.renderOutput(dataTable, element);\n",
              "          const docLink = document.createElement('div');\n",
              "          docLink.innerHTML = docLinkHtml;\n",
              "          element.appendChild(docLink);\n",
              "        }\n",
              "      </script>\n",
              "    </div>\n",
              "  </div>\n",
              "  "
            ]
          },
          "metadata": {},
          "execution_count": 19
        }
      ]
    },
    {
      "cell_type": "code",
      "source": [
        "df_LTV_01[df_LTV_01['invoice_no'] == '536865' ] # 비회원으로 추정, LTV 계산에서 활용 불가 "
      ],
      "metadata": {
        "colab": {
          "base_uri": "https://localhost:8080/",
          "height": 423
        },
        "id": "dn-djSJqo_RN",
        "outputId": "cbf87972-6b9d-4074-87a3-8ab712e2f423"
      },
      "execution_count": 20,
      "outputs": [
        {
          "output_type": "execute_result",
          "data": {
            "text/plain": [
              "     invoice_no stock_code  quantity     invoice_date  unit_price  customer_id\n",
              "5546     536865      10002         5  12/3/2010 11:28        1.66          NaN\n",
              "5547     536865    15056bl         2  12/3/2010 11:28       12.72          NaN\n",
              "5548     536865     18098c         7  12/3/2010 11:28        5.06          NaN\n",
              "5549     536865      20615         1  12/3/2010 11:28        4.21          NaN\n",
              "5550     536865      20655         1  12/3/2010 11:28        2.51          NaN\n",
              "...         ...        ...       ...              ...         ...          ...\n",
              "5681     536865     85099B         1  12/3/2010 11:28        4.21          NaN\n",
              "5682     536865      85152         1  12/3/2010 11:28        4.21          NaN\n",
              "5683     536865      85176         1  12/3/2010 11:28        1.66          NaN\n",
              "5684     536865          M         1  12/3/2010 11:28        2.55          NaN\n",
              "5685     536865        DOT         1  12/3/2010 11:28      498.47          NaN\n",
              "\n",
              "[140 rows x 6 columns]"
            ],
            "text/html": [
              "\n",
              "  <div id=\"df-415598a8-f8cd-422e-a99a-ac7539325e53\">\n",
              "    <div class=\"colab-df-container\">\n",
              "      <div>\n",
              "<style scoped>\n",
              "    .dataframe tbody tr th:only-of-type {\n",
              "        vertical-align: middle;\n",
              "    }\n",
              "\n",
              "    .dataframe tbody tr th {\n",
              "        vertical-align: top;\n",
              "    }\n",
              "\n",
              "    .dataframe thead th {\n",
              "        text-align: right;\n",
              "    }\n",
              "</style>\n",
              "<table border=\"1\" class=\"dataframe\">\n",
              "  <thead>\n",
              "    <tr style=\"text-align: right;\">\n",
              "      <th></th>\n",
              "      <th>invoice_no</th>\n",
              "      <th>stock_code</th>\n",
              "      <th>quantity</th>\n",
              "      <th>invoice_date</th>\n",
              "      <th>unit_price</th>\n",
              "      <th>customer_id</th>\n",
              "    </tr>\n",
              "  </thead>\n",
              "  <tbody>\n",
              "    <tr>\n",
              "      <th>5546</th>\n",
              "      <td>536865</td>\n",
              "      <td>10002</td>\n",
              "      <td>5</td>\n",
              "      <td>12/3/2010 11:28</td>\n",
              "      <td>1.66</td>\n",
              "      <td>NaN</td>\n",
              "    </tr>\n",
              "    <tr>\n",
              "      <th>5547</th>\n",
              "      <td>536865</td>\n",
              "      <td>15056bl</td>\n",
              "      <td>2</td>\n",
              "      <td>12/3/2010 11:28</td>\n",
              "      <td>12.72</td>\n",
              "      <td>NaN</td>\n",
              "    </tr>\n",
              "    <tr>\n",
              "      <th>5548</th>\n",
              "      <td>536865</td>\n",
              "      <td>18098c</td>\n",
              "      <td>7</td>\n",
              "      <td>12/3/2010 11:28</td>\n",
              "      <td>5.06</td>\n",
              "      <td>NaN</td>\n",
              "    </tr>\n",
              "    <tr>\n",
              "      <th>5549</th>\n",
              "      <td>536865</td>\n",
              "      <td>20615</td>\n",
              "      <td>1</td>\n",
              "      <td>12/3/2010 11:28</td>\n",
              "      <td>4.21</td>\n",
              "      <td>NaN</td>\n",
              "    </tr>\n",
              "    <tr>\n",
              "      <th>5550</th>\n",
              "      <td>536865</td>\n",
              "      <td>20655</td>\n",
              "      <td>1</td>\n",
              "      <td>12/3/2010 11:28</td>\n",
              "      <td>2.51</td>\n",
              "      <td>NaN</td>\n",
              "    </tr>\n",
              "    <tr>\n",
              "      <th>...</th>\n",
              "      <td>...</td>\n",
              "      <td>...</td>\n",
              "      <td>...</td>\n",
              "      <td>...</td>\n",
              "      <td>...</td>\n",
              "      <td>...</td>\n",
              "    </tr>\n",
              "    <tr>\n",
              "      <th>5681</th>\n",
              "      <td>536865</td>\n",
              "      <td>85099B</td>\n",
              "      <td>1</td>\n",
              "      <td>12/3/2010 11:28</td>\n",
              "      <td>4.21</td>\n",
              "      <td>NaN</td>\n",
              "    </tr>\n",
              "    <tr>\n",
              "      <th>5682</th>\n",
              "      <td>536865</td>\n",
              "      <td>85152</td>\n",
              "      <td>1</td>\n",
              "      <td>12/3/2010 11:28</td>\n",
              "      <td>4.21</td>\n",
              "      <td>NaN</td>\n",
              "    </tr>\n",
              "    <tr>\n",
              "      <th>5683</th>\n",
              "      <td>536865</td>\n",
              "      <td>85176</td>\n",
              "      <td>1</td>\n",
              "      <td>12/3/2010 11:28</td>\n",
              "      <td>1.66</td>\n",
              "      <td>NaN</td>\n",
              "    </tr>\n",
              "    <tr>\n",
              "      <th>5684</th>\n",
              "      <td>536865</td>\n",
              "      <td>M</td>\n",
              "      <td>1</td>\n",
              "      <td>12/3/2010 11:28</td>\n",
              "      <td>2.55</td>\n",
              "      <td>NaN</td>\n",
              "    </tr>\n",
              "    <tr>\n",
              "      <th>5685</th>\n",
              "      <td>536865</td>\n",
              "      <td>DOT</td>\n",
              "      <td>1</td>\n",
              "      <td>12/3/2010 11:28</td>\n",
              "      <td>498.47</td>\n",
              "      <td>NaN</td>\n",
              "    </tr>\n",
              "  </tbody>\n",
              "</table>\n",
              "<p>140 rows × 6 columns</p>\n",
              "</div>\n",
              "      <button class=\"colab-df-convert\" onclick=\"convertToInteractive('df-415598a8-f8cd-422e-a99a-ac7539325e53')\"\n",
              "              title=\"Convert this dataframe to an interactive table.\"\n",
              "              style=\"display:none;\">\n",
              "        \n",
              "  <svg xmlns=\"http://www.w3.org/2000/svg\" height=\"24px\"viewBox=\"0 0 24 24\"\n",
              "       width=\"24px\">\n",
              "    <path d=\"M0 0h24v24H0V0z\" fill=\"none\"/>\n",
              "    <path d=\"M18.56 5.44l.94 2.06.94-2.06 2.06-.94-2.06-.94-.94-2.06-.94 2.06-2.06.94zm-11 1L8.5 8.5l.94-2.06 2.06-.94-2.06-.94L8.5 2.5l-.94 2.06-2.06.94zm10 10l.94 2.06.94-2.06 2.06-.94-2.06-.94-.94-2.06-.94 2.06-2.06.94z\"/><path d=\"M17.41 7.96l-1.37-1.37c-.4-.4-.92-.59-1.43-.59-.52 0-1.04.2-1.43.59L10.3 9.45l-7.72 7.72c-.78.78-.78 2.05 0 2.83L4 21.41c.39.39.9.59 1.41.59.51 0 1.02-.2 1.41-.59l7.78-7.78 2.81-2.81c.8-.78.8-2.07 0-2.86zM5.41 20L4 18.59l7.72-7.72 1.47 1.35L5.41 20z\"/>\n",
              "  </svg>\n",
              "      </button>\n",
              "      \n",
              "  <style>\n",
              "    .colab-df-container {\n",
              "      display:flex;\n",
              "      flex-wrap:wrap;\n",
              "      gap: 12px;\n",
              "    }\n",
              "\n",
              "    .colab-df-convert {\n",
              "      background-color: #E8F0FE;\n",
              "      border: none;\n",
              "      border-radius: 50%;\n",
              "      cursor: pointer;\n",
              "      display: none;\n",
              "      fill: #1967D2;\n",
              "      height: 32px;\n",
              "      padding: 0 0 0 0;\n",
              "      width: 32px;\n",
              "    }\n",
              "\n",
              "    .colab-df-convert:hover {\n",
              "      background-color: #E2EBFA;\n",
              "      box-shadow: 0px 1px 2px rgba(60, 64, 67, 0.3), 0px 1px 3px 1px rgba(60, 64, 67, 0.15);\n",
              "      fill: #174EA6;\n",
              "    }\n",
              "\n",
              "    [theme=dark] .colab-df-convert {\n",
              "      background-color: #3B4455;\n",
              "      fill: #D2E3FC;\n",
              "    }\n",
              "\n",
              "    [theme=dark] .colab-df-convert:hover {\n",
              "      background-color: #434B5C;\n",
              "      box-shadow: 0px 1px 3px 1px rgba(0, 0, 0, 0.15);\n",
              "      filter: drop-shadow(0px 1px 2px rgba(0, 0, 0, 0.3));\n",
              "      fill: #FFFFFF;\n",
              "    }\n",
              "  </style>\n",
              "\n",
              "      <script>\n",
              "        const buttonEl =\n",
              "          document.querySelector('#df-415598a8-f8cd-422e-a99a-ac7539325e53 button.colab-df-convert');\n",
              "        buttonEl.style.display =\n",
              "          google.colab.kernel.accessAllowed ? 'block' : 'none';\n",
              "\n",
              "        async function convertToInteractive(key) {\n",
              "          const element = document.querySelector('#df-415598a8-f8cd-422e-a99a-ac7539325e53');\n",
              "          const dataTable =\n",
              "            await google.colab.kernel.invokeFunction('convertToInteractive',\n",
              "                                                     [key], {});\n",
              "          if (!dataTable) return;\n",
              "\n",
              "          const docLinkHtml = 'Like what you see? Visit the ' +\n",
              "            '<a target=\"_blank\" href=https://colab.research.google.com/notebooks/data_table.ipynb>data table notebook</a>'\n",
              "            + ' to learn more about interactive tables.';\n",
              "          element.innerHTML = '';\n",
              "          dataTable['output_type'] = 'display_data';\n",
              "          await google.colab.output.renderOutput(dataTable, element);\n",
              "          const docLink = document.createElement('div');\n",
              "          docLink.innerHTML = docLinkHtml;\n",
              "          element.appendChild(docLink);\n",
              "        }\n",
              "      </script>\n",
              "    </div>\n",
              "  </div>\n",
              "  "
            ]
          },
          "metadata": {},
          "execution_count": 20
        }
      ]
    },
    {
      "cell_type": "code",
      "source": [
        "df_LTV_01['customer_id'] = df_LTV_01['customer_id'].fillna(0)"
      ],
      "metadata": {
        "id": "8tOncEeMpiHM"
      },
      "execution_count": 21,
      "outputs": []
    },
    {
      "cell_type": "code",
      "source": [
        "df_LTV_01['customer_id'].isna().sum() # customer_id"
      ],
      "metadata": {
        "colab": {
          "base_uri": "https://localhost:8080/"
        },
        "id": "FFB05nArrGya",
        "outputId": "f18a9784-666a-4908-b01e-86b0b89bdad2"
      },
      "execution_count": 22,
      "outputs": [
        {
          "output_type": "execute_result",
          "data": {
            "text/plain": [
              "0"
            ]
          },
          "metadata": {},
          "execution_count": 22
        }
      ]
    },
    {
      "cell_type": "code",
      "source": [
        "%%time \n",
        "df_LTV_01 = df_LTV_01.astype({'customer_id' : 'int'}) # float 였으므로 .0 없애기 위해 먼저 int로 변환 \n",
        "df_LTV_01 = df_LTV_01.astype({'customer_id' : 'str'})"
      ],
      "metadata": {
        "colab": {
          "base_uri": "https://localhost:8080/"
        },
        "id": "AMLx6x7KmI0k",
        "outputId": "a22c04fe-e607-4275-beed-ec153dc7a55b"
      },
      "execution_count": 23,
      "outputs": [
        {
          "output_type": "stream",
          "name": "stdout",
          "text": [
            "CPU times: user 267 ms, sys: 52 ms, total: 319 ms\n",
            "Wall time: 339 ms\n"
          ]
        }
      ]
    },
    {
      "cell_type": "code",
      "source": [
        "## invoice_no, stock_code도 type str로 변경 \n",
        "df_LTV_01 = df_LTV_01.astype({'invoice_no' : 'str'})\n",
        "df_LTV_01 = df_LTV_01.astype({'stock_code' : 'str'})"
      ],
      "metadata": {
        "id": "LXLfr5tSjEF9"
      },
      "execution_count": 24,
      "outputs": []
    },
    {
      "cell_type": "code",
      "source": [
        "df_LTV_01.info()"
      ],
      "metadata": {
        "colab": {
          "base_uri": "https://localhost:8080/"
        },
        "id": "oOb2IQ5Andim",
        "outputId": "d0c006a7-d1ca-4583-9109-8ea9d8600ec5"
      },
      "execution_count": 25,
      "outputs": [
        {
          "output_type": "stream",
          "name": "stdout",
          "text": [
            "<class 'pandas.core.frame.DataFrame'>\n",
            "RangeIndex: 541909 entries, 0 to 541908\n",
            "Data columns (total 6 columns):\n",
            " #   Column        Non-Null Count   Dtype  \n",
            "---  ------        --------------   -----  \n",
            " 0   invoice_no    541909 non-null  object \n",
            " 1   stock_code    541909 non-null  object \n",
            " 2   quantity      541909 non-null  int64  \n",
            " 3   invoice_date  541909 non-null  object \n",
            " 4   unit_price    541909 non-null  float64\n",
            " 5   customer_id   541909 non-null  object \n",
            "dtypes: float64(1), int64(1), object(4)\n",
            "memory usage: 24.8+ MB\n"
          ]
        }
      ]
    },
    {
      "cell_type": "markdown",
      "source": [
        "## 1.3 invoice_date\n",
        "- 현재 type: object -> datetime으로 변경 "
      ],
      "metadata": {
        "id": "sGr3iLrfu4wm"
      }
    },
    {
      "cell_type": "code",
      "source": [
        "df_LTV_01.sample(10)"
      ],
      "metadata": {
        "colab": {
          "base_uri": "https://localhost:8080/",
          "height": 362
        },
        "id": "OUbnOvF_vkrU",
        "outputId": "2a2723a6-8e75-484f-e17c-9a68894e3e22"
      },
      "execution_count": 26,
      "outputs": [
        {
          "output_type": "execute_result",
          "data": {
            "text/plain": [
              "       invoice_no stock_code  quantity      invoice_date  unit_price  \\\n",
              "219654     556106      23049         5    6/8/2011 16:54        8.25   \n",
              "198208     554016      22138         2   5/20/2011 13:14        4.95   \n",
              "233310     557468      82486         2   6/20/2011 13:14        8.95   \n",
              "146370     548987      23154        12    4/5/2011 12:50        2.08   \n",
              "522002     580367      82580         3   12/2/2011 16:39        1.25   \n",
              "319607     564857      22886         2    8/31/2011 9:23        4.13   \n",
              "336082     566301      22564         1   9/11/2011 16:06        1.25   \n",
              "39080      539631      20775         6  12/20/2010 15:03        3.36   \n",
              "47089      540373      21539         3    1/6/2011 17:10        4.95   \n",
              "30454      538866      21623         1  12/14/2010 14:40        9.95   \n",
              "\n",
              "       customer_id  \n",
              "219654       14056  \n",
              "198208       13243  \n",
              "233310       16713  \n",
              "146370       14535  \n",
              "522002           0  \n",
              "319607           0  \n",
              "336082       16474  \n",
              "39080            0  \n",
              "47089        13280  \n",
              "30454        17841  "
            ],
            "text/html": [
              "\n",
              "  <div id=\"df-47bcf023-d81e-4ef3-a19c-8d35078ce13f\">\n",
              "    <div class=\"colab-df-container\">\n",
              "      <div>\n",
              "<style scoped>\n",
              "    .dataframe tbody tr th:only-of-type {\n",
              "        vertical-align: middle;\n",
              "    }\n",
              "\n",
              "    .dataframe tbody tr th {\n",
              "        vertical-align: top;\n",
              "    }\n",
              "\n",
              "    .dataframe thead th {\n",
              "        text-align: right;\n",
              "    }\n",
              "</style>\n",
              "<table border=\"1\" class=\"dataframe\">\n",
              "  <thead>\n",
              "    <tr style=\"text-align: right;\">\n",
              "      <th></th>\n",
              "      <th>invoice_no</th>\n",
              "      <th>stock_code</th>\n",
              "      <th>quantity</th>\n",
              "      <th>invoice_date</th>\n",
              "      <th>unit_price</th>\n",
              "      <th>customer_id</th>\n",
              "    </tr>\n",
              "  </thead>\n",
              "  <tbody>\n",
              "    <tr>\n",
              "      <th>219654</th>\n",
              "      <td>556106</td>\n",
              "      <td>23049</td>\n",
              "      <td>5</td>\n",
              "      <td>6/8/2011 16:54</td>\n",
              "      <td>8.25</td>\n",
              "      <td>14056</td>\n",
              "    </tr>\n",
              "    <tr>\n",
              "      <th>198208</th>\n",
              "      <td>554016</td>\n",
              "      <td>22138</td>\n",
              "      <td>2</td>\n",
              "      <td>5/20/2011 13:14</td>\n",
              "      <td>4.95</td>\n",
              "      <td>13243</td>\n",
              "    </tr>\n",
              "    <tr>\n",
              "      <th>233310</th>\n",
              "      <td>557468</td>\n",
              "      <td>82486</td>\n",
              "      <td>2</td>\n",
              "      <td>6/20/2011 13:14</td>\n",
              "      <td>8.95</td>\n",
              "      <td>16713</td>\n",
              "    </tr>\n",
              "    <tr>\n",
              "      <th>146370</th>\n",
              "      <td>548987</td>\n",
              "      <td>23154</td>\n",
              "      <td>12</td>\n",
              "      <td>4/5/2011 12:50</td>\n",
              "      <td>2.08</td>\n",
              "      <td>14535</td>\n",
              "    </tr>\n",
              "    <tr>\n",
              "      <th>522002</th>\n",
              "      <td>580367</td>\n",
              "      <td>82580</td>\n",
              "      <td>3</td>\n",
              "      <td>12/2/2011 16:39</td>\n",
              "      <td>1.25</td>\n",
              "      <td>0</td>\n",
              "    </tr>\n",
              "    <tr>\n",
              "      <th>319607</th>\n",
              "      <td>564857</td>\n",
              "      <td>22886</td>\n",
              "      <td>2</td>\n",
              "      <td>8/31/2011 9:23</td>\n",
              "      <td>4.13</td>\n",
              "      <td>0</td>\n",
              "    </tr>\n",
              "    <tr>\n",
              "      <th>336082</th>\n",
              "      <td>566301</td>\n",
              "      <td>22564</td>\n",
              "      <td>1</td>\n",
              "      <td>9/11/2011 16:06</td>\n",
              "      <td>1.25</td>\n",
              "      <td>16474</td>\n",
              "    </tr>\n",
              "    <tr>\n",
              "      <th>39080</th>\n",
              "      <td>539631</td>\n",
              "      <td>20775</td>\n",
              "      <td>6</td>\n",
              "      <td>12/20/2010 15:03</td>\n",
              "      <td>3.36</td>\n",
              "      <td>0</td>\n",
              "    </tr>\n",
              "    <tr>\n",
              "      <th>47089</th>\n",
              "      <td>540373</td>\n",
              "      <td>21539</td>\n",
              "      <td>3</td>\n",
              "      <td>1/6/2011 17:10</td>\n",
              "      <td>4.95</td>\n",
              "      <td>13280</td>\n",
              "    </tr>\n",
              "    <tr>\n",
              "      <th>30454</th>\n",
              "      <td>538866</td>\n",
              "      <td>21623</td>\n",
              "      <td>1</td>\n",
              "      <td>12/14/2010 14:40</td>\n",
              "      <td>9.95</td>\n",
              "      <td>17841</td>\n",
              "    </tr>\n",
              "  </tbody>\n",
              "</table>\n",
              "</div>\n",
              "      <button class=\"colab-df-convert\" onclick=\"convertToInteractive('df-47bcf023-d81e-4ef3-a19c-8d35078ce13f')\"\n",
              "              title=\"Convert this dataframe to an interactive table.\"\n",
              "              style=\"display:none;\">\n",
              "        \n",
              "  <svg xmlns=\"http://www.w3.org/2000/svg\" height=\"24px\"viewBox=\"0 0 24 24\"\n",
              "       width=\"24px\">\n",
              "    <path d=\"M0 0h24v24H0V0z\" fill=\"none\"/>\n",
              "    <path d=\"M18.56 5.44l.94 2.06.94-2.06 2.06-.94-2.06-.94-.94-2.06-.94 2.06-2.06.94zm-11 1L8.5 8.5l.94-2.06 2.06-.94-2.06-.94L8.5 2.5l-.94 2.06-2.06.94zm10 10l.94 2.06.94-2.06 2.06-.94-2.06-.94-.94-2.06-.94 2.06-2.06.94z\"/><path d=\"M17.41 7.96l-1.37-1.37c-.4-.4-.92-.59-1.43-.59-.52 0-1.04.2-1.43.59L10.3 9.45l-7.72 7.72c-.78.78-.78 2.05 0 2.83L4 21.41c.39.39.9.59 1.41.59.51 0 1.02-.2 1.41-.59l7.78-7.78 2.81-2.81c.8-.78.8-2.07 0-2.86zM5.41 20L4 18.59l7.72-7.72 1.47 1.35L5.41 20z\"/>\n",
              "  </svg>\n",
              "      </button>\n",
              "      \n",
              "  <style>\n",
              "    .colab-df-container {\n",
              "      display:flex;\n",
              "      flex-wrap:wrap;\n",
              "      gap: 12px;\n",
              "    }\n",
              "\n",
              "    .colab-df-convert {\n",
              "      background-color: #E8F0FE;\n",
              "      border: none;\n",
              "      border-radius: 50%;\n",
              "      cursor: pointer;\n",
              "      display: none;\n",
              "      fill: #1967D2;\n",
              "      height: 32px;\n",
              "      padding: 0 0 0 0;\n",
              "      width: 32px;\n",
              "    }\n",
              "\n",
              "    .colab-df-convert:hover {\n",
              "      background-color: #E2EBFA;\n",
              "      box-shadow: 0px 1px 2px rgba(60, 64, 67, 0.3), 0px 1px 3px 1px rgba(60, 64, 67, 0.15);\n",
              "      fill: #174EA6;\n",
              "    }\n",
              "\n",
              "    [theme=dark] .colab-df-convert {\n",
              "      background-color: #3B4455;\n",
              "      fill: #D2E3FC;\n",
              "    }\n",
              "\n",
              "    [theme=dark] .colab-df-convert:hover {\n",
              "      background-color: #434B5C;\n",
              "      box-shadow: 0px 1px 3px 1px rgba(0, 0, 0, 0.15);\n",
              "      filter: drop-shadow(0px 1px 2px rgba(0, 0, 0, 0.3));\n",
              "      fill: #FFFFFF;\n",
              "    }\n",
              "  </style>\n",
              "\n",
              "      <script>\n",
              "        const buttonEl =\n",
              "          document.querySelector('#df-47bcf023-d81e-4ef3-a19c-8d35078ce13f button.colab-df-convert');\n",
              "        buttonEl.style.display =\n",
              "          google.colab.kernel.accessAllowed ? 'block' : 'none';\n",
              "\n",
              "        async function convertToInteractive(key) {\n",
              "          const element = document.querySelector('#df-47bcf023-d81e-4ef3-a19c-8d35078ce13f');\n",
              "          const dataTable =\n",
              "            await google.colab.kernel.invokeFunction('convertToInteractive',\n",
              "                                                     [key], {});\n",
              "          if (!dataTable) return;\n",
              "\n",
              "          const docLinkHtml = 'Like what you see? Visit the ' +\n",
              "            '<a target=\"_blank\" href=https://colab.research.google.com/notebooks/data_table.ipynb>data table notebook</a>'\n",
              "            + ' to learn more about interactive tables.';\n",
              "          element.innerHTML = '';\n",
              "          dataTable['output_type'] = 'display_data';\n",
              "          await google.colab.output.renderOutput(dataTable, element);\n",
              "          const docLink = document.createElement('div');\n",
              "          docLink.innerHTML = docLinkHtml;\n",
              "          element.appendChild(docLink);\n",
              "        }\n",
              "      </script>\n",
              "    </div>\n",
              "  </div>\n",
              "  "
            ]
          },
          "metadata": {},
          "execution_count": 26
        }
      ]
    },
    {
      "cell_type": "code",
      "source": [
        "df_LTV_01['invoice_datetime'] = pd.to_datetime(df_LTV_01['invoice_date'], format = '%m/%d/%Y %H:%M')\n",
        "\n",
        "df_LTV_01['invoice_date'] = df_LTV_01['invoice_datetime'].dt.date\n",
        "df_LTV_01['invoice_date'] = pd.to_datetime(df_LTV_01['invoice_date'], format = '%Y-%m-%d')\n"
      ],
      "metadata": {
        "id": "H8CshCcpu45n"
      },
      "execution_count": 27,
      "outputs": []
    },
    {
      "cell_type": "code",
      "source": [
        "df_LTV_01.info()"
      ],
      "metadata": {
        "colab": {
          "base_uri": "https://localhost:8080/"
        },
        "id": "M48HsH5Zu48v",
        "outputId": "f704349c-6fbe-4c11-9e4f-a70ef7745b35"
      },
      "execution_count": 28,
      "outputs": [
        {
          "output_type": "stream",
          "name": "stdout",
          "text": [
            "<class 'pandas.core.frame.DataFrame'>\n",
            "RangeIndex: 541909 entries, 0 to 541908\n",
            "Data columns (total 7 columns):\n",
            " #   Column            Non-Null Count   Dtype         \n",
            "---  ------            --------------   -----         \n",
            " 0   invoice_no        541909 non-null  object        \n",
            " 1   stock_code        541909 non-null  object        \n",
            " 2   quantity          541909 non-null  int64         \n",
            " 3   invoice_date      541909 non-null  datetime64[ns]\n",
            " 4   unit_price        541909 non-null  float64       \n",
            " 5   customer_id       541909 non-null  object        \n",
            " 6   invoice_datetime  541909 non-null  datetime64[ns]\n",
            "dtypes: datetime64[ns](2), float64(1), int64(1), object(3)\n",
            "memory usage: 28.9+ MB\n"
          ]
        }
      ]
    },
    {
      "cell_type": "code",
      "source": [
        "# date관련 데이터 추가하기: 월 정보\n",
        "# df_LTV_01['invoice_year'] = df_LTV_01['invoice_datetime'].dt.year\n",
        "# df_LTV_01['invoice_month'] = df_LTV_01['invoice_datetime'].dt.month\n",
        "# df_LTV_01['invoice_day'] = df_LTV_01['invoice_datetime'].dt.day\n",
        "\n",
        "# df_LTV_01 = df_LTV_01.astype({'invoice_year' : 'int'}) \n",
        "# df_LTV_01 = df_LTV_01.astype({'invoice_month' : 'int'}) \n",
        "# df_LTV_01 = df_LTV_01.astype({'invoice_day' : 'int'}) \n",
        "\n",
        "## 최종 모델에서 활용하지 않았음 \n",
        "\n",
        "df_LTV_01.head()"
      ],
      "metadata": {
        "colab": {
          "base_uri": "https://localhost:8080/",
          "height": 206
        },
        "id": "zFGd5PTEw5Xy",
        "outputId": "41f98f0c-f62c-4c4c-9f77-bf7a98999f51"
      },
      "execution_count": 29,
      "outputs": [
        {
          "output_type": "execute_result",
          "data": {
            "text/plain": [
              "  invoice_no stock_code  quantity invoice_date  unit_price customer_id  \\\n",
              "0     536365     85123A         6   2010-12-01        2.55       17850   \n",
              "1     536365      71053         6   2010-12-01        3.39       17850   \n",
              "2     536365     84406B         8   2010-12-01        2.75       17850   \n",
              "3     536365     84029G         6   2010-12-01        3.39       17850   \n",
              "4     536365     84029E         6   2010-12-01        3.39       17850   \n",
              "\n",
              "     invoice_datetime  \n",
              "0 2010-12-01 08:26:00  \n",
              "1 2010-12-01 08:26:00  \n",
              "2 2010-12-01 08:26:00  \n",
              "3 2010-12-01 08:26:00  \n",
              "4 2010-12-01 08:26:00  "
            ],
            "text/html": [
              "\n",
              "  <div id=\"df-aa593081-5069-4942-b7f1-e6f5e3ffedf9\">\n",
              "    <div class=\"colab-df-container\">\n",
              "      <div>\n",
              "<style scoped>\n",
              "    .dataframe tbody tr th:only-of-type {\n",
              "        vertical-align: middle;\n",
              "    }\n",
              "\n",
              "    .dataframe tbody tr th {\n",
              "        vertical-align: top;\n",
              "    }\n",
              "\n",
              "    .dataframe thead th {\n",
              "        text-align: right;\n",
              "    }\n",
              "</style>\n",
              "<table border=\"1\" class=\"dataframe\">\n",
              "  <thead>\n",
              "    <tr style=\"text-align: right;\">\n",
              "      <th></th>\n",
              "      <th>invoice_no</th>\n",
              "      <th>stock_code</th>\n",
              "      <th>quantity</th>\n",
              "      <th>invoice_date</th>\n",
              "      <th>unit_price</th>\n",
              "      <th>customer_id</th>\n",
              "      <th>invoice_datetime</th>\n",
              "    </tr>\n",
              "  </thead>\n",
              "  <tbody>\n",
              "    <tr>\n",
              "      <th>0</th>\n",
              "      <td>536365</td>\n",
              "      <td>85123A</td>\n",
              "      <td>6</td>\n",
              "      <td>2010-12-01</td>\n",
              "      <td>2.55</td>\n",
              "      <td>17850</td>\n",
              "      <td>2010-12-01 08:26:00</td>\n",
              "    </tr>\n",
              "    <tr>\n",
              "      <th>1</th>\n",
              "      <td>536365</td>\n",
              "      <td>71053</td>\n",
              "      <td>6</td>\n",
              "      <td>2010-12-01</td>\n",
              "      <td>3.39</td>\n",
              "      <td>17850</td>\n",
              "      <td>2010-12-01 08:26:00</td>\n",
              "    </tr>\n",
              "    <tr>\n",
              "      <th>2</th>\n",
              "      <td>536365</td>\n",
              "      <td>84406B</td>\n",
              "      <td>8</td>\n",
              "      <td>2010-12-01</td>\n",
              "      <td>2.75</td>\n",
              "      <td>17850</td>\n",
              "      <td>2010-12-01 08:26:00</td>\n",
              "    </tr>\n",
              "    <tr>\n",
              "      <th>3</th>\n",
              "      <td>536365</td>\n",
              "      <td>84029G</td>\n",
              "      <td>6</td>\n",
              "      <td>2010-12-01</td>\n",
              "      <td>3.39</td>\n",
              "      <td>17850</td>\n",
              "      <td>2010-12-01 08:26:00</td>\n",
              "    </tr>\n",
              "    <tr>\n",
              "      <th>4</th>\n",
              "      <td>536365</td>\n",
              "      <td>84029E</td>\n",
              "      <td>6</td>\n",
              "      <td>2010-12-01</td>\n",
              "      <td>3.39</td>\n",
              "      <td>17850</td>\n",
              "      <td>2010-12-01 08:26:00</td>\n",
              "    </tr>\n",
              "  </tbody>\n",
              "</table>\n",
              "</div>\n",
              "      <button class=\"colab-df-convert\" onclick=\"convertToInteractive('df-aa593081-5069-4942-b7f1-e6f5e3ffedf9')\"\n",
              "              title=\"Convert this dataframe to an interactive table.\"\n",
              "              style=\"display:none;\">\n",
              "        \n",
              "  <svg xmlns=\"http://www.w3.org/2000/svg\" height=\"24px\"viewBox=\"0 0 24 24\"\n",
              "       width=\"24px\">\n",
              "    <path d=\"M0 0h24v24H0V0z\" fill=\"none\"/>\n",
              "    <path d=\"M18.56 5.44l.94 2.06.94-2.06 2.06-.94-2.06-.94-.94-2.06-.94 2.06-2.06.94zm-11 1L8.5 8.5l.94-2.06 2.06-.94-2.06-.94L8.5 2.5l-.94 2.06-2.06.94zm10 10l.94 2.06.94-2.06 2.06-.94-2.06-.94-.94-2.06-.94 2.06-2.06.94z\"/><path d=\"M17.41 7.96l-1.37-1.37c-.4-.4-.92-.59-1.43-.59-.52 0-1.04.2-1.43.59L10.3 9.45l-7.72 7.72c-.78.78-.78 2.05 0 2.83L4 21.41c.39.39.9.59 1.41.59.51 0 1.02-.2 1.41-.59l7.78-7.78 2.81-2.81c.8-.78.8-2.07 0-2.86zM5.41 20L4 18.59l7.72-7.72 1.47 1.35L5.41 20z\"/>\n",
              "  </svg>\n",
              "      </button>\n",
              "      \n",
              "  <style>\n",
              "    .colab-df-container {\n",
              "      display:flex;\n",
              "      flex-wrap:wrap;\n",
              "      gap: 12px;\n",
              "    }\n",
              "\n",
              "    .colab-df-convert {\n",
              "      background-color: #E8F0FE;\n",
              "      border: none;\n",
              "      border-radius: 50%;\n",
              "      cursor: pointer;\n",
              "      display: none;\n",
              "      fill: #1967D2;\n",
              "      height: 32px;\n",
              "      padding: 0 0 0 0;\n",
              "      width: 32px;\n",
              "    }\n",
              "\n",
              "    .colab-df-convert:hover {\n",
              "      background-color: #E2EBFA;\n",
              "      box-shadow: 0px 1px 2px rgba(60, 64, 67, 0.3), 0px 1px 3px 1px rgba(60, 64, 67, 0.15);\n",
              "      fill: #174EA6;\n",
              "    }\n",
              "\n",
              "    [theme=dark] .colab-df-convert {\n",
              "      background-color: #3B4455;\n",
              "      fill: #D2E3FC;\n",
              "    }\n",
              "\n",
              "    [theme=dark] .colab-df-convert:hover {\n",
              "      background-color: #434B5C;\n",
              "      box-shadow: 0px 1px 3px 1px rgba(0, 0, 0, 0.15);\n",
              "      filter: drop-shadow(0px 1px 2px rgba(0, 0, 0, 0.3));\n",
              "      fill: #FFFFFF;\n",
              "    }\n",
              "  </style>\n",
              "\n",
              "      <script>\n",
              "        const buttonEl =\n",
              "          document.querySelector('#df-aa593081-5069-4942-b7f1-e6f5e3ffedf9 button.colab-df-convert');\n",
              "        buttonEl.style.display =\n",
              "          google.colab.kernel.accessAllowed ? 'block' : 'none';\n",
              "\n",
              "        async function convertToInteractive(key) {\n",
              "          const element = document.querySelector('#df-aa593081-5069-4942-b7f1-e6f5e3ffedf9');\n",
              "          const dataTable =\n",
              "            await google.colab.kernel.invokeFunction('convertToInteractive',\n",
              "                                                     [key], {});\n",
              "          if (!dataTable) return;\n",
              "\n",
              "          const docLinkHtml = 'Like what you see? Visit the ' +\n",
              "            '<a target=\"_blank\" href=https://colab.research.google.com/notebooks/data_table.ipynb>data table notebook</a>'\n",
              "            + ' to learn more about interactive tables.';\n",
              "          element.innerHTML = '';\n",
              "          dataTable['output_type'] = 'display_data';\n",
              "          await google.colab.output.renderOutput(dataTable, element);\n",
              "          const docLink = document.createElement('div');\n",
              "          docLink.innerHTML = docLinkHtml;\n",
              "          element.appendChild(docLink);\n",
              "        }\n",
              "      </script>\n",
              "    </div>\n",
              "  </div>\n",
              "  "
            ]
          },
          "metadata": {},
          "execution_count": 29
        }
      ]
    },
    {
      "cell_type": "markdown",
      "source": [
        "#_2. 파악을 위한 시각화 \n",
        "\n",
        "**[ 변수 정보 ]**\n",
        "*   InvoiceNo: Invoice number that consists 6 digits. If this code starts with letter 'c', it indicates a cancellation.\n",
        "*   StockCode: Product code that consists 5 digits.\n",
        "*   Description: Product name.\n",
        "*   Quantity: The quantities of each product per transaction.\n",
        "*   InvoiceDate: Represents the day and time when each transaction was generated.\n",
        "*   CustomerID: Customer number that consists 5 digits. Each customer has a unique customer ID.\n",
        "*   Country: Name of the country where each customer resides.\n"
      ],
      "metadata": {
        "id": "WYxHUCGujLla"
      }
    },
    {
      "cell_type": "code",
      "source": [
        "# 시각화 라이브러리 \n",
        "import plotly.graph_objs as go\n",
        "from plotly.offline import iplot"
      ],
      "metadata": {
        "id": "yx6VA1T70jbR"
      },
      "execution_count": 30,
      "outputs": []
    },
    {
      "cell_type": "code",
      "source": [
        "world_map = df_base[['customer_id', 'invoice_no', 'country']\n",
        "              ].groupby(['customer_id', 'invoice_no', 'country']\n",
        "                       ).count().reset_index()\n",
        "\n",
        "countries = world_map['country'].value_counts()\n",
        "\n",
        "data = dict(type='choropleth',\n",
        "            locations = countries.index,\n",
        "            locationmode = 'country names',\n",
        "            z = countries,\n",
        "            text = countries.index,\n",
        "            colorbar = {'title':'Orders'},\n",
        "            colorscale='Viridis',\n",
        "            reversescale = False)\n",
        "\n",
        "layout = dict(title={'text': \"Number of Orders by Countries\",\n",
        "                     'y':0.9,\n",
        "                     'x':0.5,\n",
        "                     'xanchor': 'center',\n",
        "                     'yanchor': 'top'},\n",
        "              geo = dict(resolution = 50,\n",
        "                         showocean = True,\n",
        "                         oceancolor = \"LightBlue\",\n",
        "                         showland = True,\n",
        "                         landcolor = \"whitesmoke\",\n",
        "                         showframe = True),\n",
        "             template = 'plotly_white',\n",
        "             height = 600,\n",
        "             width = 1000)\n",
        "\n",
        "choromap = go.Figure(data = [data], layout = layout)\n",
        "iplot(choromap, validate = False)"
      ],
      "metadata": {
        "id": "FflifDvRjae-",
        "colab": {
          "base_uri": "https://localhost:8080/",
          "height": 637
        },
        "outputId": "f1c67332-40a3-4386-f853-cfe2e5cbce7d"
      },
      "execution_count": 31,
      "outputs": [
        {
          "output_type": "display_data",
          "data": {
            "text/html": [
              "<html>\n",
              "<head><meta charset=\"utf-8\" /></head>\n",
              "<body>\n",
              "    <div>            <script src=\"https://cdnjs.cloudflare.com/ajax/libs/mathjax/2.7.5/MathJax.js?config=TeX-AMS-MML_SVG\"></script><script type=\"text/javascript\">if (window.MathJax && window.MathJax.Hub && window.MathJax.Hub.Config) {window.MathJax.Hub.Config({SVG: {font: \"STIX-Web\"}});}</script>                <script type=\"text/javascript\">window.PlotlyConfig = {MathJaxConfig: 'local'};</script>\n",
              "        <script src=\"https://cdn.plot.ly/plotly-2.18.2.min.js\"></script>                <div id=\"3d1d591d-c6ab-4fc1-8a62-83015c6313e0\" class=\"plotly-graph-div\" style=\"height:600px; width:1000px;\"></div>            <script type=\"text/javascript\">                                    window.PLOTLYENV=window.PLOTLYENV || {};                                    if (document.getElementById(\"3d1d591d-c6ab-4fc1-8a62-83015c6313e0\")) {                    Plotly.newPlot(                        \"3d1d591d-c6ab-4fc1-8a62-83015c6313e0\",                        [{\"colorbar\":{\"title\":{\"text\":\"Orders\"}},\"colorscale\":[[0.0,\"#440154\"],[0.1111111111111111,\"#482878\"],[0.2222222222222222,\"#3e4989\"],[0.3333333333333333,\"#31688e\"],[0.4444444444444444,\"#26828e\"],[0.5555555555555556,\"#1f9e89\"],[0.6666666666666666,\"#35b779\"],[0.7777777777777778,\"#6ece58\"],[0.8888888888888888,\"#b5de2b\"],[1.0,\"#fde725\"]],\"locationmode\":\"country names\",\"locations\":[\"United Kingdom\",\"Germany\",\"France\",\"EIRE\",\"Belgium\",\"Spain\",\"Netherlands\",\"Switzerland\",\"Portugal\",\"Australia\",\"Italy\",\"Finland\",\"Sweden\",\"Norway\",\"Channel Islands\",\"Japan\",\"Poland\",\"Denmark\",\"Cyprus\",\"Austria\",\"Singapore\",\"Malta\",\"Unspecified\",\"USA\",\"Iceland\",\"Israel\",\"Canada\",\"Greece\",\"Czech Republic\",\"European Community\",\"Lithuania\",\"United Arab Emirates\",\"Saudi Arabia\",\"Bahrain\",\"RSA\",\"Lebanon\",\"Brazil\"],\"reversescale\":false,\"text\":[\"United Kingdom\",\"Germany\",\"France\",\"EIRE\",\"Belgium\",\"Spain\",\"Netherlands\",\"Switzerland\",\"Portugal\",\"Australia\",\"Italy\",\"Finland\",\"Sweden\",\"Norway\",\"Channel Islands\",\"Japan\",\"Poland\",\"Denmark\",\"Cyprus\",\"Austria\",\"Singapore\",\"Malta\",\"Unspecified\",\"USA\",\"Iceland\",\"Israel\",\"Canada\",\"Greece\",\"Czech Republic\",\"European Community\",\"Lithuania\",\"United Arab Emirates\",\"Saudi Arabia\",\"Bahrain\",\"RSA\",\"Lebanon\",\"Brazil\"],\"z\":[19857,603,458,319,119,105,101,71,70,69,55,48,46,40,33,28,24,21,20,19,10,10,8,7,7,6,6,6,5,5,4,3,2,2,1,1,1],\"type\":\"choropleth\"}],                        {\"geo\":{\"landcolor\":\"whitesmoke\",\"oceancolor\":\"LightBlue\",\"resolution\":50,\"showframe\":true,\"showland\":true,\"showocean\":true},\"height\":600,\"template\":{\"data\":{\"barpolar\":[{\"marker\":{\"line\":{\"color\":\"white\",\"width\":0.5},\"pattern\":{\"fillmode\":\"overlay\",\"size\":10,\"solidity\":0.2}},\"type\":\"barpolar\"}],\"bar\":[{\"error_x\":{\"color\":\"#2a3f5f\"},\"error_y\":{\"color\":\"#2a3f5f\"},\"marker\":{\"line\":{\"color\":\"white\",\"width\":0.5},\"pattern\":{\"fillmode\":\"overlay\",\"size\":10,\"solidity\":0.2}},\"type\":\"bar\"}],\"carpet\":[{\"aaxis\":{\"endlinecolor\":\"#2a3f5f\",\"gridcolor\":\"#C8D4E3\",\"linecolor\":\"#C8D4E3\",\"minorgridcolor\":\"#C8D4E3\",\"startlinecolor\":\"#2a3f5f\"},\"baxis\":{\"endlinecolor\":\"#2a3f5f\",\"gridcolor\":\"#C8D4E3\",\"linecolor\":\"#C8D4E3\",\"minorgridcolor\":\"#C8D4E3\",\"startlinecolor\":\"#2a3f5f\"},\"type\":\"carpet\"}],\"choropleth\":[{\"colorbar\":{\"outlinewidth\":0,\"ticks\":\"\"},\"type\":\"choropleth\"}],\"contourcarpet\":[{\"colorbar\":{\"outlinewidth\":0,\"ticks\":\"\"},\"type\":\"contourcarpet\"}],\"contour\":[{\"colorbar\":{\"outlinewidth\":0,\"ticks\":\"\"},\"colorscale\":[[0.0,\"#0d0887\"],[0.1111111111111111,\"#46039f\"],[0.2222222222222222,\"#7201a8\"],[0.3333333333333333,\"#9c179e\"],[0.4444444444444444,\"#bd3786\"],[0.5555555555555556,\"#d8576b\"],[0.6666666666666666,\"#ed7953\"],[0.7777777777777778,\"#fb9f3a\"],[0.8888888888888888,\"#fdca26\"],[1.0,\"#f0f921\"]],\"type\":\"contour\"}],\"heatmapgl\":[{\"colorbar\":{\"outlinewidth\":0,\"ticks\":\"\"},\"colorscale\":[[0.0,\"#0d0887\"],[0.1111111111111111,\"#46039f\"],[0.2222222222222222,\"#7201a8\"],[0.3333333333333333,\"#9c179e\"],[0.4444444444444444,\"#bd3786\"],[0.5555555555555556,\"#d8576b\"],[0.6666666666666666,\"#ed7953\"],[0.7777777777777778,\"#fb9f3a\"],[0.8888888888888888,\"#fdca26\"],[1.0,\"#f0f921\"]],\"type\":\"heatmapgl\"}],\"heatmap\":[{\"colorbar\":{\"outlinewidth\":0,\"ticks\":\"\"},\"colorscale\":[[0.0,\"#0d0887\"],[0.1111111111111111,\"#46039f\"],[0.2222222222222222,\"#7201a8\"],[0.3333333333333333,\"#9c179e\"],[0.4444444444444444,\"#bd3786\"],[0.5555555555555556,\"#d8576b\"],[0.6666666666666666,\"#ed7953\"],[0.7777777777777778,\"#fb9f3a\"],[0.8888888888888888,\"#fdca26\"],[1.0,\"#f0f921\"]],\"type\":\"heatmap\"}],\"histogram2dcontour\":[{\"colorbar\":{\"outlinewidth\":0,\"ticks\":\"\"},\"colorscale\":[[0.0,\"#0d0887\"],[0.1111111111111111,\"#46039f\"],[0.2222222222222222,\"#7201a8\"],[0.3333333333333333,\"#9c179e\"],[0.4444444444444444,\"#bd3786\"],[0.5555555555555556,\"#d8576b\"],[0.6666666666666666,\"#ed7953\"],[0.7777777777777778,\"#fb9f3a\"],[0.8888888888888888,\"#fdca26\"],[1.0,\"#f0f921\"]],\"type\":\"histogram2dcontour\"}],\"histogram2d\":[{\"colorbar\":{\"outlinewidth\":0,\"ticks\":\"\"},\"colorscale\":[[0.0,\"#0d0887\"],[0.1111111111111111,\"#46039f\"],[0.2222222222222222,\"#7201a8\"],[0.3333333333333333,\"#9c179e\"],[0.4444444444444444,\"#bd3786\"],[0.5555555555555556,\"#d8576b\"],[0.6666666666666666,\"#ed7953\"],[0.7777777777777778,\"#fb9f3a\"],[0.8888888888888888,\"#fdca26\"],[1.0,\"#f0f921\"]],\"type\":\"histogram2d\"}],\"histogram\":[{\"marker\":{\"pattern\":{\"fillmode\":\"overlay\",\"size\":10,\"solidity\":0.2}},\"type\":\"histogram\"}],\"mesh3d\":[{\"colorbar\":{\"outlinewidth\":0,\"ticks\":\"\"},\"type\":\"mesh3d\"}],\"parcoords\":[{\"line\":{\"colorbar\":{\"outlinewidth\":0,\"ticks\":\"\"}},\"type\":\"parcoords\"}],\"pie\":[{\"automargin\":true,\"type\":\"pie\"}],\"scatter3d\":[{\"line\":{\"colorbar\":{\"outlinewidth\":0,\"ticks\":\"\"}},\"marker\":{\"colorbar\":{\"outlinewidth\":0,\"ticks\":\"\"}},\"type\":\"scatter3d\"}],\"scattercarpet\":[{\"marker\":{\"colorbar\":{\"outlinewidth\":0,\"ticks\":\"\"}},\"type\":\"scattercarpet\"}],\"scattergeo\":[{\"marker\":{\"colorbar\":{\"outlinewidth\":0,\"ticks\":\"\"}},\"type\":\"scattergeo\"}],\"scattergl\":[{\"marker\":{\"colorbar\":{\"outlinewidth\":0,\"ticks\":\"\"}},\"type\":\"scattergl\"}],\"scattermapbox\":[{\"marker\":{\"colorbar\":{\"outlinewidth\":0,\"ticks\":\"\"}},\"type\":\"scattermapbox\"}],\"scatterpolargl\":[{\"marker\":{\"colorbar\":{\"outlinewidth\":0,\"ticks\":\"\"}},\"type\":\"scatterpolargl\"}],\"scatterpolar\":[{\"marker\":{\"colorbar\":{\"outlinewidth\":0,\"ticks\":\"\"}},\"type\":\"scatterpolar\"}],\"scatter\":[{\"fillpattern\":{\"fillmode\":\"overlay\",\"size\":10,\"solidity\":0.2},\"type\":\"scatter\"}],\"scatterternary\":[{\"marker\":{\"colorbar\":{\"outlinewidth\":0,\"ticks\":\"\"}},\"type\":\"scatterternary\"}],\"surface\":[{\"colorbar\":{\"outlinewidth\":0,\"ticks\":\"\"},\"colorscale\":[[0.0,\"#0d0887\"],[0.1111111111111111,\"#46039f\"],[0.2222222222222222,\"#7201a8\"],[0.3333333333333333,\"#9c179e\"],[0.4444444444444444,\"#bd3786\"],[0.5555555555555556,\"#d8576b\"],[0.6666666666666666,\"#ed7953\"],[0.7777777777777778,\"#fb9f3a\"],[0.8888888888888888,\"#fdca26\"],[1.0,\"#f0f921\"]],\"type\":\"surface\"}],\"table\":[{\"cells\":{\"fill\":{\"color\":\"#EBF0F8\"},\"line\":{\"color\":\"white\"}},\"header\":{\"fill\":{\"color\":\"#C8D4E3\"},\"line\":{\"color\":\"white\"}},\"type\":\"table\"}]},\"layout\":{\"annotationdefaults\":{\"arrowcolor\":\"#2a3f5f\",\"arrowhead\":0,\"arrowwidth\":1},\"autotypenumbers\":\"strict\",\"coloraxis\":{\"colorbar\":{\"outlinewidth\":0,\"ticks\":\"\"}},\"colorscale\":{\"diverging\":[[0,\"#8e0152\"],[0.1,\"#c51b7d\"],[0.2,\"#de77ae\"],[0.3,\"#f1b6da\"],[0.4,\"#fde0ef\"],[0.5,\"#f7f7f7\"],[0.6,\"#e6f5d0\"],[0.7,\"#b8e186\"],[0.8,\"#7fbc41\"],[0.9,\"#4d9221\"],[1,\"#276419\"]],\"sequential\":[[0.0,\"#0d0887\"],[0.1111111111111111,\"#46039f\"],[0.2222222222222222,\"#7201a8\"],[0.3333333333333333,\"#9c179e\"],[0.4444444444444444,\"#bd3786\"],[0.5555555555555556,\"#d8576b\"],[0.6666666666666666,\"#ed7953\"],[0.7777777777777778,\"#fb9f3a\"],[0.8888888888888888,\"#fdca26\"],[1.0,\"#f0f921\"]],\"sequentialminus\":[[0.0,\"#0d0887\"],[0.1111111111111111,\"#46039f\"],[0.2222222222222222,\"#7201a8\"],[0.3333333333333333,\"#9c179e\"],[0.4444444444444444,\"#bd3786\"],[0.5555555555555556,\"#d8576b\"],[0.6666666666666666,\"#ed7953\"],[0.7777777777777778,\"#fb9f3a\"],[0.8888888888888888,\"#fdca26\"],[1.0,\"#f0f921\"]]},\"colorway\":[\"#636efa\",\"#EF553B\",\"#00cc96\",\"#ab63fa\",\"#FFA15A\",\"#19d3f3\",\"#FF6692\",\"#B6E880\",\"#FF97FF\",\"#FECB52\"],\"font\":{\"color\":\"#2a3f5f\"},\"geo\":{\"bgcolor\":\"white\",\"lakecolor\":\"white\",\"landcolor\":\"white\",\"showlakes\":true,\"showland\":true,\"subunitcolor\":\"#C8D4E3\"},\"hoverlabel\":{\"align\":\"left\"},\"hovermode\":\"closest\",\"mapbox\":{\"style\":\"light\"},\"paper_bgcolor\":\"white\",\"plot_bgcolor\":\"white\",\"polar\":{\"angularaxis\":{\"gridcolor\":\"#EBF0F8\",\"linecolor\":\"#EBF0F8\",\"ticks\":\"\"},\"bgcolor\":\"white\",\"radialaxis\":{\"gridcolor\":\"#EBF0F8\",\"linecolor\":\"#EBF0F8\",\"ticks\":\"\"}},\"scene\":{\"xaxis\":{\"backgroundcolor\":\"white\",\"gridcolor\":\"#DFE8F3\",\"gridwidth\":2,\"linecolor\":\"#EBF0F8\",\"showbackground\":true,\"ticks\":\"\",\"zerolinecolor\":\"#EBF0F8\"},\"yaxis\":{\"backgroundcolor\":\"white\",\"gridcolor\":\"#DFE8F3\",\"gridwidth\":2,\"linecolor\":\"#EBF0F8\",\"showbackground\":true,\"ticks\":\"\",\"zerolinecolor\":\"#EBF0F8\"},\"zaxis\":{\"backgroundcolor\":\"white\",\"gridcolor\":\"#DFE8F3\",\"gridwidth\":2,\"linecolor\":\"#EBF0F8\",\"showbackground\":true,\"ticks\":\"\",\"zerolinecolor\":\"#EBF0F8\"}},\"shapedefaults\":{\"line\":{\"color\":\"#2a3f5f\"}},\"ternary\":{\"aaxis\":{\"gridcolor\":\"#DFE8F3\",\"linecolor\":\"#A2B1C6\",\"ticks\":\"\"},\"baxis\":{\"gridcolor\":\"#DFE8F3\",\"linecolor\":\"#A2B1C6\",\"ticks\":\"\"},\"bgcolor\":\"white\",\"caxis\":{\"gridcolor\":\"#DFE8F3\",\"linecolor\":\"#A2B1C6\",\"ticks\":\"\"}},\"title\":{\"x\":0.05},\"xaxis\":{\"automargin\":true,\"gridcolor\":\"#EBF0F8\",\"linecolor\":\"#EBF0F8\",\"ticks\":\"\",\"title\":{\"standoff\":15},\"zerolinecolor\":\"#EBF0F8\",\"zerolinewidth\":2},\"yaxis\":{\"automargin\":true,\"gridcolor\":\"#EBF0F8\",\"linecolor\":\"#EBF0F8\",\"ticks\":\"\",\"title\":{\"standoff\":15},\"zerolinecolor\":\"#EBF0F8\",\"zerolinewidth\":2}}},\"title\":{\"text\":\"Number of Orders by Countries\",\"x\":0.5,\"xanchor\":\"center\",\"y\":0.9,\"yanchor\":\"top\"},\"width\":1000},                        {\"responsive\": true}                    ).then(function(){\n",
              "                            \n",
              "var gd = document.getElementById('3d1d591d-c6ab-4fc1-8a62-83015c6313e0');\n",
              "var x = new MutationObserver(function (mutations, observer) {{\n",
              "        var display = window.getComputedStyle(gd).display;\n",
              "        if (!display || display === 'none') {{\n",
              "            console.log([gd, 'removed!']);\n",
              "            Plotly.purge(gd);\n",
              "            observer.disconnect();\n",
              "        }}\n",
              "}});\n",
              "\n",
              "// Listen for the removal of the full notebook cells\n",
              "var notebookContainer = gd.closest('#notebook-container');\n",
              "if (notebookContainer) {{\n",
              "    x.observe(notebookContainer, {childList: true});\n",
              "}}\n",
              "\n",
              "// Listen for the clearing of the current output cell\n",
              "var outputEl = gd.closest('.output');\n",
              "if (outputEl) {{\n",
              "    x.observe(outputEl, {childList: true});\n",
              "}}\n",
              "\n",
              "                        })                };                            </script>        </div>\n",
              "</body>\n",
              "</html>"
            ]
          },
          "metadata": {}
        }
      ]
    },
    {
      "cell_type": "code",
      "source": [
        "def desc_stats(dataframe):\n",
        "    desc_df = pd.DataFrame(index= dataframe.columns, \n",
        "                           columns= dataframe.describe().T.columns,\n",
        "                           data= dataframe.describe().T)\n",
        "    \n",
        "    f,ax = plt.subplots(figsize=(10,\n",
        "                                 desc_df.shape[0] * 0.81))\n",
        "    sns.heatmap(desc_df,\n",
        "                annot = True,\n",
        "                cmap = \"Greens\",\n",
        "                fmt = '.2f',\n",
        "                ax = ax,\n",
        "                linecolor = 'white',\n",
        "                linewidths = 1.1,\n",
        "                cbar = False,\n",
        "                annot_kws = {\"size\": 12})\n",
        "    plt.xticks(size = 18)\n",
        "    plt.yticks(size = 14,\n",
        "               rotation = 0)\n",
        "    plt.title(\"Descriptive Statistics\", size = 14)\n",
        "    plt.show()\n",
        "    \n",
        "desc_stats(df_LTV_01.select_dtypes(include = [float, int]))"
      ],
      "metadata": {
        "id": "OZPNRkHijahK",
        "colab": {
          "base_uri": "https://localhost:8080/",
          "height": 222
        },
        "outputId": "0381bb13-d395-4467-a2d2-4ed846485153"
      },
      "execution_count": 32,
      "outputs": [
        {
          "output_type": "display_data",
          "data": {
            "text/plain": [
              "<Figure size 1000x162 with 1 Axes>"
            ],
            "image/png": "[encoded data removed]"
          },
          "metadata": {}
        }
      ]
    },
    {
      "cell_type": "markdown",
      "source": [
        "* 취소된 주문내역 때문에 quantity < 0인 row 존재 \n",
        "* total_price = quantity * unit_price로 구할 예정 "
      ],
      "metadata": {
        "id": "1HjyYolc2fHn"
      }
    },
    {
      "cell_type": "markdown",
      "source": [
        "## 2.1 unit_price, quantity에 대한 확인 \n",
        "- quantity < 0 인 부분 확인  \n",
        "- stock_code가 같은데도 unit_price가 다른 경우에 대한 확인 "
      ],
      "metadata": {
        "id": "PzhwTI397b6K"
      }
    },
    {
      "cell_type": "code",
      "source": [
        "df_LTV_01[df_LTV_01['quantity'] < 0].sample(5)"
      ],
      "metadata": {
        "colab": {
          "base_uri": "https://localhost:8080/",
          "height": 206
        },
        "id": "gfd9oVdz6cDQ",
        "outputId": "2a6c1aed-382f-4c05-b9a3-cccb0c8db64f"
      },
      "execution_count": 33,
      "outputs": [
        {
          "output_type": "execute_result",
          "data": {
            "text/plain": [
              "       invoice_no stock_code  quantity invoice_date  unit_price customer_id  \\\n",
              "249284    C558897          M        -1   2011-07-04      389.68       12619   \n",
              "297904    C562956      82600        -6   2011-08-11        2.10       13186   \n",
              "383017    C569986      23015        -2   2011-10-06        8.25       16245   \n",
              "243325    C558444      40001        -2   2011-06-29        0.64       15311   \n",
              "206127    C554870      21175        -3   2011-05-27        2.55       15078   \n",
              "\n",
              "          invoice_datetime  \n",
              "249284 2011-07-04 15:55:00  \n",
              "297904 2011-08-11 10:14:00  \n",
              "383017 2011-10-06 19:52:00  \n",
              "243325 2011-06-29 13:29:00  \n",
              "206127 2011-05-27 10:57:00  "
            ],
            "text/html": [
              "\n",
              "  <div id=\"df-528484df-b53c-42fa-ba7e-bcdcafb99f99\">\n",
              "    <div class=\"colab-df-container\">\n",
              "      <div>\n",
              "<style scoped>\n",
              "    .dataframe tbody tr th:only-of-type {\n",
              "        vertical-align: middle;\n",
              "    }\n",
              "\n",
              "    .dataframe tbody tr th {\n",
              "        vertical-align: top;\n",
              "    }\n",
              "\n",
              "    .dataframe thead th {\n",
              "        text-align: right;\n",
              "    }\n",
              "</style>\n",
              "<table border=\"1\" class=\"dataframe\">\n",
              "  <thead>\n",
              "    <tr style=\"text-align: right;\">\n",
              "      <th></th>\n",
              "      <th>invoice_no</th>\n",
              "      <th>stock_code</th>\n",
              "      <th>quantity</th>\n",
              "      <th>invoice_date</th>\n",
              "      <th>unit_price</th>\n",
              "      <th>customer_id</th>\n",
              "      <th>invoice_datetime</th>\n",
              "    </tr>\n",
              "  </thead>\n",
              "  <tbody>\n",
              "    <tr>\n",
              "      <th>249284</th>\n",
              "      <td>C558897</td>\n",
              "      <td>M</td>\n",
              "      <td>-1</td>\n",
              "      <td>2011-07-04</td>\n",
              "      <td>389.68</td>\n",
              "      <td>12619</td>\n",
              "      <td>2011-07-04 15:55:00</td>\n",
              "    </tr>\n",
              "    <tr>\n",
              "      <th>297904</th>\n",
              "      <td>C562956</td>\n",
              "      <td>82600</td>\n",
              "      <td>-6</td>\n",
              "      <td>2011-08-11</td>\n",
              "      <td>2.10</td>\n",
              "      <td>13186</td>\n",
              "      <td>2011-08-11 10:14:00</td>\n",
              "    </tr>\n",
              "    <tr>\n",
              "      <th>383017</th>\n",
              "      <td>C569986</td>\n",
              "      <td>23015</td>\n",
              "      <td>-2</td>\n",
              "      <td>2011-10-06</td>\n",
              "      <td>8.25</td>\n",
              "      <td>16245</td>\n",
              "      <td>2011-10-06 19:52:00</td>\n",
              "    </tr>\n",
              "    <tr>\n",
              "      <th>243325</th>\n",
              "      <td>C558444</td>\n",
              "      <td>40001</td>\n",
              "      <td>-2</td>\n",
              "      <td>2011-06-29</td>\n",
              "      <td>0.64</td>\n",
              "      <td>15311</td>\n",
              "      <td>2011-06-29 13:29:00</td>\n",
              "    </tr>\n",
              "    <tr>\n",
              "      <th>206127</th>\n",
              "      <td>C554870</td>\n",
              "      <td>21175</td>\n",
              "      <td>-3</td>\n",
              "      <td>2011-05-27</td>\n",
              "      <td>2.55</td>\n",
              "      <td>15078</td>\n",
              "      <td>2011-05-27 10:57:00</td>\n",
              "    </tr>\n",
              "  </tbody>\n",
              "</table>\n",
              "</div>\n",
              "      <button class=\"colab-df-convert\" onclick=\"convertToInteractive('df-528484df-b53c-42fa-ba7e-bcdcafb99f99')\"\n",
              "              title=\"Convert this dataframe to an interactive table.\"\n",
              "              style=\"display:none;\">\n",
              "        \n",
              "  <svg xmlns=\"http://www.w3.org/2000/svg\" height=\"24px\"viewBox=\"0 0 24 24\"\n",
              "       width=\"24px\">\n",
              "    <path d=\"M0 0h24v24H0V0z\" fill=\"none\"/>\n",
              "    <path d=\"M18.56 5.44l.94 2.06.94-2.06 2.06-.94-2.06-.94-.94-2.06-.94 2.06-2.06.94zm-11 1L8.5 8.5l.94-2.06 2.06-.94-2.06-.94L8.5 2.5l-.94 2.06-2.06.94zm10 10l.94 2.06.94-2.06 2.06-.94-2.06-.94-.94-2.06-.94 2.06-2.06.94z\"/><path d=\"M17.41 7.96l-1.37-1.37c-.4-.4-.92-.59-1.43-.59-.52 0-1.04.2-1.43.59L10.3 9.45l-7.72 7.72c-.78.78-.78 2.05 0 2.83L4 21.41c.39.39.9.59 1.41.59.51 0 1.02-.2 1.41-.59l7.78-7.78 2.81-2.81c.8-.78.8-2.07 0-2.86zM5.41 20L4 18.59l7.72-7.72 1.47 1.35L5.41 20z\"/>\n",
              "  </svg>\n",
              "      </button>\n",
              "      \n",
              "  <style>\n",
              "    .colab-df-container {\n",
              "      display:flex;\n",
              "      flex-wrap:wrap;\n",
              "      gap: 12px;\n",
              "    }\n",
              "\n",
              "    .colab-df-convert {\n",
              "      background-color: #E8F0FE;\n",
              "      border: none;\n",
              "      border-radius: 50%;\n",
              "      cursor: pointer;\n",
              "      display: none;\n",
              "      fill: #1967D2;\n",
              "      height: 32px;\n",
              "      padding: 0 0 0 0;\n",
              "      width: 32px;\n",
              "    }\n",
              "\n",
              "    .colab-df-convert:hover {\n",
              "      background-color: #E2EBFA;\n",
              "      box-shadow: 0px 1px 2px rgba(60, 64, 67, 0.3), 0px 1px 3px 1px rgba(60, 64, 67, 0.15);\n",
              "      fill: #174EA6;\n",
              "    }\n",
              "\n",
              "    [theme=dark] .colab-df-convert {\n",
              "      background-color: #3B4455;\n",
              "      fill: #D2E3FC;\n",
              "    }\n",
              "\n",
              "    [theme=dark] .colab-df-convert:hover {\n",
              "      background-color: #434B5C;\n",
              "      box-shadow: 0px 1px 3px 1px rgba(0, 0, 0, 0.15);\n",
              "      filter: drop-shadow(0px 1px 2px rgba(0, 0, 0, 0.3));\n",
              "      fill: #FFFFFF;\n",
              "    }\n",
              "  </style>\n",
              "\n",
              "      <script>\n",
              "        const buttonEl =\n",
              "          document.querySelector('#df-528484df-b53c-42fa-ba7e-bcdcafb99f99 button.colab-df-convert');\n",
              "        buttonEl.style.display =\n",
              "          google.colab.kernel.accessAllowed ? 'block' : 'none';\n",
              "\n",
              "        async function convertToInteractive(key) {\n",
              "          const element = document.querySelector('#df-528484df-b53c-42fa-ba7e-bcdcafb99f99');\n",
              "          const dataTable =\n",
              "            await google.colab.kernel.invokeFunction('convertToInteractive',\n",
              "                                                     [key], {});\n",
              "          if (!dataTable) return;\n",
              "\n",
              "          const docLinkHtml = 'Like what you see? Visit the ' +\n",
              "            '<a target=\"_blank\" href=https://colab.research.google.com/notebooks/data_table.ipynb>data table notebook</a>'\n",
              "            + ' to learn more about interactive tables.';\n",
              "          element.innerHTML = '';\n",
              "          dataTable['output_type'] = 'display_data';\n",
              "          await google.colab.output.renderOutput(dataTable, element);\n",
              "          const docLink = document.createElement('div');\n",
              "          docLink.innerHTML = docLinkHtml;\n",
              "          element.appendChild(docLink);\n",
              "        }\n",
              "      </script>\n",
              "    </div>\n",
              "  </div>\n",
              "  "
            ]
          },
          "metadata": {},
          "execution_count": 33
        }
      ]
    },
    {
      "cell_type": "code",
      "source": [
        "# pd.set_option('display.max_columns', None) ## 모든 열을 출력한다.\n",
        "# pd.set_option('display.max_rows', None) ## 모든 열을 출력한다."
      ],
      "metadata": {
        "id": "zK1mwdsLatkH"
      },
      "execution_count": 34,
      "outputs": []
    },
    {
      "cell_type": "code",
      "source": [
        "# df_LTV_01[df_LTV_01['customer_id'] == 12471] # quantity < 0인 행이 있는 customer 확인 "
      ],
      "metadata": {
        "id": "MX7xg1hDZb6d"
      },
      "execution_count": 35,
      "outputs": []
    },
    {
      "cell_type": "markdown",
      "source": [
        "- invoice_no 가장 앞에 C가 있으면 취소한 내역, 취소했을 시 quantity < 0 \n",
        "- but, C 뒤 번호로 어떤 내역을 취소한 건지 확인 불가 (해당하는 invoice_no 없음) -> 주문 전체 취소라면 그 주문번호 앞에 C가 붙어있지만, 아니라면 아예 새로운 주문번호 + C 를 부여하는 듯? \n",
        "\n",
        "구매 내역만 필요하긴 하지만, \n",
        "- 구매 건수: 환불 건수 제외하고 nunique \n",
        "- 총 주문금액: 주문 금액 - 환불금액 의 sum이어야 함 \n",
        "\n",
        "quantity < 0 인 경우를 확인해보자. "
      ],
      "metadata": {
        "id": "ezJPDpW9cQxG"
      }
    },
    {
      "cell_type": "code",
      "source": [
        "df_LTV_01[df_LTV_01['unit_price'] == 0].sample(5) # unit_price == 0인 경우 확인 "
      ],
      "metadata": {
        "colab": {
          "base_uri": "https://localhost:8080/",
          "height": 206
        },
        "id": "jFGj2VqwdL5J",
        "outputId": "3d2b1ee5-98af-4929-d2e5-511f3cd3106e"
      },
      "execution_count": 36,
      "outputs": [
        {
          "output_type": "execute_result",
          "data": {
            "text/plain": [
              "       invoice_no stock_code  quantity invoice_date  unit_price customer_id  \\\n",
              "166836     550954     47013A        -2   2011-04-21         0.0           0   \n",
              "481107     577340      22570        40   2011-11-18         0.0           0   \n",
              "94305      544347      22114        -4   2011-02-18         0.0           0   \n",
              "289690     562279      21391       -26   2011-08-04         0.0           0   \n",
              "52095      540684     35271S       -13   2011-01-10         0.0           0   \n",
              "\n",
              "          invoice_datetime  \n",
              "166836 2011-04-21 16:18:00  \n",
              "481107 2011-11-18 14:57:00  \n",
              "94305  2011-02-18 09:51:00  \n",
              "289690 2011-08-04 10:28:00  \n",
              "52095  2011-01-10 17:01:00  "
            ],
            "text/html": [
              "\n",
              "  <div id=\"df-201eca11-1fb0-442d-a614-ad9d0ef67d4a\">\n",
              "    <div class=\"colab-df-container\">\n",
              "      <div>\n",
              "<style scoped>\n",
              "    .dataframe tbody tr th:only-of-type {\n",
              "        vertical-align: middle;\n",
              "    }\n",
              "\n",
              "    .dataframe tbody tr th {\n",
              "        vertical-align: top;\n",
              "    }\n",
              "\n",
              "    .dataframe thead th {\n",
              "        text-align: right;\n",
              "    }\n",
              "</style>\n",
              "<table border=\"1\" class=\"dataframe\">\n",
              "  <thead>\n",
              "    <tr style=\"text-align: right;\">\n",
              "      <th></th>\n",
              "      <th>invoice_no</th>\n",
              "      <th>stock_code</th>\n",
              "      <th>quantity</th>\n",
              "      <th>invoice_date</th>\n",
              "      <th>unit_price</th>\n",
              "      <th>customer_id</th>\n",
              "      <th>invoice_datetime</th>\n",
              "    </tr>\n",
              "  </thead>\n",
              "  <tbody>\n",
              "    <tr>\n",
              "      <th>166836</th>\n",
              "      <td>550954</td>\n",
              "      <td>47013A</td>\n",
              "      <td>-2</td>\n",
              "      <td>2011-04-21</td>\n",
              "      <td>0.0</td>\n",
              "      <td>0</td>\n",
              "      <td>2011-04-21 16:18:00</td>\n",
              "    </tr>\n",
              "    <tr>\n",
              "      <th>481107</th>\n",
              "      <td>577340</td>\n",
              "      <td>22570</td>\n",
              "      <td>40</td>\n",
              "      <td>2011-11-18</td>\n",
              "      <td>0.0</td>\n",
              "      <td>0</td>\n",
              "      <td>2011-11-18 14:57:00</td>\n",
              "    </tr>\n",
              "    <tr>\n",
              "      <th>94305</th>\n",
              "      <td>544347</td>\n",
              "      <td>22114</td>\n",
              "      <td>-4</td>\n",
              "      <td>2011-02-18</td>\n",
              "      <td>0.0</td>\n",
              "      <td>0</td>\n",
              "      <td>2011-02-18 09:51:00</td>\n",
              "    </tr>\n",
              "    <tr>\n",
              "      <th>289690</th>\n",
              "      <td>562279</td>\n",
              "      <td>21391</td>\n",
              "      <td>-26</td>\n",
              "      <td>2011-08-04</td>\n",
              "      <td>0.0</td>\n",
              "      <td>0</td>\n",
              "      <td>2011-08-04 10:28:00</td>\n",
              "    </tr>\n",
              "    <tr>\n",
              "      <th>52095</th>\n",
              "      <td>540684</td>\n",
              "      <td>35271S</td>\n",
              "      <td>-13</td>\n",
              "      <td>2011-01-10</td>\n",
              "      <td>0.0</td>\n",
              "      <td>0</td>\n",
              "      <td>2011-01-10 17:01:00</td>\n",
              "    </tr>\n",
              "  </tbody>\n",
              "</table>\n",
              "</div>\n",
              "      <button class=\"colab-df-convert\" onclick=\"convertToInteractive('df-201eca11-1fb0-442d-a614-ad9d0ef67d4a')\"\n",
              "              title=\"Convert this dataframe to an interactive table.\"\n",
              "              style=\"display:none;\">\n",
              "        \n",
              "  <svg xmlns=\"http://www.w3.org/2000/svg\" height=\"24px\"viewBox=\"0 0 24 24\"\n",
              "       width=\"24px\">\n",
              "    <path d=\"M0 0h24v24H0V0z\" fill=\"none\"/>\n",
              "    <path d=\"M18.56 5.44l.94 2.06.94-2.06 2.06-.94-2.06-.94-.94-2.06-.94 2.06-2.06.94zm-11 1L8.5 8.5l.94-2.06 2.06-.94-2.06-.94L8.5 2.5l-.94 2.06-2.06.94zm10 10l.94 2.06.94-2.06 2.06-.94-2.06-.94-.94-2.06-.94 2.06-2.06.94z\"/><path d=\"M17.41 7.96l-1.37-1.37c-.4-.4-.92-.59-1.43-.59-.52 0-1.04.2-1.43.59L10.3 9.45l-7.72 7.72c-.78.78-.78 2.05 0 2.83L4 21.41c.39.39.9.59 1.41.59.51 0 1.02-.2 1.41-.59l7.78-7.78 2.81-2.81c.8-.78.8-2.07 0-2.86zM5.41 20L4 18.59l7.72-7.72 1.47 1.35L5.41 20z\"/>\n",
              "  </svg>\n",
              "      </button>\n",
              "      \n",
              "  <style>\n",
              "    .colab-df-container {\n",
              "      display:flex;\n",
              "      flex-wrap:wrap;\n",
              "      gap: 12px;\n",
              "    }\n",
              "\n",
              "    .colab-df-convert {\n",
              "      background-color: #E8F0FE;\n",
              "      border: none;\n",
              "      border-radius: 50%;\n",
              "      cursor: pointer;\n",
              "      display: none;\n",
              "      fill: #1967D2;\n",
              "      height: 32px;\n",
              "      padding: 0 0 0 0;\n",
              "      width: 32px;\n",
              "    }\n",
              "\n",
              "    .colab-df-convert:hover {\n",
              "      background-color: #E2EBFA;\n",
              "      box-shadow: 0px 1px 2px rgba(60, 64, 67, 0.3), 0px 1px 3px 1px rgba(60, 64, 67, 0.15);\n",
              "      fill: #174EA6;\n",
              "    }\n",
              "\n",
              "    [theme=dark] .colab-df-convert {\n",
              "      background-color: #3B4455;\n",
              "      fill: #D2E3FC;\n",
              "    }\n",
              "\n",
              "    [theme=dark] .colab-df-convert:hover {\n",
              "      background-color: #434B5C;\n",
              "      box-shadow: 0px 1px 3px 1px rgba(0, 0, 0, 0.15);\n",
              "      filter: drop-shadow(0px 1px 2px rgba(0, 0, 0, 0.3));\n",
              "      fill: #FFFFFF;\n",
              "    }\n",
              "  </style>\n",
              "\n",
              "      <script>\n",
              "        const buttonEl =\n",
              "          document.querySelector('#df-201eca11-1fb0-442d-a614-ad9d0ef67d4a button.colab-df-convert');\n",
              "        buttonEl.style.display =\n",
              "          google.colab.kernel.accessAllowed ? 'block' : 'none';\n",
              "\n",
              "        async function convertToInteractive(key) {\n",
              "          const element = document.querySelector('#df-201eca11-1fb0-442d-a614-ad9d0ef67d4a');\n",
              "          const dataTable =\n",
              "            await google.colab.kernel.invokeFunction('convertToInteractive',\n",
              "                                                     [key], {});\n",
              "          if (!dataTable) return;\n",
              "\n",
              "          const docLinkHtml = 'Like what you see? Visit the ' +\n",
              "            '<a target=\"_blank\" href=https://colab.research.google.com/notebooks/data_table.ipynb>data table notebook</a>'\n",
              "            + ' to learn more about interactive tables.';\n",
              "          element.innerHTML = '';\n",
              "          dataTable['output_type'] = 'display_data';\n",
              "          await google.colab.output.renderOutput(dataTable, element);\n",
              "          const docLink = document.createElement('div');\n",
              "          docLink.innerHTML = docLinkHtml;\n",
              "          element.appendChild(docLink);\n",
              "        }\n",
              "      </script>\n",
              "    </div>\n",
              "  </div>\n",
              "  "
            ]
          },
          "metadata": {},
          "execution_count": 36
        }
      ]
    },
    {
      "cell_type": "code",
      "source": [
        "df_LTV_01[df_LTV_01['unit_price'] < 0].head() # unit_price < 0인 경우 확인 "
      ],
      "metadata": {
        "colab": {
          "base_uri": "https://localhost:8080/",
          "height": 112
        },
        "id": "uGmHLgWmU7dt",
        "outputId": "48120042-dbe4-4af7-86b7-a766aaae7017"
      },
      "execution_count": 37,
      "outputs": [
        {
          "output_type": "execute_result",
          "data": {
            "text/plain": [
              "       invoice_no stock_code  quantity invoice_date  unit_price customer_id  \\\n",
              "299983    A563186          B         1   2011-08-12   -11062.06           0   \n",
              "299984    A563187          B         1   2011-08-12   -11062.06           0   \n",
              "\n",
              "          invoice_datetime  \n",
              "299983 2011-08-12 14:51:00  \n",
              "299984 2011-08-12 14:52:00  "
            ],
            "text/html": [
              "\n",
              "  <div id=\"df-06f4d27d-11cd-4038-8b7f-b8bc9af19067\">\n",
              "    <div class=\"colab-df-container\">\n",
              "      <div>\n",
              "<style scoped>\n",
              "    .dataframe tbody tr th:only-of-type {\n",
              "        vertical-align: middle;\n",
              "    }\n",
              "\n",
              "    .dataframe tbody tr th {\n",
              "        vertical-align: top;\n",
              "    }\n",
              "\n",
              "    .dataframe thead th {\n",
              "        text-align: right;\n",
              "    }\n",
              "</style>\n",
              "<table border=\"1\" class=\"dataframe\">\n",
              "  <thead>\n",
              "    <tr style=\"text-align: right;\">\n",
              "      <th></th>\n",
              "      <th>invoice_no</th>\n",
              "      <th>stock_code</th>\n",
              "      <th>quantity</th>\n",
              "      <th>invoice_date</th>\n",
              "      <th>unit_price</th>\n",
              "      <th>customer_id</th>\n",
              "      <th>invoice_datetime</th>\n",
              "    </tr>\n",
              "  </thead>\n",
              "  <tbody>\n",
              "    <tr>\n",
              "      <th>299983</th>\n",
              "      <td>A563186</td>\n",
              "      <td>B</td>\n",
              "      <td>1</td>\n",
              "      <td>2011-08-12</td>\n",
              "      <td>-11062.06</td>\n",
              "      <td>0</td>\n",
              "      <td>2011-08-12 14:51:00</td>\n",
              "    </tr>\n",
              "    <tr>\n",
              "      <th>299984</th>\n",
              "      <td>A563187</td>\n",
              "      <td>B</td>\n",
              "      <td>1</td>\n",
              "      <td>2011-08-12</td>\n",
              "      <td>-11062.06</td>\n",
              "      <td>0</td>\n",
              "      <td>2011-08-12 14:52:00</td>\n",
              "    </tr>\n",
              "  </tbody>\n",
              "</table>\n",
              "</div>\n",
              "      <button class=\"colab-df-convert\" onclick=\"convertToInteractive('df-06f4d27d-11cd-4038-8b7f-b8bc9af19067')\"\n",
              "              title=\"Convert this dataframe to an interactive table.\"\n",
              "              style=\"display:none;\">\n",
              "        \n",
              "  <svg xmlns=\"http://www.w3.org/2000/svg\" height=\"24px\"viewBox=\"0 0 24 24\"\n",
              "       width=\"24px\">\n",
              "    <path d=\"M0 0h24v24H0V0z\" fill=\"none\"/>\n",
              "    <path d=\"M18.56 5.44l.94 2.06.94-2.06 2.06-.94-2.06-.94-.94-2.06-.94 2.06-2.06.94zm-11 1L8.5 8.5l.94-2.06 2.06-.94-2.06-.94L8.5 2.5l-.94 2.06-2.06.94zm10 10l.94 2.06.94-2.06 2.06-.94-2.06-.94-.94-2.06-.94 2.06-2.06.94z\"/><path d=\"M17.41 7.96l-1.37-1.37c-.4-.4-.92-.59-1.43-.59-.52 0-1.04.2-1.43.59L10.3 9.45l-7.72 7.72c-.78.78-.78 2.05 0 2.83L4 21.41c.39.39.9.59 1.41.59.51 0 1.02-.2 1.41-.59l7.78-7.78 2.81-2.81c.8-.78.8-2.07 0-2.86zM5.41 20L4 18.59l7.72-7.72 1.47 1.35L5.41 20z\"/>\n",
              "  </svg>\n",
              "      </button>\n",
              "      \n",
              "  <style>\n",
              "    .colab-df-container {\n",
              "      display:flex;\n",
              "      flex-wrap:wrap;\n",
              "      gap: 12px;\n",
              "    }\n",
              "\n",
              "    .colab-df-convert {\n",
              "      background-color: #E8F0FE;\n",
              "      border: none;\n",
              "      border-radius: 50%;\n",
              "      cursor: pointer;\n",
              "      display: none;\n",
              "      fill: #1967D2;\n",
              "      height: 32px;\n",
              "      padding: 0 0 0 0;\n",
              "      width: 32px;\n",
              "    }\n",
              "\n",
              "    .colab-df-convert:hover {\n",
              "      background-color: #E2EBFA;\n",
              "      box-shadow: 0px 1px 2px rgba(60, 64, 67, 0.3), 0px 1px 3px 1px rgba(60, 64, 67, 0.15);\n",
              "      fill: #174EA6;\n",
              "    }\n",
              "\n",
              "    [theme=dark] .colab-df-convert {\n",
              "      background-color: #3B4455;\n",
              "      fill: #D2E3FC;\n",
              "    }\n",
              "\n",
              "    [theme=dark] .colab-df-convert:hover {\n",
              "      background-color: #434B5C;\n",
              "      box-shadow: 0px 1px 3px 1px rgba(0, 0, 0, 0.15);\n",
              "      filter: drop-shadow(0px 1px 2px rgba(0, 0, 0, 0.3));\n",
              "      fill: #FFFFFF;\n",
              "    }\n",
              "  </style>\n",
              "\n",
              "      <script>\n",
              "        const buttonEl =\n",
              "          document.querySelector('#df-06f4d27d-11cd-4038-8b7f-b8bc9af19067 button.colab-df-convert');\n",
              "        buttonEl.style.display =\n",
              "          google.colab.kernel.accessAllowed ? 'block' : 'none';\n",
              "\n",
              "        async function convertToInteractive(key) {\n",
              "          const element = document.querySelector('#df-06f4d27d-11cd-4038-8b7f-b8bc9af19067');\n",
              "          const dataTable =\n",
              "            await google.colab.kernel.invokeFunction('convertToInteractive',\n",
              "                                                     [key], {});\n",
              "          if (!dataTable) return;\n",
              "\n",
              "          const docLinkHtml = 'Like what you see? Visit the ' +\n",
              "            '<a target=\"_blank\" href=https://colab.research.google.com/notebooks/data_table.ipynb>data table notebook</a>'\n",
              "            + ' to learn more about interactive tables.';\n",
              "          element.innerHTML = '';\n",
              "          dataTable['output_type'] = 'display_data';\n",
              "          await google.colab.output.renderOutput(dataTable, element);\n",
              "          const docLink = document.createElement('div');\n",
              "          docLink.innerHTML = docLinkHtml;\n",
              "          element.appendChild(docLink);\n",
              "        }\n",
              "      </script>\n",
              "    </div>\n",
              "  </div>\n",
              "  "
            ]
          },
          "metadata": {},
          "execution_count": 37
        }
      ]
    },
    {
      "cell_type": "code",
      "source": [
        "df_base[df_base['stock_code'] == 'B'] # unit_price < 0 인 상품 확인 \n",
        "\n",
        "# stock_code = 'B'인 상품: \tAdjust bad debt\t <- 즉, 구매 내역은 아님 \n",
        "# 어차피 customer_id = NaN이기 때문에 추후 드랍할 예정 "
      ],
      "metadata": {
        "colab": {
          "base_uri": "https://localhost:8080/",
          "height": 143
        },
        "id": "Qny1oONJVktb",
        "outputId": "fe56988c-09d0-451a-acb2-95fcea2eb208"
      },
      "execution_count": 38,
      "outputs": [
        {
          "output_type": "execute_result",
          "data": {
            "text/plain": [
              "       invoice_no stock_code      description  quantity     invoice_date  \\\n",
              "299982    A563185          B  Adjust bad debt         1  8/12/2011 14:50   \n",
              "299983    A563186          B  Adjust bad debt         1  8/12/2011 14:51   \n",
              "299984    A563187          B  Adjust bad debt         1  8/12/2011 14:52   \n",
              "\n",
              "        unit_price  customer_id         country  \n",
              "299982    11062.06          NaN  United Kingdom  \n",
              "299983   -11062.06          NaN  United Kingdom  \n",
              "299984   -11062.06          NaN  United Kingdom  "
            ],
            "text/html": [
              "\n",
              "  <div id=\"df-3eae1ffc-f804-44e1-b2b0-8b1882424e5f\">\n",
              "    <div class=\"colab-df-container\">\n",
              "      <div>\n",
              "<style scoped>\n",
              "    .dataframe tbody tr th:only-of-type {\n",
              "        vertical-align: middle;\n",
              "    }\n",
              "\n",
              "    .dataframe tbody tr th {\n",
              "        vertical-align: top;\n",
              "    }\n",
              "\n",
              "    .dataframe thead th {\n",
              "        text-align: right;\n",
              "    }\n",
              "</style>\n",
              "<table border=\"1\" class=\"dataframe\">\n",
              "  <thead>\n",
              "    <tr style=\"text-align: right;\">\n",
              "      <th></th>\n",
              "      <th>invoice_no</th>\n",
              "      <th>stock_code</th>\n",
              "      <th>description</th>\n",
              "      <th>quantity</th>\n",
              "      <th>invoice_date</th>\n",
              "      <th>unit_price</th>\n",
              "      <th>customer_id</th>\n",
              "      <th>country</th>\n",
              "    </tr>\n",
              "  </thead>\n",
              "  <tbody>\n",
              "    <tr>\n",
              "      <th>299982</th>\n",
              "      <td>A563185</td>\n",
              "      <td>B</td>\n",
              "      <td>Adjust bad debt</td>\n",
              "      <td>1</td>\n",
              "      <td>8/12/2011 14:50</td>\n",
              "      <td>11062.06</td>\n",
              "      <td>NaN</td>\n",
              "      <td>United Kingdom</td>\n",
              "    </tr>\n",
              "    <tr>\n",
              "      <th>299983</th>\n",
              "      <td>A563186</td>\n",
              "      <td>B</td>\n",
              "      <td>Adjust bad debt</td>\n",
              "      <td>1</td>\n",
              "      <td>8/12/2011 14:51</td>\n",
              "      <td>-11062.06</td>\n",
              "      <td>NaN</td>\n",
              "      <td>United Kingdom</td>\n",
              "    </tr>\n",
              "    <tr>\n",
              "      <th>299984</th>\n",
              "      <td>A563187</td>\n",
              "      <td>B</td>\n",
              "      <td>Adjust bad debt</td>\n",
              "      <td>1</td>\n",
              "      <td>8/12/2011 14:52</td>\n",
              "      <td>-11062.06</td>\n",
              "      <td>NaN</td>\n",
              "      <td>United Kingdom</td>\n",
              "    </tr>\n",
              "  </tbody>\n",
              "</table>\n",
              "</div>\n",
              "      <button class=\"colab-df-convert\" onclick=\"convertToInteractive('df-3eae1ffc-f804-44e1-b2b0-8b1882424e5f')\"\n",
              "              title=\"Convert this dataframe to an interactive table.\"\n",
              "              style=\"display:none;\">\n",
              "        \n",
              "  <svg xmlns=\"http://www.w3.org/2000/svg\" height=\"24px\"viewBox=\"0 0 24 24\"\n",
              "       width=\"24px\">\n",
              "    <path d=\"M0 0h24v24H0V0z\" fill=\"none\"/>\n",
              "    <path d=\"M18.56 5.44l.94 2.06.94-2.06 2.06-.94-2.06-.94-.94-2.06-.94 2.06-2.06.94zm-11 1L8.5 8.5l.94-2.06 2.06-.94-2.06-.94L8.5 2.5l-.94 2.06-2.06.94zm10 10l.94 2.06.94-2.06 2.06-.94-2.06-.94-.94-2.06-.94 2.06-2.06.94z\"/><path d=\"M17.41 7.96l-1.37-1.37c-.4-.4-.92-.59-1.43-.59-.52 0-1.04.2-1.43.59L10.3 9.45l-7.72 7.72c-.78.78-.78 2.05 0 2.83L4 21.41c.39.39.9.59 1.41.59.51 0 1.02-.2 1.41-.59l7.78-7.78 2.81-2.81c.8-.78.8-2.07 0-2.86zM5.41 20L4 18.59l7.72-7.72 1.47 1.35L5.41 20z\"/>\n",
              "  </svg>\n",
              "      </button>\n",
              "      \n",
              "  <style>\n",
              "    .colab-df-container {\n",
              "      display:flex;\n",
              "      flex-wrap:wrap;\n",
              "      gap: 12px;\n",
              "    }\n",
              "\n",
              "    .colab-df-convert {\n",
              "      background-color: #E8F0FE;\n",
              "      border: none;\n",
              "      border-radius: 50%;\n",
              "      cursor: pointer;\n",
              "      display: none;\n",
              "      fill: #1967D2;\n",
              "      height: 32px;\n",
              "      padding: 0 0 0 0;\n",
              "      width: 32px;\n",
              "    }\n",
              "\n",
              "    .colab-df-convert:hover {\n",
              "      background-color: #E2EBFA;\n",
              "      box-shadow: 0px 1px 2px rgba(60, 64, 67, 0.3), 0px 1px 3px 1px rgba(60, 64, 67, 0.15);\n",
              "      fill: #174EA6;\n",
              "    }\n",
              "\n",
              "    [theme=dark] .colab-df-convert {\n",
              "      background-color: #3B4455;\n",
              "      fill: #D2E3FC;\n",
              "    }\n",
              "\n",
              "    [theme=dark] .colab-df-convert:hover {\n",
              "      background-color: #434B5C;\n",
              "      box-shadow: 0px 1px 3px 1px rgba(0, 0, 0, 0.15);\n",
              "      filter: drop-shadow(0px 1px 2px rgba(0, 0, 0, 0.3));\n",
              "      fill: #FFFFFF;\n",
              "    }\n",
              "  </style>\n",
              "\n",
              "      <script>\n",
              "        const buttonEl =\n",
              "          document.querySelector('#df-3eae1ffc-f804-44e1-b2b0-8b1882424e5f button.colab-df-convert');\n",
              "        buttonEl.style.display =\n",
              "          google.colab.kernel.accessAllowed ? 'block' : 'none';\n",
              "\n",
              "        async function convertToInteractive(key) {\n",
              "          const element = document.querySelector('#df-3eae1ffc-f804-44e1-b2b0-8b1882424e5f');\n",
              "          const dataTable =\n",
              "            await google.colab.kernel.invokeFunction('convertToInteractive',\n",
              "                                                     [key], {});\n",
              "          if (!dataTable) return;\n",
              "\n",
              "          const docLinkHtml = 'Like what you see? Visit the ' +\n",
              "            '<a target=\"_blank\" href=https://colab.research.google.com/notebooks/data_table.ipynb>data table notebook</a>'\n",
              "            + ' to learn more about interactive tables.';\n",
              "          element.innerHTML = '';\n",
              "          dataTable['output_type'] = 'display_data';\n",
              "          await google.colab.output.renderOutput(dataTable, element);\n",
              "          const docLink = document.createElement('div');\n",
              "          docLink.innerHTML = docLinkHtml;\n",
              "          element.appendChild(docLink);\n",
              "        }\n",
              "      </script>\n",
              "    </div>\n",
              "  </div>\n",
              "  "
            ]
          },
          "metadata": {},
          "execution_count": 38
        }
      ]
    },
    {
      "cell_type": "code",
      "source": [
        "print((df_LTV_01[df_LTV_01['unit_price'] == 0].shape)) \n",
        "print((df_LTV_01[df_LTV_01['customer_id'] == 0].shape))\n",
        "\n",
        "print((df_LTV_01[(df_LTV_01['customer_id'] == 0) & (df_LTV_01['unit_price'] == 0)].shape))"
      ],
      "metadata": {
        "colab": {
          "base_uri": "https://localhost:8080/"
        },
        "id": "nEO4YzIHeRwy",
        "outputId": "539b440f-a65d-4b6d-c838-e2cd51a595d5"
      },
      "execution_count": 39,
      "outputs": [
        {
          "output_type": "stream",
          "name": "stdout",
          "text": [
            "(2515, 7)\n",
            "(0, 7)\n",
            "(0, 7)\n"
          ]
        }
      ]
    },
    {
      "cell_type": "code",
      "source": [
        "# df_LTV_01[ (df_LTV_01['unit_price'] == 0) & (df_LTV_01['customer_id'] != 0) ]"
      ],
      "metadata": {
        "id": "HmfhgmeefKIG"
      },
      "execution_count": 40,
      "outputs": []
    },
    {
      "cell_type": "code",
      "source": [
        "df_base[df_base['stock_code'] == '22034'] # unit_price == 0 인 상품 확인 "
      ],
      "metadata": {
        "colab": {
          "base_uri": "https://localhost:8080/",
          "height": 331
        },
        "id": "v1Q6ubxMdZri",
        "outputId": "82c39090-da90-4715-dbe2-3db0b06359b6"
      },
      "execution_count": 41,
      "outputs": [
        {
          "output_type": "execute_result",
          "data": {
            "text/plain": [
              "       invoice_no stock_code           description  quantity  \\\n",
              "8828       537153      22034  ROBIN CHRISTMAS CARD         3   \n",
              "19996      537999      22034                   NaN      -223   \n",
              "35347      539436      22034  ROBIN CHRISTMAS CARD         5   \n",
              "44297     C540164      22034  ROBIN CHRISTMAS CARD       -12   \n",
              "243332     558445      22034                   NaN       -18   \n",
              "270602     560578      22034                   NaN        12   \n",
              "469110     576580      22034                   NaN        -5   \n",
              "490649     578065      22034  ROBIN CHRISTMAS CARD         1   \n",
              "501878     578833      22034  ROBIN CHRISTMAS CARD         1   \n",
              "\n",
              "            invoice_date  unit_price  customer_id         country  \n",
              "8828     12/5/2010 13:03        0.42      16718.0  United Kingdom  \n",
              "19996    12/9/2010 11:44        0.00          NaN  United Kingdom  \n",
              "35347   12/17/2010 14:49        0.42          NaN  United Kingdom  \n",
              "44297     1/5/2011 12:02        0.42      14911.0            EIRE  \n",
              "243332   6/29/2011 13:39        0.00          NaN  United Kingdom  \n",
              "270602   7/19/2011 15:12        0.00          NaN  United Kingdom  \n",
              "469110  11/15/2011 14:15        0.00          NaN  United Kingdom  \n",
              "490649  11/22/2011 15:41        0.83          NaN  United Kingdom  \n",
              "501878  11/25/2011 15:23        0.83          NaN  United Kingdom  "
            ],
            "text/html": [
              "\n",
              "  <div id=\"df-322fcd3b-ada4-408c-b3ab-bcabb0a96eb5\">\n",
              "    <div class=\"colab-df-container\">\n",
              "      <div>\n",
              "<style scoped>\n",
              "    .dataframe tbody tr th:only-of-type {\n",
              "        vertical-align: middle;\n",
              "    }\n",
              "\n",
              "    .dataframe tbody tr th {\n",
              "        vertical-align: top;\n",
              "    }\n",
              "\n",
              "    .dataframe thead th {\n",
              "        text-align: right;\n",
              "    }\n",
              "</style>\n",
              "<table border=\"1\" class=\"dataframe\">\n",
              "  <thead>\n",
              "    <tr style=\"text-align: right;\">\n",
              "      <th></th>\n",
              "      <th>invoice_no</th>\n",
              "      <th>stock_code</th>\n",
              "      <th>description</th>\n",
              "      <th>quantity</th>\n",
              "      <th>invoice_date</th>\n",
              "      <th>unit_price</th>\n",
              "      <th>customer_id</th>\n",
              "      <th>country</th>\n",
              "    </tr>\n",
              "  </thead>\n",
              "  <tbody>\n",
              "    <tr>\n",
              "      <th>8828</th>\n",
              "      <td>537153</td>\n",
              "      <td>22034</td>\n",
              "      <td>ROBIN CHRISTMAS CARD</td>\n",
              "      <td>3</td>\n",
              "      <td>12/5/2010 13:03</td>\n",
              "      <td>0.42</td>\n",
              "      <td>16718.0</td>\n",
              "      <td>United Kingdom</td>\n",
              "    </tr>\n",
              "    <tr>\n",
              "      <th>19996</th>\n",
              "      <td>537999</td>\n",
              "      <td>22034</td>\n",
              "      <td>NaN</td>\n",
              "      <td>-223</td>\n",
              "      <td>12/9/2010 11:44</td>\n",
              "      <td>0.00</td>\n",
              "      <td>NaN</td>\n",
              "      <td>United Kingdom</td>\n",
              "    </tr>\n",
              "    <tr>\n",
              "      <th>35347</th>\n",
              "      <td>539436</td>\n",
              "      <td>22034</td>\n",
              "      <td>ROBIN CHRISTMAS CARD</td>\n",
              "      <td>5</td>\n",
              "      <td>12/17/2010 14:49</td>\n",
              "      <td>0.42</td>\n",
              "      <td>NaN</td>\n",
              "      <td>United Kingdom</td>\n",
              "    </tr>\n",
              "    <tr>\n",
              "      <th>44297</th>\n",
              "      <td>C540164</td>\n",
              "      <td>22034</td>\n",
              "      <td>ROBIN CHRISTMAS CARD</td>\n",
              "      <td>-12</td>\n",
              "      <td>1/5/2011 12:02</td>\n",
              "      <td>0.42</td>\n",
              "      <td>14911.0</td>\n",
              "      <td>EIRE</td>\n",
              "    </tr>\n",
              "    <tr>\n",
              "      <th>243332</th>\n",
              "      <td>558445</td>\n",
              "      <td>22034</td>\n",
              "      <td>NaN</td>\n",
              "      <td>-18</td>\n",
              "      <td>6/29/2011 13:39</td>\n",
              "      <td>0.00</td>\n",
              "      <td>NaN</td>\n",
              "      <td>United Kingdom</td>\n",
              "    </tr>\n",
              "    <tr>\n",
              "      <th>270602</th>\n",
              "      <td>560578</td>\n",
              "      <td>22034</td>\n",
              "      <td>NaN</td>\n",
              "      <td>12</td>\n",
              "      <td>7/19/2011 15:12</td>\n",
              "      <td>0.00</td>\n",
              "      <td>NaN</td>\n",
              "      <td>United Kingdom</td>\n",
              "    </tr>\n",
              "    <tr>\n",
              "      <th>469110</th>\n",
              "      <td>576580</td>\n",
              "      <td>22034</td>\n",
              "      <td>NaN</td>\n",
              "      <td>-5</td>\n",
              "      <td>11/15/2011 14:15</td>\n",
              "      <td>0.00</td>\n",
              "      <td>NaN</td>\n",
              "      <td>United Kingdom</td>\n",
              "    </tr>\n",
              "    <tr>\n",
              "      <th>490649</th>\n",
              "      <td>578065</td>\n",
              "      <td>22034</td>\n",
              "      <td>ROBIN CHRISTMAS CARD</td>\n",
              "      <td>1</td>\n",
              "      <td>11/22/2011 15:41</td>\n",
              "      <td>0.83</td>\n",
              "      <td>NaN</td>\n",
              "      <td>United Kingdom</td>\n",
              "    </tr>\n",
              "    <tr>\n",
              "      <th>501878</th>\n",
              "      <td>578833</td>\n",
              "      <td>22034</td>\n",
              "      <td>ROBIN CHRISTMAS CARD</td>\n",
              "      <td>1</td>\n",
              "      <td>11/25/2011 15:23</td>\n",
              "      <td>0.83</td>\n",
              "      <td>NaN</td>\n",
              "      <td>United Kingdom</td>\n",
              "    </tr>\n",
              "  </tbody>\n",
              "</table>\n",
              "</div>\n",
              "      <button class=\"colab-df-convert\" onclick=\"convertToInteractive('df-322fcd3b-ada4-408c-b3ab-bcabb0a96eb5')\"\n",
              "              title=\"Convert this dataframe to an interactive table.\"\n",
              "              style=\"display:none;\">\n",
              "        \n",
              "  <svg xmlns=\"http://www.w3.org/2000/svg\" height=\"24px\"viewBox=\"0 0 24 24\"\n",
              "       width=\"24px\">\n",
              "    <path d=\"M0 0h24v24H0V0z\" fill=\"none\"/>\n",
              "    <path d=\"M18.56 5.44l.94 2.06.94-2.06 2.06-.94-2.06-.94-.94-2.06-.94 2.06-2.06.94zm-11 1L8.5 8.5l.94-2.06 2.06-.94-2.06-.94L8.5 2.5l-.94 2.06-2.06.94zm10 10l.94 2.06.94-2.06 2.06-.94-2.06-.94-.94-2.06-.94 2.06-2.06.94z\"/><path d=\"M17.41 7.96l-1.37-1.37c-.4-.4-.92-.59-1.43-.59-.52 0-1.04.2-1.43.59L10.3 9.45l-7.72 7.72c-.78.78-.78 2.05 0 2.83L4 21.41c.39.39.9.59 1.41.59.51 0 1.02-.2 1.41-.59l7.78-7.78 2.81-2.81c.8-.78.8-2.07 0-2.86zM5.41 20L4 18.59l7.72-7.72 1.47 1.35L5.41 20z\"/>\n",
              "  </svg>\n",
              "      </button>\n",
              "      \n",
              "  <style>\n",
              "    .colab-df-container {\n",
              "      display:flex;\n",
              "      flex-wrap:wrap;\n",
              "      gap: 12px;\n",
              "    }\n",
              "\n",
              "    .colab-df-convert {\n",
              "      background-color: #E8F0FE;\n",
              "      border: none;\n",
              "      border-radius: 50%;\n",
              "      cursor: pointer;\n",
              "      display: none;\n",
              "      fill: #1967D2;\n",
              "      height: 32px;\n",
              "      padding: 0 0 0 0;\n",
              "      width: 32px;\n",
              "    }\n",
              "\n",
              "    .colab-df-convert:hover {\n",
              "      background-color: #E2EBFA;\n",
              "      box-shadow: 0px 1px 2px rgba(60, 64, 67, 0.3), 0px 1px 3px 1px rgba(60, 64, 67, 0.15);\n",
              "      fill: #174EA6;\n",
              "    }\n",
              "\n",
              "    [theme=dark] .colab-df-convert {\n",
              "      background-color: #3B4455;\n",
              "      fill: #D2E3FC;\n",
              "    }\n",
              "\n",
              "    [theme=dark] .colab-df-convert:hover {\n",
              "      background-color: #434B5C;\n",
              "      box-shadow: 0px 1px 3px 1px rgba(0, 0, 0, 0.15);\n",
              "      filter: drop-shadow(0px 1px 2px rgba(0, 0, 0, 0.3));\n",
              "      fill: #FFFFFF;\n",
              "    }\n",
              "  </style>\n",
              "\n",
              "      <script>\n",
              "        const buttonEl =\n",
              "          document.querySelector('#df-322fcd3b-ada4-408c-b3ab-bcabb0a96eb5 button.colab-df-convert');\n",
              "        buttonEl.style.display =\n",
              "          google.colab.kernel.accessAllowed ? 'block' : 'none';\n",
              "\n",
              "        async function convertToInteractive(key) {\n",
              "          const element = document.querySelector('#df-322fcd3b-ada4-408c-b3ab-bcabb0a96eb5');\n",
              "          const dataTable =\n",
              "            await google.colab.kernel.invokeFunction('convertToInteractive',\n",
              "                                                     [key], {});\n",
              "          if (!dataTable) return;\n",
              "\n",
              "          const docLinkHtml = 'Like what you see? Visit the ' +\n",
              "            '<a target=\"_blank\" href=https://colab.research.google.com/notebooks/data_table.ipynb>data table notebook</a>'\n",
              "            + ' to learn more about interactive tables.';\n",
              "          element.innerHTML = '';\n",
              "          dataTable['output_type'] = 'display_data';\n",
              "          await google.colab.output.renderOutput(dataTable, element);\n",
              "          const docLink = document.createElement('div');\n",
              "          docLink.innerHTML = docLinkHtml;\n",
              "          element.appendChild(docLink);\n",
              "        }\n",
              "      </script>\n",
              "    </div>\n",
              "  </div>\n",
              "  "
            ]
          },
          "metadata": {},
          "execution_count": 41
        }
      ]
    },
    {
      "cell_type": "markdown",
      "source": [
        "- unit_price = 0인 이유에 대해 확정짓기 어려움 \n",
        "\n",
        "    - 같은 stock_code인데도 unit_price = 0 인 경우 존재 \n",
        "    -  unit_price = 0 인 경우 중 customer_id이 NaN이었던 경우가 대부분이긴 했으나, 이유를 추측하기 어려움 \n",
        "\n",
        "\n",
        "**추측**\n",
        "1.   단기성 이벤트로 해당 상품을 무료로 증정한 적이 있었다 \n",
        "2.   프로모션이 진행됨에 따라 같은 stock_code여도 unit_price가 다를 수 있다 "
      ],
      "metadata": {
        "id": "bffBBSNjfvoy"
      }
    },
    {
      "cell_type": "markdown",
      "source": [
        "## 2.2 unit_price, quantity에 대한 전처리"
      ],
      "metadata": {
        "id": "HgDO72CCgunz"
      }
    },
    {
      "cell_type": "code",
      "source": [
        "# df_LTV_01['total_price'] = df_LTV_01['quantity'] * df_LTV_01['unit_price']"
      ],
      "metadata": {
        "id": "yO2pZBfglz-Z"
      },
      "execution_count": 42,
      "outputs": []
    },
    {
      "cell_type": "code",
      "source": [
        "# df_LTV_01.groupby('customer_id').agg({\"total_price\": \"sum\"})"
      ],
      "metadata": {
        "id": "AC29Y3srllKV"
      },
      "execution_count": 43,
      "outputs": []
    },
    {
      "cell_type": "code",
      "source": [
        "## rollback을 위해 copy \n",
        "df_LTV_02 = df_LTV_01.copy()\n",
        "# df_LTV_02 = df_LTV_02[df_LTV_02['quantity'] > 0]"
      ],
      "metadata": {
        "id": "LE9t3eS3eK2Y"
      },
      "execution_count": 44,
      "outputs": []
    },
    {
      "cell_type": "code",
      "source": [
        "# ## total_price = quantity * unit_price 열 추가 \n",
        "df_LTV_02['total_price'] = df_LTV_02['quantity'] * df_LTV_02['unit_price']"
      ],
      "metadata": {
        "id": "zqRcQjudO7Fi"
      },
      "execution_count": 45,
      "outputs": []
    },
    {
      "cell_type": "code",
      "source": [
        "# ## total_price = quantity * unit_price 열 추가 \n",
        "# df_LTV_02['total_price'] = df_LTV_02['quantity'] * df_LTV_02['unit_price']"
      ],
      "metadata": {
        "id": "fhOfRzrY8JZM"
      },
      "execution_count": 46,
      "outputs": []
    },
    {
      "cell_type": "code",
      "source": [
        "df_LTV_01.shape"
      ],
      "metadata": {
        "id": "UuNzkwc91OTu",
        "colab": {
          "base_uri": "https://localhost:8080/"
        },
        "outputId": "12affeb7-9d0d-475d-cce9-4e3da74e61ea"
      },
      "execution_count": 47,
      "outputs": [
        {
          "output_type": "execute_result",
          "data": {
            "text/plain": [
              "(541909, 7)"
            ]
          },
          "metadata": {},
          "execution_count": 47
        }
      ]
    },
    {
      "cell_type": "code",
      "source": [
        "df_LTV_02.shape"
      ],
      "metadata": {
        "id": "ycm7M3h11OaI",
        "colab": {
          "base_uri": "https://localhost:8080/"
        },
        "outputId": "0e894e5f-2de5-46eb-9392-eea732ce242d"
      },
      "execution_count": 48,
      "outputs": [
        {
          "output_type": "execute_result",
          "data": {
            "text/plain": [
              "(541909, 8)"
            ]
          },
          "metadata": {},
          "execution_count": 48
        }
      ]
    },
    {
      "cell_type": "code",
      "source": [
        "## customer_id == '0'인 경우 drop \n",
        "df_LTV_02 = df_LTV_02[ df_LTV_02['customer_id'] != '0']"
      ],
      "metadata": {
        "id": "cI_zTZMamLL3"
      },
      "execution_count": 49,
      "outputs": []
    },
    {
      "cell_type": "markdown",
      "source": [
        "Hypothetically, we could consider to use the invoice numbers as dummy variables that each represent an otherwise unknown customer. But this would distort our model. We are interested in repeat customers and their demand patterns. \n",
        "\n",
        "(출처: https://towardsdatascience.com/buy-til-you-die-predict-customer-lifetime-value-in-python-9701bfd4ddc0) "
      ],
      "metadata": {
        "id": "Pj2hLCfakp9M"
      }
    },
    {
      "cell_type": "code",
      "source": [
        "df_LTV_02.shape"
      ],
      "metadata": {
        "colab": {
          "base_uri": "https://localhost:8080/"
        },
        "id": "xIa0QmtSmUrk",
        "outputId": "d4579029-bcbb-4e2f-ad70-7ed70ecfb52b"
      },
      "execution_count": 50,
      "outputs": [
        {
          "output_type": "execute_result",
          "data": {
            "text/plain": [
              "(406829, 8)"
            ]
          },
          "metadata": {},
          "execution_count": 50
        }
      ]
    },
    {
      "cell_type": "code",
      "source": [
        "df_LTV_02.info() # 최종 LTV 계산에 활용할 데이터 형태 "
      ],
      "metadata": {
        "colab": {
          "base_uri": "https://localhost:8080/"
        },
        "id": "95Z1Ho4MmX3E",
        "outputId": "087411c5-fb99-4ee5-a2d5-51149517c527"
      },
      "execution_count": 51,
      "outputs": [
        {
          "output_type": "stream",
          "name": "stdout",
          "text": [
            "<class 'pandas.core.frame.DataFrame'>\n",
            "Int64Index: 406829 entries, 0 to 541908\n",
            "Data columns (total 8 columns):\n",
            " #   Column            Non-Null Count   Dtype         \n",
            "---  ------            --------------   -----         \n",
            " 0   invoice_no        406829 non-null  object        \n",
            " 1   stock_code        406829 non-null  object        \n",
            " 2   quantity          406829 non-null  int64         \n",
            " 3   invoice_date      406829 non-null  datetime64[ns]\n",
            " 4   unit_price        406829 non-null  float64       \n",
            " 5   customer_id       406829 non-null  object        \n",
            " 6   invoice_datetime  406829 non-null  datetime64[ns]\n",
            " 7   total_price       406829 non-null  float64       \n",
            "dtypes: datetime64[ns](2), float64(2), int64(1), object(3)\n",
            "memory usage: 27.9+ MB\n"
          ]
        }
      ]
    },
    {
      "cell_type": "code",
      "source": [
        "df_LTV_02.head()"
      ],
      "metadata": {
        "colab": {
          "base_uri": "https://localhost:8080/",
          "height": 206
        },
        "id": "fOJ_rOQmLyDR",
        "outputId": "8fe74848-fa50-4878-fafe-ba290050da3d"
      },
      "execution_count": 52,
      "outputs": [
        {
          "output_type": "execute_result",
          "data": {
            "text/plain": [
              "  invoice_no stock_code  quantity invoice_date  unit_price customer_id  \\\n",
              "0     536365     85123A         6   2010-12-01        2.55       17850   \n",
              "1     536365      71053         6   2010-12-01        3.39       17850   \n",
              "2     536365     84406B         8   2010-12-01        2.75       17850   \n",
              "3     536365     84029G         6   2010-12-01        3.39       17850   \n",
              "4     536365     84029E         6   2010-12-01        3.39       17850   \n",
              "\n",
              "     invoice_datetime  total_price  \n",
              "0 2010-12-01 08:26:00        15.30  \n",
              "1 2010-12-01 08:26:00        20.34  \n",
              "2 2010-12-01 08:26:00        22.00  \n",
              "3 2010-12-01 08:26:00        20.34  \n",
              "4 2010-12-01 08:26:00        20.34  "
            ],
            "text/html": [
              "\n",
              "  <div id=\"df-7f2f2f09-c700-456f-902a-68812799430f\">\n",
              "    <div class=\"colab-df-container\">\n",
              "      <div>\n",
              "<style scoped>\n",
              "    .dataframe tbody tr th:only-of-type {\n",
              "        vertical-align: middle;\n",
              "    }\n",
              "\n",
              "    .dataframe tbody tr th {\n",
              "        vertical-align: top;\n",
              "    }\n",
              "\n",
              "    .dataframe thead th {\n",
              "        text-align: right;\n",
              "    }\n",
              "</style>\n",
              "<table border=\"1\" class=\"dataframe\">\n",
              "  <thead>\n",
              "    <tr style=\"text-align: right;\">\n",
              "      <th></th>\n",
              "      <th>invoice_no</th>\n",
              "      <th>stock_code</th>\n",
              "      <th>quantity</th>\n",
              "      <th>invoice_date</th>\n",
              "      <th>unit_price</th>\n",
              "      <th>customer_id</th>\n",
              "      <th>invoice_datetime</th>\n",
              "      <th>total_price</th>\n",
              "    </tr>\n",
              "  </thead>\n",
              "  <tbody>\n",
              "    <tr>\n",
              "      <th>0</th>\n",
              "      <td>536365</td>\n",
              "      <td>85123A</td>\n",
              "      <td>6</td>\n",
              "      <td>2010-12-01</td>\n",
              "      <td>2.55</td>\n",
              "      <td>17850</td>\n",
              "      <td>2010-12-01 08:26:00</td>\n",
              "      <td>15.30</td>\n",
              "    </tr>\n",
              "    <tr>\n",
              "      <th>1</th>\n",
              "      <td>536365</td>\n",
              "      <td>71053</td>\n",
              "      <td>6</td>\n",
              "      <td>2010-12-01</td>\n",
              "      <td>3.39</td>\n",
              "      <td>17850</td>\n",
              "      <td>2010-12-01 08:26:00</td>\n",
              "      <td>20.34</td>\n",
              "    </tr>\n",
              "    <tr>\n",
              "      <th>2</th>\n",
              "      <td>536365</td>\n",
              "      <td>84406B</td>\n",
              "      <td>8</td>\n",
              "      <td>2010-12-01</td>\n",
              "      <td>2.75</td>\n",
              "      <td>17850</td>\n",
              "      <td>2010-12-01 08:26:00</td>\n",
              "      <td>22.00</td>\n",
              "    </tr>\n",
              "    <tr>\n",
              "      <th>3</th>\n",
              "      <td>536365</td>\n",
              "      <td>84029G</td>\n",
              "      <td>6</td>\n",
              "      <td>2010-12-01</td>\n",
              "      <td>3.39</td>\n",
              "      <td>17850</td>\n",
              "      <td>2010-12-01 08:26:00</td>\n",
              "      <td>20.34</td>\n",
              "    </tr>\n",
              "    <tr>\n",
              "      <th>4</th>\n",
              "      <td>536365</td>\n",
              "      <td>84029E</td>\n",
              "      <td>6</td>\n",
              "      <td>2010-12-01</td>\n",
              "      <td>3.39</td>\n",
              "      <td>17850</td>\n",
              "      <td>2010-12-01 08:26:00</td>\n",
              "      <td>20.34</td>\n",
              "    </tr>\n",
              "  </tbody>\n",
              "</table>\n",
              "</div>\n",
              "      <button class=\"colab-df-convert\" onclick=\"convertToInteractive('df-7f2f2f09-c700-456f-902a-68812799430f')\"\n",
              "              title=\"Convert this dataframe to an interactive table.\"\n",
              "              style=\"display:none;\">\n",
              "        \n",
              "  <svg xmlns=\"http://www.w3.org/2000/svg\" height=\"24px\"viewBox=\"0 0 24 24\"\n",
              "       width=\"24px\">\n",
              "    <path d=\"M0 0h24v24H0V0z\" fill=\"none\"/>\n",
              "    <path d=\"M18.56 5.44l.94 2.06.94-2.06 2.06-.94-2.06-.94-.94-2.06-.94 2.06-2.06.94zm-11 1L8.5 8.5l.94-2.06 2.06-.94-2.06-.94L8.5 2.5l-.94 2.06-2.06.94zm10 10l.94 2.06.94-2.06 2.06-.94-2.06-.94-.94-2.06-.94 2.06-2.06.94z\"/><path d=\"M17.41 7.96l-1.37-1.37c-.4-.4-.92-.59-1.43-.59-.52 0-1.04.2-1.43.59L10.3 9.45l-7.72 7.72c-.78.78-.78 2.05 0 2.83L4 21.41c.39.39.9.59 1.41.59.51 0 1.02-.2 1.41-.59l7.78-7.78 2.81-2.81c.8-.78.8-2.07 0-2.86zM5.41 20L4 18.59l7.72-7.72 1.47 1.35L5.41 20z\"/>\n",
              "  </svg>\n",
              "      </button>\n",
              "      \n",
              "  <style>\n",
              "    .colab-df-container {\n",
              "      display:flex;\n",
              "      flex-wrap:wrap;\n",
              "      gap: 12px;\n",
              "    }\n",
              "\n",
              "    .colab-df-convert {\n",
              "      background-color: #E8F0FE;\n",
              "      border: none;\n",
              "      border-radius: 50%;\n",
              "      cursor: pointer;\n",
              "      display: none;\n",
              "      fill: #1967D2;\n",
              "      height: 32px;\n",
              "      padding: 0 0 0 0;\n",
              "      width: 32px;\n",
              "    }\n",
              "\n",
              "    .colab-df-convert:hover {\n",
              "      background-color: #E2EBFA;\n",
              "      box-shadow: 0px 1px 2px rgba(60, 64, 67, 0.3), 0px 1px 3px 1px rgba(60, 64, 67, 0.15);\n",
              "      fill: #174EA6;\n",
              "    }\n",
              "\n",
              "    [theme=dark] .colab-df-convert {\n",
              "      background-color: #3B4455;\n",
              "      fill: #D2E3FC;\n",
              "    }\n",
              "\n",
              "    [theme=dark] .colab-df-convert:hover {\n",
              "      background-color: #434B5C;\n",
              "      box-shadow: 0px 1px 3px 1px rgba(0, 0, 0, 0.15);\n",
              "      filter: drop-shadow(0px 1px 2px rgba(0, 0, 0, 0.3));\n",
              "      fill: #FFFFFF;\n",
              "    }\n",
              "  </style>\n",
              "\n",
              "      <script>\n",
              "        const buttonEl =\n",
              "          document.querySelector('#df-7f2f2f09-c700-456f-902a-68812799430f button.colab-df-convert');\n",
              "        buttonEl.style.display =\n",
              "          google.colab.kernel.accessAllowed ? 'block' : 'none';\n",
              "\n",
              "        async function convertToInteractive(key) {\n",
              "          const element = document.querySelector('#df-7f2f2f09-c700-456f-902a-68812799430f');\n",
              "          const dataTable =\n",
              "            await google.colab.kernel.invokeFunction('convertToInteractive',\n",
              "                                                     [key], {});\n",
              "          if (!dataTable) return;\n",
              "\n",
              "          const docLinkHtml = 'Like what you see? Visit the ' +\n",
              "            '<a target=\"_blank\" href=https://colab.research.google.com/notebooks/data_table.ipynb>data table notebook</a>'\n",
              "            + ' to learn more about interactive tables.';\n",
              "          element.innerHTML = '';\n",
              "          dataTable['output_type'] = 'display_data';\n",
              "          await google.colab.output.renderOutput(dataTable, element);\n",
              "          const docLink = document.createElement('div');\n",
              "          docLink.innerHTML = docLinkHtml;\n",
              "          element.appendChild(docLink);\n",
              "        }\n",
              "      </script>\n",
              "    </div>\n",
              "  </div>\n",
              "  "
            ]
          },
          "metadata": {},
          "execution_count": 52
        }
      ]
    },
    {
      "cell_type": "markdown",
      "source": [
        "#_3. Life Time Value (고객 생애가치) 계산 "
      ],
      "metadata": {
        "id": "-mDA6rrfjNuP"
      }
    },
    {
      "cell_type": "code",
      "source": [
        "max(df_LTV_01['invoice_date'])"
      ],
      "metadata": {
        "colab": {
          "base_uri": "https://localhost:8080/"
        },
        "id": "lgbIrXJwMt2B",
        "outputId": "e1970fc7-ed90-4dc0-d802-e100e2010749"
      },
      "execution_count": 53,
      "outputs": [
        {
          "output_type": "execute_result",
          "data": {
            "text/plain": [
              "Timestamp('2011-12-09 00:00:00')"
            ]
          },
          "metadata": {},
          "execution_count": 53
        }
      ]
    },
    {
      "cell_type": "code",
      "source": [
        "today_date = dt.datetime(2011, 12, 9)"
      ],
      "metadata": {
        "id": "xWrTNKnnMrRV"
      },
      "execution_count": 54,
      "outputs": []
    },
    {
      "cell_type": "markdown",
      "source": [
        "## 3.1 RFM analysis"
      ],
      "metadata": {
        "id": "VIGxVKgrcJAs"
      }
    },
    {
      "cell_type": "markdown",
      "source": [
        "**RFM**\n",
        "- recency:\n",
        "    - the number of days between her first and her latest transaction \n",
        "    - affects retention, a measure of engagement\n",
        "- frequency:  the number of time periods in which one or more repeat purchases were recorded\n",
        "- monetary: affects a customer's lifetime value \n",
        "- T: the number of days between her “birth” — the first invoice\n",
        "\n",
        "RFM scoring을 통해 고객을 segmentation할 수도 있음 "
      ],
      "metadata": {
        "id": "lfLdX-X3Ocb1"
      }
    },
    {
      "cell_type": "markdown",
      "source": [
        "**나에게 가장 좋은 고객?**  \n",
        "- T와 recency가 크게 차이나지 않으면서(즉, 첫 구매 이후와 마지막 구매와의 간격이 T와 비슷하면서), frequency와 monetary가 높은 고객 (자주 구매하면서도 구매할 때마다 높은 금액으로 구매하는 꾸준한 단골 충성 고객) "
      ],
      "metadata": {
        "id": "nJwv_7ugkVBX"
      }
    },
    {
      "cell_type": "code",
      "source": [
        "# df_LTV_02[df_LTV_02['customer_id'] == '14527']"
      ],
      "metadata": {
        "colab": {
          "base_uri": "https://localhost:8080/",
          "height": 423
        },
        "id": "2ikiqOz1mQRr",
        "outputId": "c73bb03c-0815-4e74-c143-bb58b6a0188d"
      },
      "execution_count": 55,
      "outputs": [
        {
          "output_type": "execute_result",
          "data": {
            "text/plain": [
              "       invoice_no stock_code  quantity invoice_date  unit_price customer_id  \\\n",
              "141       C536379          D        -1   2010-12-01       27.50       14527   \n",
              "8963       537159      22112         6   2010-12-05        4.95       14527   \n",
              "8964       537159      22111         1   2010-12-05        4.95       14527   \n",
              "8965       537159      21479         1   2010-12-05        3.75       14527   \n",
              "8966       537159      22114         6   2010-12-05        3.95       14527   \n",
              "...           ...        ...       ...          ...         ...         ...   \n",
              "533807     581114      22111         1   2011-12-07        4.95       14527   \n",
              "533808     581114      22835         2   2011-12-07        4.95       14527   \n",
              "533809     581114      22114         6   2011-12-07        4.25       14527   \n",
              "533810     581114      21479         2   2011-12-07        4.25       14527   \n",
              "533811     581114      22112         3   2011-12-07        4.95       14527   \n",
              "\n",
              "          invoice_datetime  total_price  \n",
              "141    2010-12-01 09:41:00       -27.50  \n",
              "8963   2010-12-05 13:17:00        29.70  \n",
              "8964   2010-12-05 13:17:00         4.95  \n",
              "8965   2010-12-05 13:17:00         3.75  \n",
              "8966   2010-12-05 13:17:00        23.70  \n",
              "...                    ...          ...  \n",
              "533807 2011-12-07 12:19:00         4.95  \n",
              "533808 2011-12-07 12:19:00         9.90  \n",
              "533809 2011-12-07 12:19:00        25.50  \n",
              "533810 2011-12-07 12:19:00         8.50  \n",
              "533811 2011-12-07 12:19:00        14.85  \n",
              "\n",
              "[1011 rows x 8 columns]"
            ],
            "text/html": [
              "\n",
              "  <div id=\"df-307124d4-da69-437b-affa-4ebb98785276\">\n",
              "    <div class=\"colab-df-container\">\n",
              "      <div>\n",
              "<style scoped>\n",
              "    .dataframe tbody tr th:only-of-type {\n",
              "        vertical-align: middle;\n",
              "    }\n",
              "\n",
              "    .dataframe tbody tr th {\n",
              "        vertical-align: top;\n",
              "    }\n",
              "\n",
              "    .dataframe thead th {\n",
              "        text-align: right;\n",
              "    }\n",
              "</style>\n",
              "<table border=\"1\" class=\"dataframe\">\n",
              "  <thead>\n",
              "    <tr style=\"text-align: right;\">\n",
              "      <th></th>\n",
              "      <th>invoice_no</th>\n",
              "      <th>stock_code</th>\n",
              "      <th>quantity</th>\n",
              "      <th>invoice_date</th>\n",
              "      <th>unit_price</th>\n",
              "      <th>customer_id</th>\n",
              "      <th>invoice_datetime</th>\n",
              "      <th>total_price</th>\n",
              "    </tr>\n",
              "  </thead>\n",
              "  <tbody>\n",
              "    <tr>\n",
              "      <th>141</th>\n",
              "      <td>C536379</td>\n",
              "      <td>D</td>\n",
              "      <td>-1</td>\n",
              "      <td>2010-12-01</td>\n",
              "      <td>27.50</td>\n",
              "      <td>14527</td>\n",
              "      <td>2010-12-01 09:41:00</td>\n",
              "      <td>-27.50</td>\n",
              "    </tr>\n",
              "    <tr>\n",
              "      <th>8963</th>\n",
              "      <td>537159</td>\n",
              "      <td>22112</td>\n",
              "      <td>6</td>\n",
              "      <td>2010-12-05</td>\n",
              "      <td>4.95</td>\n",
              "      <td>14527</td>\n",
              "      <td>2010-12-05 13:17:00</td>\n",
              "      <td>29.70</td>\n",
              "    </tr>\n",
              "    <tr>\n",
              "      <th>8964</th>\n",
              "      <td>537159</td>\n",
              "      <td>22111</td>\n",
              "      <td>1</td>\n",
              "      <td>2010-12-05</td>\n",
              "      <td>4.95</td>\n",
              "      <td>14527</td>\n",
              "      <td>2010-12-05 13:17:00</td>\n",
              "      <td>4.95</td>\n",
              "    </tr>\n",
              "    <tr>\n",
              "      <th>8965</th>\n",
              "      <td>537159</td>\n",
              "      <td>21479</td>\n",
              "      <td>1</td>\n",
              "      <td>2010-12-05</td>\n",
              "      <td>3.75</td>\n",
              "      <td>14527</td>\n",
              "      <td>2010-12-05 13:17:00</td>\n",
              "      <td>3.75</td>\n",
              "    </tr>\n",
              "    <tr>\n",
              "      <th>8966</th>\n",
              "      <td>537159</td>\n",
              "      <td>22114</td>\n",
              "      <td>6</td>\n",
              "      <td>2010-12-05</td>\n",
              "      <td>3.95</td>\n",
              "      <td>14527</td>\n",
              "      <td>2010-12-05 13:17:00</td>\n",
              "      <td>23.70</td>\n",
              "    </tr>\n",
              "    <tr>\n",
              "      <th>...</th>\n",
              "      <td>...</td>\n",
              "      <td>...</td>\n",
              "      <td>...</td>\n",
              "      <td>...</td>\n",
              "      <td>...</td>\n",
              "      <td>...</td>\n",
              "      <td>...</td>\n",
              "      <td>...</td>\n",
              "    </tr>\n",
              "    <tr>\n",
              "      <th>533807</th>\n",
              "      <td>581114</td>\n",
              "      <td>22111</td>\n",
              "      <td>1</td>\n",
              "      <td>2011-12-07</td>\n",
              "      <td>4.95</td>\n",
              "      <td>14527</td>\n",
              "      <td>2011-12-07 12:19:00</td>\n",
              "      <td>4.95</td>\n",
              "    </tr>\n",
              "    <tr>\n",
              "      <th>533808</th>\n",
              "      <td>581114</td>\n",
              "      <td>22835</td>\n",
              "      <td>2</td>\n",
              "      <td>2011-12-07</td>\n",
              "      <td>4.95</td>\n",
              "      <td>14527</td>\n",
              "      <td>2011-12-07 12:19:00</td>\n",
              "      <td>9.90</td>\n",
              "    </tr>\n",
              "    <tr>\n",
              "      <th>533809</th>\n",
              "      <td>581114</td>\n",
              "      <td>22114</td>\n",
              "      <td>6</td>\n",
              "      <td>2011-12-07</td>\n",
              "      <td>4.25</td>\n",
              "      <td>14527</td>\n",
              "      <td>2011-12-07 12:19:00</td>\n",
              "      <td>25.50</td>\n",
              "    </tr>\n",
              "    <tr>\n",
              "      <th>533810</th>\n",
              "      <td>581114</td>\n",
              "      <td>21479</td>\n",
              "      <td>2</td>\n",
              "      <td>2011-12-07</td>\n",
              "      <td>4.25</td>\n",
              "      <td>14527</td>\n",
              "      <td>2011-12-07 12:19:00</td>\n",
              "      <td>8.50</td>\n",
              "    </tr>\n",
              "    <tr>\n",
              "      <th>533811</th>\n",
              "      <td>581114</td>\n",
              "      <td>22112</td>\n",
              "      <td>3</td>\n",
              "      <td>2011-12-07</td>\n",
              "      <td>4.95</td>\n",
              "      <td>14527</td>\n",
              "      <td>2011-12-07 12:19:00</td>\n",
              "      <td>14.85</td>\n",
              "    </tr>\n",
              "  </tbody>\n",
              "</table>\n",
              "<p>1011 rows × 8 columns</p>\n",
              "</div>\n",
              "      <button class=\"colab-df-convert\" onclick=\"convertToInteractive('df-307124d4-da69-437b-affa-4ebb98785276')\"\n",
              "              title=\"Convert this dataframe to an interactive table.\"\n",
              "              style=\"display:none;\">\n",
              "        \n",
              "  <svg xmlns=\"http://www.w3.org/2000/svg\" height=\"24px\"viewBox=\"0 0 24 24\"\n",
              "       width=\"24px\">\n",
              "    <path d=\"M0 0h24v24H0V0z\" fill=\"none\"/>\n",
              "    <path d=\"M18.56 5.44l.94 2.06.94-2.06 2.06-.94-2.06-.94-.94-2.06-.94 2.06-2.06.94zm-11 1L8.5 8.5l.94-2.06 2.06-.94-2.06-.94L8.5 2.5l-.94 2.06-2.06.94zm10 10l.94 2.06.94-2.06 2.06-.94-2.06-.94-.94-2.06-.94 2.06-2.06.94z\"/><path d=\"M17.41 7.96l-1.37-1.37c-.4-.4-.92-.59-1.43-.59-.52 0-1.04.2-1.43.59L10.3 9.45l-7.72 7.72c-.78.78-.78 2.05 0 2.83L4 21.41c.39.39.9.59 1.41.59.51 0 1.02-.2 1.41-.59l7.78-7.78 2.81-2.81c.8-.78.8-2.07 0-2.86zM5.41 20L4 18.59l7.72-7.72 1.47 1.35L5.41 20z\"/>\n",
              "  </svg>\n",
              "      </button>\n",
              "      \n",
              "  <style>\n",
              "    .colab-df-container {\n",
              "      display:flex;\n",
              "      flex-wrap:wrap;\n",
              "      gap: 12px;\n",
              "    }\n",
              "\n",
              "    .colab-df-convert {\n",
              "      background-color: #E8F0FE;\n",
              "      border: none;\n",
              "      border-radius: 50%;\n",
              "      cursor: pointer;\n",
              "      display: none;\n",
              "      fill: #1967D2;\n",
              "      height: 32px;\n",
              "      padding: 0 0 0 0;\n",
              "      width: 32px;\n",
              "    }\n",
              "\n",
              "    .colab-df-convert:hover {\n",
              "      background-color: #E2EBFA;\n",
              "      box-shadow: 0px 1px 2px rgba(60, 64, 67, 0.3), 0px 1px 3px 1px rgba(60, 64, 67, 0.15);\n",
              "      fill: #174EA6;\n",
              "    }\n",
              "\n",
              "    [theme=dark] .colab-df-convert {\n",
              "      background-color: #3B4455;\n",
              "      fill: #D2E3FC;\n",
              "    }\n",
              "\n",
              "    [theme=dark] .colab-df-convert:hover {\n",
              "      background-color: #434B5C;\n",
              "      box-shadow: 0px 1px 3px 1px rgba(0, 0, 0, 0.15);\n",
              "      filter: drop-shadow(0px 1px 2px rgba(0, 0, 0, 0.3));\n",
              "      fill: #FFFFFF;\n",
              "    }\n",
              "  </style>\n",
              "\n",
              "      <script>\n",
              "        const buttonEl =\n",
              "          document.querySelector('#df-307124d4-da69-437b-affa-4ebb98785276 button.colab-df-convert');\n",
              "        buttonEl.style.display =\n",
              "          google.colab.kernel.accessAllowed ? 'block' : 'none';\n",
              "\n",
              "        async function convertToInteractive(key) {\n",
              "          const element = document.querySelector('#df-307124d4-da69-437b-affa-4ebb98785276');\n",
              "          const dataTable =\n",
              "            await google.colab.kernel.invokeFunction('convertToInteractive',\n",
              "                                                     [key], {});\n",
              "          if (!dataTable) return;\n",
              "\n",
              "          const docLinkHtml = 'Like what you see? Visit the ' +\n",
              "            '<a target=\"_blank\" href=https://colab.research.google.com/notebooks/data_table.ipynb>data table notebook</a>'\n",
              "            + ' to learn more about interactive tables.';\n",
              "          element.innerHTML = '';\n",
              "          dataTable['output_type'] = 'display_data';\n",
              "          await google.colab.output.renderOutput(dataTable, element);\n",
              "          const docLink = document.createElement('div');\n",
              "          docLink.innerHTML = docLinkHtml;\n",
              "          element.appendChild(docLink);\n",
              "        }\n",
              "      </script>\n",
              "    </div>\n",
              "  </div>\n",
              "  "
            ]
          },
          "metadata": {},
          "execution_count": 55
        }
      ]
    },
    {
      "cell_type": "code",
      "source": [
        "# df_LTV_02[df_LTV_02['customer_id'] == '12348']"
      ],
      "metadata": {
        "id": "MrxND-15WbO-"
      },
      "execution_count": 56,
      "outputs": []
    },
    {
      "cell_type": "code",
      "source": [
        "# %%time \n",
        "# ltv_df = df_LTV_02.groupby(\"customer_id\").agg(\n",
        "#     {\n",
        "#         \"invoice_date\": [\n",
        "#             lambda x: (x.max() - x.min()).days,\n",
        "#             lambda x: (today_date - x.min()).days,\n",
        "#         ],\n",
        "#         \"total_price\": \"sum\",\n",
        "#     }\n",
        "# )\n",
        "\n",
        "# # invoice_df = df_LTV_02[ df_LTV_02['quantity'] > 0 ].groupby(\"customer_id\").agg( { \"invoice_no\": \"nunique\" })\n",
        "# invoice_df = df_LTV_02[ df_LTV_02['quantity'] > 0 ].groupby(\"customer_id\").agg( { \"invoice_date\": \"nunique\" })\n",
        "\n",
        "\n",
        "# ltv_df.columns = ltv_df.columns.droplevel(0)\n",
        "\n",
        "# invoice_df.head()\n",
        "\n",
        "# ltv_df = pd.merge(ltv_df, invoice_df, left_index=True, right_index=True)\n",
        "# ltv_df.columns = [\"recency\", \"T\", \"monetary\", \"frequency\"]\n",
        "\n",
        "# ltv_df.head()"
      ],
      "metadata": {
        "colab": {
          "base_uri": "https://localhost:8080/",
          "height": 273
        },
        "id": "kzDq5xGeRCRi",
        "outputId": "4aa141d9-3567-4bd3-f6bf-131b77f276c2"
      },
      "execution_count": 57,
      "outputs": [
        {
          "output_type": "stream",
          "name": "stdout",
          "text": [
            "CPU times: user 1.76 s, sys: 7.2 ms, total: 1.77 s\n",
            "Wall time: 1.81 s\n"
          ]
        },
        {
          "output_type": "execute_result",
          "data": {
            "text/plain": [
              "             recency    T  monetary  frequency\n",
              "customer_id                                   \n",
              "12346              0  325      0.00          1\n",
              "12347            365  367   4310.00          7\n",
              "12348            283  358   1797.24          4\n",
              "12349              0   18   1757.55          1\n",
              "12350              0  310    334.40          1"
            ],
            "text/html": [
              "\n",
              "  <div id=\"df-15574d04-baac-4f15-85ee-476195451f1b\">\n",
              "    <div class=\"colab-df-container\">\n",
              "      <div>\n",
              "<style scoped>\n",
              "    .dataframe tbody tr th:only-of-type {\n",
              "        vertical-align: middle;\n",
              "    }\n",
              "\n",
              "    .dataframe tbody tr th {\n",
              "        vertical-align: top;\n",
              "    }\n",
              "\n",
              "    .dataframe thead th {\n",
              "        text-align: right;\n",
              "    }\n",
              "</style>\n",
              "<table border=\"1\" class=\"dataframe\">\n",
              "  <thead>\n",
              "    <tr style=\"text-align: right;\">\n",
              "      <th></th>\n",
              "      <th>recency</th>\n",
              "      <th>T</th>\n",
              "      <th>monetary</th>\n",
              "      <th>frequency</th>\n",
              "    </tr>\n",
              "    <tr>\n",
              "      <th>customer_id</th>\n",
              "      <th></th>\n",
              "      <th></th>\n",
              "      <th></th>\n",
              "      <th></th>\n",
              "    </tr>\n",
              "  </thead>\n",
              "  <tbody>\n",
              "    <tr>\n",
              "      <th>12346</th>\n",
              "      <td>0</td>\n",
              "      <td>325</td>\n",
              "      <td>0.00</td>\n",
              "      <td>1</td>\n",
              "    </tr>\n",
              "    <tr>\n",
              "      <th>12347</th>\n",
              "      <td>365</td>\n",
              "      <td>367</td>\n",
              "      <td>4310.00</td>\n",
              "      <td>7</td>\n",
              "    </tr>\n",
              "    <tr>\n",
              "      <th>12348</th>\n",
              "      <td>283</td>\n",
              "      <td>358</td>\n",
              "      <td>1797.24</td>\n",
              "      <td>4</td>\n",
              "    </tr>\n",
              "    <tr>\n",
              "      <th>12349</th>\n",
              "      <td>0</td>\n",
              "      <td>18</td>\n",
              "      <td>1757.55</td>\n",
              "      <td>1</td>\n",
              "    </tr>\n",
              "    <tr>\n",
              "      <th>12350</th>\n",
              "      <td>0</td>\n",
              "      <td>310</td>\n",
              "      <td>334.40</td>\n",
              "      <td>1</td>\n",
              "    </tr>\n",
              "  </tbody>\n",
              "</table>\n",
              "</div>\n",
              "      <button class=\"colab-df-convert\" onclick=\"convertToInteractive('df-15574d04-baac-4f15-85ee-476195451f1b')\"\n",
              "              title=\"Convert this dataframe to an interactive table.\"\n",
              "              style=\"display:none;\">\n",
              "        \n",
              "  <svg xmlns=\"http://www.w3.org/2000/svg\" height=\"24px\"viewBox=\"0 0 24 24\"\n",
              "       width=\"24px\">\n",
              "    <path d=\"M0 0h24v24H0V0z\" fill=\"none\"/>\n",
              "    <path d=\"M18.56 5.44l.94 2.06.94-2.06 2.06-.94-2.06-.94-.94-2.06-.94 2.06-2.06.94zm-11 1L8.5 8.5l.94-2.06 2.06-.94-2.06-.94L8.5 2.5l-.94 2.06-2.06.94zm10 10l.94 2.06.94-2.06 2.06-.94-2.06-.94-.94-2.06-.94 2.06-2.06.94z\"/><path d=\"M17.41 7.96l-1.37-1.37c-.4-.4-.92-.59-1.43-.59-.52 0-1.04.2-1.43.59L10.3 9.45l-7.72 7.72c-.78.78-.78 2.05 0 2.83L4 21.41c.39.39.9.59 1.41.59.51 0 1.02-.2 1.41-.59l7.78-7.78 2.81-2.81c.8-.78.8-2.07 0-2.86zM5.41 20L4 18.59l7.72-7.72 1.47 1.35L5.41 20z\"/>\n",
              "  </svg>\n",
              "      </button>\n",
              "      \n",
              "  <style>\n",
              "    .colab-df-container {\n",
              "      display:flex;\n",
              "      flex-wrap:wrap;\n",
              "      gap: 12px;\n",
              "    }\n",
              "\n",
              "    .colab-df-convert {\n",
              "      background-color: #E8F0FE;\n",
              "      border: none;\n",
              "      border-radius: 50%;\n",
              "      cursor: pointer;\n",
              "      display: none;\n",
              "      fill: #1967D2;\n",
              "      height: 32px;\n",
              "      padding: 0 0 0 0;\n",
              "      width: 32px;\n",
              "    }\n",
              "\n",
              "    .colab-df-convert:hover {\n",
              "      background-color: #E2EBFA;\n",
              "      box-shadow: 0px 1px 2px rgba(60, 64, 67, 0.3), 0px 1px 3px 1px rgba(60, 64, 67, 0.15);\n",
              "      fill: #174EA6;\n",
              "    }\n",
              "\n",
              "    [theme=dark] .colab-df-convert {\n",
              "      background-color: #3B4455;\n",
              "      fill: #D2E3FC;\n",
              "    }\n",
              "\n",
              "    [theme=dark] .colab-df-convert:hover {\n",
              "      background-color: #434B5C;\n",
              "      box-shadow: 0px 1px 3px 1px rgba(0, 0, 0, 0.15);\n",
              "      filter: drop-shadow(0px 1px 2px rgba(0, 0, 0, 0.3));\n",
              "      fill: #FFFFFF;\n",
              "    }\n",
              "  </style>\n",
              "\n",
              "      <script>\n",
              "        const buttonEl =\n",
              "          document.querySelector('#df-15574d04-baac-4f15-85ee-476195451f1b button.colab-df-convert');\n",
              "        buttonEl.style.display =\n",
              "          google.colab.kernel.accessAllowed ? 'block' : 'none';\n",
              "\n",
              "        async function convertToInteractive(key) {\n",
              "          const element = document.querySelector('#df-15574d04-baac-4f15-85ee-476195451f1b');\n",
              "          const dataTable =\n",
              "            await google.colab.kernel.invokeFunction('convertToInteractive',\n",
              "                                                     [key], {});\n",
              "          if (!dataTable) return;\n",
              "\n",
              "          const docLinkHtml = 'Like what you see? Visit the ' +\n",
              "            '<a target=\"_blank\" href=https://colab.research.google.com/notebooks/data_table.ipynb>data table notebook</a>'\n",
              "            + ' to learn more about interactive tables.';\n",
              "          element.innerHTML = '';\n",
              "          dataTable['output_type'] = 'display_data';\n",
              "          await google.colab.output.renderOutput(dataTable, element);\n",
              "          const docLink = document.createElement('div');\n",
              "          docLink.innerHTML = docLinkHtml;\n",
              "          element.appendChild(docLink);\n",
              "        }\n",
              "      </script>\n",
              "    </div>\n",
              "  </div>\n",
              "  "
            ]
          },
          "metadata": {},
          "execution_count": 57
        }
      ]
    },
    {
      "cell_type": "code",
      "source": [
        "# ltv_df.info()"
      ],
      "metadata": {
        "colab": {
          "base_uri": "https://localhost:8080/"
        },
        "id": "s3eyfGrnSdfR",
        "outputId": "79772a5a-87b0-4fa7-c940-f6ddb345ccaa"
      },
      "execution_count": 58,
      "outputs": [
        {
          "output_type": "stream",
          "name": "stdout",
          "text": [
            "<class 'pandas.core.frame.DataFrame'>\n",
            "Index: 4339 entries, 12346 to 18287\n",
            "Data columns (total 4 columns):\n",
            " #   Column     Non-Null Count  Dtype  \n",
            "---  ------     --------------  -----  \n",
            " 0   recency    4339 non-null   int64  \n",
            " 1   T          4339 non-null   int64  \n",
            " 2   monetary   4339 non-null   float64\n",
            " 3   frequency  4339 non-null   int64  \n",
            "dtypes: float64(1), int64(3)\n",
            "memory usage: 169.5+ KB\n"
          ]
        }
      ]
    },
    {
      "cell_type": "code",
      "source": [
        "# %%time \n",
        "# # Regency & Tenure (unit: week)\n",
        "# # ltv_df[\"recency\"] = ltv_df[\"recency\"] / 7\n",
        "# # ltv_df[\"T\"] = ltv_df[\"T\"] / 7\n",
        "\n",
        "# # Frequency (drop if frequency == 0)\n",
        "# # it just counts the days that have seen a transaction since the second invoice\n",
        "# ltv_df['frequency'] = ltv_df['frequency'] - 1 \n",
        "# ltv_df = ltv_df[ltv_df[\"frequency\"] > 1]\n",
        "\n",
        "# # Average Order Value  \n",
        "# ltv_df[\"monetary\"] = ltv_df[\"monetary\"] / ltv_df[\"frequency\"]\n"
      ],
      "metadata": {
        "id": "3U8isjZSja-J",
        "colab": {
          "base_uri": "https://localhost:8080/"
        },
        "outputId": "ff6f2d87-b3eb-4dc6-c68f-e090d322cb46"
      },
      "execution_count": 59,
      "outputs": [
        {
          "output_type": "stream",
          "name": "stdout",
          "text": [
            "CPU times: user 2.79 ms, sys: 0 ns, total: 2.79 ms\n",
            "Wall time: 2.83 ms\n"
          ]
        }
      ]
    },
    {
      "cell_type": "code",
      "source": [
        "ltv_df[ ltv_df.index == '15311']"
      ],
      "metadata": {
        "colab": {
          "base_uri": "https://localhost:8080/",
          "height": 112
        },
        "id": "kNDNClrimZ1k",
        "outputId": "ee591bdc-2c79-47d0-c875-f559093357b2"
      },
      "execution_count": 60,
      "outputs": [
        {
          "output_type": "execute_result",
          "data": {
            "text/plain": [
              "             recency    T    monetary  frequency\n",
              "customer_id                                     \n",
              "15311            373  373  667.633034         89"
            ],
            "text/html": [
              "\n",
              "  <div id=\"df-92fde2bd-5b06-4724-9141-7f952d2d9e2e\">\n",
              "    <div class=\"colab-df-container\">\n",
              "      <div>\n",
              "<style scoped>\n",
              "    .dataframe tbody tr th:only-of-type {\n",
              "        vertical-align: middle;\n",
              "    }\n",
              "\n",
              "    .dataframe tbody tr th {\n",
              "        vertical-align: top;\n",
              "    }\n",
              "\n",
              "    .dataframe thead th {\n",
              "        text-align: right;\n",
              "    }\n",
              "</style>\n",
              "<table border=\"1\" class=\"dataframe\">\n",
              "  <thead>\n",
              "    <tr style=\"text-align: right;\">\n",
              "      <th></th>\n",
              "      <th>recency</th>\n",
              "      <th>T</th>\n",
              "      <th>monetary</th>\n",
              "      <th>frequency</th>\n",
              "    </tr>\n",
              "    <tr>\n",
              "      <th>customer_id</th>\n",
              "      <th></th>\n",
              "      <th></th>\n",
              "      <th></th>\n",
              "      <th></th>\n",
              "    </tr>\n",
              "  </thead>\n",
              "  <tbody>\n",
              "    <tr>\n",
              "      <th>15311</th>\n",
              "      <td>373</td>\n",
              "      <td>373</td>\n",
              "      <td>667.633034</td>\n",
              "      <td>89</td>\n",
              "    </tr>\n",
              "  </tbody>\n",
              "</table>\n",
              "</div>\n",
              "      <button class=\"colab-df-convert\" onclick=\"convertToInteractive('df-92fde2bd-5b06-4724-9141-7f952d2d9e2e')\"\n",
              "              title=\"Convert this dataframe to an interactive table.\"\n",
              "              style=\"display:none;\">\n",
              "        \n",
              "  <svg xmlns=\"http://www.w3.org/2000/svg\" height=\"24px\"viewBox=\"0 0 24 24\"\n",
              "       width=\"24px\">\n",
              "    <path d=\"M0 0h24v24H0V0z\" fill=\"none\"/>\n",
              "    <path d=\"M18.56 5.44l.94 2.06.94-2.06 2.06-.94-2.06-.94-.94-2.06-.94 2.06-2.06.94zm-11 1L8.5 8.5l.94-2.06 2.06-.94-2.06-.94L8.5 2.5l-.94 2.06-2.06.94zm10 10l.94 2.06.94-2.06 2.06-.94-2.06-.94-.94-2.06-.94 2.06-2.06.94z\"/><path d=\"M17.41 7.96l-1.37-1.37c-.4-.4-.92-.59-1.43-.59-.52 0-1.04.2-1.43.59L10.3 9.45l-7.72 7.72c-.78.78-.78 2.05 0 2.83L4 21.41c.39.39.9.59 1.41.59.51 0 1.02-.2 1.41-.59l7.78-7.78 2.81-2.81c.8-.78.8-2.07 0-2.86zM5.41 20L4 18.59l7.72-7.72 1.47 1.35L5.41 20z\"/>\n",
              "  </svg>\n",
              "      </button>\n",
              "      \n",
              "  <style>\n",
              "    .colab-df-container {\n",
              "      display:flex;\n",
              "      flex-wrap:wrap;\n",
              "      gap: 12px;\n",
              "    }\n",
              "\n",
              "    .colab-df-convert {\n",
              "      background-color: #E8F0FE;\n",
              "      border: none;\n",
              "      border-radius: 50%;\n",
              "      cursor: pointer;\n",
              "      display: none;\n",
              "      fill: #1967D2;\n",
              "      height: 32px;\n",
              "      padding: 0 0 0 0;\n",
              "      width: 32px;\n",
              "    }\n",
              "\n",
              "    .colab-df-convert:hover {\n",
              "      background-color: #E2EBFA;\n",
              "      box-shadow: 0px 1px 2px rgba(60, 64, 67, 0.3), 0px 1px 3px 1px rgba(60, 64, 67, 0.15);\n",
              "      fill: #174EA6;\n",
              "    }\n",
              "\n",
              "    [theme=dark] .colab-df-convert {\n",
              "      background-color: #3B4455;\n",
              "      fill: #D2E3FC;\n",
              "    }\n",
              "\n",
              "    [theme=dark] .colab-df-convert:hover {\n",
              "      background-color: #434B5C;\n",
              "      box-shadow: 0px 1px 3px 1px rgba(0, 0, 0, 0.15);\n",
              "      filter: drop-shadow(0px 1px 2px rgba(0, 0, 0, 0.3));\n",
              "      fill: #FFFFFF;\n",
              "    }\n",
              "  </style>\n",
              "\n",
              "      <script>\n",
              "        const buttonEl =\n",
              "          document.querySelector('#df-92fde2bd-5b06-4724-9141-7f952d2d9e2e button.colab-df-convert');\n",
              "        buttonEl.style.display =\n",
              "          google.colab.kernel.accessAllowed ? 'block' : 'none';\n",
              "\n",
              "        async function convertToInteractive(key) {\n",
              "          const element = document.querySelector('#df-92fde2bd-5b06-4724-9141-7f952d2d9e2e');\n",
              "          const dataTable =\n",
              "            await google.colab.kernel.invokeFunction('convertToInteractive',\n",
              "                                                     [key], {});\n",
              "          if (!dataTable) return;\n",
              "\n",
              "          const docLinkHtml = 'Like what you see? Visit the ' +\n",
              "            '<a target=\"_blank\" href=https://colab.research.google.com/notebooks/data_table.ipynb>data table notebook</a>'\n",
              "            + ' to learn more about interactive tables.';\n",
              "          element.innerHTML = '';\n",
              "          dataTable['output_type'] = 'display_data';\n",
              "          await google.colab.output.renderOutput(dataTable, element);\n",
              "          const docLink = document.createElement('div');\n",
              "          docLink.innerHTML = docLinkHtml;\n",
              "          element.appendChild(docLink);\n",
              "        }\n",
              "      </script>\n",
              "    </div>\n",
              "  </div>\n",
              "  "
            ]
          },
          "metadata": {},
          "execution_count": 60
        }
      ]
    },
    {
      "cell_type": "code",
      "source": [
        "# ltv_df.head()\n",
        "\n",
        "# # recency = 가장 최근 구매와 첫 구매와의 차이 (일)\n",
        "# # T = 첫 구매 이후 시간 (일) (T <= recency)\n",
        "# # frequency = 구매가 발생한 일수 (일)\n",
        "# # monetary = 구매 일수 별 평균 구매금액 (원)"
      ],
      "metadata": {
        "colab": {
          "base_uri": "https://localhost:8080/",
          "height": 237
        },
        "id": "QTj20NqyOlhl",
        "outputId": "245ef9f9-ebd4-45d7-b3a7-bf75f79d8cef"
      },
      "execution_count": 61,
      "outputs": [
        {
          "output_type": "execute_result",
          "data": {
            "text/plain": [
              "             recency    T     monetary  frequency\n",
              "customer_id                                      \n",
              "12347            365  367   718.333333          6\n",
              "12348            283  358   599.080000          3\n",
              "12352            260  296   257.568333          6\n",
              "12356            303  325  1405.715000          2\n",
              "12359            324  331  2081.843333          3"
            ],
            "text/html": [
              "\n",
              "  <div id=\"df-fd9d5dba-97c1-43ba-b544-5b5a36fd8d18\">\n",
              "    <div class=\"colab-df-container\">\n",
              "      <div>\n",
              "<style scoped>\n",
              "    .dataframe tbody tr th:only-of-type {\n",
              "        vertical-align: middle;\n",
              "    }\n",
              "\n",
              "    .dataframe tbody tr th {\n",
              "        vertical-align: top;\n",
              "    }\n",
              "\n",
              "    .dataframe thead th {\n",
              "        text-align: right;\n",
              "    }\n",
              "</style>\n",
              "<table border=\"1\" class=\"dataframe\">\n",
              "  <thead>\n",
              "    <tr style=\"text-align: right;\">\n",
              "      <th></th>\n",
              "      <th>recency</th>\n",
              "      <th>T</th>\n",
              "      <th>monetary</th>\n",
              "      <th>frequency</th>\n",
              "    </tr>\n",
              "    <tr>\n",
              "      <th>customer_id</th>\n",
              "      <th></th>\n",
              "      <th></th>\n",
              "      <th></th>\n",
              "      <th></th>\n",
              "    </tr>\n",
              "  </thead>\n",
              "  <tbody>\n",
              "    <tr>\n",
              "      <th>12347</th>\n",
              "      <td>365</td>\n",
              "      <td>367</td>\n",
              "      <td>718.333333</td>\n",
              "      <td>6</td>\n",
              "    </tr>\n",
              "    <tr>\n",
              "      <th>12348</th>\n",
              "      <td>283</td>\n",
              "      <td>358</td>\n",
              "      <td>599.080000</td>\n",
              "      <td>3</td>\n",
              "    </tr>\n",
              "    <tr>\n",
              "      <th>12352</th>\n",
              "      <td>260</td>\n",
              "      <td>296</td>\n",
              "      <td>257.568333</td>\n",
              "      <td>6</td>\n",
              "    </tr>\n",
              "    <tr>\n",
              "      <th>12356</th>\n",
              "      <td>303</td>\n",
              "      <td>325</td>\n",
              "      <td>1405.715000</td>\n",
              "      <td>2</td>\n",
              "    </tr>\n",
              "    <tr>\n",
              "      <th>12359</th>\n",
              "      <td>324</td>\n",
              "      <td>331</td>\n",
              "      <td>2081.843333</td>\n",
              "      <td>3</td>\n",
              "    </tr>\n",
              "  </tbody>\n",
              "</table>\n",
              "</div>\n",
              "      <button class=\"colab-df-convert\" onclick=\"convertToInteractive('df-fd9d5dba-97c1-43ba-b544-5b5a36fd8d18')\"\n",
              "              title=\"Convert this dataframe to an interactive table.\"\n",
              "              style=\"display:none;\">\n",
              "        \n",
              "  <svg xmlns=\"http://www.w3.org/2000/svg\" height=\"24px\"viewBox=\"0 0 24 24\"\n",
              "       width=\"24px\">\n",
              "    <path d=\"M0 0h24v24H0V0z\" fill=\"none\"/>\n",
              "    <path d=\"M18.56 5.44l.94 2.06.94-2.06 2.06-.94-2.06-.94-.94-2.06-.94 2.06-2.06.94zm-11 1L8.5 8.5l.94-2.06 2.06-.94-2.06-.94L8.5 2.5l-.94 2.06-2.06.94zm10 10l.94 2.06.94-2.06 2.06-.94-2.06-.94-.94-2.06-.94 2.06-2.06.94z\"/><path d=\"M17.41 7.96l-1.37-1.37c-.4-.4-.92-.59-1.43-.59-.52 0-1.04.2-1.43.59L10.3 9.45l-7.72 7.72c-.78.78-.78 2.05 0 2.83L4 21.41c.39.39.9.59 1.41.59.51 0 1.02-.2 1.41-.59l7.78-7.78 2.81-2.81c.8-.78.8-2.07 0-2.86zM5.41 20L4 18.59l7.72-7.72 1.47 1.35L5.41 20z\"/>\n",
              "  </svg>\n",
              "      </button>\n",
              "      \n",
              "  <style>\n",
              "    .colab-df-container {\n",
              "      display:flex;\n",
              "      flex-wrap:wrap;\n",
              "      gap: 12px;\n",
              "    }\n",
              "\n",
              "    .colab-df-convert {\n",
              "      background-color: #E8F0FE;\n",
              "      border: none;\n",
              "      border-radius: 50%;\n",
              "      cursor: pointer;\n",
              "      display: none;\n",
              "      fill: #1967D2;\n",
              "      height: 32px;\n",
              "      padding: 0 0 0 0;\n",
              "      width: 32px;\n",
              "    }\n",
              "\n",
              "    .colab-df-convert:hover {\n",
              "      background-color: #E2EBFA;\n",
              "      box-shadow: 0px 1px 2px rgba(60, 64, 67, 0.3), 0px 1px 3px 1px rgba(60, 64, 67, 0.15);\n",
              "      fill: #174EA6;\n",
              "    }\n",
              "\n",
              "    [theme=dark] .colab-df-convert {\n",
              "      background-color: #3B4455;\n",
              "      fill: #D2E3FC;\n",
              "    }\n",
              "\n",
              "    [theme=dark] .colab-df-convert:hover {\n",
              "      background-color: #434B5C;\n",
              "      box-shadow: 0px 1px 3px 1px rgba(0, 0, 0, 0.15);\n",
              "      filter: drop-shadow(0px 1px 2px rgba(0, 0, 0, 0.3));\n",
              "      fill: #FFFFFF;\n",
              "    }\n",
              "  </style>\n",
              "\n",
              "      <script>\n",
              "        const buttonEl =\n",
              "          document.querySelector('#df-fd9d5dba-97c1-43ba-b544-5b5a36fd8d18 button.colab-df-convert');\n",
              "        buttonEl.style.display =\n",
              "          google.colab.kernel.accessAllowed ? 'block' : 'none';\n",
              "\n",
              "        async function convertToInteractive(key) {\n",
              "          const element = document.querySelector('#df-fd9d5dba-97c1-43ba-b544-5b5a36fd8d18');\n",
              "          const dataTable =\n",
              "            await google.colab.kernel.invokeFunction('convertToInteractive',\n",
              "                                                     [key], {});\n",
              "          if (!dataTable) return;\n",
              "\n",
              "          const docLinkHtml = 'Like what you see? Visit the ' +\n",
              "            '<a target=\"_blank\" href=https://colab.research.google.com/notebooks/data_table.ipynb>data table notebook</a>'\n",
              "            + ' to learn more about interactive tables.';\n",
              "          element.innerHTML = '';\n",
              "          dataTable['output_type'] = 'display_data';\n",
              "          await google.colab.output.renderOutput(dataTable, element);\n",
              "          const docLink = document.createElement('div');\n",
              "          docLink.innerHTML = docLinkHtml;\n",
              "          element.appendChild(docLink);\n",
              "        }\n",
              "      </script>\n",
              "    </div>\n",
              "  </div>\n",
              "  "
            ]
          },
          "metadata": {},
          "execution_count": 61
        }
      ]
    },
    {
      "cell_type": "code",
      "source": [
        "# ltv_df[ ltv_df['recency'] > ltv_df['T'] ]"
      ],
      "metadata": {
        "id": "gSc_Ve9Ypfx1"
      },
      "execution_count": 62,
      "outputs": []
    },
    {
      "cell_type": "code",
      "source": [
        "# df_LTV_02 [ df_LTV_02['customer_id'] == '15311']"
      ],
      "metadata": {
        "colab": {
          "base_uri": "https://localhost:8080/",
          "height": 423
        },
        "id": "wLNI2d7SrSLf",
        "outputId": "34bb26d1-616d-4454-b7bf-8c8ba21d0ae0"
      },
      "execution_count": 63,
      "outputs": [
        {
          "output_type": "execute_result",
          "data": {
            "text/plain": [
              "       invoice_no stock_code  quantity invoice_date  unit_price customer_id  \\\n",
              "106        536381      22139        23   2010-12-01        4.25       15311   \n",
              "107        536381      84854         5   2010-12-01        4.95       15311   \n",
              "108        536381      22411        10   2010-12-01        1.95       15311   \n",
              "109        536381      82567         2   2010-12-01        2.10       15311   \n",
              "110        536381      21672         6   2010-12-01        1.25       15311   \n",
              "...           ...        ...       ...          ...         ...         ...   \n",
              "541746     581571      23167        96   2011-12-09        0.69       15311   \n",
              "541747     581571      21314        48   2011-12-09        1.85       15311   \n",
              "541748     581571      21137        24   2011-12-09        3.39       15311   \n",
              "541749     581571      44234         1   2011-12-09        0.21       15311   \n",
              "541750     581571      84347        24   2011-12-09        2.55       15311   \n",
              "\n",
              "          invoice_datetime  total_price  \n",
              "106    2010-12-01 09:41:00        97.75  \n",
              "107    2010-12-01 09:41:00        24.75  \n",
              "108    2010-12-01 09:41:00        19.50  \n",
              "109    2010-12-01 09:41:00         4.20  \n",
              "110    2010-12-01 09:41:00         7.50  \n",
              "...                    ...          ...  \n",
              "541746 2011-12-09 12:00:00        66.24  \n",
              "541747 2011-12-09 12:00:00        88.80  \n",
              "541748 2011-12-09 12:00:00        81.36  \n",
              "541749 2011-12-09 12:00:00         0.21  \n",
              "541750 2011-12-09 12:00:00        61.20  \n",
              "\n",
              "[2491 rows x 8 columns]"
            ],
            "text/html": [
              "\n",
              "  <div id=\"df-d3620ddd-57fe-4a7b-9116-c7340c80a3cb\">\n",
              "    <div class=\"colab-df-container\">\n",
              "      <div>\n",
              "<style scoped>\n",
              "    .dataframe tbody tr th:only-of-type {\n",
              "        vertical-align: middle;\n",
              "    }\n",
              "\n",
              "    .dataframe tbody tr th {\n",
              "        vertical-align: top;\n",
              "    }\n",
              "\n",
              "    .dataframe thead th {\n",
              "        text-align: right;\n",
              "    }\n",
              "</style>\n",
              "<table border=\"1\" class=\"dataframe\">\n",
              "  <thead>\n",
              "    <tr style=\"text-align: right;\">\n",
              "      <th></th>\n",
              "      <th>invoice_no</th>\n",
              "      <th>stock_code</th>\n",
              "      <th>quantity</th>\n",
              "      <th>invoice_date</th>\n",
              "      <th>unit_price</th>\n",
              "      <th>customer_id</th>\n",
              "      <th>invoice_datetime</th>\n",
              "      <th>total_price</th>\n",
              "    </tr>\n",
              "  </thead>\n",
              "  <tbody>\n",
              "    <tr>\n",
              "      <th>106</th>\n",
              "      <td>536381</td>\n",
              "      <td>22139</td>\n",
              "      <td>23</td>\n",
              "      <td>2010-12-01</td>\n",
              "      <td>4.25</td>\n",
              "      <td>15311</td>\n",
              "      <td>2010-12-01 09:41:00</td>\n",
              "      <td>97.75</td>\n",
              "    </tr>\n",
              "    <tr>\n",
              "      <th>107</th>\n",
              "      <td>536381</td>\n",
              "      <td>84854</td>\n",
              "      <td>5</td>\n",
              "      <td>2010-12-01</td>\n",
              "      <td>4.95</td>\n",
              "      <td>15311</td>\n",
              "      <td>2010-12-01 09:41:00</td>\n",
              "      <td>24.75</td>\n",
              "    </tr>\n",
              "    <tr>\n",
              "      <th>108</th>\n",
              "      <td>536381</td>\n",
              "      <td>22411</td>\n",
              "      <td>10</td>\n",
              "      <td>2010-12-01</td>\n",
              "      <td>1.95</td>\n",
              "      <td>15311</td>\n",
              "      <td>2010-12-01 09:41:00</td>\n",
              "      <td>19.50</td>\n",
              "    </tr>\n",
              "    <tr>\n",
              "      <th>109</th>\n",
              "      <td>536381</td>\n",
              "      <td>82567</td>\n",
              "      <td>2</td>\n",
              "      <td>2010-12-01</td>\n",
              "      <td>2.10</td>\n",
              "      <td>15311</td>\n",
              "      <td>2010-12-01 09:41:00</td>\n",
              "      <td>4.20</td>\n",
              "    </tr>\n",
              "    <tr>\n",
              "      <th>110</th>\n",
              "      <td>536381</td>\n",
              "      <td>21672</td>\n",
              "      <td>6</td>\n",
              "      <td>2010-12-01</td>\n",
              "      <td>1.25</td>\n",
              "      <td>15311</td>\n",
              "      <td>2010-12-01 09:41:00</td>\n",
              "      <td>7.50</td>\n",
              "    </tr>\n",
              "    <tr>\n",
              "      <th>...</th>\n",
              "      <td>...</td>\n",
              "      <td>...</td>\n",
              "      <td>...</td>\n",
              "      <td>...</td>\n",
              "      <td>...</td>\n",
              "      <td>...</td>\n",
              "      <td>...</td>\n",
              "      <td>...</td>\n",
              "    </tr>\n",
              "    <tr>\n",
              "      <th>541746</th>\n",
              "      <td>581571</td>\n",
              "      <td>23167</td>\n",
              "      <td>96</td>\n",
              "      <td>2011-12-09</td>\n",
              "      <td>0.69</td>\n",
              "      <td>15311</td>\n",
              "      <td>2011-12-09 12:00:00</td>\n",
              "      <td>66.24</td>\n",
              "    </tr>\n",
              "    <tr>\n",
              "      <th>541747</th>\n",
              "      <td>581571</td>\n",
              "      <td>21314</td>\n",
              "      <td>48</td>\n",
              "      <td>2011-12-09</td>\n",
              "      <td>1.85</td>\n",
              "      <td>15311</td>\n",
              "      <td>2011-12-09 12:00:00</td>\n",
              "      <td>88.80</td>\n",
              "    </tr>\n",
              "    <tr>\n",
              "      <th>541748</th>\n",
              "      <td>581571</td>\n",
              "      <td>21137</td>\n",
              "      <td>24</td>\n",
              "      <td>2011-12-09</td>\n",
              "      <td>3.39</td>\n",
              "      <td>15311</td>\n",
              "      <td>2011-12-09 12:00:00</td>\n",
              "      <td>81.36</td>\n",
              "    </tr>\n",
              "    <tr>\n",
              "      <th>541749</th>\n",
              "      <td>581571</td>\n",
              "      <td>44234</td>\n",
              "      <td>1</td>\n",
              "      <td>2011-12-09</td>\n",
              "      <td>0.21</td>\n",
              "      <td>15311</td>\n",
              "      <td>2011-12-09 12:00:00</td>\n",
              "      <td>0.21</td>\n",
              "    </tr>\n",
              "    <tr>\n",
              "      <th>541750</th>\n",
              "      <td>581571</td>\n",
              "      <td>84347</td>\n",
              "      <td>24</td>\n",
              "      <td>2011-12-09</td>\n",
              "      <td>2.55</td>\n",
              "      <td>15311</td>\n",
              "      <td>2011-12-09 12:00:00</td>\n",
              "      <td>61.20</td>\n",
              "    </tr>\n",
              "  </tbody>\n",
              "</table>\n",
              "<p>2491 rows × 8 columns</p>\n",
              "</div>\n",
              "      <button class=\"colab-df-convert\" onclick=\"convertToInteractive('df-d3620ddd-57fe-4a7b-9116-c7340c80a3cb')\"\n",
              "              title=\"Convert this dataframe to an interactive table.\"\n",
              "              style=\"display:none;\">\n",
              "        \n",
              "  <svg xmlns=\"http://www.w3.org/2000/svg\" height=\"24px\"viewBox=\"0 0 24 24\"\n",
              "       width=\"24px\">\n",
              "    <path d=\"M0 0h24v24H0V0z\" fill=\"none\"/>\n",
              "    <path d=\"M18.56 5.44l.94 2.06.94-2.06 2.06-.94-2.06-.94-.94-2.06-.94 2.06-2.06.94zm-11 1L8.5 8.5l.94-2.06 2.06-.94-2.06-.94L8.5 2.5l-.94 2.06-2.06.94zm10 10l.94 2.06.94-2.06 2.06-.94-2.06-.94-.94-2.06-.94 2.06-2.06.94z\"/><path d=\"M17.41 7.96l-1.37-1.37c-.4-.4-.92-.59-1.43-.59-.52 0-1.04.2-1.43.59L10.3 9.45l-7.72 7.72c-.78.78-.78 2.05 0 2.83L4 21.41c.39.39.9.59 1.41.59.51 0 1.02-.2 1.41-.59l7.78-7.78 2.81-2.81c.8-.78.8-2.07 0-2.86zM5.41 20L4 18.59l7.72-7.72 1.47 1.35L5.41 20z\"/>\n",
              "  </svg>\n",
              "      </button>\n",
              "      \n",
              "  <style>\n",
              "    .colab-df-container {\n",
              "      display:flex;\n",
              "      flex-wrap:wrap;\n",
              "      gap: 12px;\n",
              "    }\n",
              "\n",
              "    .colab-df-convert {\n",
              "      background-color: #E8F0FE;\n",
              "      border: none;\n",
              "      border-radius: 50%;\n",
              "      cursor: pointer;\n",
              "      display: none;\n",
              "      fill: #1967D2;\n",
              "      height: 32px;\n",
              "      padding: 0 0 0 0;\n",
              "      width: 32px;\n",
              "    }\n",
              "\n",
              "    .colab-df-convert:hover {\n",
              "      background-color: #E2EBFA;\n",
              "      box-shadow: 0px 1px 2px rgba(60, 64, 67, 0.3), 0px 1px 3px 1px rgba(60, 64, 67, 0.15);\n",
              "      fill: #174EA6;\n",
              "    }\n",
              "\n",
              "    [theme=dark] .colab-df-convert {\n",
              "      background-color: #3B4455;\n",
              "      fill: #D2E3FC;\n",
              "    }\n",
              "\n",
              "    [theme=dark] .colab-df-convert:hover {\n",
              "      background-color: #434B5C;\n",
              "      box-shadow: 0px 1px 3px 1px rgba(0, 0, 0, 0.15);\n",
              "      filter: drop-shadow(0px 1px 2px rgba(0, 0, 0, 0.3));\n",
              "      fill: #FFFFFF;\n",
              "    }\n",
              "  </style>\n",
              "\n",
              "      <script>\n",
              "        const buttonEl =\n",
              "          document.querySelector('#df-d3620ddd-57fe-4a7b-9116-c7340c80a3cb button.colab-df-convert');\n",
              "        buttonEl.style.display =\n",
              "          google.colab.kernel.accessAllowed ? 'block' : 'none';\n",
              "\n",
              "        async function convertToInteractive(key) {\n",
              "          const element = document.querySelector('#df-d3620ddd-57fe-4a7b-9116-c7340c80a3cb');\n",
              "          const dataTable =\n",
              "            await google.colab.kernel.invokeFunction('convertToInteractive',\n",
              "                                                     [key], {});\n",
              "          if (!dataTable) return;\n",
              "\n",
              "          const docLinkHtml = 'Like what you see? Visit the ' +\n",
              "            '<a target=\"_blank\" href=https://colab.research.google.com/notebooks/data_table.ipynb>data table notebook</a>'\n",
              "            + ' to learn more about interactive tables.';\n",
              "          element.innerHTML = '';\n",
              "          dataTable['output_type'] = 'display_data';\n",
              "          await google.colab.output.renderOutput(dataTable, element);\n",
              "          const docLink = document.createElement('div');\n",
              "          docLink.innerHTML = docLinkHtml;\n",
              "          element.appendChild(docLink);\n",
              "        }\n",
              "      </script>\n",
              "    </div>\n",
              "  </div>\n",
              "  "
            ]
          },
          "metadata": {},
          "execution_count": 63
        }
      ]
    },
    {
      "cell_type": "code",
      "source": [
        "# ltv_df.info()"
      ],
      "metadata": {
        "colab": {
          "base_uri": "https://localhost:8080/"
        },
        "id": "0EI4N5ETtrCg",
        "outputId": "3e2a6680-7859-4e7b-b100-79e1b4da6ca4"
      },
      "execution_count": 64,
      "outputs": [
        {
          "output_type": "stream",
          "name": "stdout",
          "text": [
            "<class 'pandas.core.frame.DataFrame'>\n",
            "Index: 1916 entries, 12347 to 18287\n",
            "Data columns (total 4 columns):\n",
            " #   Column     Non-Null Count  Dtype  \n",
            "---  ------     --------------  -----  \n",
            " 0   recency    1916 non-null   int64  \n",
            " 1   T          1916 non-null   int64  \n",
            " 2   monetary   1916 non-null   float64\n",
            " 3   frequency  1916 non-null   int64  \n",
            "dtypes: float64(1), int64(3)\n",
            "memory usage: 74.8+ KB\n"
          ]
        }
      ]
    },
    {
      "cell_type": "markdown",
      "source": [
        "## 3.2 Split train set and test set "
      ],
      "metadata": {
        "id": "aVwPjOYo5KeH"
      }
    },
    {
      "cell_type": "code",
      "source": [
        "from lifetimes import BetaGeoFitter, GammaGammaFitter\n",
        "from lifetimes.utils import \\\n",
        "    calibration_and_holdout_data, \\\n",
        "    summary_data_from_transaction_data, \\\n",
        "    calculate_alive_path\n",
        "from lifetimes.plotting import \\\n",
        "    plot_frequency_recency_matrix, \\\n",
        "    plot_probability_alive_matrix, \\\n",
        "    plot_period_transactions, \\\n",
        "    plot_history_alive, \\\n",
        "    plot_cumulative_transactions, \\\n",
        "    plot_calibration_purchases_vs_holdout_purchases, \\\n",
        "    plot_transaction_rate_heterogeneity, \\\n",
        "    plot_dropout_rate_heterogeneity\n",
        "\n",
        "import math "
      ],
      "metadata": {
        "id": "-tWi1UEKjWUB"
      },
      "execution_count": 65,
      "outputs": []
    },
    {
      "cell_type": "code",
      "source": [
        "df_LTV_03 = df_LTV_02[df_LTV_02['quantity'] > 0]\n",
        "df_sorted = df_LTV_03.sort_values(by = 'invoice_date', ascending = True)"
      ],
      "metadata": {
        "id": "reyJGk6B6kuV"
      },
      "execution_count": 178,
      "outputs": []
    },
    {
      "cell_type": "code",
      "source": [
        "# df_sorted = df_LTV_03.sort_values(by = 'invoice_date', ascending = True)\n",
        "\n",
        "# rows = df_sorted.shape[0]\n",
        "# row_holdout = math.floor(rows*0.7)                                         # days to reserve for holdout period\n",
        "\n",
        "# t_holdout = df_sorted.iloc[row_holdout]['invoice_date']\n",
        "# print(t_holdout)"
      ],
      "metadata": {
        "id": "q7VBM4iQlQ6H"
      },
      "execution_count": 179,
      "outputs": []
    },
    {
      "cell_type": "code",
      "source": [
        "%%time \n",
        "# train/test split (calibration/holdout)\n",
        "# df_sorted = df_LTV_03.sort_values(by = 'invoice_date', ascending = True)\n",
        "\n",
        "rows = df_sorted.shape[0]\n",
        "row_holdout = math.floor(rows*0.7)                                         # days to reserve for holdout period\n",
        "\n",
        "t_holdout = df_sorted.iloc[row_holdout]['invoice_date']\n",
        "\n",
        "min_date =df_LTV_03[\"invoice_date\"].min()                     # end date of observations\n",
        "print(\"start of observations:\", min_date)\n",
        "\n",
        "max_date =df_LTV_03[\"invoice_date\"].max()\n",
        "print(\"end of observations:\", max_date)   \n",
        "\n",
        "max_cal_date = t_holdout    # end date of chosen calibration period\n",
        "print(\"end of calibration period:\", max_cal_date)\n",
        "\n",
        "df_ch = calibration_and_holdout_data(\n",
        "        transactions =df_LTV_03, \n",
        "        customer_id_col = \"customer_id\", \n",
        "        datetime_col = \"invoice_date\",\n",
        "        monetary_value_col = \"total_price\", \n",
        "        calibration_period_end = max_cal_date, \n",
        "        observation_period_end = max_date, \n",
        "        freq = \"D\")  # Default 'D' for days, 'W' for weeks, 'h' for hours\n",
        "\n",
        "print(\"customer behavior in calibration and holdout periods\")\n",
        "pd.options.display.float_format = '{:,.0f}'.format\n",
        "df_ch"
      ],
      "metadata": {
        "id": "z_xUvqxOpy2c",
        "colab": {
          "base_uri": "https://localhost:8080/",
          "height": 627
        },
        "outputId": "7050980c-84bc-413e-e262-6f1215a08a8c"
      },
      "execution_count": 180,
      "outputs": [
        {
          "output_type": "stream",
          "name": "stdout",
          "text": [
            "start of observations: 2010-12-01 00:00:00\n",
            "end of observations: 2011-12-09 00:00:00\n",
            "end of calibration period: 2011-10-09 00:00:00\n",
            "customer behavior in calibration and holdout periods\n",
            "CPU times: user 8.84 s, sys: 49.4 ms, total: 8.89 s\n",
            "Wall time: 10.1 s\n"
          ]
        },
        {
          "output_type": "execute_result",
          "data": {
            "text/plain": [
              "             frequency_cal  recency_cal  T_cal  monetary_value_cal  \\\n",
              "customer_id                                                          \n",
              "12346                    0            0    264                   0   \n",
              "12347                    4          238    306                 520   \n",
              "12348                    3          283    297                 301   \n",
              "12350                    0            0    249                   0   \n",
              "12352                    5          224    235                 380   \n",
              "...                    ...          ...    ...                 ...   \n",
              "18280                    0            0    216                   0   \n",
              "18281                    0            0    119                   0   \n",
              "18282                    0            0     65                   0   \n",
              "18283                    8          242    276                 127   \n",
              "18287                    0            0    140                   0   \n",
              "\n",
              "             frequency_holdout  monetary_value_holdout  duration_holdout  \n",
              "customer_id                                                               \n",
              "12346                        0                       0                61  \n",
              "12347                        2                      26                61  \n",
              "12348                        0                       0                61  \n",
              "12350                        0                       0                61  \n",
              "12352                        1                      21                61  \n",
              "...                        ...                     ...               ...  \n",
              "18280                        0                       0                61  \n",
              "18281                        0                       0                61  \n",
              "18282                        1                      16                61  \n",
              "18283                        5                       3                61  \n",
              "18287                        2                      26                61  \n",
              "\n",
              "[3721 rows x 7 columns]"
            ],
            "text/html": [
              "\n",
              "  <div id=\"df-43054677-207a-4f63-a80e-070ca0181861\">\n",
              "    <div class=\"colab-df-container\">\n",
              "      <div>\n",
              "<style scoped>\n",
              "    .dataframe tbody tr th:only-of-type {\n",
              "        vertical-align: middle;\n",
              "    }\n",
              "\n",
              "    .dataframe tbody tr th {\n",
              "        vertical-align: top;\n",
              "    }\n",
              "\n",
              "    .dataframe thead th {\n",
              "        text-align: right;\n",
              "    }\n",
              "</style>\n",
              "<table border=\"1\" class=\"dataframe\">\n",
              "  <thead>\n",
              "    <tr style=\"text-align: right;\">\n",
              "      <th></th>\n",
              "      <th>frequency_cal</th>\n",
              "      <th>recency_cal</th>\n",
              "      <th>T_cal</th>\n",
              "      <th>monetary_value_cal</th>\n",
              "      <th>frequency_holdout</th>\n",
              "      <th>monetary_value_holdout</th>\n",
              "      <th>duration_holdout</th>\n",
              "    </tr>\n",
              "    <tr>\n",
              "      <th>customer_id</th>\n",
              "      <th></th>\n",
              "      <th></th>\n",
              "      <th></th>\n",
              "      <th></th>\n",
              "      <th></th>\n",
              "      <th></th>\n",
              "      <th></th>\n",
              "    </tr>\n",
              "  </thead>\n",
              "  <tbody>\n",
              "    <tr>\n",
              "      <th>12346</th>\n",
              "      <td>0</td>\n",
              "      <td>0</td>\n",
              "      <td>264</td>\n",
              "      <td>0</td>\n",
              "      <td>0</td>\n",
              "      <td>0</td>\n",
              "      <td>61</td>\n",
              "    </tr>\n",
              "    <tr>\n",
              "      <th>12347</th>\n",
              "      <td>4</td>\n",
              "      <td>238</td>\n",
              "      <td>306</td>\n",
              "      <td>520</td>\n",
              "      <td>2</td>\n",
              "      <td>26</td>\n",
              "      <td>61</td>\n",
              "    </tr>\n",
              "    <tr>\n",
              "      <th>12348</th>\n",
              "      <td>3</td>\n",
              "      <td>283</td>\n",
              "      <td>297</td>\n",
              "      <td>301</td>\n",
              "      <td>0</td>\n",
              "      <td>0</td>\n",
              "      <td>61</td>\n",
              "    </tr>\n",
              "    <tr>\n",
              "      <th>12350</th>\n",
              "      <td>0</td>\n",
              "      <td>0</td>\n",
              "      <td>249</td>\n",
              "      <td>0</td>\n",
              "      <td>0</td>\n",
              "      <td>0</td>\n",
              "      <td>61</td>\n",
              "    </tr>\n",
              "    <tr>\n",
              "      <th>12352</th>\n",
              "      <td>5</td>\n",
              "      <td>224</td>\n",
              "      <td>235</td>\n",
              "      <td>380</td>\n",
              "      <td>1</td>\n",
              "      <td>21</td>\n",
              "      <td>61</td>\n",
              "    </tr>\n",
              "    <tr>\n",
              "      <th>...</th>\n",
              "      <td>...</td>\n",
              "      <td>...</td>\n",
              "      <td>...</td>\n",
              "      <td>...</td>\n",
              "      <td>...</td>\n",
              "      <td>...</td>\n",
              "      <td>...</td>\n",
              "    </tr>\n",
              "    <tr>\n",
              "      <th>18280</th>\n",
              "      <td>0</td>\n",
              "      <td>0</td>\n",
              "      <td>216</td>\n",
              "      <td>0</td>\n",
              "      <td>0</td>\n",
              "      <td>0</td>\n",
              "      <td>61</td>\n",
              "    </tr>\n",
              "    <tr>\n",
              "      <th>18281</th>\n",
              "      <td>0</td>\n",
              "      <td>0</td>\n",
              "      <td>119</td>\n",
              "      <td>0</td>\n",
              "      <td>0</td>\n",
              "      <td>0</td>\n",
              "      <td>61</td>\n",
              "    </tr>\n",
              "    <tr>\n",
              "      <th>18282</th>\n",
              "      <td>0</td>\n",
              "      <td>0</td>\n",
              "      <td>65</td>\n",
              "      <td>0</td>\n",
              "      <td>1</td>\n",
              "      <td>16</td>\n",
              "      <td>61</td>\n",
              "    </tr>\n",
              "    <tr>\n",
              "      <th>18283</th>\n",
              "      <td>8</td>\n",
              "      <td>242</td>\n",
              "      <td>276</td>\n",
              "      <td>127</td>\n",
              "      <td>5</td>\n",
              "      <td>3</td>\n",
              "      <td>61</td>\n",
              "    </tr>\n",
              "    <tr>\n",
              "      <th>18287</th>\n",
              "      <td>0</td>\n",
              "      <td>0</td>\n",
              "      <td>140</td>\n",
              "      <td>0</td>\n",
              "      <td>2</td>\n",
              "      <td>26</td>\n",
              "      <td>61</td>\n",
              "    </tr>\n",
              "  </tbody>\n",
              "</table>\n",
              "<p>3721 rows × 7 columns</p>\n",
              "</div>\n",
              "      <button class=\"colab-df-convert\" onclick=\"convertToInteractive('df-43054677-207a-4f63-a80e-070ca0181861')\"\n",
              "              title=\"Convert this dataframe to an interactive table.\"\n",
              "              style=\"display:none;\">\n",
              "        \n",
              "  <svg xmlns=\"http://www.w3.org/2000/svg\" height=\"24px\"viewBox=\"0 0 24 24\"\n",
              "       width=\"24px\">\n",
              "    <path d=\"M0 0h24v24H0V0z\" fill=\"none\"/>\n",
              "    <path d=\"M18.56 5.44l.94 2.06.94-2.06 2.06-.94-2.06-.94-.94-2.06-.94 2.06-2.06.94zm-11 1L8.5 8.5l.94-2.06 2.06-.94-2.06-.94L8.5 2.5l-.94 2.06-2.06.94zm10 10l.94 2.06.94-2.06 2.06-.94-2.06-.94-.94-2.06-.94 2.06-2.06.94z\"/><path d=\"M17.41 7.96l-1.37-1.37c-.4-.4-.92-.59-1.43-.59-.52 0-1.04.2-1.43.59L10.3 9.45l-7.72 7.72c-.78.78-.78 2.05 0 2.83L4 21.41c.39.39.9.59 1.41.59.51 0 1.02-.2 1.41-.59l7.78-7.78 2.81-2.81c.8-.78.8-2.07 0-2.86zM5.41 20L4 18.59l7.72-7.72 1.47 1.35L5.41 20z\"/>\n",
              "  </svg>\n",
              "      </button>\n",
              "      \n",
              "  <style>\n",
              "    .colab-df-container {\n",
              "      display:flex;\n",
              "      flex-wrap:wrap;\n",
              "      gap: 12px;\n",
              "    }\n",
              "\n",
              "    .colab-df-convert {\n",
              "      background-color: #E8F0FE;\n",
              "      border: none;\n",
              "      border-radius: 50%;\n",
              "      cursor: pointer;\n",
              "      display: none;\n",
              "      fill: #1967D2;\n",
              "      height: 32px;\n",
              "      padding: 0 0 0 0;\n",
              "      width: 32px;\n",
              "    }\n",
              "\n",
              "    .colab-df-convert:hover {\n",
              "      background-color: #E2EBFA;\n",
              "      box-shadow: 0px 1px 2px rgba(60, 64, 67, 0.3), 0px 1px 3px 1px rgba(60, 64, 67, 0.15);\n",
              "      fill: #174EA6;\n",
              "    }\n",
              "\n",
              "    [theme=dark] .colab-df-convert {\n",
              "      background-color: #3B4455;\n",
              "      fill: #D2E3FC;\n",
              "    }\n",
              "\n",
              "    [theme=dark] .colab-df-convert:hover {\n",
              "      background-color: #434B5C;\n",
              "      box-shadow: 0px 1px 3px 1px rgba(0, 0, 0, 0.15);\n",
              "      filter: drop-shadow(0px 1px 2px rgba(0, 0, 0, 0.3));\n",
              "      fill: #FFFFFF;\n",
              "    }\n",
              "  </style>\n",
              "\n",
              "      <script>\n",
              "        const buttonEl =\n",
              "          document.querySelector('#df-43054677-207a-4f63-a80e-070ca0181861 button.colab-df-convert');\n",
              "        buttonEl.style.display =\n",
              "          google.colab.kernel.accessAllowed ? 'block' : 'none';\n",
              "\n",
              "        async function convertToInteractive(key) {\n",
              "          const element = document.querySelector('#df-43054677-207a-4f63-a80e-070ca0181861');\n",
              "          const dataTable =\n",
              "            await google.colab.kernel.invokeFunction('convertToInteractive',\n",
              "                                                     [key], {});\n",
              "          if (!dataTable) return;\n",
              "\n",
              "          const docLinkHtml = 'Like what you see? Visit the ' +\n",
              "            '<a target=\"_blank\" href=https://colab.research.google.com/notebooks/data_table.ipynb>data table notebook</a>'\n",
              "            + ' to learn more about interactive tables.';\n",
              "          element.innerHTML = '';\n",
              "          dataTable['output_type'] = 'display_data';\n",
              "          await google.colab.output.renderOutput(dataTable, element);\n",
              "          const docLink = document.createElement('div');\n",
              "          docLink.innerHTML = docLinkHtml;\n",
              "          element.appendChild(docLink);\n",
              "        }\n",
              "      </script>\n",
              "    </div>\n",
              "  </div>\n",
              "  "
            ]
          },
          "metadata": {},
          "execution_count": 180
        }
      ]
    },
    {
      "cell_type": "markdown",
      "source": [
        "직접 row 기준으로 7:3 나눌 때랑 다른 점: \n",
        "- calibration 메소드는 일단 해당 데이터셋에 있는 모든 customer_id에 대해서 행을 만들어두고, frequency = 0이더라도 T를 계산해둠 \n",
        "- 직접 row 기준으로 나눌 때는 구매 내역이 있는 customer_id에 대해서만 행이 생성되므로 다른 결과를 초래하는 것\n",
        ".. 이 맞나? \n",
        "흠 \n",
        "먼가 이상  \n"
      ],
      "metadata": {
        "id": "21GE8cWJqbKm"
      }
    },
    {
      "cell_type": "code",
      "source": [
        "# 직접 계산한 것과 비교 \n",
        "%%time \n",
        "# df_sorted = df_LTV_03.sort_values(by = 'invoice_date', ascending = True)\n",
        "\n",
        "rows = df_sorted.shape[0]\n",
        "row_holdout = math.floor(rows*0.7)                                         # days to reserve for holdout period\n",
        "\n",
        "t_holdout = df_sorted.iloc[row_holdout]['invoice_date']\n",
        "\n",
        "df_LTV_tmp =  df_LTV_03[:(row_holdout+1)]\n",
        "max_cal_date = df_LTV_tmp[\"invoice_date\"].max()    # end date of chosen calibration period\n",
        "print(\"end of calibration period:\", max_cal_date)\n",
        "\n",
        "ltv_df_train = df_LTV_tmp.groupby(\"customer_id\").agg(\n",
        "    {\n",
        "        \"invoice_datetime\": [\n",
        "            lambda x: (x.max() - x.min()).days,\n",
        "            lambda x: (max_cal_date - x.min()).days,\n",
        "        ],\n",
        "        \"total_price\": \"sum\",\n",
        "        \"invoice_date\": \"nunique\"\n",
        "    }\n",
        ")\n",
        "\n",
        "# # invoice_df = df_LTV_02[ df_LTV_02['quantity'] > 0 ].groupby(\"customer_id\").agg( { \"invoice_no\": \"nunique\" })\n",
        "# invoice_df = df_LTV_02[ df_LTV_02['quantity'] > 0 ].groupby(\"customer_id\").agg( { \"invoice_date\": \"nunique\" })\n",
        "\n",
        "ltv_df_train.columns = ltv_df_train.columns.droplevel(0)\n",
        "\n",
        "# invoice_df.head()\n",
        "# ltv_df_train = pd.merge(ltv_df_train, invoice_df, left_index=True, right_index=True)\n",
        "\n",
        "ltv_df_train.columns = [\"recency\", \"T\", \"monetary\", \"frequency\"]\n",
        "\n",
        "\n",
        "# Frequency (drop if frequency == 0)\n",
        "# it just counts the days that have seen a transaction since the second invoice\n",
        "ltv_df_train['frequency'] = ltv_df_train['frequency'] - 1 \n",
        "# ltv_df_train = ltv_df_train[ltv_df_train[\"frequency\"] > 1]\n",
        "\n",
        "# Average Order Value  \n",
        "ltv_df_train[\"monetary\"] = ltv_df_train[\"monetary\"] / ltv_df_train[\"frequency\"]\n",
        "\n",
        "ltv_df_train.head()\n",
        "\n",
        "# recency = 가장 최근 구매와 첫 구매와의 차이 (일)\n",
        "# T = 첫 구매 이후 시간 (일) (T <= recency)\n",
        "# frequency = 구매가 발생한 일수 (일)\n",
        "# monetary = 구매 일수 별 평균 구매금액 (원)\n",
        "\n",
        "ltv_df_train.head()"
      ],
      "metadata": {
        "colab": {
          "base_uri": "https://localhost:8080/",
          "height": 291
        },
        "id": "YdW7XeGwl696",
        "outputId": "babf6fcf-2c6e-4fd5-edc7-1fea5d19d58d"
      },
      "execution_count": 181,
      "outputs": [
        {
          "output_type": "stream",
          "name": "stdout",
          "text": [
            "end of calibration period: 2011-10-09 00:00:00\n",
            "CPU times: user 1.19 s, sys: 4.15 ms, total: 1.2 s\n",
            "Wall time: 1.19 s\n"
          ]
        },
        {
          "output_type": "execute_result",
          "data": {
            "text/plain": [
              "             recency    T  monetary  frequency\n",
              "customer_id                                   \n",
              "12346              0  263       inf          0\n",
              "12347            237  305       698          4\n",
              "12348            282  296       599          3\n",
              "12350              0  248       inf          0\n",
              "12352            224  234       439          5"
            ],
            "text/html": [
              "\n",
              "  <div id=\"df-4318c19b-2b49-4e14-8e16-d619a16208c0\">\n",
              "    <div class=\"colab-df-container\">\n",
              "      <div>\n",
              "<style scoped>\n",
              "    .dataframe tbody tr th:only-of-type {\n",
              "        vertical-align: middle;\n",
              "    }\n",
              "\n",
              "    .dataframe tbody tr th {\n",
              "        vertical-align: top;\n",
              "    }\n",
              "\n",
              "    .dataframe thead th {\n",
              "        text-align: right;\n",
              "    }\n",
              "</style>\n",
              "<table border=\"1\" class=\"dataframe\">\n",
              "  <thead>\n",
              "    <tr style=\"text-align: right;\">\n",
              "      <th></th>\n",
              "      <th>recency</th>\n",
              "      <th>T</th>\n",
              "      <th>monetary</th>\n",
              "      <th>frequency</th>\n",
              "    </tr>\n",
              "    <tr>\n",
              "      <th>customer_id</th>\n",
              "      <th></th>\n",
              "      <th></th>\n",
              "      <th></th>\n",
              "      <th></th>\n",
              "    </tr>\n",
              "  </thead>\n",
              "  <tbody>\n",
              "    <tr>\n",
              "      <th>12346</th>\n",
              "      <td>0</td>\n",
              "      <td>263</td>\n",
              "      <td>inf</td>\n",
              "      <td>0</td>\n",
              "    </tr>\n",
              "    <tr>\n",
              "      <th>12347</th>\n",
              "      <td>237</td>\n",
              "      <td>305</td>\n",
              "      <td>698</td>\n",
              "      <td>4</td>\n",
              "    </tr>\n",
              "    <tr>\n",
              "      <th>12348</th>\n",
              "      <td>282</td>\n",
              "      <td>296</td>\n",
              "      <td>599</td>\n",
              "      <td>3</td>\n",
              "    </tr>\n",
              "    <tr>\n",
              "      <th>12350</th>\n",
              "      <td>0</td>\n",
              "      <td>248</td>\n",
              "      <td>inf</td>\n",
              "      <td>0</td>\n",
              "    </tr>\n",
              "    <tr>\n",
              "      <th>12352</th>\n",
              "      <td>224</td>\n",
              "      <td>234</td>\n",
              "      <td>439</td>\n",
              "      <td>5</td>\n",
              "    </tr>\n",
              "  </tbody>\n",
              "</table>\n",
              "</div>\n",
              "      <button class=\"colab-df-convert\" onclick=\"convertToInteractive('df-4318c19b-2b49-4e14-8e16-d619a16208c0')\"\n",
              "              title=\"Convert this dataframe to an interactive table.\"\n",
              "              style=\"display:none;\">\n",
              "        \n",
              "  <svg xmlns=\"http://www.w3.org/2000/svg\" height=\"24px\"viewBox=\"0 0 24 24\"\n",
              "       width=\"24px\">\n",
              "    <path d=\"M0 0h24v24H0V0z\" fill=\"none\"/>\n",
              "    <path d=\"M18.56 5.44l.94 2.06.94-2.06 2.06-.94-2.06-.94-.94-2.06-.94 2.06-2.06.94zm-11 1L8.5 8.5l.94-2.06 2.06-.94-2.06-.94L8.5 2.5l-.94 2.06-2.06.94zm10 10l.94 2.06.94-2.06 2.06-.94-2.06-.94-.94-2.06-.94 2.06-2.06.94z\"/><path d=\"M17.41 7.96l-1.37-1.37c-.4-.4-.92-.59-1.43-.59-.52 0-1.04.2-1.43.59L10.3 9.45l-7.72 7.72c-.78.78-.78 2.05 0 2.83L4 21.41c.39.39.9.59 1.41.59.51 0 1.02-.2 1.41-.59l7.78-7.78 2.81-2.81c.8-.78.8-2.07 0-2.86zM5.41 20L4 18.59l7.72-7.72 1.47 1.35L5.41 20z\"/>\n",
              "  </svg>\n",
              "      </button>\n",
              "      \n",
              "  <style>\n",
              "    .colab-df-container {\n",
              "      display:flex;\n",
              "      flex-wrap:wrap;\n",
              "      gap: 12px;\n",
              "    }\n",
              "\n",
              "    .colab-df-convert {\n",
              "      background-color: #E8F0FE;\n",
              "      border: none;\n",
              "      border-radius: 50%;\n",
              "      cursor: pointer;\n",
              "      display: none;\n",
              "      fill: #1967D2;\n",
              "      height: 32px;\n",
              "      padding: 0 0 0 0;\n",
              "      width: 32px;\n",
              "    }\n",
              "\n",
              "    .colab-df-convert:hover {\n",
              "      background-color: #E2EBFA;\n",
              "      box-shadow: 0px 1px 2px rgba(60, 64, 67, 0.3), 0px 1px 3px 1px rgba(60, 64, 67, 0.15);\n",
              "      fill: #174EA6;\n",
              "    }\n",
              "\n",
              "    [theme=dark] .colab-df-convert {\n",
              "      background-color: #3B4455;\n",
              "      fill: #D2E3FC;\n",
              "    }\n",
              "\n",
              "    [theme=dark] .colab-df-convert:hover {\n",
              "      background-color: #434B5C;\n",
              "      box-shadow: 0px 1px 3px 1px rgba(0, 0, 0, 0.15);\n",
              "      filter: drop-shadow(0px 1px 2px rgba(0, 0, 0, 0.3));\n",
              "      fill: #FFFFFF;\n",
              "    }\n",
              "  </style>\n",
              "\n",
              "      <script>\n",
              "        const buttonEl =\n",
              "          document.querySelector('#df-4318c19b-2b49-4e14-8e16-d619a16208c0 button.colab-df-convert');\n",
              "        buttonEl.style.display =\n",
              "          google.colab.kernel.accessAllowed ? 'block' : 'none';\n",
              "\n",
              "        async function convertToInteractive(key) {\n",
              "          const element = document.querySelector('#df-4318c19b-2b49-4e14-8e16-d619a16208c0');\n",
              "          const dataTable =\n",
              "            await google.colab.kernel.invokeFunction('convertToInteractive',\n",
              "                                                     [key], {});\n",
              "          if (!dataTable) return;\n",
              "\n",
              "          const docLinkHtml = 'Like what you see? Visit the ' +\n",
              "            '<a target=\"_blank\" href=https://colab.research.google.com/notebooks/data_table.ipynb>data table notebook</a>'\n",
              "            + ' to learn more about interactive tables.';\n",
              "          element.innerHTML = '';\n",
              "          dataTable['output_type'] = 'display_data';\n",
              "          await google.colab.output.renderOutput(dataTable, element);\n",
              "          const docLink = document.createElement('div');\n",
              "          docLink.innerHTML = docLinkHtml;\n",
              "          element.appendChild(docLink);\n",
              "        }\n",
              "      </script>\n",
              "    </div>\n",
              "  </div>\n",
              "  "
            ]
          },
          "metadata": {},
          "execution_count": 181
        }
      ]
    },
    {
      "cell_type": "code",
      "source": [
        "df_ch.info() # 라이브러리로 계산 "
      ],
      "metadata": {
        "id": "14SKoXTGtnNS",
        "colab": {
          "base_uri": "https://localhost:8080/"
        },
        "outputId": "38a63f4c-a196-4d5d-b906-1bc094d4ecb4"
      },
      "execution_count": 182,
      "outputs": [
        {
          "output_type": "stream",
          "name": "stdout",
          "text": [
            "<class 'pandas.core.frame.DataFrame'>\n",
            "Index: 3721 entries, 12346 to 18287\n",
            "Data columns (total 7 columns):\n",
            " #   Column                  Non-Null Count  Dtype  \n",
            "---  ------                  --------------  -----  \n",
            " 0   frequency_cal           3721 non-null   float64\n",
            " 1   recency_cal             3721 non-null   float64\n",
            " 2   T_cal                   3721 non-null   float64\n",
            " 3   monetary_value_cal      3721 non-null   float64\n",
            " 4   frequency_holdout       3721 non-null   float64\n",
            " 5   monetary_value_holdout  3721 non-null   float64\n",
            " 6   duration_holdout        3721 non-null   float64\n",
            "dtypes: float64(7)\n",
            "memory usage: 361.6+ KB\n"
          ]
        }
      ]
    },
    {
      "cell_type": "code",
      "source": [
        "ltv_df_train.info() # 직접 계산 "
      ],
      "metadata": {
        "colab": {
          "base_uri": "https://localhost:8080/"
        },
        "id": "86_h_jZtqwYN",
        "outputId": "35bd1983-91fe-4ea5-c16d-6ced5c08ed28"
      },
      "execution_count": 183,
      "outputs": [
        {
          "output_type": "stream",
          "name": "stdout",
          "text": [
            "<class 'pandas.core.frame.DataFrame'>\n",
            "Index: 3707 entries, 12346 to 18287\n",
            "Data columns (total 4 columns):\n",
            " #   Column     Non-Null Count  Dtype  \n",
            "---  ------     --------------  -----  \n",
            " 0   recency    3707 non-null   int64  \n",
            " 1   T          3707 non-null   int64  \n",
            " 2   monetary   3707 non-null   float64\n",
            " 3   frequency  3707 non-null   int64  \n",
            "dtypes: float64(1), int64(3)\n",
            "memory usage: 144.8+ KB\n"
          ]
        }
      ]
    },
    {
      "cell_type": "code",
      "source": [
        "df_LTV_03.info() # original dataset "
      ],
      "metadata": {
        "colab": {
          "base_uri": "https://localhost:8080/"
        },
        "id": "a3AM3_QBq57b",
        "outputId": "d9effa99-1cf9-45f6-9508-658864fad855"
      },
      "execution_count": 184,
      "outputs": [
        {
          "output_type": "stream",
          "name": "stdout",
          "text": [
            "<class 'pandas.core.frame.DataFrame'>\n",
            "Int64Index: 397924 entries, 0 to 541908\n",
            "Data columns (total 8 columns):\n",
            " #   Column            Non-Null Count   Dtype         \n",
            "---  ------            --------------   -----         \n",
            " 0   invoice_no        397924 non-null  object        \n",
            " 1   stock_code        397924 non-null  object        \n",
            " 2   quantity          397924 non-null  int64         \n",
            " 3   invoice_date      397924 non-null  datetime64[ns]\n",
            " 4   unit_price        397924 non-null  float64       \n",
            " 5   customer_id       397924 non-null  object        \n",
            " 6   invoice_datetime  397924 non-null  datetime64[ns]\n",
            " 7   total_price       397924 non-null  float64       \n",
            "dtypes: datetime64[ns](2), float64(2), int64(1), object(3)\n",
            "memory usage: 27.3+ MB\n"
          ]
        }
      ]
    },
    {
      "cell_type": "code",
      "source": [
        "df_LTV_tmp =  df_LTV_03[:(row_holdout+1)]\n",
        "df_LTV_tmp['customer_id'].nunique()"
      ],
      "metadata": {
        "colab": {
          "base_uri": "https://localhost:8080/"
        },
        "id": "iQ_rpvpsrRkg",
        "outputId": "ac385fb3-82d1-411a-a3b4-0aa6f47c2901"
      },
      "execution_count": 185,
      "outputs": [
        {
          "output_type": "execute_result",
          "data": {
            "text/plain": [
              "3707"
            ]
          },
          "metadata": {},
          "execution_count": 185
        }
      ]
    },
    {
      "cell_type": "code",
      "source": [
        "df_LTV_03['customer_id'].nunique()"
      ],
      "metadata": {
        "colab": {
          "base_uri": "https://localhost:8080/"
        },
        "id": "NKfB4RvzrAbG",
        "outputId": "42d15323-866f-4bda-ea10-f6857427cc35"
      },
      "execution_count": 186,
      "outputs": [
        {
          "output_type": "execute_result",
          "data": {
            "text/plain": [
              "4339"
            ]
          },
          "metadata": {},
          "execution_count": 186
        }
      ]
    },
    {
      "cell_type": "code",
      "source": [
        "# training: frequency\n",
        "# pd.options.display.float_format = '{:,.3f}'.format\n",
        "\n",
        "# x = df_ch[\"frequency_cal\"].value_counts(normalize=True)\n",
        "# x = x.nlargest(15)\n",
        "# print(\"frequency:\")\n",
        "# x.sort_index(ascending=True)"
      ],
      "metadata": {
        "id": "0aqmhz08t6Gs"
      },
      "execution_count": 187,
      "outputs": []
    },
    {
      "cell_type": "code",
      "source": [
        "# training: axis length\n",
        "max_freq = df_ch[\"frequency_cal\"].quantile(0.98)\n",
        "max_rec = df_ch[\"recency_cal\"].max()\n",
        "max_T = df_ch[\"T_cal\"].max()\n",
        "\n",
        "\n",
        "# training\n",
        "fig = plt.figure(figsize=(8, 4)) \n",
        "ax = sns.distplot(df_ch[\"frequency_cal\"])\n",
        "ax.set_xlim(0, max_freq)\n",
        "ax.set_title(\"frequency (days): distribution of the customers\");\n",
        "\n",
        "\n",
        "# training\n",
        "fig = plt.figure(figsize=(8, 4)) \n",
        "ax = sns.distplot(df_ch[\"recency_cal\"])\n",
        "ax.set_xlim(0, max_rec)\n",
        "ax.set_title(\"recency (days): distribution of the customers\")\n",
        "\n",
        "\n",
        "# training\n",
        "fig = plt.figure(figsize=(8, 4)) \n",
        "ax = sns.distplot(df_ch[\"T_cal\"])\n",
        "ax.set_xlim(0, max_T)\n",
        "ax.set_title(\"customer age T (days): distribution of the customers\")"
      ],
      "metadata": {
        "id": "j2lcPkQfuBPX",
        "colab": {
          "base_uri": "https://localhost:8080/",
          "height": 1000
        },
        "outputId": "d530e6a1-cd60-4ab9-80a8-0e7ab550a960"
      },
      "execution_count": 188,
      "outputs": [
        {
          "output_type": "execute_result",
          "data": {
            "text/plain": [
              "Text(0.5, 1.0, 'customer age T (days): distribution of the customers')"
            ]
          },
          "metadata": {},
          "execution_count": 188
        },
        {
          "output_type": "display_data",
          "data": {
            "text/plain": [
              "<Figure size 800x400 with 1 Axes>"
            ],
            "image/png": "[encoded data removed]"
          },
          "metadata": {}
        },
        {
          "output_type": "display_data",
          "data": {
            "text/plain": [
              "<Figure size 800x400 with 1 Axes>"
            ],
            "image/png": "[encoded data removed]"
          },
          "metadata": {}
        },
        {
          "output_type": "display_data",
          "data": {
            "text/plain": [
              "<Figure size 800x400 with 1 Axes>"
            ],
            "image/png": "[encoded data removed]"
          },
          "metadata": {}
        }
      ]
    },
    {
      "cell_type": "markdown",
      "source": [
        "## 3.4 BG/NBD \n",
        "- BG(Beta Geometric)/NBD(Negative Binomial Distribution)\n",
        "-  assume that the number of transactions made by each customer follows a Poisson process with a heterogeneity in transaction rates across customers following a gamma distribution\n",
        "\n",
        "by using `BetaGeoFitter` and `lifetimes` packages."
      ],
      "metadata": {
        "id": "KOtFWtaOcDlN"
      }
    },
    {
      "cell_type": "code",
      "source": [
        "# BGF = BetaGeoFitter(penalizer_coef=0.001)  # avoid overfitting\n",
        "# ## In typical applications, penalizers on the order of 0.001 to 0.1 are effective\n",
        "\n",
        "# BGF.fit(ltv_df[\"frequency\"], ltv_df[\"recency\"], ltv_df[\"T\"])"
      ],
      "metadata": {
        "id": "f1f2ROo4OlkX"
      },
      "execution_count": 189,
      "outputs": []
    },
    {
      "cell_type": "code",
      "source": [
        "# training: BG/NBD model\n",
        "BGF = BetaGeoFitter(penalizer_coef=1e-06)\n",
        "BGF.fit(\n",
        "        frequency = df_ch[\"frequency_cal\"], \n",
        "        recency = df_ch[\"recency_cal\"], \n",
        "        T = df_ch[\"T_cal\"],   \n",
        "        weights = None,  \n",
        "        verbose = True,   \n",
        "        tol = 1e-06)"
      ],
      "metadata": {
        "colab": {
          "base_uri": "https://localhost:8080/"
        },
        "id": "tL-mtF4CvbF8",
        "outputId": "8629ddac-9470-461a-dff6-858e6c2d4733"
      },
      "execution_count": 190,
      "outputs": [
        {
          "output_type": "stream",
          "name": "stdout",
          "text": [
            "Optimization terminated successfully.\n",
            "         Current function value: -1.650059\n",
            "         Iterations: 52\n",
            "         Function evaluations: 53\n",
            "         Gradient evaluations: 53\n"
          ]
        },
        {
          "output_type": "execute_result",
          "data": {
            "text/plain": [
              "<lifetimes.BetaGeoFitter: fitted with 3721 subjects, a: 0.00, alpha: 69.55, b: 0.00, r: 0.77>"
            ]
          },
          "metadata": {},
          "execution_count": 190
        }
      ]
    },
    {
      "cell_type": "code",
      "source": [
        "BGF.summary"
      ],
      "metadata": {
        "id": "izgzHrO9ZoF9",
        "colab": {
          "base_uri": "https://localhost:8080/",
          "height": 174
        },
        "outputId": "addff608-e8a0-403d-e78c-dbc552e0dfd1"
      },
      "execution_count": 191,
      "outputs": [
        {
          "output_type": "execute_result",
          "data": {
            "text/plain": [
              "       coef  se(coef)  lower 95% bound  upper 95% bound\n",
              "r         1         0                1                1\n",
              "alpha    70         3               64               75\n",
              "a         0         0               -0                0\n",
              "b         0         6              -13               13"
            ],
            "text/html": [
              "\n",
              "  <div id=\"df-2d0ce235-b6bf-46b3-993d-9f19bd73efe3\">\n",
              "    <div class=\"colab-df-container\">\n",
              "      <div>\n",
              "<style scoped>\n",
              "    .dataframe tbody tr th:only-of-type {\n",
              "        vertical-align: middle;\n",
              "    }\n",
              "\n",
              "    .dataframe tbody tr th {\n",
              "        vertical-align: top;\n",
              "    }\n",
              "\n",
              "    .dataframe thead th {\n",
              "        text-align: right;\n",
              "    }\n",
              "</style>\n",
              "<table border=\"1\" class=\"dataframe\">\n",
              "  <thead>\n",
              "    <tr style=\"text-align: right;\">\n",
              "      <th></th>\n",
              "      <th>coef</th>\n",
              "      <th>se(coef)</th>\n",
              "      <th>lower 95% bound</th>\n",
              "      <th>upper 95% bound</th>\n",
              "    </tr>\n",
              "  </thead>\n",
              "  <tbody>\n",
              "    <tr>\n",
              "      <th>r</th>\n",
              "      <td>1</td>\n",
              "      <td>0</td>\n",
              "      <td>1</td>\n",
              "      <td>1</td>\n",
              "    </tr>\n",
              "    <tr>\n",
              "      <th>alpha</th>\n",
              "      <td>70</td>\n",
              "      <td>3</td>\n",
              "      <td>64</td>\n",
              "      <td>75</td>\n",
              "    </tr>\n",
              "    <tr>\n",
              "      <th>a</th>\n",
              "      <td>0</td>\n",
              "      <td>0</td>\n",
              "      <td>-0</td>\n",
              "      <td>0</td>\n",
              "    </tr>\n",
              "    <tr>\n",
              "      <th>b</th>\n",
              "      <td>0</td>\n",
              "      <td>6</td>\n",
              "      <td>-13</td>\n",
              "      <td>13</td>\n",
              "    </tr>\n",
              "  </tbody>\n",
              "</table>\n",
              "</div>\n",
              "      <button class=\"colab-df-convert\" onclick=\"convertToInteractive('df-2d0ce235-b6bf-46b3-993d-9f19bd73efe3')\"\n",
              "              title=\"Convert this dataframe to an interactive table.\"\n",
              "              style=\"display:none;\">\n",
              "        \n",
              "  <svg xmlns=\"http://www.w3.org/2000/svg\" height=\"24px\"viewBox=\"0 0 24 24\"\n",
              "       width=\"24px\">\n",
              "    <path d=\"M0 0h24v24H0V0z\" fill=\"none\"/>\n",
              "    <path d=\"M18.56 5.44l.94 2.06.94-2.06 2.06-.94-2.06-.94-.94-2.06-.94 2.06-2.06.94zm-11 1L8.5 8.5l.94-2.06 2.06-.94-2.06-.94L8.5 2.5l-.94 2.06-2.06.94zm10 10l.94 2.06.94-2.06 2.06-.94-2.06-.94-.94-2.06-.94 2.06-2.06.94z\"/><path d=\"M17.41 7.96l-1.37-1.37c-.4-.4-.92-.59-1.43-.59-.52 0-1.04.2-1.43.59L10.3 9.45l-7.72 7.72c-.78.78-.78 2.05 0 2.83L4 21.41c.39.39.9.59 1.41.59.51 0 1.02-.2 1.41-.59l7.78-7.78 2.81-2.81c.8-.78.8-2.07 0-2.86zM5.41 20L4 18.59l7.72-7.72 1.47 1.35L5.41 20z\"/>\n",
              "  </svg>\n",
              "      </button>\n",
              "      \n",
              "  <style>\n",
              "    .colab-df-container {\n",
              "      display:flex;\n",
              "      flex-wrap:wrap;\n",
              "      gap: 12px;\n",
              "    }\n",
              "\n",
              "    .colab-df-convert {\n",
              "      background-color: #E8F0FE;\n",
              "      border: none;\n",
              "      border-radius: 50%;\n",
              "      cursor: pointer;\n",
              "      display: none;\n",
              "      fill: #1967D2;\n",
              "      height: 32px;\n",
              "      padding: 0 0 0 0;\n",
              "      width: 32px;\n",
              "    }\n",
              "\n",
              "    .colab-df-convert:hover {\n",
              "      background-color: #E2EBFA;\n",
              "      box-shadow: 0px 1px 2px rgba(60, 64, 67, 0.3), 0px 1px 3px 1px rgba(60, 64, 67, 0.15);\n",
              "      fill: #174EA6;\n",
              "    }\n",
              "\n",
              "    [theme=dark] .colab-df-convert {\n",
              "      background-color: #3B4455;\n",
              "      fill: #D2E3FC;\n",
              "    }\n",
              "\n",
              "    [theme=dark] .colab-df-convert:hover {\n",
              "      background-color: #434B5C;\n",
              "      box-shadow: 0px 1px 3px 1px rgba(0, 0, 0, 0.15);\n",
              "      filter: drop-shadow(0px 1px 2px rgba(0, 0, 0, 0.3));\n",
              "      fill: #FFFFFF;\n",
              "    }\n",
              "  </style>\n",
              "\n",
              "      <script>\n",
              "        const buttonEl =\n",
              "          document.querySelector('#df-2d0ce235-b6bf-46b3-993d-9f19bd73efe3 button.colab-df-convert');\n",
              "        buttonEl.style.display =\n",
              "          google.colab.kernel.accessAllowed ? 'block' : 'none';\n",
              "\n",
              "        async function convertToInteractive(key) {\n",
              "          const element = document.querySelector('#df-2d0ce235-b6bf-46b3-993d-9f19bd73efe3');\n",
              "          const dataTable =\n",
              "            await google.colab.kernel.invokeFunction('convertToInteractive',\n",
              "                                                     [key], {});\n",
              "          if (!dataTable) return;\n",
              "\n",
              "          const docLinkHtml = 'Like what you see? Visit the ' +\n",
              "            '<a target=\"_blank\" href=https://colab.research.google.com/notebooks/data_table.ipynb>data table notebook</a>'\n",
              "            + ' to learn more about interactive tables.';\n",
              "          element.innerHTML = '';\n",
              "          dataTable['output_type'] = 'display_data';\n",
              "          await google.colab.output.renderOutput(dataTable, element);\n",
              "          const docLink = document.createElement('div');\n",
              "          docLink.innerHTML = docLinkHtml;\n",
              "          element.appendChild(docLink);\n",
              "        }\n",
              "      </script>\n",
              "    </div>\n",
              "  </div>\n",
              "  "
            ]
          },
          "metadata": {},
          "execution_count": 191
        }
      ]
    },
    {
      "cell_type": "code",
      "source": [
        "# training: does the model reflect the actual data closely enough?\n",
        "\n",
        "# frequency of repeat transactions: predicted vs actual\n",
        "fig = plt.figure(figsize=(12, 12))\n",
        "plot_period_transactions(BGF);"
      ],
      "metadata": {
        "colab": {
          "base_uri": "https://localhost:8080/",
          "height": 507
        },
        "id": "zvEy8EMpviuq",
        "outputId": "26346146-0ea3-40aa-b64b-abf9e96bdb99"
      },
      "execution_count": 192,
      "outputs": [
        {
          "output_type": "display_data",
          "data": {
            "text/plain": [
              "<Figure size 1200x1200 with 0 Axes>"
            ]
          },
          "metadata": {}
        },
        {
          "output_type": "display_data",
          "data": {
            "text/plain": [
              "<Figure size 640x480 with 1 Axes>"
            ],
            "image/png": "[encoded data removed]"
          },
          "metadata": {}
        }
      ]
    },
    {
      "cell_type": "code",
      "source": [
        "# testing: predicted vs actual purchases in holdout period\n",
        "fig = plt.figure(figsize=(7, 7)) \n",
        "plot_calibration_purchases_vs_holdout_purchases(BGF, df_ch);\n",
        "\n",
        "## y축 간격이 마음대로 달라져서... 음 7:3 일 때가 가장 작긴 한 듯 "
      ],
      "metadata": {
        "colab": {
          "base_uri": "https://localhost:8080/",
          "height": 498
        },
        "id": "xGVs7TN6vnVZ",
        "outputId": "23ecdc87-db8c-4fc7-9c83-57ba4391d3f2"
      },
      "execution_count": 193,
      "outputs": [
        {
          "output_type": "display_data",
          "data": {
            "text/plain": [
              "<Figure size 700x700 with 0 Axes>"
            ]
          },
          "metadata": {}
        },
        {
          "output_type": "display_data",
          "data": {
            "text/plain": [
              "<Figure size 640x480 with 1 Axes>"
            ],
            "image/png": "[encoded data removed]"
          },
          "metadata": {}
        }
      ]
    },
    {
      "cell_type": "markdown",
      "source": [
        "## (여기서부터 진행예정) 3.5 Predicted Purchases \n"
      ],
      "metadata": {
        "id": "V_wCQnivdxnx"
      }
    },
    {
      "cell_type": "code",
      "source": [
        "# helper function: plot expected number of future purchases a customer with \n",
        "#    frequency f and recency r will make in forecast period\n",
        "\n",
        "def plot_freq_rec(t):\n",
        "    fig = plt.figure(figsize=(7, 7)) \n",
        "    plot_frequency_recency_matrix(\n",
        "            model = BGF,   \n",
        "            T = t,  \n",
        "            max_frequency = max_freq,  \n",
        "            max_recency = max_rec);\n",
        "            \n",
        "            \n",
        "# call plotter function for different forecast periods:\n",
        "tFC = [10, 90]\n",
        "_ = [plot_freq_rec(t) for t in tFC]"
      ],
      "metadata": {
        "colab": {
          "base_uri": "https://localhost:8080/",
          "height": 395
        },
        "id": "exrp13ggxwuf",
        "outputId": "ff0eb676-f4ba-4e8d-cdbe-7d93134ceb21"
      },
      "execution_count": 201,
      "outputs": [
        {
          "output_type": "error",
          "ename": "TypeError",
          "evalue": "ignored",
          "traceback": [
            "\u001b[0;31m---------------------------------------------------------------------------\u001b[0m",
            "\u001b[0;31mTypeError\u001b[0m                                 Traceback (most recent call last)",
            "\u001b[0;32m<ipython-input-201-1bf459c634e3>\u001b[0m in \u001b[0;36m<cell line: 15>\u001b[0;34m()\u001b[0m\n\u001b[1;32m     13\u001b[0m \u001b[0;31m# call plotter function for different forecast periods:\u001b[0m\u001b[0;34m\u001b[0m\u001b[0;34m\u001b[0m\u001b[0m\n\u001b[1;32m     14\u001b[0m \u001b[0mtFC\u001b[0m \u001b[0;34m=\u001b[0m \u001b[0;34m[\u001b[0m\u001b[0;36m10\u001b[0m\u001b[0;34m,\u001b[0m \u001b[0;36m90\u001b[0m\u001b[0;34m]\u001b[0m\u001b[0;34m\u001b[0m\u001b[0;34m\u001b[0m\u001b[0m\n\u001b[0;32m---> 15\u001b[0;31m \u001b[0m_\u001b[0m \u001b[0;34m=\u001b[0m \u001b[0;34m[\u001b[0m\u001b[0mplot_freq_rec\u001b[0m\u001b[0;34m(\u001b[0m\u001b[0mt\u001b[0m\u001b[0;34m)\u001b[0m \u001b[0;32mfor\u001b[0m \u001b[0mt\u001b[0m \u001b[0;32min\u001b[0m \u001b[0mtFC\u001b[0m\u001b[0;34m]\u001b[0m\u001b[0;34m\u001b[0m\u001b[0;34m\u001b[0m\u001b[0m\n\u001b[0m",
            "\u001b[0;32m<ipython-input-201-1bf459c634e3>\u001b[0m in \u001b[0;36m<listcomp>\u001b[0;34m(.0)\u001b[0m\n\u001b[1;32m     13\u001b[0m \u001b[0;31m# call plotter function for different forecast periods:\u001b[0m\u001b[0;34m\u001b[0m\u001b[0;34m\u001b[0m\u001b[0m\n\u001b[1;32m     14\u001b[0m \u001b[0mtFC\u001b[0m \u001b[0;34m=\u001b[0m \u001b[0;34m[\u001b[0m\u001b[0;36m10\u001b[0m\u001b[0;34m,\u001b[0m \u001b[0;36m90\u001b[0m\u001b[0;34m]\u001b[0m\u001b[0;34m\u001b[0m\u001b[0;34m\u001b[0m\u001b[0m\n\u001b[0;32m---> 15\u001b[0;31m \u001b[0m_\u001b[0m \u001b[0;34m=\u001b[0m \u001b[0;34m[\u001b[0m\u001b[0mplot_freq_rec\u001b[0m\u001b[0;34m(\u001b[0m\u001b[0mt\u001b[0m\u001b[0;34m)\u001b[0m \u001b[0;32mfor\u001b[0m \u001b[0mt\u001b[0m \u001b[0;32min\u001b[0m \u001b[0mtFC\u001b[0m\u001b[0;34m]\u001b[0m\u001b[0;34m\u001b[0m\u001b[0;34m\u001b[0m\u001b[0m\n\u001b[0m",
            "\u001b[0;32m<ipython-input-201-1bf459c634e3>\u001b[0m in \u001b[0;36mplot_freq_rec\u001b[0;34m(t)\u001b[0m\n\u001b[1;32m      4\u001b[0m \u001b[0;32mdef\u001b[0m \u001b[0mplot_freq_rec\u001b[0m\u001b[0;34m(\u001b[0m\u001b[0mt\u001b[0m\u001b[0;34m)\u001b[0m\u001b[0;34m:\u001b[0m\u001b[0;34m\u001b[0m\u001b[0;34m\u001b[0m\u001b[0m\n\u001b[1;32m      5\u001b[0m     \u001b[0mfig\u001b[0m \u001b[0;34m=\u001b[0m \u001b[0mplt\u001b[0m\u001b[0;34m.\u001b[0m\u001b[0mfigure\u001b[0m\u001b[0;34m(\u001b[0m\u001b[0mfigsize\u001b[0m\u001b[0;34m=\u001b[0m\u001b[0;34m(\u001b[0m\u001b[0;36m7\u001b[0m\u001b[0;34m,\u001b[0m \u001b[0;36m7\u001b[0m\u001b[0;34m)\u001b[0m\u001b[0;34m)\u001b[0m\u001b[0;34m\u001b[0m\u001b[0;34m\u001b[0m\u001b[0m\n\u001b[0;32m----> 6\u001b[0;31m     plot_frequency_recency_matrix(\n\u001b[0m\u001b[1;32m      7\u001b[0m             \u001b[0mmodel\u001b[0m \u001b[0;34m=\u001b[0m \u001b[0mBGF\u001b[0m\u001b[0;34m,\u001b[0m\u001b[0;34m\u001b[0m\u001b[0;34m\u001b[0m\u001b[0m\n\u001b[1;32m      8\u001b[0m             \u001b[0mT\u001b[0m \u001b[0;34m=\u001b[0m \u001b[0mt\u001b[0m\u001b[0;34m,\u001b[0m\u001b[0;34m\u001b[0m\u001b[0;34m\u001b[0m\u001b[0m\n",
            "\u001b[0;32m/usr/local/lib/python3.9/dist-packages/lifetimes/plotting.py\u001b[0m in \u001b[0;36mplot_frequency_recency_matrix\u001b[0;34m(model, T, max_frequency, max_recency, title, xlabel, ylabel, **kwargs)\u001b[0m\n\u001b[1;32m    182\u001b[0m         \u001b[0mmax_recency\u001b[0m \u001b[0;34m=\u001b[0m \u001b[0mint\u001b[0m\u001b[0;34m(\u001b[0m\u001b[0mmodel\u001b[0m\u001b[0;34m.\u001b[0m\u001b[0mdata\u001b[0m\u001b[0;34m[\u001b[0m\u001b[0;34m\"T\"\u001b[0m\u001b[0;34m]\u001b[0m\u001b[0;34m.\u001b[0m\u001b[0mmax\u001b[0m\u001b[0;34m(\u001b[0m\u001b[0;34m)\u001b[0m\u001b[0;34m)\u001b[0m\u001b[0;34m\u001b[0m\u001b[0;34m\u001b[0m\u001b[0m\n\u001b[1;32m    183\u001b[0m \u001b[0;34m\u001b[0m\u001b[0m\n\u001b[0;32m--> 184\u001b[0;31m     \u001b[0mZ\u001b[0m \u001b[0;34m=\u001b[0m \u001b[0mnp\u001b[0m\u001b[0;34m.\u001b[0m\u001b[0mzeros\u001b[0m\u001b[0;34m(\u001b[0m\u001b[0;34m(\u001b[0m\u001b[0mmax_recency\u001b[0m \u001b[0;34m+\u001b[0m \u001b[0;36m1\u001b[0m\u001b[0;34m,\u001b[0m \u001b[0mmax_frequency\u001b[0m \u001b[0;34m+\u001b[0m \u001b[0;36m1\u001b[0m\u001b[0;34m)\u001b[0m\u001b[0;34m)\u001b[0m\u001b[0;34m\u001b[0m\u001b[0;34m\u001b[0m\u001b[0m\n\u001b[0m\u001b[1;32m    185\u001b[0m     \u001b[0;32mfor\u001b[0m \u001b[0mi\u001b[0m\u001b[0;34m,\u001b[0m \u001b[0mrecency\u001b[0m \u001b[0;32min\u001b[0m \u001b[0menumerate\u001b[0m\u001b[0;34m(\u001b[0m\u001b[0mnp\u001b[0m\u001b[0;34m.\u001b[0m\u001b[0marange\u001b[0m\u001b[0;34m(\u001b[0m\u001b[0mmax_recency\u001b[0m \u001b[0;34m+\u001b[0m \u001b[0;36m1\u001b[0m\u001b[0;34m)\u001b[0m\u001b[0;34m)\u001b[0m\u001b[0;34m:\u001b[0m\u001b[0;34m\u001b[0m\u001b[0;34m\u001b[0m\u001b[0m\n\u001b[1;32m    186\u001b[0m         \u001b[0;32mfor\u001b[0m \u001b[0mj\u001b[0m\u001b[0;34m,\u001b[0m \u001b[0mfrequency\u001b[0m \u001b[0;32min\u001b[0m \u001b[0menumerate\u001b[0m\u001b[0;34m(\u001b[0m\u001b[0mnp\u001b[0m\u001b[0;34m.\u001b[0m\u001b[0marange\u001b[0m\u001b[0;34m(\u001b[0m\u001b[0mmax_frequency\u001b[0m \u001b[0;34m+\u001b[0m \u001b[0;36m1\u001b[0m\u001b[0;34m)\u001b[0m\u001b[0;34m)\u001b[0m\u001b[0;34m:\u001b[0m\u001b[0;34m\u001b[0m\u001b[0;34m\u001b[0m\u001b[0m\n",
            "\u001b[0;31mTypeError\u001b[0m: 'numpy.float64' object cannot be interpreted as an integer"
          ]
        },
        {
          "output_type": "display_data",
          "data": {
            "text/plain": [
              "<Figure size 700x700 with 0 Axes>"
            ]
          },
          "metadata": {}
        }
      ]
    },
    {
      "cell_type": "code",
      "source": [
        "# from lifetimes.plotting import plot_frequency_recency_matrix\n",
        "# from lifetimes.plotting import plot_probability_alive_matrix"
      ],
      "metadata": {
        "id": "L-zVkcKQd1A7"
      },
      "execution_count": 194,
      "outputs": []
    },
    {
      "cell_type": "code",
      "source": [
        "# plot_frequency_recency_matrix(BGF)"
      ],
      "metadata": {
        "id": "1xsGicWNd1D2"
      },
      "execution_count": 195,
      "outputs": []
    },
    {
      "cell_type": "code",
      "source": [
        "# plot_probability_alive_matrix(BGF)"
      ],
      "metadata": {
        "id": "YApZUvpId1H_"
      },
      "execution_count": 196,
      "outputs": []
    },
    {
      "cell_type": "code",
      "source": [
        "# ## - Top 10 Expected Number of Transaction (1 Week)  \n",
        "# BGF.conditional_expected_number_of_purchases_up_to_time(\n",
        "#     1, ltv_df[\"frequency\"], ltv_df[\"recency\"], ltv_df[\"T\"]\n",
        "# ).sort_values(ascending=False).head(10).to_frame(\n",
        "#     \"Expected Number of Transactions\"\n",
        "# ).reset_index()"
      ],
      "metadata": {
        "id": "Zw91cgTOOlmu"
      },
      "execution_count": 197,
      "outputs": []
    },
    {
      "cell_type": "code",
      "source": [
        "# ## Top 10 Expected Number of Transaction (1 Month)\n",
        "# BGF.conditional_expected_number_of_purchases_up_to_time(\n",
        "#     4, ltv_df[\"frequency\"], ltv_df[\"recency\"], ltv_df[\"T\"]\n",
        "# ).sort_values(ascending=False).head(10).to_frame(\n",
        "#     \"Expected Number of Transactions\"\n",
        "# ).reset_index()"
      ],
      "metadata": {
        "id": "dq1FG2t8za5i"
      },
      "execution_count": 198,
      "outputs": []
    },
    {
      "cell_type": "markdown",
      "source": [
        "- bg-nbd 모델에서 출력해볼 수 있는 값들 살펴보기 \n",
        "- 그래프 그려볼 수 있는 것 그려보기 \n",
        "\n",
        "-- https://lifetimes.readthedocs.io/en/latest/Quickstart.html 살펴보기 (lifetimes 문서) "
      ],
      "metadata": {
        "id": "hNnau9ziz1bk"
      }
    },
    {
      "cell_type": "code",
      "source": [
        "# from lifetimes.plotting import plot_period_transactions"
      ],
      "metadata": {
        "id": "IgBWX5VRfKsZ"
      },
      "execution_count": 199,
      "outputs": []
    },
    {
      "cell_type": "code",
      "source": [
        "# # Model Fitting \n",
        "# plot_period_transactions(BGF)"
      ],
      "metadata": {
        "id": "2d67V-PCfOnH"
      },
      "execution_count": 200,
      "outputs": []
    },
    {
      "cell_type": "markdown",
      "source": [
        "## 3.6 Customer Churn Probability"
      ],
      "metadata": {
        "id": "K454iJOcyI1z"
      }
    },
    {
      "cell_type": "markdown",
      "source": [
        "## 3.7 Customer Lifetime Value"
      ],
      "metadata": {
        "id": "zDPdOww8yLYI"
      }
    },
    {
      "cell_type": "markdown",
      "source": [
        "## 3.8 The Gamma-Gamma Model"
      ],
      "metadata": {
        "id": "zlHSDgAyyOuR"
      }
    },
    {
      "cell_type": "markdown",
      "source": [
        "## 3.9 Fitting the Gamma-Gamma Model to the RFT Data"
      ],
      "metadata": {
        "id": "tP2oDIQxyTmb"
      }
    },
    {
      "cell_type": "markdown",
      "source": [
        "## 3.10 GG Predictions"
      ],
      "metadata": {
        "id": "H83Z007CyVJ7"
      }
    },
    {
      "cell_type": "markdown",
      "source": [
        "## 3.11 Customer Lifetime Value CLV"
      ],
      "metadata": {
        "id": "LVPog0hNyabk"
      }
    },
    {
      "cell_type": "markdown",
      "source": [
        "# _4. 결론 "
      ],
      "metadata": {
        "id": "25ND283SyffQ"
      }
    }
  ]
}