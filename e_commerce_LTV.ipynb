{
  "nbformat": 4,
  "nbformat_minor": 0,
  "metadata": {
    "colab": {
      "provenance": [],
      "include_colab_link": true
    },
    "kernelspec": {
      "name": "python3",
      "display_name": "Python 3"
    },
    "language_info": {
      "name": "python"
    }
  },
  "cells": [
    {
      "cell_type": "markdown",
      "metadata": {
        "id": "view-in-github",
        "colab_type": "text"
      },
      "source": [
        "<a href=\"https://colab.research.google.com/github/Nayoung-young/prj-ecommerce-ltv/blob/main/e_commerce_LTV.ipynb\" target=\"_parent\"><img src=\"https://colab.research.google.com/assets/colab-badge.svg\" alt=\"Open In Colab\"/></a>"
      ]
    },
    {
      "cell_type": "markdown",
      "source": [
        "# _0.라이브러리 임포트"
      ],
      "metadata": {
        "id": "cBlp2yHdjDhr"
      }
    },
    {
      "cell_type": "code",
      "source": [
        "!pip install plotly\n",
        "!pip install Lifetimes\n",
        "!pip install nb_black"
      ],
      "metadata": {
        "colab": {
          "base_uri": "https://localhost:8080/"
        },
        "id": "soamLyPU2w63",
        "outputId": "6d02bf9e-8a2b-4cf6-ed29-69394c0a2acb"
      },
      "execution_count": 1,
      "outputs": [
        {
          "output_type": "stream",
          "name": "stdout",
          "text": [
            "Looking in indexes: https://pypi.org/simple, https://us-python.pkg.dev/colab-wheels/public/simple/\n",
            "Requirement already satisfied: plotly in /usr/local/lib/python3.9/dist-packages (5.13.1)\n",
            "Requirement already satisfied: tenacity>=6.2.0 in /usr/local/lib/python3.9/dist-packages (from plotly) (8.2.2)\n",
            "Looking in indexes: https://pypi.org/simple, https://us-python.pkg.dev/colab-wheels/public/simple/\n",
            "Collecting Lifetimes\n",
            "  Downloading Lifetimes-0.11.3-py3-none-any.whl (584 kB)\n",
            "\u001b[2K     \u001b[90m━━━━━━━━━━━━━━━━━━━━━━━━━━━━━━━━━━━━━━\u001b[0m \u001b[32m584.2/584.2 kB\u001b[0m \u001b[31m11.2 MB/s\u001b[0m eta \u001b[36m0:00:00\u001b[0m\n",
            "\u001b[?25hRequirement already satisfied: pandas>=0.24.0 in /usr/local/lib/python3.9/dist-packages (from Lifetimes) (1.5.3)\n",
            "Requirement already satisfied: numpy>=1.10.0 in /usr/local/lib/python3.9/dist-packages (from Lifetimes) (1.22.4)\n",
            "Requirement already satisfied: autograd>=1.2.0 in /usr/local/lib/python3.9/dist-packages (from Lifetimes) (1.5)\n",
            "Collecting dill>=0.2.6\n",
            "  Downloading dill-0.3.6-py3-none-any.whl (110 kB)\n",
            "\u001b[2K     \u001b[90m━━━━━━━━━━━━━━━━━━━━━━━━━━━━━━━━━━━━━━━\u001b[0m \u001b[32m110.5/110.5 kB\u001b[0m \u001b[31m9.4 MB/s\u001b[0m eta \u001b[36m0:00:00\u001b[0m\n",
            "\u001b[?25hRequirement already satisfied: scipy>=1.0.0 in /usr/local/lib/python3.9/dist-packages (from Lifetimes) (1.10.1)\n",
            "Requirement already satisfied: future>=0.15.2 in /usr/local/lib/python3.9/dist-packages (from autograd>=1.2.0->Lifetimes) (0.18.3)\n",
            "Requirement already satisfied: pytz>=2020.1 in /usr/local/lib/python3.9/dist-packages (from pandas>=0.24.0->Lifetimes) (2022.7.1)\n",
            "Requirement already satisfied: python-dateutil>=2.8.1 in /usr/local/lib/python3.9/dist-packages (from pandas>=0.24.0->Lifetimes) (2.8.2)\n",
            "Requirement already satisfied: six>=1.5 in /usr/local/lib/python3.9/dist-packages (from python-dateutil>=2.8.1->pandas>=0.24.0->Lifetimes) (1.16.0)\n",
            "Installing collected packages: dill, Lifetimes\n",
            "Successfully installed Lifetimes-0.11.3 dill-0.3.6\n",
            "Looking in indexes: https://pypi.org/simple, https://us-python.pkg.dev/colab-wheels/public/simple/\n",
            "Collecting nb_black\n",
            "  Downloading nb_black-1.0.7.tar.gz (4.8 kB)\n",
            "  \u001b[1;31merror\u001b[0m: \u001b[1msubprocess-exited-with-error\u001b[0m\n",
            "  \n",
            "  \u001b[31m×\u001b[0m \u001b[32mpython setup.py egg_info\u001b[0m did not run successfully.\n",
            "  \u001b[31m│\u001b[0m exit code: \u001b[1;36m1\u001b[0m\n",
            "  \u001b[31m╰─>\u001b[0m See above for output.\n",
            "  \n",
            "  \u001b[1;35mnote\u001b[0m: This error originates from a subprocess, and is likely not a problem with pip.\n",
            "  Preparing metadata (setup.py) ... \u001b[?25l\u001b[?25herror\n",
            "\u001b[1;31merror\u001b[0m: \u001b[1mmetadata-generation-failed\u001b[0m\n",
            "\n",
            "\u001b[31m×\u001b[0m Encountered error while generating package metadata.\n",
            "\u001b[31m╰─>\u001b[0m See above for output.\n",
            "\n",
            "\u001b[1;35mnote\u001b[0m: This is an issue with the package mentioned above, not pip.\n",
            "\u001b[1;36mhint\u001b[0m: See above for details.\n"
          ]
        }
      ]
    },
    {
      "cell_type": "code",
      "source": [
        "import pandas as pd # python에서의 엑셀과 같은 역할\n",
        "import numpy as np # 계산을 편하게 해 주는 라이브러리\n",
        "import matplotlib as mpl\n",
        "import matplotlib.pyplot as plt # 시각화\n",
        "import seaborn as sns # 시각화\n",
        "\n",
        "import matplotlib.ticker as ticker # 시각화\n",
        "import matplotlib.dates as mdates # 시각화\n",
        "\n",
        "import datetime as dt\n",
        "\n",
        "import warnings\n",
        "\n",
        "warnings.filterwarnings('ignore')\n",
        "sns.set_theme(style='white')\n",
        "\n",
        "# from other \n",
        "import matplotlib.colors as mcolors\n",
        "from sklearn.metrics import (silhouette_score,\n",
        "                             calinski_harabasz_score,\n",
        "                             davies_bouldin_score)\n",
        "%matplotlib inline\n",
        "sns.set_style('whitegrid')\n",
        "palette = 'Set2'\n",
        "\n",
        "# sns.set(font_scale=2)"
      ],
      "metadata": {
        "id": "DFIz0LDqjZpz"
      },
      "execution_count": 2,
      "outputs": []
    },
    {
      "cell_type": "markdown",
      "source": [
        "# _1. 데이터 불러오기 "
      ],
      "metadata": {
        "id": "MG1GToDam_CU"
      }
    },
    {
      "cell_type": "code",
      "source": [
        "%%time\n",
        "df = pd.read_csv('/content/e-commerce_LTV.csv', encoding= 'unicode_escape')\n",
        "df_base = df.copy()"
      ],
      "metadata": {
        "id": "3BlkuQ7-m_o2",
        "colab": {
          "base_uri": "https://localhost:8080/"
        },
        "outputId": "327074e8-4021-4ea0-beab-06791eff94ca"
      },
      "execution_count": 3,
      "outputs": [
        {
          "output_type": "stream",
          "name": "stdout",
          "text": [
            "CPU times: user 946 ms, sys: 230 ms, total: 1.18 s\n",
            "Wall time: 1.24 s\n"
          ]
        }
      ]
    },
    {
      "cell_type": "code",
      "source": [
        "df_base.head()"
      ],
      "metadata": {
        "colab": {
          "base_uri": "https://localhost:8080/",
          "height": 206
        },
        "id": "lbYB2DtUeVxJ",
        "outputId": "8050a895-548f-4d17-bb5f-00f0c032a33c"
      },
      "execution_count": 4,
      "outputs": [
        {
          "output_type": "execute_result",
          "data": {
            "text/plain": [
              "  InvoiceNo StockCode                          Description  Quantity  \\\n",
              "0    536365    85123A   WHITE HANGING HEART T-LIGHT HOLDER         6   \n",
              "1    536365     71053                  WHITE METAL LANTERN         6   \n",
              "2    536365    84406B       CREAM CUPID HEARTS COAT HANGER         8   \n",
              "3    536365    84029G  KNITTED UNION FLAG HOT WATER BOTTLE         6   \n",
              "4    536365    84029E       RED WOOLLY HOTTIE WHITE HEART.         6   \n",
              "\n",
              "      InvoiceDate  UnitPrice  CustomerID         Country  \n",
              "0  12/1/2010 8:26       2.55     17850.0  United Kingdom  \n",
              "1  12/1/2010 8:26       3.39     17850.0  United Kingdom  \n",
              "2  12/1/2010 8:26       2.75     17850.0  United Kingdom  \n",
              "3  12/1/2010 8:26       3.39     17850.0  United Kingdom  \n",
              "4  12/1/2010 8:26       3.39     17850.0  United Kingdom  "
            ],
            "text/html": [
              "\n",
              "  <div id=\"df-289162e6-fb77-4100-8f74-cb8ed8b0e07e\">\n",
              "    <div class=\"colab-df-container\">\n",
              "      <div>\n",
              "<style scoped>\n",
              "    .dataframe tbody tr th:only-of-type {\n",
              "        vertical-align: middle;\n",
              "    }\n",
              "\n",
              "    .dataframe tbody tr th {\n",
              "        vertical-align: top;\n",
              "    }\n",
              "\n",
              "    .dataframe thead th {\n",
              "        text-align: right;\n",
              "    }\n",
              "</style>\n",
              "<table border=\"1\" class=\"dataframe\">\n",
              "  <thead>\n",
              "    <tr style=\"text-align: right;\">\n",
              "      <th></th>\n",
              "      <th>InvoiceNo</th>\n",
              "      <th>StockCode</th>\n",
              "      <th>Description</th>\n",
              "      <th>Quantity</th>\n",
              "      <th>InvoiceDate</th>\n",
              "      <th>UnitPrice</th>\n",
              "      <th>CustomerID</th>\n",
              "      <th>Country</th>\n",
              "    </tr>\n",
              "  </thead>\n",
              "  <tbody>\n",
              "    <tr>\n",
              "      <th>0</th>\n",
              "      <td>536365</td>\n",
              "      <td>85123A</td>\n",
              "      <td>WHITE HANGING HEART T-LIGHT HOLDER</td>\n",
              "      <td>6</td>\n",
              "      <td>12/1/2010 8:26</td>\n",
              "      <td>2.55</td>\n",
              "      <td>17850.0</td>\n",
              "      <td>United Kingdom</td>\n",
              "    </tr>\n",
              "    <tr>\n",
              "      <th>1</th>\n",
              "      <td>536365</td>\n",
              "      <td>71053</td>\n",
              "      <td>WHITE METAL LANTERN</td>\n",
              "      <td>6</td>\n",
              "      <td>12/1/2010 8:26</td>\n",
              "      <td>3.39</td>\n",
              "      <td>17850.0</td>\n",
              "      <td>United Kingdom</td>\n",
              "    </tr>\n",
              "    <tr>\n",
              "      <th>2</th>\n",
              "      <td>536365</td>\n",
              "      <td>84406B</td>\n",
              "      <td>CREAM CUPID HEARTS COAT HANGER</td>\n",
              "      <td>8</td>\n",
              "      <td>12/1/2010 8:26</td>\n",
              "      <td>2.75</td>\n",
              "      <td>17850.0</td>\n",
              "      <td>United Kingdom</td>\n",
              "    </tr>\n",
              "    <tr>\n",
              "      <th>3</th>\n",
              "      <td>536365</td>\n",
              "      <td>84029G</td>\n",
              "      <td>KNITTED UNION FLAG HOT WATER BOTTLE</td>\n",
              "      <td>6</td>\n",
              "      <td>12/1/2010 8:26</td>\n",
              "      <td>3.39</td>\n",
              "      <td>17850.0</td>\n",
              "      <td>United Kingdom</td>\n",
              "    </tr>\n",
              "    <tr>\n",
              "      <th>4</th>\n",
              "      <td>536365</td>\n",
              "      <td>84029E</td>\n",
              "      <td>RED WOOLLY HOTTIE WHITE HEART.</td>\n",
              "      <td>6</td>\n",
              "      <td>12/1/2010 8:26</td>\n",
              "      <td>3.39</td>\n",
              "      <td>17850.0</td>\n",
              "      <td>United Kingdom</td>\n",
              "    </tr>\n",
              "  </tbody>\n",
              "</table>\n",
              "</div>\n",
              "      <button class=\"colab-df-convert\" onclick=\"convertToInteractive('df-289162e6-fb77-4100-8f74-cb8ed8b0e07e')\"\n",
              "              title=\"Convert this dataframe to an interactive table.\"\n",
              "              style=\"display:none;\">\n",
              "        \n",
              "  <svg xmlns=\"http://www.w3.org/2000/svg\" height=\"24px\"viewBox=\"0 0 24 24\"\n",
              "       width=\"24px\">\n",
              "    <path d=\"M0 0h24v24H0V0z\" fill=\"none\"/>\n",
              "    <path d=\"M18.56 5.44l.94 2.06.94-2.06 2.06-.94-2.06-.94-.94-2.06-.94 2.06-2.06.94zm-11 1L8.5 8.5l.94-2.06 2.06-.94-2.06-.94L8.5 2.5l-.94 2.06-2.06.94zm10 10l.94 2.06.94-2.06 2.06-.94-2.06-.94-.94-2.06-.94 2.06-2.06.94z\"/><path d=\"M17.41 7.96l-1.37-1.37c-.4-.4-.92-.59-1.43-.59-.52 0-1.04.2-1.43.59L10.3 9.45l-7.72 7.72c-.78.78-.78 2.05 0 2.83L4 21.41c.39.39.9.59 1.41.59.51 0 1.02-.2 1.41-.59l7.78-7.78 2.81-2.81c.8-.78.8-2.07 0-2.86zM5.41 20L4 18.59l7.72-7.72 1.47 1.35L5.41 20z\"/>\n",
              "  </svg>\n",
              "      </button>\n",
              "      \n",
              "  <style>\n",
              "    .colab-df-container {\n",
              "      display:flex;\n",
              "      flex-wrap:wrap;\n",
              "      gap: 12px;\n",
              "    }\n",
              "\n",
              "    .colab-df-convert {\n",
              "      background-color: #E8F0FE;\n",
              "      border: none;\n",
              "      border-radius: 50%;\n",
              "      cursor: pointer;\n",
              "      display: none;\n",
              "      fill: #1967D2;\n",
              "      height: 32px;\n",
              "      padding: 0 0 0 0;\n",
              "      width: 32px;\n",
              "    }\n",
              "\n",
              "    .colab-df-convert:hover {\n",
              "      background-color: #E2EBFA;\n",
              "      box-shadow: 0px 1px 2px rgba(60, 64, 67, 0.3), 0px 1px 3px 1px rgba(60, 64, 67, 0.15);\n",
              "      fill: #174EA6;\n",
              "    }\n",
              "\n",
              "    [theme=dark] .colab-df-convert {\n",
              "      background-color: #3B4455;\n",
              "      fill: #D2E3FC;\n",
              "    }\n",
              "\n",
              "    [theme=dark] .colab-df-convert:hover {\n",
              "      background-color: #434B5C;\n",
              "      box-shadow: 0px 1px 3px 1px rgba(0, 0, 0, 0.15);\n",
              "      filter: drop-shadow(0px 1px 2px rgba(0, 0, 0, 0.3));\n",
              "      fill: #FFFFFF;\n",
              "    }\n",
              "  </style>\n",
              "\n",
              "      <script>\n",
              "        const buttonEl =\n",
              "          document.querySelector('#df-289162e6-fb77-4100-8f74-cb8ed8b0e07e button.colab-df-convert');\n",
              "        buttonEl.style.display =\n",
              "          google.colab.kernel.accessAllowed ? 'block' : 'none';\n",
              "\n",
              "        async function convertToInteractive(key) {\n",
              "          const element = document.querySelector('#df-289162e6-fb77-4100-8f74-cb8ed8b0e07e');\n",
              "          const dataTable =\n",
              "            await google.colab.kernel.invokeFunction('convertToInteractive',\n",
              "                                                     [key], {});\n",
              "          if (!dataTable) return;\n",
              "\n",
              "          const docLinkHtml = 'Like what you see? Visit the ' +\n",
              "            '<a target=\"_blank\" href=https://colab.research.google.com/notebooks/data_table.ipynb>data table notebook</a>'\n",
              "            + ' to learn more about interactive tables.';\n",
              "          element.innerHTML = '';\n",
              "          dataTable['output_type'] = 'display_data';\n",
              "          await google.colab.output.renderOutput(dataTable, element);\n",
              "          const docLink = document.createElement('div');\n",
              "          docLink.innerHTML = docLinkHtml;\n",
              "          element.appendChild(docLink);\n",
              "        }\n",
              "      </script>\n",
              "    </div>\n",
              "  </div>\n",
              "  "
            ]
          },
          "metadata": {},
          "execution_count": 4
        }
      ]
    },
    {
      "cell_type": "code",
      "source": [
        "df_base.info()"
      ],
      "metadata": {
        "id": "2_BnqHxvm_ro",
        "colab": {
          "base_uri": "https://localhost:8080/"
        },
        "outputId": "88971ee3-5a60-4418-bada-cf5750458532"
      },
      "execution_count": 5,
      "outputs": [
        {
          "output_type": "stream",
          "name": "stdout",
          "text": [
            "<class 'pandas.core.frame.DataFrame'>\n",
            "RangeIndex: 541909 entries, 0 to 541908\n",
            "Data columns (total 8 columns):\n",
            " #   Column       Non-Null Count   Dtype  \n",
            "---  ------       --------------   -----  \n",
            " 0   InvoiceNo    541909 non-null  object \n",
            " 1   StockCode    541909 non-null  object \n",
            " 2   Description  540455 non-null  object \n",
            " 3   Quantity     541909 non-null  int64  \n",
            " 4   InvoiceDate  541909 non-null  object \n",
            " 5   UnitPrice    541909 non-null  float64\n",
            " 6   CustomerID   406829 non-null  float64\n",
            " 7   Country      541909 non-null  object \n",
            "dtypes: float64(2), int64(1), object(5)\n",
            "memory usage: 33.1+ MB\n"
          ]
        }
      ]
    },
    {
      "cell_type": "code",
      "source": [
        "len(df_base['InvoiceNo'].unique().tolist()) # InvoiceNo가 primary key인가? -> Nope "
      ],
      "metadata": {
        "colab": {
          "base_uri": "https://localhost:8080/"
        },
        "id": "aWvR_7Hvez2v",
        "outputId": "a326cb99-ebf4-4bb6-9ab4-eaf8b9c4c7d3"
      },
      "execution_count": 6,
      "outputs": [
        {
          "output_type": "execute_result",
          "data": {
            "text/plain": [
              "25900"
            ]
          },
          "metadata": {},
          "execution_count": 6
        }
      ]
    },
    {
      "cell_type": "code",
      "source": [
        "print(min(df_base['Quantity'].tolist()))\n",
        "print(max(df_base['Quantity'].tolist())) # Quantity 범위 확인 "
      ],
      "metadata": {
        "colab": {
          "base_uri": "https://localhost:8080/"
        },
        "id": "JJxt9o04f_Pj",
        "outputId": "4223ed47-b583-46ae-ea1a-44857d9b6a30"
      },
      "execution_count": 7,
      "outputs": [
        {
          "output_type": "stream",
          "name": "stdout",
          "text": [
            "-80995\n",
            "80995\n"
          ]
        }
      ]
    },
    {
      "cell_type": "code",
      "source": [
        "quantity = df_base['Quantity'].tolist() \n",
        "\n",
        "print(len(list(filter(lambda x: x < 0, quantity)))) # quantity < 0 인 경우 \n",
        "print(len(list(filter(lambda x: x > 0, quantity)))) # quantity > 0 인 경우 "
      ],
      "metadata": {
        "colab": {
          "base_uri": "https://localhost:8080/"
        },
        "id": "uN5O4EUEjDTY",
        "outputId": "b7981819-6763-4149-ee4e-84711ddfe8a6"
      },
      "execution_count": 8,
      "outputs": [
        {
          "output_type": "stream",
          "name": "stdout",
          "text": [
            "10624\n",
            "531285\n"
          ]
        }
      ]
    },
    {
      "cell_type": "code",
      "source": [
        "sum(df_base['Quantity'].dropna())"
      ],
      "metadata": {
        "colab": {
          "base_uri": "https://localhost:8080/"
        },
        "id": "uZy3IDeJkZXt",
        "outputId": "492310e9-9982-4b5d-ce3a-5be68e145c2c"
      },
      "execution_count": 9,
      "outputs": [
        {
          "output_type": "execute_result",
          "data": {
            "text/plain": [
              "5176450"
            ]
          },
          "metadata": {},
          "execution_count": 9
        }
      ]
    },
    {
      "cell_type": "code",
      "source": [
        "# df_base['Country'].unique().tolist() # Country 고유값"
      ],
      "metadata": {
        "id": "Kj93KJb0j_wv"
      },
      "execution_count": 10,
      "outputs": []
    },
    {
      "cell_type": "code",
      "source": [
        "# df_base.groupby(['Country']).agg(country_cnt = ('Country', 'count')).reset_index().sort_values(by = 'country_cnt', ascending =False)"
      ],
      "metadata": {
        "id": "0yMsWqWUggZo"
      },
      "execution_count": 11,
      "outputs": []
    },
    {
      "cell_type": "code",
      "source": [],
      "metadata": {
        "id": "D0TkvYPYkKmH"
      },
      "execution_count": 11,
      "outputs": []
    },
    {
      "cell_type": "markdown",
      "source": [
        "#_1. 데이터 전처리"
      ],
      "metadata": {
        "id": "ti33bHpqjHcM"
      }
    },
    {
      "cell_type": "code",
      "source": [
        "df_base.columns"
      ],
      "metadata": {
        "colab": {
          "base_uri": "https://localhost:8080/"
        },
        "id": "w6bRje4sk9RU",
        "outputId": "6b994b11-9378-4ab3-97c8-28812b3ec7de"
      },
      "execution_count": 12,
      "outputs": [
        {
          "output_type": "execute_result",
          "data": {
            "text/plain": [
              "Index(['InvoiceNo', 'StockCode', 'Description', 'Quantity', 'InvoiceDate',\n",
              "       'UnitPrice', 'CustomerID', 'Country'],\n",
              "      dtype='object')"
            ]
          },
          "metadata": {},
          "execution_count": 12
        }
      ]
    },
    {
      "cell_type": "markdown",
      "source": [
        "## 1.1 컬럼명 바꾸기 "
      ],
      "metadata": {
        "id": "xl1-Nfk3oF1q"
      }
    },
    {
      "cell_type": "code",
      "source": [
        "# 컬럼 이름 snake case 로 rename \n",
        "%%time\n",
        "df_base.rename(columns = {'InvoiceNo':'invoice_no', \n",
        "                        'StockCode':'stock_code', \n",
        "                        'Quantity': 'quantity',\n",
        "                        'Description':'description',\n",
        "                        'InvoiceDate': 'invoice_date',\n",
        "                        'UnitPrice': 'unit_price', \n",
        "                        'CustomerID': 'customer_id', \n",
        "                        'Country':'country'}, inplace = True)"
      ],
      "metadata": {
        "colab": {
          "base_uri": "https://localhost:8080/"
        },
        "id": "lySixIr-mfOi",
        "outputId": "b77ec691-a78f-4f3f-b6af-1597e539bbf0"
      },
      "execution_count": 13,
      "outputs": [
        {
          "output_type": "stream",
          "name": "stdout",
          "text": [
            "CPU times: user 1.34 ms, sys: 0 ns, total: 1.34 ms\n",
            "Wall time: 1.35 ms\n"
          ]
        }
      ]
    },
    {
      "cell_type": "code",
      "source": [
        "LTV_columns = ['invoice_no', 'stock_code', 'quantity', 'invoice_date', 'unit_price', 'customer_id']\n",
        "df_LTV = df_base[LTV_columns]"
      ],
      "metadata": {
        "id": "7hox0TK9jaDb"
      },
      "execution_count": 14,
      "outputs": []
    },
    {
      "cell_type": "code",
      "source": [
        "df_LTV.info()"
      ],
      "metadata": {
        "colab": {
          "base_uri": "https://localhost:8080/"
        },
        "id": "7YGWzEx2ome6",
        "outputId": "f549397e-706f-41f8-b53d-77f753b5ba66"
      },
      "execution_count": 15,
      "outputs": [
        {
          "output_type": "stream",
          "name": "stdout",
          "text": [
            "<class 'pandas.core.frame.DataFrame'>\n",
            "RangeIndex: 541909 entries, 0 to 541908\n",
            "Data columns (total 6 columns):\n",
            " #   Column        Non-Null Count   Dtype  \n",
            "---  ------        --------------   -----  \n",
            " 0   invoice_no    541909 non-null  object \n",
            " 1   stock_code    541909 non-null  object \n",
            " 2   quantity      541909 non-null  int64  \n",
            " 3   invoice_date  541909 non-null  object \n",
            " 4   unit_price    541909 non-null  float64\n",
            " 5   customer_id   406829 non-null  float64\n",
            "dtypes: float64(2), int64(1), object(3)\n",
            "memory usage: 24.8+ MB\n"
          ]
        }
      ]
    },
    {
      "cell_type": "markdown",
      "source": [
        "## 1.2 결측값 처리 \n",
        "- customer_id: \n",
        "  - 결측값 = 비회원으로 추정\n",
        "  - 추후 LTV 계산에서 활용하지는 않을 것이지만 fillna(0)\n",
        "  - object로 타입 변환 "
      ],
      "metadata": {
        "id": "dc_8tbfBo2SA"
      }
    },
    {
      "cell_type": "code",
      "source": [
        "df_LTV_01 = df_LTV.copy()"
      ],
      "metadata": {
        "id": "Oob_5A2Ks-TC"
      },
      "execution_count": 16,
      "outputs": []
    },
    {
      "cell_type": "code",
      "source": [
        "## customer_id type 변환해도될지 체크 \n",
        "%%time \n",
        "list(filter(lambda x: str(x)[-1] != '0', df_LTV_01['customer_id'].unique().tolist()))"
      ],
      "metadata": {
        "id": "AO0zHkF3jaG8",
        "colab": {
          "base_uri": "https://localhost:8080/"
        },
        "outputId": "e3f2bc41-183f-4d45-8e92-b13fb10fc278"
      },
      "execution_count": 17,
      "outputs": [
        {
          "output_type": "stream",
          "name": "stdout",
          "text": [
            "CPU times: user 15.3 ms, sys: 3.06 ms, total: 18.4 ms\n",
            "Wall time: 18.7 ms\n"
          ]
        },
        {
          "output_type": "execute_result",
          "data": {
            "text/plain": [
              "[nan]"
            ]
          },
          "metadata": {},
          "execution_count": 17
        }
      ]
    },
    {
      "cell_type": "code",
      "source": [
        "df_LTV_01['customer_id'].isna().sum() # customer_id 결측값 확인 "
      ],
      "metadata": {
        "colab": {
          "base_uri": "https://localhost:8080/"
        },
        "id": "9vI9yZQloOAL",
        "outputId": "e2bb390b-43af-4ae9-cd89-a3e344a9cab1"
      },
      "execution_count": 18,
      "outputs": [
        {
          "output_type": "execute_result",
          "data": {
            "text/plain": [
              "135080"
            ]
          },
          "metadata": {},
          "execution_count": 18
        }
      ]
    },
    {
      "cell_type": "code",
      "source": [
        "df_LTV_01.sample(5)"
      ],
      "metadata": {
        "colab": {
          "base_uri": "https://localhost:8080/",
          "height": 206
        },
        "id": "FE4tFKrYoUIw",
        "outputId": "4ab62104-1b9d-4ca8-fd0e-4f66b504d89d"
      },
      "execution_count": 19,
      "outputs": [
        {
          "output_type": "execute_result",
          "data": {
            "text/plain": [
              "       invoice_no stock_code  quantity     invoice_date  unit_price  \\\n",
              "102265     545001      21579         6  2/25/2011 12:40        2.25   \n",
              "185673     552824      22994        24  5/11/2011 13:16        0.42   \n",
              "13977      537440      22503         1  12/6/2010 17:16       29.95   \n",
              "321494     565150      21544        48   9/1/2011 14:26        0.65   \n",
              "360036     568208      23436        12  9/25/2011 15:35        1.25   \n",
              "\n",
              "        customer_id  \n",
              "102265      16841.0  \n",
              "185673      14056.0  \n",
              "13977       17869.0  \n",
              "321494      14298.0  \n",
              "360036      12783.0  "
            ],
            "text/html": [
              "\n",
              "  <div id=\"df-13a69e4c-3196-4b06-b10a-f76e8c8c48a2\">\n",
              "    <div class=\"colab-df-container\">\n",
              "      <div>\n",
              "<style scoped>\n",
              "    .dataframe tbody tr th:only-of-type {\n",
              "        vertical-align: middle;\n",
              "    }\n",
              "\n",
              "    .dataframe tbody tr th {\n",
              "        vertical-align: top;\n",
              "    }\n",
              "\n",
              "    .dataframe thead th {\n",
              "        text-align: right;\n",
              "    }\n",
              "</style>\n",
              "<table border=\"1\" class=\"dataframe\">\n",
              "  <thead>\n",
              "    <tr style=\"text-align: right;\">\n",
              "      <th></th>\n",
              "      <th>invoice_no</th>\n",
              "      <th>stock_code</th>\n",
              "      <th>quantity</th>\n",
              "      <th>invoice_date</th>\n",
              "      <th>unit_price</th>\n",
              "      <th>customer_id</th>\n",
              "    </tr>\n",
              "  </thead>\n",
              "  <tbody>\n",
              "    <tr>\n",
              "      <th>102265</th>\n",
              "      <td>545001</td>\n",
              "      <td>21579</td>\n",
              "      <td>6</td>\n",
              "      <td>2/25/2011 12:40</td>\n",
              "      <td>2.25</td>\n",
              "      <td>16841.0</td>\n",
              "    </tr>\n",
              "    <tr>\n",
              "      <th>185673</th>\n",
              "      <td>552824</td>\n",
              "      <td>22994</td>\n",
              "      <td>24</td>\n",
              "      <td>5/11/2011 13:16</td>\n",
              "      <td>0.42</td>\n",
              "      <td>14056.0</td>\n",
              "    </tr>\n",
              "    <tr>\n",
              "      <th>13977</th>\n",
              "      <td>537440</td>\n",
              "      <td>22503</td>\n",
              "      <td>1</td>\n",
              "      <td>12/6/2010 17:16</td>\n",
              "      <td>29.95</td>\n",
              "      <td>17869.0</td>\n",
              "    </tr>\n",
              "    <tr>\n",
              "      <th>321494</th>\n",
              "      <td>565150</td>\n",
              "      <td>21544</td>\n",
              "      <td>48</td>\n",
              "      <td>9/1/2011 14:26</td>\n",
              "      <td>0.65</td>\n",
              "      <td>14298.0</td>\n",
              "    </tr>\n",
              "    <tr>\n",
              "      <th>360036</th>\n",
              "      <td>568208</td>\n",
              "      <td>23436</td>\n",
              "      <td>12</td>\n",
              "      <td>9/25/2011 15:35</td>\n",
              "      <td>1.25</td>\n",
              "      <td>12783.0</td>\n",
              "    </tr>\n",
              "  </tbody>\n",
              "</table>\n",
              "</div>\n",
              "      <button class=\"colab-df-convert\" onclick=\"convertToInteractive('df-13a69e4c-3196-4b06-b10a-f76e8c8c48a2')\"\n",
              "              title=\"Convert this dataframe to an interactive table.\"\n",
              "              style=\"display:none;\">\n",
              "        \n",
              "  <svg xmlns=\"http://www.w3.org/2000/svg\" height=\"24px\"viewBox=\"0 0 24 24\"\n",
              "       width=\"24px\">\n",
              "    <path d=\"M0 0h24v24H0V0z\" fill=\"none\"/>\n",
              "    <path d=\"M18.56 5.44l.94 2.06.94-2.06 2.06-.94-2.06-.94-.94-2.06-.94 2.06-2.06.94zm-11 1L8.5 8.5l.94-2.06 2.06-.94-2.06-.94L8.5 2.5l-.94 2.06-2.06.94zm10 10l.94 2.06.94-2.06 2.06-.94-2.06-.94-.94-2.06-.94 2.06-2.06.94z\"/><path d=\"M17.41 7.96l-1.37-1.37c-.4-.4-.92-.59-1.43-.59-.52 0-1.04.2-1.43.59L10.3 9.45l-7.72 7.72c-.78.78-.78 2.05 0 2.83L4 21.41c.39.39.9.59 1.41.59.51 0 1.02-.2 1.41-.59l7.78-7.78 2.81-2.81c.8-.78.8-2.07 0-2.86zM5.41 20L4 18.59l7.72-7.72 1.47 1.35L5.41 20z\"/>\n",
              "  </svg>\n",
              "      </button>\n",
              "      \n",
              "  <style>\n",
              "    .colab-df-container {\n",
              "      display:flex;\n",
              "      flex-wrap:wrap;\n",
              "      gap: 12px;\n",
              "    }\n",
              "\n",
              "    .colab-df-convert {\n",
              "      background-color: #E8F0FE;\n",
              "      border: none;\n",
              "      border-radius: 50%;\n",
              "      cursor: pointer;\n",
              "      display: none;\n",
              "      fill: #1967D2;\n",
              "      height: 32px;\n",
              "      padding: 0 0 0 0;\n",
              "      width: 32px;\n",
              "    }\n",
              "\n",
              "    .colab-df-convert:hover {\n",
              "      background-color: #E2EBFA;\n",
              "      box-shadow: 0px 1px 2px rgba(60, 64, 67, 0.3), 0px 1px 3px 1px rgba(60, 64, 67, 0.15);\n",
              "      fill: #174EA6;\n",
              "    }\n",
              "\n",
              "    [theme=dark] .colab-df-convert {\n",
              "      background-color: #3B4455;\n",
              "      fill: #D2E3FC;\n",
              "    }\n",
              "\n",
              "    [theme=dark] .colab-df-convert:hover {\n",
              "      background-color: #434B5C;\n",
              "      box-shadow: 0px 1px 3px 1px rgba(0, 0, 0, 0.15);\n",
              "      filter: drop-shadow(0px 1px 2px rgba(0, 0, 0, 0.3));\n",
              "      fill: #FFFFFF;\n",
              "    }\n",
              "  </style>\n",
              "\n",
              "      <script>\n",
              "        const buttonEl =\n",
              "          document.querySelector('#df-13a69e4c-3196-4b06-b10a-f76e8c8c48a2 button.colab-df-convert');\n",
              "        buttonEl.style.display =\n",
              "          google.colab.kernel.accessAllowed ? 'block' : 'none';\n",
              "\n",
              "        async function convertToInteractive(key) {\n",
              "          const element = document.querySelector('#df-13a69e4c-3196-4b06-b10a-f76e8c8c48a2');\n",
              "          const dataTable =\n",
              "            await google.colab.kernel.invokeFunction('convertToInteractive',\n",
              "                                                     [key], {});\n",
              "          if (!dataTable) return;\n",
              "\n",
              "          const docLinkHtml = 'Like what you see? Visit the ' +\n",
              "            '<a target=\"_blank\" href=https://colab.research.google.com/notebooks/data_table.ipynb>data table notebook</a>'\n",
              "            + ' to learn more about interactive tables.';\n",
              "          element.innerHTML = '';\n",
              "          dataTable['output_type'] = 'display_data';\n",
              "          await google.colab.output.renderOutput(dataTable, element);\n",
              "          const docLink = document.createElement('div');\n",
              "          docLink.innerHTML = docLinkHtml;\n",
              "          element.appendChild(docLink);\n",
              "        }\n",
              "      </script>\n",
              "    </div>\n",
              "  </div>\n",
              "  "
            ]
          },
          "metadata": {},
          "execution_count": 19
        }
      ]
    },
    {
      "cell_type": "code",
      "source": [
        "df_LTV_01[df_LTV_01['invoice_no'] == '536865' ] # 비회원으로 추정, LTV 계산에서 활용 불가 "
      ],
      "metadata": {
        "colab": {
          "base_uri": "https://localhost:8080/",
          "height": 423
        },
        "id": "dn-djSJqo_RN",
        "outputId": "c7f05f51-a885-49f3-d1fd-2baea734991e"
      },
      "execution_count": 20,
      "outputs": [
        {
          "output_type": "execute_result",
          "data": {
            "text/plain": [
              "     invoice_no stock_code  quantity     invoice_date  unit_price  customer_id\n",
              "5546     536865      10002         5  12/3/2010 11:28        1.66          NaN\n",
              "5547     536865    15056bl         2  12/3/2010 11:28       12.72          NaN\n",
              "5548     536865     18098c         7  12/3/2010 11:28        5.06          NaN\n",
              "5549     536865      20615         1  12/3/2010 11:28        4.21          NaN\n",
              "5550     536865      20655         1  12/3/2010 11:28        2.51          NaN\n",
              "...         ...        ...       ...              ...         ...          ...\n",
              "5681     536865     85099B         1  12/3/2010 11:28        4.21          NaN\n",
              "5682     536865      85152         1  12/3/2010 11:28        4.21          NaN\n",
              "5683     536865      85176         1  12/3/2010 11:28        1.66          NaN\n",
              "5684     536865          M         1  12/3/2010 11:28        2.55          NaN\n",
              "5685     536865        DOT         1  12/3/2010 11:28      498.47          NaN\n",
              "\n",
              "[140 rows x 6 columns]"
            ],
            "text/html": [
              "\n",
              "  <div id=\"df-6e4df644-7e25-48cc-9e6b-9342a2b04017\">\n",
              "    <div class=\"colab-df-container\">\n",
              "      <div>\n",
              "<style scoped>\n",
              "    .dataframe tbody tr th:only-of-type {\n",
              "        vertical-align: middle;\n",
              "    }\n",
              "\n",
              "    .dataframe tbody tr th {\n",
              "        vertical-align: top;\n",
              "    }\n",
              "\n",
              "    .dataframe thead th {\n",
              "        text-align: right;\n",
              "    }\n",
              "</style>\n",
              "<table border=\"1\" class=\"dataframe\">\n",
              "  <thead>\n",
              "    <tr style=\"text-align: right;\">\n",
              "      <th></th>\n",
              "      <th>invoice_no</th>\n",
              "      <th>stock_code</th>\n",
              "      <th>quantity</th>\n",
              "      <th>invoice_date</th>\n",
              "      <th>unit_price</th>\n",
              "      <th>customer_id</th>\n",
              "    </tr>\n",
              "  </thead>\n",
              "  <tbody>\n",
              "    <tr>\n",
              "      <th>5546</th>\n",
              "      <td>536865</td>\n",
              "      <td>10002</td>\n",
              "      <td>5</td>\n",
              "      <td>12/3/2010 11:28</td>\n",
              "      <td>1.66</td>\n",
              "      <td>NaN</td>\n",
              "    </tr>\n",
              "    <tr>\n",
              "      <th>5547</th>\n",
              "      <td>536865</td>\n",
              "      <td>15056bl</td>\n",
              "      <td>2</td>\n",
              "      <td>12/3/2010 11:28</td>\n",
              "      <td>12.72</td>\n",
              "      <td>NaN</td>\n",
              "    </tr>\n",
              "    <tr>\n",
              "      <th>5548</th>\n",
              "      <td>536865</td>\n",
              "      <td>18098c</td>\n",
              "      <td>7</td>\n",
              "      <td>12/3/2010 11:28</td>\n",
              "      <td>5.06</td>\n",
              "      <td>NaN</td>\n",
              "    </tr>\n",
              "    <tr>\n",
              "      <th>5549</th>\n",
              "      <td>536865</td>\n",
              "      <td>20615</td>\n",
              "      <td>1</td>\n",
              "      <td>12/3/2010 11:28</td>\n",
              "      <td>4.21</td>\n",
              "      <td>NaN</td>\n",
              "    </tr>\n",
              "    <tr>\n",
              "      <th>5550</th>\n",
              "      <td>536865</td>\n",
              "      <td>20655</td>\n",
              "      <td>1</td>\n",
              "      <td>12/3/2010 11:28</td>\n",
              "      <td>2.51</td>\n",
              "      <td>NaN</td>\n",
              "    </tr>\n",
              "    <tr>\n",
              "      <th>...</th>\n",
              "      <td>...</td>\n",
              "      <td>...</td>\n",
              "      <td>...</td>\n",
              "      <td>...</td>\n",
              "      <td>...</td>\n",
              "      <td>...</td>\n",
              "    </tr>\n",
              "    <tr>\n",
              "      <th>5681</th>\n",
              "      <td>536865</td>\n",
              "      <td>85099B</td>\n",
              "      <td>1</td>\n",
              "      <td>12/3/2010 11:28</td>\n",
              "      <td>4.21</td>\n",
              "      <td>NaN</td>\n",
              "    </tr>\n",
              "    <tr>\n",
              "      <th>5682</th>\n",
              "      <td>536865</td>\n",
              "      <td>85152</td>\n",
              "      <td>1</td>\n",
              "      <td>12/3/2010 11:28</td>\n",
              "      <td>4.21</td>\n",
              "      <td>NaN</td>\n",
              "    </tr>\n",
              "    <tr>\n",
              "      <th>5683</th>\n",
              "      <td>536865</td>\n",
              "      <td>85176</td>\n",
              "      <td>1</td>\n",
              "      <td>12/3/2010 11:28</td>\n",
              "      <td>1.66</td>\n",
              "      <td>NaN</td>\n",
              "    </tr>\n",
              "    <tr>\n",
              "      <th>5684</th>\n",
              "      <td>536865</td>\n",
              "      <td>M</td>\n",
              "      <td>1</td>\n",
              "      <td>12/3/2010 11:28</td>\n",
              "      <td>2.55</td>\n",
              "      <td>NaN</td>\n",
              "    </tr>\n",
              "    <tr>\n",
              "      <th>5685</th>\n",
              "      <td>536865</td>\n",
              "      <td>DOT</td>\n",
              "      <td>1</td>\n",
              "      <td>12/3/2010 11:28</td>\n",
              "      <td>498.47</td>\n",
              "      <td>NaN</td>\n",
              "    </tr>\n",
              "  </tbody>\n",
              "</table>\n",
              "<p>140 rows × 6 columns</p>\n",
              "</div>\n",
              "      <button class=\"colab-df-convert\" onclick=\"convertToInteractive('df-6e4df644-7e25-48cc-9e6b-9342a2b04017')\"\n",
              "              title=\"Convert this dataframe to an interactive table.\"\n",
              "              style=\"display:none;\">\n",
              "        \n",
              "  <svg xmlns=\"http://www.w3.org/2000/svg\" height=\"24px\"viewBox=\"0 0 24 24\"\n",
              "       width=\"24px\">\n",
              "    <path d=\"M0 0h24v24H0V0z\" fill=\"none\"/>\n",
              "    <path d=\"M18.56 5.44l.94 2.06.94-2.06 2.06-.94-2.06-.94-.94-2.06-.94 2.06-2.06.94zm-11 1L8.5 8.5l.94-2.06 2.06-.94-2.06-.94L8.5 2.5l-.94 2.06-2.06.94zm10 10l.94 2.06.94-2.06 2.06-.94-2.06-.94-.94-2.06-.94 2.06-2.06.94z\"/><path d=\"M17.41 7.96l-1.37-1.37c-.4-.4-.92-.59-1.43-.59-.52 0-1.04.2-1.43.59L10.3 9.45l-7.72 7.72c-.78.78-.78 2.05 0 2.83L4 21.41c.39.39.9.59 1.41.59.51 0 1.02-.2 1.41-.59l7.78-7.78 2.81-2.81c.8-.78.8-2.07 0-2.86zM5.41 20L4 18.59l7.72-7.72 1.47 1.35L5.41 20z\"/>\n",
              "  </svg>\n",
              "      </button>\n",
              "      \n",
              "  <style>\n",
              "    .colab-df-container {\n",
              "      display:flex;\n",
              "      flex-wrap:wrap;\n",
              "      gap: 12px;\n",
              "    }\n",
              "\n",
              "    .colab-df-convert {\n",
              "      background-color: #E8F0FE;\n",
              "      border: none;\n",
              "      border-radius: 50%;\n",
              "      cursor: pointer;\n",
              "      display: none;\n",
              "      fill: #1967D2;\n",
              "      height: 32px;\n",
              "      padding: 0 0 0 0;\n",
              "      width: 32px;\n",
              "    }\n",
              "\n",
              "    .colab-df-convert:hover {\n",
              "      background-color: #E2EBFA;\n",
              "      box-shadow: 0px 1px 2px rgba(60, 64, 67, 0.3), 0px 1px 3px 1px rgba(60, 64, 67, 0.15);\n",
              "      fill: #174EA6;\n",
              "    }\n",
              "\n",
              "    [theme=dark] .colab-df-convert {\n",
              "      background-color: #3B4455;\n",
              "      fill: #D2E3FC;\n",
              "    }\n",
              "\n",
              "    [theme=dark] .colab-df-convert:hover {\n",
              "      background-color: #434B5C;\n",
              "      box-shadow: 0px 1px 3px 1px rgba(0, 0, 0, 0.15);\n",
              "      filter: drop-shadow(0px 1px 2px rgba(0, 0, 0, 0.3));\n",
              "      fill: #FFFFFF;\n",
              "    }\n",
              "  </style>\n",
              "\n",
              "      <script>\n",
              "        const buttonEl =\n",
              "          document.querySelector('#df-6e4df644-7e25-48cc-9e6b-9342a2b04017 button.colab-df-convert');\n",
              "        buttonEl.style.display =\n",
              "          google.colab.kernel.accessAllowed ? 'block' : 'none';\n",
              "\n",
              "        async function convertToInteractive(key) {\n",
              "          const element = document.querySelector('#df-6e4df644-7e25-48cc-9e6b-9342a2b04017');\n",
              "          const dataTable =\n",
              "            await google.colab.kernel.invokeFunction('convertToInteractive',\n",
              "                                                     [key], {});\n",
              "          if (!dataTable) return;\n",
              "\n",
              "          const docLinkHtml = 'Like what you see? Visit the ' +\n",
              "            '<a target=\"_blank\" href=https://colab.research.google.com/notebooks/data_table.ipynb>data table notebook</a>'\n",
              "            + ' to learn more about interactive tables.';\n",
              "          element.innerHTML = '';\n",
              "          dataTable['output_type'] = 'display_data';\n",
              "          await google.colab.output.renderOutput(dataTable, element);\n",
              "          const docLink = document.createElement('div');\n",
              "          docLink.innerHTML = docLinkHtml;\n",
              "          element.appendChild(docLink);\n",
              "        }\n",
              "      </script>\n",
              "    </div>\n",
              "  </div>\n",
              "  "
            ]
          },
          "metadata": {},
          "execution_count": 20
        }
      ]
    },
    {
      "cell_type": "code",
      "source": [
        "df_LTV_01['customer_id'] = df_LTV_01['customer_id'].fillna(0)"
      ],
      "metadata": {
        "id": "8tOncEeMpiHM"
      },
      "execution_count": 21,
      "outputs": []
    },
    {
      "cell_type": "code",
      "source": [
        "df_LTV_01['customer_id'].isna().sum() # customer_id"
      ],
      "metadata": {
        "colab": {
          "base_uri": "https://localhost:8080/"
        },
        "id": "FFB05nArrGya",
        "outputId": "27cfaa3e-17a0-45ac-cafc-38b6c9237c4e"
      },
      "execution_count": 22,
      "outputs": [
        {
          "output_type": "execute_result",
          "data": {
            "text/plain": [
              "0"
            ]
          },
          "metadata": {},
          "execution_count": 22
        }
      ]
    },
    {
      "cell_type": "code",
      "source": [
        "%%time \n",
        "df_LTV_01 = df_LTV_01.astype({'customer_id' : 'int'}) # float 였으므로 .0 없애기 위해 먼저 int로 변환 \n",
        "df_LTV_01 = df_LTV_01.astype({'customer_id' : 'str'})"
      ],
      "metadata": {
        "colab": {
          "base_uri": "https://localhost:8080/"
        },
        "id": "AMLx6x7KmI0k",
        "outputId": "c8bf03c1-2173-4f83-d2c0-ab20ab4b70ac"
      },
      "execution_count": 23,
      "outputs": [
        {
          "output_type": "stream",
          "name": "stdout",
          "text": [
            "CPU times: user 207 ms, sys: 48.3 ms, total: 255 ms\n",
            "Wall time: 267 ms\n"
          ]
        }
      ]
    },
    {
      "cell_type": "code",
      "source": [
        "## invoice_no, stock_code도 type str로 변경 \n",
        "df_LTV_01 = df_LTV_01.astype({'invoice_no' : 'str'})\n",
        "df_LTV_01 = df_LTV_01.astype({'stock_code' : 'str'})"
      ],
      "metadata": {
        "id": "LXLfr5tSjEF9"
      },
      "execution_count": 24,
      "outputs": []
    },
    {
      "cell_type": "code",
      "source": [
        "df_LTV_01.info()"
      ],
      "metadata": {
        "colab": {
          "base_uri": "https://localhost:8080/"
        },
        "id": "oOb2IQ5Andim",
        "outputId": "ae378aea-d401-4baf-833f-5ed15f64cfe3"
      },
      "execution_count": 25,
      "outputs": [
        {
          "output_type": "stream",
          "name": "stdout",
          "text": [
            "<class 'pandas.core.frame.DataFrame'>\n",
            "RangeIndex: 541909 entries, 0 to 541908\n",
            "Data columns (total 6 columns):\n",
            " #   Column        Non-Null Count   Dtype  \n",
            "---  ------        --------------   -----  \n",
            " 0   invoice_no    541909 non-null  object \n",
            " 1   stock_code    541909 non-null  object \n",
            " 2   quantity      541909 non-null  int64  \n",
            " 3   invoice_date  541909 non-null  object \n",
            " 4   unit_price    541909 non-null  float64\n",
            " 5   customer_id   541909 non-null  object \n",
            "dtypes: float64(1), int64(1), object(4)\n",
            "memory usage: 24.8+ MB\n"
          ]
        }
      ]
    },
    {
      "cell_type": "markdown",
      "source": [
        "## 1.3 invoice_date\n",
        "- 현재 type: object -> datetime으로 변경 "
      ],
      "metadata": {
        "id": "sGr3iLrfu4wm"
      }
    },
    {
      "cell_type": "code",
      "source": [
        "df_LTV_01.sample(10)"
      ],
      "metadata": {
        "colab": {
          "base_uri": "https://localhost:8080/",
          "height": 362
        },
        "id": "OUbnOvF_vkrU",
        "outputId": "7eb7973a-d2de-45f2-b5fd-cc08d1320167"
      },
      "execution_count": 26,
      "outputs": [
        {
          "output_type": "execute_result",
          "data": {
            "text/plain": [
              "       invoice_no stock_code  quantity      invoice_date  unit_price  \\\n",
              "326363     565519     85114B        12    9/5/2011 11:52        1.65   \n",
              "175875     551992      82482        36    5/5/2011 15:31        2.10   \n",
              "249635     558904      23200         7    7/4/2011 16:18        2.08   \n",
              "455508     575624      23245         4  11/10/2011 13:18        4.95   \n",
              "66852      541827      21847         2   1/21/2011 17:05        1.63   \n",
              "499078     578620      21787         1  11/24/2011 15:21        0.85   \n",
              "366697     568788      23415         2    9/29/2011 9:23        1.65   \n",
              "313096     564436      23298         1   8/25/2011 12:06        4.95   \n",
              "372295     569236     85032B         2   10/2/2011 15:49        0.65   \n",
              "127575     547238      22457         1   3/21/2011 16:31        2.95   \n",
              "\n",
              "       customer_id  \n",
              "326363       12502  \n",
              "175875       12747  \n",
              "249635           0  \n",
              "455508       18217  \n",
              "66852            0  \n",
              "499078       17247  \n",
              "366697       17894  \n",
              "313096       17841  \n",
              "372295       14432  \n",
              "127575           0  "
            ],
            "text/html": [
              "\n",
              "  <div id=\"df-8fd783b8-61f0-44d8-a19d-10de3e994f64\">\n",
              "    <div class=\"colab-df-container\">\n",
              "      <div>\n",
              "<style scoped>\n",
              "    .dataframe tbody tr th:only-of-type {\n",
              "        vertical-align: middle;\n",
              "    }\n",
              "\n",
              "    .dataframe tbody tr th {\n",
              "        vertical-align: top;\n",
              "    }\n",
              "\n",
              "    .dataframe thead th {\n",
              "        text-align: right;\n",
              "    }\n",
              "</style>\n",
              "<table border=\"1\" class=\"dataframe\">\n",
              "  <thead>\n",
              "    <tr style=\"text-align: right;\">\n",
              "      <th></th>\n",
              "      <th>invoice_no</th>\n",
              "      <th>stock_code</th>\n",
              "      <th>quantity</th>\n",
              "      <th>invoice_date</th>\n",
              "      <th>unit_price</th>\n",
              "      <th>customer_id</th>\n",
              "    </tr>\n",
              "  </thead>\n",
              "  <tbody>\n",
              "    <tr>\n",
              "      <th>326363</th>\n",
              "      <td>565519</td>\n",
              "      <td>85114B</td>\n",
              "      <td>12</td>\n",
              "      <td>9/5/2011 11:52</td>\n",
              "      <td>1.65</td>\n",
              "      <td>12502</td>\n",
              "    </tr>\n",
              "    <tr>\n",
              "      <th>175875</th>\n",
              "      <td>551992</td>\n",
              "      <td>82482</td>\n",
              "      <td>36</td>\n",
              "      <td>5/5/2011 15:31</td>\n",
              "      <td>2.10</td>\n",
              "      <td>12747</td>\n",
              "    </tr>\n",
              "    <tr>\n",
              "      <th>249635</th>\n",
              "      <td>558904</td>\n",
              "      <td>23200</td>\n",
              "      <td>7</td>\n",
              "      <td>7/4/2011 16:18</td>\n",
              "      <td>2.08</td>\n",
              "      <td>0</td>\n",
              "    </tr>\n",
              "    <tr>\n",
              "      <th>455508</th>\n",
              "      <td>575624</td>\n",
              "      <td>23245</td>\n",
              "      <td>4</td>\n",
              "      <td>11/10/2011 13:18</td>\n",
              "      <td>4.95</td>\n",
              "      <td>18217</td>\n",
              "    </tr>\n",
              "    <tr>\n",
              "      <th>66852</th>\n",
              "      <td>541827</td>\n",
              "      <td>21847</td>\n",
              "      <td>2</td>\n",
              "      <td>1/21/2011 17:05</td>\n",
              "      <td>1.63</td>\n",
              "      <td>0</td>\n",
              "    </tr>\n",
              "    <tr>\n",
              "      <th>499078</th>\n",
              "      <td>578620</td>\n",
              "      <td>21787</td>\n",
              "      <td>1</td>\n",
              "      <td>11/24/2011 15:21</td>\n",
              "      <td>0.85</td>\n",
              "      <td>17247</td>\n",
              "    </tr>\n",
              "    <tr>\n",
              "      <th>366697</th>\n",
              "      <td>568788</td>\n",
              "      <td>23415</td>\n",
              "      <td>2</td>\n",
              "      <td>9/29/2011 9:23</td>\n",
              "      <td>1.65</td>\n",
              "      <td>17894</td>\n",
              "    </tr>\n",
              "    <tr>\n",
              "      <th>313096</th>\n",
              "      <td>564436</td>\n",
              "      <td>23298</td>\n",
              "      <td>1</td>\n",
              "      <td>8/25/2011 12:06</td>\n",
              "      <td>4.95</td>\n",
              "      <td>17841</td>\n",
              "    </tr>\n",
              "    <tr>\n",
              "      <th>372295</th>\n",
              "      <td>569236</td>\n",
              "      <td>85032B</td>\n",
              "      <td>2</td>\n",
              "      <td>10/2/2011 15:49</td>\n",
              "      <td>0.65</td>\n",
              "      <td>14432</td>\n",
              "    </tr>\n",
              "    <tr>\n",
              "      <th>127575</th>\n",
              "      <td>547238</td>\n",
              "      <td>22457</td>\n",
              "      <td>1</td>\n",
              "      <td>3/21/2011 16:31</td>\n",
              "      <td>2.95</td>\n",
              "      <td>0</td>\n",
              "    </tr>\n",
              "  </tbody>\n",
              "</table>\n",
              "</div>\n",
              "      <button class=\"colab-df-convert\" onclick=\"convertToInteractive('df-8fd783b8-61f0-44d8-a19d-10de3e994f64')\"\n",
              "              title=\"Convert this dataframe to an interactive table.\"\n",
              "              style=\"display:none;\">\n",
              "        \n",
              "  <svg xmlns=\"http://www.w3.org/2000/svg\" height=\"24px\"viewBox=\"0 0 24 24\"\n",
              "       width=\"24px\">\n",
              "    <path d=\"M0 0h24v24H0V0z\" fill=\"none\"/>\n",
              "    <path d=\"M18.56 5.44l.94 2.06.94-2.06 2.06-.94-2.06-.94-.94-2.06-.94 2.06-2.06.94zm-11 1L8.5 8.5l.94-2.06 2.06-.94-2.06-.94L8.5 2.5l-.94 2.06-2.06.94zm10 10l.94 2.06.94-2.06 2.06-.94-2.06-.94-.94-2.06-.94 2.06-2.06.94z\"/><path d=\"M17.41 7.96l-1.37-1.37c-.4-.4-.92-.59-1.43-.59-.52 0-1.04.2-1.43.59L10.3 9.45l-7.72 7.72c-.78.78-.78 2.05 0 2.83L4 21.41c.39.39.9.59 1.41.59.51 0 1.02-.2 1.41-.59l7.78-7.78 2.81-2.81c.8-.78.8-2.07 0-2.86zM5.41 20L4 18.59l7.72-7.72 1.47 1.35L5.41 20z\"/>\n",
              "  </svg>\n",
              "      </button>\n",
              "      \n",
              "  <style>\n",
              "    .colab-df-container {\n",
              "      display:flex;\n",
              "      flex-wrap:wrap;\n",
              "      gap: 12px;\n",
              "    }\n",
              "\n",
              "    .colab-df-convert {\n",
              "      background-color: #E8F0FE;\n",
              "      border: none;\n",
              "      border-radius: 50%;\n",
              "      cursor: pointer;\n",
              "      display: none;\n",
              "      fill: #1967D2;\n",
              "      height: 32px;\n",
              "      padding: 0 0 0 0;\n",
              "      width: 32px;\n",
              "    }\n",
              "\n",
              "    .colab-df-convert:hover {\n",
              "      background-color: #E2EBFA;\n",
              "      box-shadow: 0px 1px 2px rgba(60, 64, 67, 0.3), 0px 1px 3px 1px rgba(60, 64, 67, 0.15);\n",
              "      fill: #174EA6;\n",
              "    }\n",
              "\n",
              "    [theme=dark] .colab-df-convert {\n",
              "      background-color: #3B4455;\n",
              "      fill: #D2E3FC;\n",
              "    }\n",
              "\n",
              "    [theme=dark] .colab-df-convert:hover {\n",
              "      background-color: #434B5C;\n",
              "      box-shadow: 0px 1px 3px 1px rgba(0, 0, 0, 0.15);\n",
              "      filter: drop-shadow(0px 1px 2px rgba(0, 0, 0, 0.3));\n",
              "      fill: #FFFFFF;\n",
              "    }\n",
              "  </style>\n",
              "\n",
              "      <script>\n",
              "        const buttonEl =\n",
              "          document.querySelector('#df-8fd783b8-61f0-44d8-a19d-10de3e994f64 button.colab-df-convert');\n",
              "        buttonEl.style.display =\n",
              "          google.colab.kernel.accessAllowed ? 'block' : 'none';\n",
              "\n",
              "        async function convertToInteractive(key) {\n",
              "          const element = document.querySelector('#df-8fd783b8-61f0-44d8-a19d-10de3e994f64');\n",
              "          const dataTable =\n",
              "            await google.colab.kernel.invokeFunction('convertToInteractive',\n",
              "                                                     [key], {});\n",
              "          if (!dataTable) return;\n",
              "\n",
              "          const docLinkHtml = 'Like what you see? Visit the ' +\n",
              "            '<a target=\"_blank\" href=https://colab.research.google.com/notebooks/data_table.ipynb>data table notebook</a>'\n",
              "            + ' to learn more about interactive tables.';\n",
              "          element.innerHTML = '';\n",
              "          dataTable['output_type'] = 'display_data';\n",
              "          await google.colab.output.renderOutput(dataTable, element);\n",
              "          const docLink = document.createElement('div');\n",
              "          docLink.innerHTML = docLinkHtml;\n",
              "          element.appendChild(docLink);\n",
              "        }\n",
              "      </script>\n",
              "    </div>\n",
              "  </div>\n",
              "  "
            ]
          },
          "metadata": {},
          "execution_count": 26
        }
      ]
    },
    {
      "cell_type": "code",
      "source": [
        "df_LTV_01['invoice_datetime'] = pd.to_datetime(df_LTV_01['invoice_date'], format = '%m/%d/%Y %H:%M')\n",
        "\n",
        "df_LTV_01['invoice_date'] = df_LTV_01['invoice_datetime'].dt.date\n",
        "df_LTV_01['invoice_date'] = pd.to_datetime(df_LTV_01['invoice_date'], format = '%Y-%m-%d')\n"
      ],
      "metadata": {
        "id": "H8CshCcpu45n"
      },
      "execution_count": 27,
      "outputs": []
    },
    {
      "cell_type": "code",
      "source": [
        "df_LTV_01.info()"
      ],
      "metadata": {
        "colab": {
          "base_uri": "https://localhost:8080/"
        },
        "id": "M48HsH5Zu48v",
        "outputId": "5b3f3f58-5aa7-466c-985a-ea7c19ca9218"
      },
      "execution_count": 28,
      "outputs": [
        {
          "output_type": "stream",
          "name": "stdout",
          "text": [
            "<class 'pandas.core.frame.DataFrame'>\n",
            "RangeIndex: 541909 entries, 0 to 541908\n",
            "Data columns (total 7 columns):\n",
            " #   Column            Non-Null Count   Dtype         \n",
            "---  ------            --------------   -----         \n",
            " 0   invoice_no        541909 non-null  object        \n",
            " 1   stock_code        541909 non-null  object        \n",
            " 2   quantity          541909 non-null  int64         \n",
            " 3   invoice_date      541909 non-null  datetime64[ns]\n",
            " 4   unit_price        541909 non-null  float64       \n",
            " 5   customer_id       541909 non-null  object        \n",
            " 6   invoice_datetime  541909 non-null  datetime64[ns]\n",
            "dtypes: datetime64[ns](2), float64(1), int64(1), object(3)\n",
            "memory usage: 28.9+ MB\n"
          ]
        }
      ]
    },
    {
      "cell_type": "code",
      "source": [
        "# date관련 데이터 추가하기: 월 정보\n",
        "# df_LTV_01['invoice_year'] = df_LTV_01['invoice_datetime'].dt.year\n",
        "# df_LTV_01['invoice_month'] = df_LTV_01['invoice_datetime'].dt.month\n",
        "# df_LTV_01['invoice_day'] = df_LTV_01['invoice_datetime'].dt.day\n",
        "\n",
        "# df_LTV_01 = df_LTV_01.astype({'invoice_year' : 'int'}) \n",
        "# df_LTV_01 = df_LTV_01.astype({'invoice_month' : 'int'}) \n",
        "# df_LTV_01 = df_LTV_01.astype({'invoice_day' : 'int'}) \n",
        "\n",
        "## 최종 모델에서 활용하지 않았음 \n",
        "\n",
        "df_LTV_01.head()"
      ],
      "metadata": {
        "colab": {
          "base_uri": "https://localhost:8080/",
          "height": 206
        },
        "id": "zFGd5PTEw5Xy",
        "outputId": "ab887086-af6c-47a0-851d-c5f5cfc3de32"
      },
      "execution_count": 29,
      "outputs": [
        {
          "output_type": "execute_result",
          "data": {
            "text/plain": [
              "  invoice_no stock_code  quantity invoice_date  unit_price customer_id  \\\n",
              "0     536365     85123A         6   2010-12-01        2.55       17850   \n",
              "1     536365      71053         6   2010-12-01        3.39       17850   \n",
              "2     536365     84406B         8   2010-12-01        2.75       17850   \n",
              "3     536365     84029G         6   2010-12-01        3.39       17850   \n",
              "4     536365     84029E         6   2010-12-01        3.39       17850   \n",
              "\n",
              "     invoice_datetime  \n",
              "0 2010-12-01 08:26:00  \n",
              "1 2010-12-01 08:26:00  \n",
              "2 2010-12-01 08:26:00  \n",
              "3 2010-12-01 08:26:00  \n",
              "4 2010-12-01 08:26:00  "
            ],
            "text/html": [
              "\n",
              "  <div id=\"df-81f9f233-7646-4212-9180-f5279899297c\">\n",
              "    <div class=\"colab-df-container\">\n",
              "      <div>\n",
              "<style scoped>\n",
              "    .dataframe tbody tr th:only-of-type {\n",
              "        vertical-align: middle;\n",
              "    }\n",
              "\n",
              "    .dataframe tbody tr th {\n",
              "        vertical-align: top;\n",
              "    }\n",
              "\n",
              "    .dataframe thead th {\n",
              "        text-align: right;\n",
              "    }\n",
              "</style>\n",
              "<table border=\"1\" class=\"dataframe\">\n",
              "  <thead>\n",
              "    <tr style=\"text-align: right;\">\n",
              "      <th></th>\n",
              "      <th>invoice_no</th>\n",
              "      <th>stock_code</th>\n",
              "      <th>quantity</th>\n",
              "      <th>invoice_date</th>\n",
              "      <th>unit_price</th>\n",
              "      <th>customer_id</th>\n",
              "      <th>invoice_datetime</th>\n",
              "    </tr>\n",
              "  </thead>\n",
              "  <tbody>\n",
              "    <tr>\n",
              "      <th>0</th>\n",
              "      <td>536365</td>\n",
              "      <td>85123A</td>\n",
              "      <td>6</td>\n",
              "      <td>2010-12-01</td>\n",
              "      <td>2.55</td>\n",
              "      <td>17850</td>\n",
              "      <td>2010-12-01 08:26:00</td>\n",
              "    </tr>\n",
              "    <tr>\n",
              "      <th>1</th>\n",
              "      <td>536365</td>\n",
              "      <td>71053</td>\n",
              "      <td>6</td>\n",
              "      <td>2010-12-01</td>\n",
              "      <td>3.39</td>\n",
              "      <td>17850</td>\n",
              "      <td>2010-12-01 08:26:00</td>\n",
              "    </tr>\n",
              "    <tr>\n",
              "      <th>2</th>\n",
              "      <td>536365</td>\n",
              "      <td>84406B</td>\n",
              "      <td>8</td>\n",
              "      <td>2010-12-01</td>\n",
              "      <td>2.75</td>\n",
              "      <td>17850</td>\n",
              "      <td>2010-12-01 08:26:00</td>\n",
              "    </tr>\n",
              "    <tr>\n",
              "      <th>3</th>\n",
              "      <td>536365</td>\n",
              "      <td>84029G</td>\n",
              "      <td>6</td>\n",
              "      <td>2010-12-01</td>\n",
              "      <td>3.39</td>\n",
              "      <td>17850</td>\n",
              "      <td>2010-12-01 08:26:00</td>\n",
              "    </tr>\n",
              "    <tr>\n",
              "      <th>4</th>\n",
              "      <td>536365</td>\n",
              "      <td>84029E</td>\n",
              "      <td>6</td>\n",
              "      <td>2010-12-01</td>\n",
              "      <td>3.39</td>\n",
              "      <td>17850</td>\n",
              "      <td>2010-12-01 08:26:00</td>\n",
              "    </tr>\n",
              "  </tbody>\n",
              "</table>\n",
              "</div>\n",
              "      <button class=\"colab-df-convert\" onclick=\"convertToInteractive('df-81f9f233-7646-4212-9180-f5279899297c')\"\n",
              "              title=\"Convert this dataframe to an interactive table.\"\n",
              "              style=\"display:none;\">\n",
              "        \n",
              "  <svg xmlns=\"http://www.w3.org/2000/svg\" height=\"24px\"viewBox=\"0 0 24 24\"\n",
              "       width=\"24px\">\n",
              "    <path d=\"M0 0h24v24H0V0z\" fill=\"none\"/>\n",
              "    <path d=\"M18.56 5.44l.94 2.06.94-2.06 2.06-.94-2.06-.94-.94-2.06-.94 2.06-2.06.94zm-11 1L8.5 8.5l.94-2.06 2.06-.94-2.06-.94L8.5 2.5l-.94 2.06-2.06.94zm10 10l.94 2.06.94-2.06 2.06-.94-2.06-.94-.94-2.06-.94 2.06-2.06.94z\"/><path d=\"M17.41 7.96l-1.37-1.37c-.4-.4-.92-.59-1.43-.59-.52 0-1.04.2-1.43.59L10.3 9.45l-7.72 7.72c-.78.78-.78 2.05 0 2.83L4 21.41c.39.39.9.59 1.41.59.51 0 1.02-.2 1.41-.59l7.78-7.78 2.81-2.81c.8-.78.8-2.07 0-2.86zM5.41 20L4 18.59l7.72-7.72 1.47 1.35L5.41 20z\"/>\n",
              "  </svg>\n",
              "      </button>\n",
              "      \n",
              "  <style>\n",
              "    .colab-df-container {\n",
              "      display:flex;\n",
              "      flex-wrap:wrap;\n",
              "      gap: 12px;\n",
              "    }\n",
              "\n",
              "    .colab-df-convert {\n",
              "      background-color: #E8F0FE;\n",
              "      border: none;\n",
              "      border-radius: 50%;\n",
              "      cursor: pointer;\n",
              "      display: none;\n",
              "      fill: #1967D2;\n",
              "      height: 32px;\n",
              "      padding: 0 0 0 0;\n",
              "      width: 32px;\n",
              "    }\n",
              "\n",
              "    .colab-df-convert:hover {\n",
              "      background-color: #E2EBFA;\n",
              "      box-shadow: 0px 1px 2px rgba(60, 64, 67, 0.3), 0px 1px 3px 1px rgba(60, 64, 67, 0.15);\n",
              "      fill: #174EA6;\n",
              "    }\n",
              "\n",
              "    [theme=dark] .colab-df-convert {\n",
              "      background-color: #3B4455;\n",
              "      fill: #D2E3FC;\n",
              "    }\n",
              "\n",
              "    [theme=dark] .colab-df-convert:hover {\n",
              "      background-color: #434B5C;\n",
              "      box-shadow: 0px 1px 3px 1px rgba(0, 0, 0, 0.15);\n",
              "      filter: drop-shadow(0px 1px 2px rgba(0, 0, 0, 0.3));\n",
              "      fill: #FFFFFF;\n",
              "    }\n",
              "  </style>\n",
              "\n",
              "      <script>\n",
              "        const buttonEl =\n",
              "          document.querySelector('#df-81f9f233-7646-4212-9180-f5279899297c button.colab-df-convert');\n",
              "        buttonEl.style.display =\n",
              "          google.colab.kernel.accessAllowed ? 'block' : 'none';\n",
              "\n",
              "        async function convertToInteractive(key) {\n",
              "          const element = document.querySelector('#df-81f9f233-7646-4212-9180-f5279899297c');\n",
              "          const dataTable =\n",
              "            await google.colab.kernel.invokeFunction('convertToInteractive',\n",
              "                                                     [key], {});\n",
              "          if (!dataTable) return;\n",
              "\n",
              "          const docLinkHtml = 'Like what you see? Visit the ' +\n",
              "            '<a target=\"_blank\" href=https://colab.research.google.com/notebooks/data_table.ipynb>data table notebook</a>'\n",
              "            + ' to learn more about interactive tables.';\n",
              "          element.innerHTML = '';\n",
              "          dataTable['output_type'] = 'display_data';\n",
              "          await google.colab.output.renderOutput(dataTable, element);\n",
              "          const docLink = document.createElement('div');\n",
              "          docLink.innerHTML = docLinkHtml;\n",
              "          element.appendChild(docLink);\n",
              "        }\n",
              "      </script>\n",
              "    </div>\n",
              "  </div>\n",
              "  "
            ]
          },
          "metadata": {},
          "execution_count": 29
        }
      ]
    },
    {
      "cell_type": "markdown",
      "source": [
        "#_2. 파악을 위한 시각화 \n",
        "\n",
        "**[ 변수 정보 ]**\n",
        "*   InvoiceNo: Invoice number that consists 6 digits. If this code starts with letter 'c', it indicates a cancellation.\n",
        "*   StockCode: Product code that consists 5 digits.\n",
        "*   Description: Product name.\n",
        "*   Quantity: The quantities of each product per transaction.\n",
        "*   InvoiceDate: Represents the day and time when each transaction was generated.\n",
        "*   CustomerID: Customer number that consists 5 digits. Each customer has a unique customer ID.\n",
        "*   Country: Name of the country where each customer resides.\n"
      ],
      "metadata": {
        "id": "WYxHUCGujLla"
      }
    },
    {
      "cell_type": "code",
      "source": [
        "# 시각화 라이브러리 \n",
        "import plotly.graph_objs as go\n",
        "from plotly.offline import iplot"
      ],
      "metadata": {
        "id": "yx6VA1T70jbR"
      },
      "execution_count": 30,
      "outputs": []
    },
    {
      "cell_type": "code",
      "source": [
        "world_map = df_base[['customer_id', 'invoice_no', 'country']\n",
        "              ].groupby(['customer_id', 'invoice_no', 'country']\n",
        "                       ).count().reset_index()\n",
        "\n",
        "countries = world_map['country'].value_counts()\n",
        "\n",
        "data = dict(type='choropleth',\n",
        "            locations = countries.index,\n",
        "            locationmode = 'country names',\n",
        "            z = countries,\n",
        "            text = countries.index,\n",
        "            colorbar = {'title':'Orders'},\n",
        "            colorscale='Viridis',\n",
        "            reversescale = False)\n",
        "\n",
        "layout = dict(title={'text': \"Number of Orders by Countries\",\n",
        "                     'y':0.9,\n",
        "                     'x':0.5,\n",
        "                     'xanchor': 'center',\n",
        "                     'yanchor': 'top'},\n",
        "              geo = dict(resolution = 50,\n",
        "                         showocean = True,\n",
        "                         oceancolor = \"LightBlue\",\n",
        "                         showland = True,\n",
        "                         landcolor = \"whitesmoke\",\n",
        "                         showframe = True),\n",
        "             template = 'plotly_white',\n",
        "             height = 600,\n",
        "             width = 1000)\n",
        "\n",
        "choromap = go.Figure(data = [data], layout = layout)\n",
        "iplot(choromap, validate = False)"
      ],
      "metadata": {
        "id": "FflifDvRjae-",
        "colab": {
          "base_uri": "https://localhost:8080/",
          "height": 617
        },
        "outputId": "d9d2e5ca-7047-4c92-db99-9d533e00bb16"
      },
      "execution_count": 31,
      "outputs": [
        {
          "output_type": "display_data",
          "data": {
            "text/html": [
              "<html>\n",
              "<head><meta charset=\"utf-8\" /></head>\n",
              "<body>\n",
              "    <div>            <script src=\"https://cdnjs.cloudflare.com/ajax/libs/mathjax/2.7.5/MathJax.js?config=TeX-AMS-MML_SVG\"></script><script type=\"text/javascript\">if (window.MathJax && window.MathJax.Hub && window.MathJax.Hub.Config) {window.MathJax.Hub.Config({SVG: {font: \"STIX-Web\"}});}</script>                <script type=\"text/javascript\">window.PlotlyConfig = {MathJaxConfig: 'local'};</script>\n",
              "        <script src=\"https://cdn.plot.ly/plotly-2.18.2.min.js\"></script>                <div id=\"77551dee-daf2-415d-8f35-4143201dcddf\" class=\"plotly-graph-div\" style=\"height:600px; width:1000px;\"></div>            <script type=\"text/javascript\">                                    window.PLOTLYENV=window.PLOTLYENV || {};                                    if (document.getElementById(\"77551dee-daf2-415d-8f35-4143201dcddf\")) {                    Plotly.newPlot(                        \"77551dee-daf2-415d-8f35-4143201dcddf\",                        [{\"colorbar\":{\"title\":{\"text\":\"Orders\"}},\"colorscale\":[[0.0,\"#440154\"],[0.1111111111111111,\"#482878\"],[0.2222222222222222,\"#3e4989\"],[0.3333333333333333,\"#31688e\"],[0.4444444444444444,\"#26828e\"],[0.5555555555555556,\"#1f9e89\"],[0.6666666666666666,\"#35b779\"],[0.7777777777777778,\"#6ece58\"],[0.8888888888888888,\"#b5de2b\"],[1.0,\"#fde725\"]],\"locationmode\":\"country names\",\"locations\":[\"United Kingdom\",\"Germany\",\"France\",\"EIRE\",\"Belgium\",\"Spain\",\"Netherlands\",\"Switzerland\",\"Portugal\",\"Australia\",\"Italy\",\"Finland\",\"Sweden\",\"Norway\",\"Channel Islands\",\"Japan\",\"Poland\",\"Denmark\",\"Cyprus\",\"Austria\",\"Singapore\",\"Malta\",\"Unspecified\",\"USA\",\"Iceland\",\"Israel\",\"Canada\",\"Greece\",\"Czech Republic\",\"European Community\",\"Lithuania\",\"United Arab Emirates\",\"Saudi Arabia\",\"Bahrain\",\"RSA\",\"Lebanon\",\"Brazil\"],\"reversescale\":false,\"text\":[\"United Kingdom\",\"Germany\",\"France\",\"EIRE\",\"Belgium\",\"Spain\",\"Netherlands\",\"Switzerland\",\"Portugal\",\"Australia\",\"Italy\",\"Finland\",\"Sweden\",\"Norway\",\"Channel Islands\",\"Japan\",\"Poland\",\"Denmark\",\"Cyprus\",\"Austria\",\"Singapore\",\"Malta\",\"Unspecified\",\"USA\",\"Iceland\",\"Israel\",\"Canada\",\"Greece\",\"Czech Republic\",\"European Community\",\"Lithuania\",\"United Arab Emirates\",\"Saudi Arabia\",\"Bahrain\",\"RSA\",\"Lebanon\",\"Brazil\"],\"z\":[19857,603,458,319,119,105,101,71,70,69,55,48,46,40,33,28,24,21,20,19,10,10,8,7,7,6,6,6,5,5,4,3,2,2,1,1,1],\"type\":\"choropleth\"}],                        {\"geo\":{\"landcolor\":\"whitesmoke\",\"oceancolor\":\"LightBlue\",\"resolution\":50,\"showframe\":true,\"showland\":true,\"showocean\":true},\"height\":600,\"template\":{\"data\":{\"barpolar\":[{\"marker\":{\"line\":{\"color\":\"white\",\"width\":0.5},\"pattern\":{\"fillmode\":\"overlay\",\"size\":10,\"solidity\":0.2}},\"type\":\"barpolar\"}],\"bar\":[{\"error_x\":{\"color\":\"#2a3f5f\"},\"error_y\":{\"color\":\"#2a3f5f\"},\"marker\":{\"line\":{\"color\":\"white\",\"width\":0.5},\"pattern\":{\"fillmode\":\"overlay\",\"size\":10,\"solidity\":0.2}},\"type\":\"bar\"}],\"carpet\":[{\"aaxis\":{\"endlinecolor\":\"#2a3f5f\",\"gridcolor\":\"#C8D4E3\",\"linecolor\":\"#C8D4E3\",\"minorgridcolor\":\"#C8D4E3\",\"startlinecolor\":\"#2a3f5f\"},\"baxis\":{\"endlinecolor\":\"#2a3f5f\",\"gridcolor\":\"#C8D4E3\",\"linecolor\":\"#C8D4E3\",\"minorgridcolor\":\"#C8D4E3\",\"startlinecolor\":\"#2a3f5f\"},\"type\":\"carpet\"}],\"choropleth\":[{\"colorbar\":{\"outlinewidth\":0,\"ticks\":\"\"},\"type\":\"choropleth\"}],\"contourcarpet\":[{\"colorbar\":{\"outlinewidth\":0,\"ticks\":\"\"},\"type\":\"contourcarpet\"}],\"contour\":[{\"colorbar\":{\"outlinewidth\":0,\"ticks\":\"\"},\"colorscale\":[[0.0,\"#0d0887\"],[0.1111111111111111,\"#46039f\"],[0.2222222222222222,\"#7201a8\"],[0.3333333333333333,\"#9c179e\"],[0.4444444444444444,\"#bd3786\"],[0.5555555555555556,\"#d8576b\"],[0.6666666666666666,\"#ed7953\"],[0.7777777777777778,\"#fb9f3a\"],[0.8888888888888888,\"#fdca26\"],[1.0,\"#f0f921\"]],\"type\":\"contour\"}],\"heatmapgl\":[{\"colorbar\":{\"outlinewidth\":0,\"ticks\":\"\"},\"colorscale\":[[0.0,\"#0d0887\"],[0.1111111111111111,\"#46039f\"],[0.2222222222222222,\"#7201a8\"],[0.3333333333333333,\"#9c179e\"],[0.4444444444444444,\"#bd3786\"],[0.5555555555555556,\"#d8576b\"],[0.6666666666666666,\"#ed7953\"],[0.7777777777777778,\"#fb9f3a\"],[0.8888888888888888,\"#fdca26\"],[1.0,\"#f0f921\"]],\"type\":\"heatmapgl\"}],\"heatmap\":[{\"colorbar\":{\"outlinewidth\":0,\"ticks\":\"\"},\"colorscale\":[[0.0,\"#0d0887\"],[0.1111111111111111,\"#46039f\"],[0.2222222222222222,\"#7201a8\"],[0.3333333333333333,\"#9c179e\"],[0.4444444444444444,\"#bd3786\"],[0.5555555555555556,\"#d8576b\"],[0.6666666666666666,\"#ed7953\"],[0.7777777777777778,\"#fb9f3a\"],[0.8888888888888888,\"#fdca26\"],[1.0,\"#f0f921\"]],\"type\":\"heatmap\"}],\"histogram2dcontour\":[{\"colorbar\":{\"outlinewidth\":0,\"ticks\":\"\"},\"colorscale\":[[0.0,\"#0d0887\"],[0.1111111111111111,\"#46039f\"],[0.2222222222222222,\"#7201a8\"],[0.3333333333333333,\"#9c179e\"],[0.4444444444444444,\"#bd3786\"],[0.5555555555555556,\"#d8576b\"],[0.6666666666666666,\"#ed7953\"],[0.7777777777777778,\"#fb9f3a\"],[0.8888888888888888,\"#fdca26\"],[1.0,\"#f0f921\"]],\"type\":\"histogram2dcontour\"}],\"histogram2d\":[{\"colorbar\":{\"outlinewidth\":0,\"ticks\":\"\"},\"colorscale\":[[0.0,\"#0d0887\"],[0.1111111111111111,\"#46039f\"],[0.2222222222222222,\"#7201a8\"],[0.3333333333333333,\"#9c179e\"],[0.4444444444444444,\"#bd3786\"],[0.5555555555555556,\"#d8576b\"],[0.6666666666666666,\"#ed7953\"],[0.7777777777777778,\"#fb9f3a\"],[0.8888888888888888,\"#fdca26\"],[1.0,\"#f0f921\"]],\"type\":\"histogram2d\"}],\"histogram\":[{\"marker\":{\"pattern\":{\"fillmode\":\"overlay\",\"size\":10,\"solidity\":0.2}},\"type\":\"histogram\"}],\"mesh3d\":[{\"colorbar\":{\"outlinewidth\":0,\"ticks\":\"\"},\"type\":\"mesh3d\"}],\"parcoords\":[{\"line\":{\"colorbar\":{\"outlinewidth\":0,\"ticks\":\"\"}},\"type\":\"parcoords\"}],\"pie\":[{\"automargin\":true,\"type\":\"pie\"}],\"scatter3d\":[{\"line\":{\"colorbar\":{\"outlinewidth\":0,\"ticks\":\"\"}},\"marker\":{\"colorbar\":{\"outlinewidth\":0,\"ticks\":\"\"}},\"type\":\"scatter3d\"}],\"scattercarpet\":[{\"marker\":{\"colorbar\":{\"outlinewidth\":0,\"ticks\":\"\"}},\"type\":\"scattercarpet\"}],\"scattergeo\":[{\"marker\":{\"colorbar\":{\"outlinewidth\":0,\"ticks\":\"\"}},\"type\":\"scattergeo\"}],\"scattergl\":[{\"marker\":{\"colorbar\":{\"outlinewidth\":0,\"ticks\":\"\"}},\"type\":\"scattergl\"}],\"scattermapbox\":[{\"marker\":{\"colorbar\":{\"outlinewidth\":0,\"ticks\":\"\"}},\"type\":\"scattermapbox\"}],\"scatterpolargl\":[{\"marker\":{\"colorbar\":{\"outlinewidth\":0,\"ticks\":\"\"}},\"type\":\"scatterpolargl\"}],\"scatterpolar\":[{\"marker\":{\"colorbar\":{\"outlinewidth\":0,\"ticks\":\"\"}},\"type\":\"scatterpolar\"}],\"scatter\":[{\"fillpattern\":{\"fillmode\":\"overlay\",\"size\":10,\"solidity\":0.2},\"type\":\"scatter\"}],\"scatterternary\":[{\"marker\":{\"colorbar\":{\"outlinewidth\":0,\"ticks\":\"\"}},\"type\":\"scatterternary\"}],\"surface\":[{\"colorbar\":{\"outlinewidth\":0,\"ticks\":\"\"},\"colorscale\":[[0.0,\"#0d0887\"],[0.1111111111111111,\"#46039f\"],[0.2222222222222222,\"#7201a8\"],[0.3333333333333333,\"#9c179e\"],[0.4444444444444444,\"#bd3786\"],[0.5555555555555556,\"#d8576b\"],[0.6666666666666666,\"#ed7953\"],[0.7777777777777778,\"#fb9f3a\"],[0.8888888888888888,\"#fdca26\"],[1.0,\"#f0f921\"]],\"type\":\"surface\"}],\"table\":[{\"cells\":{\"fill\":{\"color\":\"#EBF0F8\"},\"line\":{\"color\":\"white\"}},\"header\":{\"fill\":{\"color\":\"#C8D4E3\"},\"line\":{\"color\":\"white\"}},\"type\":\"table\"}]},\"layout\":{\"annotationdefaults\":{\"arrowcolor\":\"#2a3f5f\",\"arrowhead\":0,\"arrowwidth\":1},\"autotypenumbers\":\"strict\",\"coloraxis\":{\"colorbar\":{\"outlinewidth\":0,\"ticks\":\"\"}},\"colorscale\":{\"diverging\":[[0,\"#8e0152\"],[0.1,\"#c51b7d\"],[0.2,\"#de77ae\"],[0.3,\"#f1b6da\"],[0.4,\"#fde0ef\"],[0.5,\"#f7f7f7\"],[0.6,\"#e6f5d0\"],[0.7,\"#b8e186\"],[0.8,\"#7fbc41\"],[0.9,\"#4d9221\"],[1,\"#276419\"]],\"sequential\":[[0.0,\"#0d0887\"],[0.1111111111111111,\"#46039f\"],[0.2222222222222222,\"#7201a8\"],[0.3333333333333333,\"#9c179e\"],[0.4444444444444444,\"#bd3786\"],[0.5555555555555556,\"#d8576b\"],[0.6666666666666666,\"#ed7953\"],[0.7777777777777778,\"#fb9f3a\"],[0.8888888888888888,\"#fdca26\"],[1.0,\"#f0f921\"]],\"sequentialminus\":[[0.0,\"#0d0887\"],[0.1111111111111111,\"#46039f\"],[0.2222222222222222,\"#7201a8\"],[0.3333333333333333,\"#9c179e\"],[0.4444444444444444,\"#bd3786\"],[0.5555555555555556,\"#d8576b\"],[0.6666666666666666,\"#ed7953\"],[0.7777777777777778,\"#fb9f3a\"],[0.8888888888888888,\"#fdca26\"],[1.0,\"#f0f921\"]]},\"colorway\":[\"#636efa\",\"#EF553B\",\"#00cc96\",\"#ab63fa\",\"#FFA15A\",\"#19d3f3\",\"#FF6692\",\"#B6E880\",\"#FF97FF\",\"#FECB52\"],\"font\":{\"color\":\"#2a3f5f\"},\"geo\":{\"bgcolor\":\"white\",\"lakecolor\":\"white\",\"landcolor\":\"white\",\"showlakes\":true,\"showland\":true,\"subunitcolor\":\"#C8D4E3\"},\"hoverlabel\":{\"align\":\"left\"},\"hovermode\":\"closest\",\"mapbox\":{\"style\":\"light\"},\"paper_bgcolor\":\"white\",\"plot_bgcolor\":\"white\",\"polar\":{\"angularaxis\":{\"gridcolor\":\"#EBF0F8\",\"linecolor\":\"#EBF0F8\",\"ticks\":\"\"},\"bgcolor\":\"white\",\"radialaxis\":{\"gridcolor\":\"#EBF0F8\",\"linecolor\":\"#EBF0F8\",\"ticks\":\"\"}},\"scene\":{\"xaxis\":{\"backgroundcolor\":\"white\",\"gridcolor\":\"#DFE8F3\",\"gridwidth\":2,\"linecolor\":\"#EBF0F8\",\"showbackground\":true,\"ticks\":\"\",\"zerolinecolor\":\"#EBF0F8\"},\"yaxis\":{\"backgroundcolor\":\"white\",\"gridcolor\":\"#DFE8F3\",\"gridwidth\":2,\"linecolor\":\"#EBF0F8\",\"showbackground\":true,\"ticks\":\"\",\"zerolinecolor\":\"#EBF0F8\"},\"zaxis\":{\"backgroundcolor\":\"white\",\"gridcolor\":\"#DFE8F3\",\"gridwidth\":2,\"linecolor\":\"#EBF0F8\",\"showbackground\":true,\"ticks\":\"\",\"zerolinecolor\":\"#EBF0F8\"}},\"shapedefaults\":{\"line\":{\"color\":\"#2a3f5f\"}},\"ternary\":{\"aaxis\":{\"gridcolor\":\"#DFE8F3\",\"linecolor\":\"#A2B1C6\",\"ticks\":\"\"},\"baxis\":{\"gridcolor\":\"#DFE8F3\",\"linecolor\":\"#A2B1C6\",\"ticks\":\"\"},\"bgcolor\":\"white\",\"caxis\":{\"gridcolor\":\"#DFE8F3\",\"linecolor\":\"#A2B1C6\",\"ticks\":\"\"}},\"title\":{\"x\":0.05},\"xaxis\":{\"automargin\":true,\"gridcolor\":\"#EBF0F8\",\"linecolor\":\"#EBF0F8\",\"ticks\":\"\",\"title\":{\"standoff\":15},\"zerolinecolor\":\"#EBF0F8\",\"zerolinewidth\":2},\"yaxis\":{\"automargin\":true,\"gridcolor\":\"#EBF0F8\",\"linecolor\":\"#EBF0F8\",\"ticks\":\"\",\"title\":{\"standoff\":15},\"zerolinecolor\":\"#EBF0F8\",\"zerolinewidth\":2}}},\"title\":{\"text\":\"Number of Orders by Countries\",\"x\":0.5,\"xanchor\":\"center\",\"y\":0.9,\"yanchor\":\"top\"},\"width\":1000},                        {\"responsive\": true}                    ).then(function(){\n",
              "                            \n",
              "var gd = document.getElementById('77551dee-daf2-415d-8f35-4143201dcddf');\n",
              "var x = new MutationObserver(function (mutations, observer) {{\n",
              "        var display = window.getComputedStyle(gd).display;\n",
              "        if (!display || display === 'none') {{\n",
              "            console.log([gd, 'removed!']);\n",
              "            Plotly.purge(gd);\n",
              "            observer.disconnect();\n",
              "        }}\n",
              "}});\n",
              "\n",
              "// Listen for the removal of the full notebook cells\n",
              "var notebookContainer = gd.closest('#notebook-container');\n",
              "if (notebookContainer) {{\n",
              "    x.observe(notebookContainer, {childList: true});\n",
              "}}\n",
              "\n",
              "// Listen for the clearing of the current output cell\n",
              "var outputEl = gd.closest('.output');\n",
              "if (outputEl) {{\n",
              "    x.observe(outputEl, {childList: true});\n",
              "}}\n",
              "\n",
              "                        })                };                            </script>        </div>\n",
              "</body>\n",
              "</html>"
            ]
          },
          "metadata": {}
        }
      ]
    },
    {
      "cell_type": "code",
      "source": [
        "def desc_stats(dataframe):\n",
        "    desc_df = pd.DataFrame(index= dataframe.columns, \n",
        "                           columns= dataframe.describe().T.columns,\n",
        "                           data= dataframe.describe().T)\n",
        "    \n",
        "    f,ax = plt.subplots(figsize=(10,\n",
        "                                 desc_df.shape[0] * 0.81))\n",
        "    sns.heatmap(desc_df,\n",
        "                annot = True,\n",
        "                cmap = \"Greens\",\n",
        "                fmt = '.2f',\n",
        "                ax = ax,\n",
        "                linecolor = 'white',\n",
        "                linewidths = 1.1,\n",
        "                cbar = False,\n",
        "                annot_kws = {\"size\": 12})\n",
        "    plt.xticks(size = 18)\n",
        "    plt.yticks(size = 14,\n",
        "               rotation = 0)\n",
        "    plt.title(\"Descriptive Statistics\", size = 14)\n",
        "    plt.show()\n",
        "    \n",
        "desc_stats(df_LTV_01.select_dtypes(include = [float, int]))"
      ],
      "metadata": {
        "id": "OZPNRkHijahK",
        "colab": {
          "base_uri": "https://localhost:8080/",
          "height": 222
        },
        "outputId": "a497af12-e230-4e0f-d706-7b725afd2cd7"
      },
      "execution_count": 32,
      "outputs": [
        {
          "output_type": "display_data",
          "data": {
            "text/plain": [
              "<Figure size 1000x162 with 1 Axes>"
            ],
            "image/png": "[encoded data removed]"
          },
          "metadata": {}
        }
      ]
    },
    {
      "cell_type": "markdown",
      "source": [
        "* 취소된 주문내역 때문에 quantity < 0인 row 존재 \n",
        "* total_price = quantity * unit_price로 구할 예정 "
      ],
      "metadata": {
        "id": "1HjyYolc2fHn"
      }
    },
    {
      "cell_type": "markdown",
      "source": [
        "## 2.1 unit_price, quantity에 대한 확인 \n",
        "- quantity < 0 인 부분 확인  \n",
        "- stock_code가 같은데도 unit_price가 다른 경우에 대한 확인 "
      ],
      "metadata": {
        "id": "PzhwTI397b6K"
      }
    },
    {
      "cell_type": "code",
      "source": [
        "df_LTV_01[df_LTV_01['quantity'] < 0].sample(5)"
      ],
      "metadata": {
        "colab": {
          "base_uri": "https://localhost:8080/",
          "height": 206
        },
        "id": "gfd9oVdz6cDQ",
        "outputId": "c7b98be6-0450-4399-e230-440c4ccab38f"
      },
      "execution_count": 33,
      "outputs": [
        {
          "output_type": "execute_result",
          "data": {
            "text/plain": [
              "       invoice_no stock_code  quantity invoice_date  unit_price customer_id  \\\n",
              "241875    C558256      21155        -6   2011-06-27        2.55       13552   \n",
              "411649    C572226      23256        -2   2011-10-21        4.15       15321   \n",
              "520140    C580263      72586       -36   2011-12-02        0.42       12536   \n",
              "130099    C547410      21937        -1   2011-03-23        2.95       18183   \n",
              "47128     C540380      71053        -5   2011-01-06        3.75       16094   \n",
              "\n",
              "          invoice_datetime  \n",
              "241875 2011-06-27 17:08:00  \n",
              "411649 2011-10-21 13:58:00  \n",
              "520140 2011-12-02 12:43:00  \n",
              "130099 2011-03-23 09:02:00  \n",
              "47128  2011-01-06 17:36:00  "
            ],
            "text/html": [
              "\n",
              "  <div id=\"df-2d4024cf-3238-412e-bf35-c71d785fb6ed\">\n",
              "    <div class=\"colab-df-container\">\n",
              "      <div>\n",
              "<style scoped>\n",
              "    .dataframe tbody tr th:only-of-type {\n",
              "        vertical-align: middle;\n",
              "    }\n",
              "\n",
              "    .dataframe tbody tr th {\n",
              "        vertical-align: top;\n",
              "    }\n",
              "\n",
              "    .dataframe thead th {\n",
              "        text-align: right;\n",
              "    }\n",
              "</style>\n",
              "<table border=\"1\" class=\"dataframe\">\n",
              "  <thead>\n",
              "    <tr style=\"text-align: right;\">\n",
              "      <th></th>\n",
              "      <th>invoice_no</th>\n",
              "      <th>stock_code</th>\n",
              "      <th>quantity</th>\n",
              "      <th>invoice_date</th>\n",
              "      <th>unit_price</th>\n",
              "      <th>customer_id</th>\n",
              "      <th>invoice_datetime</th>\n",
              "    </tr>\n",
              "  </thead>\n",
              "  <tbody>\n",
              "    <tr>\n",
              "      <th>241875</th>\n",
              "      <td>C558256</td>\n",
              "      <td>21155</td>\n",
              "      <td>-6</td>\n",
              "      <td>2011-06-27</td>\n",
              "      <td>2.55</td>\n",
              "      <td>13552</td>\n",
              "      <td>2011-06-27 17:08:00</td>\n",
              "    </tr>\n",
              "    <tr>\n",
              "      <th>411649</th>\n",
              "      <td>C572226</td>\n",
              "      <td>23256</td>\n",
              "      <td>-2</td>\n",
              "      <td>2011-10-21</td>\n",
              "      <td>4.15</td>\n",
              "      <td>15321</td>\n",
              "      <td>2011-10-21 13:58:00</td>\n",
              "    </tr>\n",
              "    <tr>\n",
              "      <th>520140</th>\n",
              "      <td>C580263</td>\n",
              "      <td>72586</td>\n",
              "      <td>-36</td>\n",
              "      <td>2011-12-02</td>\n",
              "      <td>0.42</td>\n",
              "      <td>12536</td>\n",
              "      <td>2011-12-02 12:43:00</td>\n",
              "    </tr>\n",
              "    <tr>\n",
              "      <th>130099</th>\n",
              "      <td>C547410</td>\n",
              "      <td>21937</td>\n",
              "      <td>-1</td>\n",
              "      <td>2011-03-23</td>\n",
              "      <td>2.95</td>\n",
              "      <td>18183</td>\n",
              "      <td>2011-03-23 09:02:00</td>\n",
              "    </tr>\n",
              "    <tr>\n",
              "      <th>47128</th>\n",
              "      <td>C540380</td>\n",
              "      <td>71053</td>\n",
              "      <td>-5</td>\n",
              "      <td>2011-01-06</td>\n",
              "      <td>3.75</td>\n",
              "      <td>16094</td>\n",
              "      <td>2011-01-06 17:36:00</td>\n",
              "    </tr>\n",
              "  </tbody>\n",
              "</table>\n",
              "</div>\n",
              "      <button class=\"colab-df-convert\" onclick=\"convertToInteractive('df-2d4024cf-3238-412e-bf35-c71d785fb6ed')\"\n",
              "              title=\"Convert this dataframe to an interactive table.\"\n",
              "              style=\"display:none;\">\n",
              "        \n",
              "  <svg xmlns=\"http://www.w3.org/2000/svg\" height=\"24px\"viewBox=\"0 0 24 24\"\n",
              "       width=\"24px\">\n",
              "    <path d=\"M0 0h24v24H0V0z\" fill=\"none\"/>\n",
              "    <path d=\"M18.56 5.44l.94 2.06.94-2.06 2.06-.94-2.06-.94-.94-2.06-.94 2.06-2.06.94zm-11 1L8.5 8.5l.94-2.06 2.06-.94-2.06-.94L8.5 2.5l-.94 2.06-2.06.94zm10 10l.94 2.06.94-2.06 2.06-.94-2.06-.94-.94-2.06-.94 2.06-2.06.94z\"/><path d=\"M17.41 7.96l-1.37-1.37c-.4-.4-.92-.59-1.43-.59-.52 0-1.04.2-1.43.59L10.3 9.45l-7.72 7.72c-.78.78-.78 2.05 0 2.83L4 21.41c.39.39.9.59 1.41.59.51 0 1.02-.2 1.41-.59l7.78-7.78 2.81-2.81c.8-.78.8-2.07 0-2.86zM5.41 20L4 18.59l7.72-7.72 1.47 1.35L5.41 20z\"/>\n",
              "  </svg>\n",
              "      </button>\n",
              "      \n",
              "  <style>\n",
              "    .colab-df-container {\n",
              "      display:flex;\n",
              "      flex-wrap:wrap;\n",
              "      gap: 12px;\n",
              "    }\n",
              "\n",
              "    .colab-df-convert {\n",
              "      background-color: #E8F0FE;\n",
              "      border: none;\n",
              "      border-radius: 50%;\n",
              "      cursor: pointer;\n",
              "      display: none;\n",
              "      fill: #1967D2;\n",
              "      height: 32px;\n",
              "      padding: 0 0 0 0;\n",
              "      width: 32px;\n",
              "    }\n",
              "\n",
              "    .colab-df-convert:hover {\n",
              "      background-color: #E2EBFA;\n",
              "      box-shadow: 0px 1px 2px rgba(60, 64, 67, 0.3), 0px 1px 3px 1px rgba(60, 64, 67, 0.15);\n",
              "      fill: #174EA6;\n",
              "    }\n",
              "\n",
              "    [theme=dark] .colab-df-convert {\n",
              "      background-color: #3B4455;\n",
              "      fill: #D2E3FC;\n",
              "    }\n",
              "\n",
              "    [theme=dark] .colab-df-convert:hover {\n",
              "      background-color: #434B5C;\n",
              "      box-shadow: 0px 1px 3px 1px rgba(0, 0, 0, 0.15);\n",
              "      filter: drop-shadow(0px 1px 2px rgba(0, 0, 0, 0.3));\n",
              "      fill: #FFFFFF;\n",
              "    }\n",
              "  </style>\n",
              "\n",
              "      <script>\n",
              "        const buttonEl =\n",
              "          document.querySelector('#df-2d4024cf-3238-412e-bf35-c71d785fb6ed button.colab-df-convert');\n",
              "        buttonEl.style.display =\n",
              "          google.colab.kernel.accessAllowed ? 'block' : 'none';\n",
              "\n",
              "        async function convertToInteractive(key) {\n",
              "          const element = document.querySelector('#df-2d4024cf-3238-412e-bf35-c71d785fb6ed');\n",
              "          const dataTable =\n",
              "            await google.colab.kernel.invokeFunction('convertToInteractive',\n",
              "                                                     [key], {});\n",
              "          if (!dataTable) return;\n",
              "\n",
              "          const docLinkHtml = 'Like what you see? Visit the ' +\n",
              "            '<a target=\"_blank\" href=https://colab.research.google.com/notebooks/data_table.ipynb>data table notebook</a>'\n",
              "            + ' to learn more about interactive tables.';\n",
              "          element.innerHTML = '';\n",
              "          dataTable['output_type'] = 'display_data';\n",
              "          await google.colab.output.renderOutput(dataTable, element);\n",
              "          const docLink = document.createElement('div');\n",
              "          docLink.innerHTML = docLinkHtml;\n",
              "          element.appendChild(docLink);\n",
              "        }\n",
              "      </script>\n",
              "    </div>\n",
              "  </div>\n",
              "  "
            ]
          },
          "metadata": {},
          "execution_count": 33
        }
      ]
    },
    {
      "cell_type": "code",
      "source": [
        "# pd.set_option('display.max_columns', None) ## 모든 열을 출력한다.\n",
        "# pd.set_option('display.max_rows', None) ## 모든 열을 출력한다."
      ],
      "metadata": {
        "id": "zK1mwdsLatkH"
      },
      "execution_count": 34,
      "outputs": []
    },
    {
      "cell_type": "code",
      "source": [
        "# df_LTV_01[df_LTV_01['customer_id'] == 12471] # quantity < 0인 행이 있는 customer 확인 "
      ],
      "metadata": {
        "id": "MX7xg1hDZb6d"
      },
      "execution_count": 35,
      "outputs": []
    },
    {
      "cell_type": "markdown",
      "source": [
        "- invoice_no 가장 앞에 C가 있으면 취소한 내역, 취소했을 시 quantity < 0 \n",
        "- but, C 뒤 번호로 어떤 내역을 취소한 건지 확인 불가 (해당하는 invoice_no 없음) -> 주문 전체 취소라면 그 주문번호 앞에 C가 붙어있지만, 아니라면 아예 새로운 주문번호 + C 를 부여하는 듯? \n",
        "\n",
        "구매 내역만 필요하긴 하지만, \n",
        "- 구매 건수: 환불 건수 제외하고 nunique \n",
        "- 총 주문금액: 주문 금액 - 환불금액 의 sum이어야 함 \n",
        "\n",
        "quantity < 0 인 경우를 확인해보자. "
      ],
      "metadata": {
        "id": "ezJPDpW9cQxG"
      }
    },
    {
      "cell_type": "code",
      "source": [
        "df_LTV_01[df_LTV_01['unit_price'] == 0].sample(5) # unit_price == 0인 경우 확인 "
      ],
      "metadata": {
        "colab": {
          "base_uri": "https://localhost:8080/",
          "height": 206
        },
        "id": "jFGj2VqwdL5J",
        "outputId": "128157c2-bcd4-47fd-a4b3-a7fa88ca6be3"
      },
      "execution_count": 36,
      "outputs": [
        {
          "output_type": "execute_result",
          "data": {
            "text/plain": [
              "       invoice_no stock_code  quantity invoice_date  unit_price customer_id  \\\n",
              "320587     565047      21257         7   2011-08-31         0.0           0   \n",
              "535325     581202      23404        41   2011-12-07         0.0           0   \n",
              "221877     556287      16043       -45   2011-06-10         0.0           0   \n",
              "172866     551567      21269        13   2011-05-03         0.0           0   \n",
              "277390     561108     46775D        -7   2011-07-25         0.0           0   \n",
              "\n",
              "          invoice_datetime  \n",
              "320587 2011-08-31 17:04:00  \n",
              "535325 2011-12-07 18:30:00  \n",
              "221877 2011-06-10 09:22:00  \n",
              "172866 2011-05-03 11:12:00  \n",
              "277390 2011-07-25 11:43:00  "
            ],
            "text/html": [
              "\n",
              "  <div id=\"df-a1910c27-7096-41f7-8fea-c3f305110f16\">\n",
              "    <div class=\"colab-df-container\">\n",
              "      <div>\n",
              "<style scoped>\n",
              "    .dataframe tbody tr th:only-of-type {\n",
              "        vertical-align: middle;\n",
              "    }\n",
              "\n",
              "    .dataframe tbody tr th {\n",
              "        vertical-align: top;\n",
              "    }\n",
              "\n",
              "    .dataframe thead th {\n",
              "        text-align: right;\n",
              "    }\n",
              "</style>\n",
              "<table border=\"1\" class=\"dataframe\">\n",
              "  <thead>\n",
              "    <tr style=\"text-align: right;\">\n",
              "      <th></th>\n",
              "      <th>invoice_no</th>\n",
              "      <th>stock_code</th>\n",
              "      <th>quantity</th>\n",
              "      <th>invoice_date</th>\n",
              "      <th>unit_price</th>\n",
              "      <th>customer_id</th>\n",
              "      <th>invoice_datetime</th>\n",
              "    </tr>\n",
              "  </thead>\n",
              "  <tbody>\n",
              "    <tr>\n",
              "      <th>320587</th>\n",
              "      <td>565047</td>\n",
              "      <td>21257</td>\n",
              "      <td>7</td>\n",
              "      <td>2011-08-31</td>\n",
              "      <td>0.0</td>\n",
              "      <td>0</td>\n",
              "      <td>2011-08-31 17:04:00</td>\n",
              "    </tr>\n",
              "    <tr>\n",
              "      <th>535325</th>\n",
              "      <td>581202</td>\n",
              "      <td>23404</td>\n",
              "      <td>41</td>\n",
              "      <td>2011-12-07</td>\n",
              "      <td>0.0</td>\n",
              "      <td>0</td>\n",
              "      <td>2011-12-07 18:30:00</td>\n",
              "    </tr>\n",
              "    <tr>\n",
              "      <th>221877</th>\n",
              "      <td>556287</td>\n",
              "      <td>16043</td>\n",
              "      <td>-45</td>\n",
              "      <td>2011-06-10</td>\n",
              "      <td>0.0</td>\n",
              "      <td>0</td>\n",
              "      <td>2011-06-10 09:22:00</td>\n",
              "    </tr>\n",
              "    <tr>\n",
              "      <th>172866</th>\n",
              "      <td>551567</td>\n",
              "      <td>21269</td>\n",
              "      <td>13</td>\n",
              "      <td>2011-05-03</td>\n",
              "      <td>0.0</td>\n",
              "      <td>0</td>\n",
              "      <td>2011-05-03 11:12:00</td>\n",
              "    </tr>\n",
              "    <tr>\n",
              "      <th>277390</th>\n",
              "      <td>561108</td>\n",
              "      <td>46775D</td>\n",
              "      <td>-7</td>\n",
              "      <td>2011-07-25</td>\n",
              "      <td>0.0</td>\n",
              "      <td>0</td>\n",
              "      <td>2011-07-25 11:43:00</td>\n",
              "    </tr>\n",
              "  </tbody>\n",
              "</table>\n",
              "</div>\n",
              "      <button class=\"colab-df-convert\" onclick=\"convertToInteractive('df-a1910c27-7096-41f7-8fea-c3f305110f16')\"\n",
              "              title=\"Convert this dataframe to an interactive table.\"\n",
              "              style=\"display:none;\">\n",
              "        \n",
              "  <svg xmlns=\"http://www.w3.org/2000/svg\" height=\"24px\"viewBox=\"0 0 24 24\"\n",
              "       width=\"24px\">\n",
              "    <path d=\"M0 0h24v24H0V0z\" fill=\"none\"/>\n",
              "    <path d=\"M18.56 5.44l.94 2.06.94-2.06 2.06-.94-2.06-.94-.94-2.06-.94 2.06-2.06.94zm-11 1L8.5 8.5l.94-2.06 2.06-.94-2.06-.94L8.5 2.5l-.94 2.06-2.06.94zm10 10l.94 2.06.94-2.06 2.06-.94-2.06-.94-.94-2.06-.94 2.06-2.06.94z\"/><path d=\"M17.41 7.96l-1.37-1.37c-.4-.4-.92-.59-1.43-.59-.52 0-1.04.2-1.43.59L10.3 9.45l-7.72 7.72c-.78.78-.78 2.05 0 2.83L4 21.41c.39.39.9.59 1.41.59.51 0 1.02-.2 1.41-.59l7.78-7.78 2.81-2.81c.8-.78.8-2.07 0-2.86zM5.41 20L4 18.59l7.72-7.72 1.47 1.35L5.41 20z\"/>\n",
              "  </svg>\n",
              "      </button>\n",
              "      \n",
              "  <style>\n",
              "    .colab-df-container {\n",
              "      display:flex;\n",
              "      flex-wrap:wrap;\n",
              "      gap: 12px;\n",
              "    }\n",
              "\n",
              "    .colab-df-convert {\n",
              "      background-color: #E8F0FE;\n",
              "      border: none;\n",
              "      border-radius: 50%;\n",
              "      cursor: pointer;\n",
              "      display: none;\n",
              "      fill: #1967D2;\n",
              "      height: 32px;\n",
              "      padding: 0 0 0 0;\n",
              "      width: 32px;\n",
              "    }\n",
              "\n",
              "    .colab-df-convert:hover {\n",
              "      background-color: #E2EBFA;\n",
              "      box-shadow: 0px 1px 2px rgba(60, 64, 67, 0.3), 0px 1px 3px 1px rgba(60, 64, 67, 0.15);\n",
              "      fill: #174EA6;\n",
              "    }\n",
              "\n",
              "    [theme=dark] .colab-df-convert {\n",
              "      background-color: #3B4455;\n",
              "      fill: #D2E3FC;\n",
              "    }\n",
              "\n",
              "    [theme=dark] .colab-df-convert:hover {\n",
              "      background-color: #434B5C;\n",
              "      box-shadow: 0px 1px 3px 1px rgba(0, 0, 0, 0.15);\n",
              "      filter: drop-shadow(0px 1px 2px rgba(0, 0, 0, 0.3));\n",
              "      fill: #FFFFFF;\n",
              "    }\n",
              "  </style>\n",
              "\n",
              "      <script>\n",
              "        const buttonEl =\n",
              "          document.querySelector('#df-a1910c27-7096-41f7-8fea-c3f305110f16 button.colab-df-convert');\n",
              "        buttonEl.style.display =\n",
              "          google.colab.kernel.accessAllowed ? 'block' : 'none';\n",
              "\n",
              "        async function convertToInteractive(key) {\n",
              "          const element = document.querySelector('#df-a1910c27-7096-41f7-8fea-c3f305110f16');\n",
              "          const dataTable =\n",
              "            await google.colab.kernel.invokeFunction('convertToInteractive',\n",
              "                                                     [key], {});\n",
              "          if (!dataTable) return;\n",
              "\n",
              "          const docLinkHtml = 'Like what you see? Visit the ' +\n",
              "            '<a target=\"_blank\" href=https://colab.research.google.com/notebooks/data_table.ipynb>data table notebook</a>'\n",
              "            + ' to learn more about interactive tables.';\n",
              "          element.innerHTML = '';\n",
              "          dataTable['output_type'] = 'display_data';\n",
              "          await google.colab.output.renderOutput(dataTable, element);\n",
              "          const docLink = document.createElement('div');\n",
              "          docLink.innerHTML = docLinkHtml;\n",
              "          element.appendChild(docLink);\n",
              "        }\n",
              "      </script>\n",
              "    </div>\n",
              "  </div>\n",
              "  "
            ]
          },
          "metadata": {},
          "execution_count": 36
        }
      ]
    },
    {
      "cell_type": "code",
      "source": [
        "df_LTV_01[df_LTV_01['unit_price'] < 0].head() # unit_price < 0인 경우 확인 "
      ],
      "metadata": {
        "colab": {
          "base_uri": "https://localhost:8080/",
          "height": 112
        },
        "id": "uGmHLgWmU7dt",
        "outputId": "787ac26c-4bc1-4d2c-f001-6f67ac9f69c6"
      },
      "execution_count": 37,
      "outputs": [
        {
          "output_type": "execute_result",
          "data": {
            "text/plain": [
              "       invoice_no stock_code  quantity invoice_date  unit_price customer_id  \\\n",
              "299983    A563186          B         1   2011-08-12   -11062.06           0   \n",
              "299984    A563187          B         1   2011-08-12   -11062.06           0   \n",
              "\n",
              "          invoice_datetime  \n",
              "299983 2011-08-12 14:51:00  \n",
              "299984 2011-08-12 14:52:00  "
            ],
            "text/html": [
              "\n",
              "  <div id=\"df-a7a3f3df-47a6-4883-8846-ab5015889dc1\">\n",
              "    <div class=\"colab-df-container\">\n",
              "      <div>\n",
              "<style scoped>\n",
              "    .dataframe tbody tr th:only-of-type {\n",
              "        vertical-align: middle;\n",
              "    }\n",
              "\n",
              "    .dataframe tbody tr th {\n",
              "        vertical-align: top;\n",
              "    }\n",
              "\n",
              "    .dataframe thead th {\n",
              "        text-align: right;\n",
              "    }\n",
              "</style>\n",
              "<table border=\"1\" class=\"dataframe\">\n",
              "  <thead>\n",
              "    <tr style=\"text-align: right;\">\n",
              "      <th></th>\n",
              "      <th>invoice_no</th>\n",
              "      <th>stock_code</th>\n",
              "      <th>quantity</th>\n",
              "      <th>invoice_date</th>\n",
              "      <th>unit_price</th>\n",
              "      <th>customer_id</th>\n",
              "      <th>invoice_datetime</th>\n",
              "    </tr>\n",
              "  </thead>\n",
              "  <tbody>\n",
              "    <tr>\n",
              "      <th>299983</th>\n",
              "      <td>A563186</td>\n",
              "      <td>B</td>\n",
              "      <td>1</td>\n",
              "      <td>2011-08-12</td>\n",
              "      <td>-11062.06</td>\n",
              "      <td>0</td>\n",
              "      <td>2011-08-12 14:51:00</td>\n",
              "    </tr>\n",
              "    <tr>\n",
              "      <th>299984</th>\n",
              "      <td>A563187</td>\n",
              "      <td>B</td>\n",
              "      <td>1</td>\n",
              "      <td>2011-08-12</td>\n",
              "      <td>-11062.06</td>\n",
              "      <td>0</td>\n",
              "      <td>2011-08-12 14:52:00</td>\n",
              "    </tr>\n",
              "  </tbody>\n",
              "</table>\n",
              "</div>\n",
              "      <button class=\"colab-df-convert\" onclick=\"convertToInteractive('df-a7a3f3df-47a6-4883-8846-ab5015889dc1')\"\n",
              "              title=\"Convert this dataframe to an interactive table.\"\n",
              "              style=\"display:none;\">\n",
              "        \n",
              "  <svg xmlns=\"http://www.w3.org/2000/svg\" height=\"24px\"viewBox=\"0 0 24 24\"\n",
              "       width=\"24px\">\n",
              "    <path d=\"M0 0h24v24H0V0z\" fill=\"none\"/>\n",
              "    <path d=\"M18.56 5.44l.94 2.06.94-2.06 2.06-.94-2.06-.94-.94-2.06-.94 2.06-2.06.94zm-11 1L8.5 8.5l.94-2.06 2.06-.94-2.06-.94L8.5 2.5l-.94 2.06-2.06.94zm10 10l.94 2.06.94-2.06 2.06-.94-2.06-.94-.94-2.06-.94 2.06-2.06.94z\"/><path d=\"M17.41 7.96l-1.37-1.37c-.4-.4-.92-.59-1.43-.59-.52 0-1.04.2-1.43.59L10.3 9.45l-7.72 7.72c-.78.78-.78 2.05 0 2.83L4 21.41c.39.39.9.59 1.41.59.51 0 1.02-.2 1.41-.59l7.78-7.78 2.81-2.81c.8-.78.8-2.07 0-2.86zM5.41 20L4 18.59l7.72-7.72 1.47 1.35L5.41 20z\"/>\n",
              "  </svg>\n",
              "      </button>\n",
              "      \n",
              "  <style>\n",
              "    .colab-df-container {\n",
              "      display:flex;\n",
              "      flex-wrap:wrap;\n",
              "      gap: 12px;\n",
              "    }\n",
              "\n",
              "    .colab-df-convert {\n",
              "      background-color: #E8F0FE;\n",
              "      border: none;\n",
              "      border-radius: 50%;\n",
              "      cursor: pointer;\n",
              "      display: none;\n",
              "      fill: #1967D2;\n",
              "      height: 32px;\n",
              "      padding: 0 0 0 0;\n",
              "      width: 32px;\n",
              "    }\n",
              "\n",
              "    .colab-df-convert:hover {\n",
              "      background-color: #E2EBFA;\n",
              "      box-shadow: 0px 1px 2px rgba(60, 64, 67, 0.3), 0px 1px 3px 1px rgba(60, 64, 67, 0.15);\n",
              "      fill: #174EA6;\n",
              "    }\n",
              "\n",
              "    [theme=dark] .colab-df-convert {\n",
              "      background-color: #3B4455;\n",
              "      fill: #D2E3FC;\n",
              "    }\n",
              "\n",
              "    [theme=dark] .colab-df-convert:hover {\n",
              "      background-color: #434B5C;\n",
              "      box-shadow: 0px 1px 3px 1px rgba(0, 0, 0, 0.15);\n",
              "      filter: drop-shadow(0px 1px 2px rgba(0, 0, 0, 0.3));\n",
              "      fill: #FFFFFF;\n",
              "    }\n",
              "  </style>\n",
              "\n",
              "      <script>\n",
              "        const buttonEl =\n",
              "          document.querySelector('#df-a7a3f3df-47a6-4883-8846-ab5015889dc1 button.colab-df-convert');\n",
              "        buttonEl.style.display =\n",
              "          google.colab.kernel.accessAllowed ? 'block' : 'none';\n",
              "\n",
              "        async function convertToInteractive(key) {\n",
              "          const element = document.querySelector('#df-a7a3f3df-47a6-4883-8846-ab5015889dc1');\n",
              "          const dataTable =\n",
              "            await google.colab.kernel.invokeFunction('convertToInteractive',\n",
              "                                                     [key], {});\n",
              "          if (!dataTable) return;\n",
              "\n",
              "          const docLinkHtml = 'Like what you see? Visit the ' +\n",
              "            '<a target=\"_blank\" href=https://colab.research.google.com/notebooks/data_table.ipynb>data table notebook</a>'\n",
              "            + ' to learn more about interactive tables.';\n",
              "          element.innerHTML = '';\n",
              "          dataTable['output_type'] = 'display_data';\n",
              "          await google.colab.output.renderOutput(dataTable, element);\n",
              "          const docLink = document.createElement('div');\n",
              "          docLink.innerHTML = docLinkHtml;\n",
              "          element.appendChild(docLink);\n",
              "        }\n",
              "      </script>\n",
              "    </div>\n",
              "  </div>\n",
              "  "
            ]
          },
          "metadata": {},
          "execution_count": 37
        }
      ]
    },
    {
      "cell_type": "code",
      "source": [
        "df_base[df_base['stock_code'] == 'B'] # unit_price < 0 인 상품 확인 \n",
        "\n",
        "# stock_code = 'B'인 상품: \tAdjust bad debt\t <- 즉, 구매 내역은 아님 \n",
        "# 어차피 customer_id = NaN이기 때문에 추후 드랍할 예정 "
      ],
      "metadata": {
        "colab": {
          "base_uri": "https://localhost:8080/",
          "height": 143
        },
        "id": "Qny1oONJVktb",
        "outputId": "1b1ec407-bb3a-4415-f7f5-358cd0820412"
      },
      "execution_count": 38,
      "outputs": [
        {
          "output_type": "execute_result",
          "data": {
            "text/plain": [
              "       invoice_no stock_code      description  quantity     invoice_date  \\\n",
              "299982    A563185          B  Adjust bad debt         1  8/12/2011 14:50   \n",
              "299983    A563186          B  Adjust bad debt         1  8/12/2011 14:51   \n",
              "299984    A563187          B  Adjust bad debt         1  8/12/2011 14:52   \n",
              "\n",
              "        unit_price  customer_id         country  \n",
              "299982    11062.06          NaN  United Kingdom  \n",
              "299983   -11062.06          NaN  United Kingdom  \n",
              "299984   -11062.06          NaN  United Kingdom  "
            ],
            "text/html": [
              "\n",
              "  <div id=\"df-dee1a08e-482e-4253-8ac4-354e9d8ba837\">\n",
              "    <div class=\"colab-df-container\">\n",
              "      <div>\n",
              "<style scoped>\n",
              "    .dataframe tbody tr th:only-of-type {\n",
              "        vertical-align: middle;\n",
              "    }\n",
              "\n",
              "    .dataframe tbody tr th {\n",
              "        vertical-align: top;\n",
              "    }\n",
              "\n",
              "    .dataframe thead th {\n",
              "        text-align: right;\n",
              "    }\n",
              "</style>\n",
              "<table border=\"1\" class=\"dataframe\">\n",
              "  <thead>\n",
              "    <tr style=\"text-align: right;\">\n",
              "      <th></th>\n",
              "      <th>invoice_no</th>\n",
              "      <th>stock_code</th>\n",
              "      <th>description</th>\n",
              "      <th>quantity</th>\n",
              "      <th>invoice_date</th>\n",
              "      <th>unit_price</th>\n",
              "      <th>customer_id</th>\n",
              "      <th>country</th>\n",
              "    </tr>\n",
              "  </thead>\n",
              "  <tbody>\n",
              "    <tr>\n",
              "      <th>299982</th>\n",
              "      <td>A563185</td>\n",
              "      <td>B</td>\n",
              "      <td>Adjust bad debt</td>\n",
              "      <td>1</td>\n",
              "      <td>8/12/2011 14:50</td>\n",
              "      <td>11062.06</td>\n",
              "      <td>NaN</td>\n",
              "      <td>United Kingdom</td>\n",
              "    </tr>\n",
              "    <tr>\n",
              "      <th>299983</th>\n",
              "      <td>A563186</td>\n",
              "      <td>B</td>\n",
              "      <td>Adjust bad debt</td>\n",
              "      <td>1</td>\n",
              "      <td>8/12/2011 14:51</td>\n",
              "      <td>-11062.06</td>\n",
              "      <td>NaN</td>\n",
              "      <td>United Kingdom</td>\n",
              "    </tr>\n",
              "    <tr>\n",
              "      <th>299984</th>\n",
              "      <td>A563187</td>\n",
              "      <td>B</td>\n",
              "      <td>Adjust bad debt</td>\n",
              "      <td>1</td>\n",
              "      <td>8/12/2011 14:52</td>\n",
              "      <td>-11062.06</td>\n",
              "      <td>NaN</td>\n",
              "      <td>United Kingdom</td>\n",
              "    </tr>\n",
              "  </tbody>\n",
              "</table>\n",
              "</div>\n",
              "      <button class=\"colab-df-convert\" onclick=\"convertToInteractive('df-dee1a08e-482e-4253-8ac4-354e9d8ba837')\"\n",
              "              title=\"Convert this dataframe to an interactive table.\"\n",
              "              style=\"display:none;\">\n",
              "        \n",
              "  <svg xmlns=\"http://www.w3.org/2000/svg\" height=\"24px\"viewBox=\"0 0 24 24\"\n",
              "       width=\"24px\">\n",
              "    <path d=\"M0 0h24v24H0V0z\" fill=\"none\"/>\n",
              "    <path d=\"M18.56 5.44l.94 2.06.94-2.06 2.06-.94-2.06-.94-.94-2.06-.94 2.06-2.06.94zm-11 1L8.5 8.5l.94-2.06 2.06-.94-2.06-.94L8.5 2.5l-.94 2.06-2.06.94zm10 10l.94 2.06.94-2.06 2.06-.94-2.06-.94-.94-2.06-.94 2.06-2.06.94z\"/><path d=\"M17.41 7.96l-1.37-1.37c-.4-.4-.92-.59-1.43-.59-.52 0-1.04.2-1.43.59L10.3 9.45l-7.72 7.72c-.78.78-.78 2.05 0 2.83L4 21.41c.39.39.9.59 1.41.59.51 0 1.02-.2 1.41-.59l7.78-7.78 2.81-2.81c.8-.78.8-2.07 0-2.86zM5.41 20L4 18.59l7.72-7.72 1.47 1.35L5.41 20z\"/>\n",
              "  </svg>\n",
              "      </button>\n",
              "      \n",
              "  <style>\n",
              "    .colab-df-container {\n",
              "      display:flex;\n",
              "      flex-wrap:wrap;\n",
              "      gap: 12px;\n",
              "    }\n",
              "\n",
              "    .colab-df-convert {\n",
              "      background-color: #E8F0FE;\n",
              "      border: none;\n",
              "      border-radius: 50%;\n",
              "      cursor: pointer;\n",
              "      display: none;\n",
              "      fill: #1967D2;\n",
              "      height: 32px;\n",
              "      padding: 0 0 0 0;\n",
              "      width: 32px;\n",
              "    }\n",
              "\n",
              "    .colab-df-convert:hover {\n",
              "      background-color: #E2EBFA;\n",
              "      box-shadow: 0px 1px 2px rgba(60, 64, 67, 0.3), 0px 1px 3px 1px rgba(60, 64, 67, 0.15);\n",
              "      fill: #174EA6;\n",
              "    }\n",
              "\n",
              "    [theme=dark] .colab-df-convert {\n",
              "      background-color: #3B4455;\n",
              "      fill: #D2E3FC;\n",
              "    }\n",
              "\n",
              "    [theme=dark] .colab-df-convert:hover {\n",
              "      background-color: #434B5C;\n",
              "      box-shadow: 0px 1px 3px 1px rgba(0, 0, 0, 0.15);\n",
              "      filter: drop-shadow(0px 1px 2px rgba(0, 0, 0, 0.3));\n",
              "      fill: #FFFFFF;\n",
              "    }\n",
              "  </style>\n",
              "\n",
              "      <script>\n",
              "        const buttonEl =\n",
              "          document.querySelector('#df-dee1a08e-482e-4253-8ac4-354e9d8ba837 button.colab-df-convert');\n",
              "        buttonEl.style.display =\n",
              "          google.colab.kernel.accessAllowed ? 'block' : 'none';\n",
              "\n",
              "        async function convertToInteractive(key) {\n",
              "          const element = document.querySelector('#df-dee1a08e-482e-4253-8ac4-354e9d8ba837');\n",
              "          const dataTable =\n",
              "            await google.colab.kernel.invokeFunction('convertToInteractive',\n",
              "                                                     [key], {});\n",
              "          if (!dataTable) return;\n",
              "\n",
              "          const docLinkHtml = 'Like what you see? Visit the ' +\n",
              "            '<a target=\"_blank\" href=https://colab.research.google.com/notebooks/data_table.ipynb>data table notebook</a>'\n",
              "            + ' to learn more about interactive tables.';\n",
              "          element.innerHTML = '';\n",
              "          dataTable['output_type'] = 'display_data';\n",
              "          await google.colab.output.renderOutput(dataTable, element);\n",
              "          const docLink = document.createElement('div');\n",
              "          docLink.innerHTML = docLinkHtml;\n",
              "          element.appendChild(docLink);\n",
              "        }\n",
              "      </script>\n",
              "    </div>\n",
              "  </div>\n",
              "  "
            ]
          },
          "metadata": {},
          "execution_count": 38
        }
      ]
    },
    {
      "cell_type": "code",
      "source": [
        "print((df_LTV_01[df_LTV_01['unit_price'] == 0].shape)) \n",
        "print((df_LTV_01[df_LTV_01['customer_id'] == 0].shape))\n",
        "\n",
        "print((df_LTV_01[(df_LTV_01['customer_id'] == 0) & (df_LTV_01['unit_price'] == 0)].shape))"
      ],
      "metadata": {
        "colab": {
          "base_uri": "https://localhost:8080/"
        },
        "id": "nEO4YzIHeRwy",
        "outputId": "de57177c-009d-421f-e48b-79a7f0cb0e24"
      },
      "execution_count": 39,
      "outputs": [
        {
          "output_type": "stream",
          "name": "stdout",
          "text": [
            "(2515, 7)\n",
            "(0, 7)\n",
            "(0, 7)\n"
          ]
        }
      ]
    },
    {
      "cell_type": "code",
      "source": [
        "# df_LTV_01[ (df_LTV_01['unit_price'] == 0) & (df_LTV_01['customer_id'] != 0) ]"
      ],
      "metadata": {
        "id": "HmfhgmeefKIG"
      },
      "execution_count": 40,
      "outputs": []
    },
    {
      "cell_type": "code",
      "source": [
        "df_base[df_base['stock_code'] == '22034'] # unit_price == 0 인 상품 확인 "
      ],
      "metadata": {
        "colab": {
          "base_uri": "https://localhost:8080/",
          "height": 331
        },
        "id": "v1Q6ubxMdZri",
        "outputId": "07c4b41b-f53b-44ed-8e1b-f02a2fcd1758"
      },
      "execution_count": 41,
      "outputs": [
        {
          "output_type": "execute_result",
          "data": {
            "text/plain": [
              "       invoice_no stock_code           description  quantity  \\\n",
              "8828       537153      22034  ROBIN CHRISTMAS CARD         3   \n",
              "19996      537999      22034                   NaN      -223   \n",
              "35347      539436      22034  ROBIN CHRISTMAS CARD         5   \n",
              "44297     C540164      22034  ROBIN CHRISTMAS CARD       -12   \n",
              "243332     558445      22034                   NaN       -18   \n",
              "270602     560578      22034                   NaN        12   \n",
              "469110     576580      22034                   NaN        -5   \n",
              "490649     578065      22034  ROBIN CHRISTMAS CARD         1   \n",
              "501878     578833      22034  ROBIN CHRISTMAS CARD         1   \n",
              "\n",
              "            invoice_date  unit_price  customer_id         country  \n",
              "8828     12/5/2010 13:03        0.42      16718.0  United Kingdom  \n",
              "19996    12/9/2010 11:44        0.00          NaN  United Kingdom  \n",
              "35347   12/17/2010 14:49        0.42          NaN  United Kingdom  \n",
              "44297     1/5/2011 12:02        0.42      14911.0            EIRE  \n",
              "243332   6/29/2011 13:39        0.00          NaN  United Kingdom  \n",
              "270602   7/19/2011 15:12        0.00          NaN  United Kingdom  \n",
              "469110  11/15/2011 14:15        0.00          NaN  United Kingdom  \n",
              "490649  11/22/2011 15:41        0.83          NaN  United Kingdom  \n",
              "501878  11/25/2011 15:23        0.83          NaN  United Kingdom  "
            ],
            "text/html": [
              "\n",
              "  <div id=\"df-b57f1a43-7538-4dff-a9df-ba26aab845e1\">\n",
              "    <div class=\"colab-df-container\">\n",
              "      <div>\n",
              "<style scoped>\n",
              "    .dataframe tbody tr th:only-of-type {\n",
              "        vertical-align: middle;\n",
              "    }\n",
              "\n",
              "    .dataframe tbody tr th {\n",
              "        vertical-align: top;\n",
              "    }\n",
              "\n",
              "    .dataframe thead th {\n",
              "        text-align: right;\n",
              "    }\n",
              "</style>\n",
              "<table border=\"1\" class=\"dataframe\">\n",
              "  <thead>\n",
              "    <tr style=\"text-align: right;\">\n",
              "      <th></th>\n",
              "      <th>invoice_no</th>\n",
              "      <th>stock_code</th>\n",
              "      <th>description</th>\n",
              "      <th>quantity</th>\n",
              "      <th>invoice_date</th>\n",
              "      <th>unit_price</th>\n",
              "      <th>customer_id</th>\n",
              "      <th>country</th>\n",
              "    </tr>\n",
              "  </thead>\n",
              "  <tbody>\n",
              "    <tr>\n",
              "      <th>8828</th>\n",
              "      <td>537153</td>\n",
              "      <td>22034</td>\n",
              "      <td>ROBIN CHRISTMAS CARD</td>\n",
              "      <td>3</td>\n",
              "      <td>12/5/2010 13:03</td>\n",
              "      <td>0.42</td>\n",
              "      <td>16718.0</td>\n",
              "      <td>United Kingdom</td>\n",
              "    </tr>\n",
              "    <tr>\n",
              "      <th>19996</th>\n",
              "      <td>537999</td>\n",
              "      <td>22034</td>\n",
              "      <td>NaN</td>\n",
              "      <td>-223</td>\n",
              "      <td>12/9/2010 11:44</td>\n",
              "      <td>0.00</td>\n",
              "      <td>NaN</td>\n",
              "      <td>United Kingdom</td>\n",
              "    </tr>\n",
              "    <tr>\n",
              "      <th>35347</th>\n",
              "      <td>539436</td>\n",
              "      <td>22034</td>\n",
              "      <td>ROBIN CHRISTMAS CARD</td>\n",
              "      <td>5</td>\n",
              "      <td>12/17/2010 14:49</td>\n",
              "      <td>0.42</td>\n",
              "      <td>NaN</td>\n",
              "      <td>United Kingdom</td>\n",
              "    </tr>\n",
              "    <tr>\n",
              "      <th>44297</th>\n",
              "      <td>C540164</td>\n",
              "      <td>22034</td>\n",
              "      <td>ROBIN CHRISTMAS CARD</td>\n",
              "      <td>-12</td>\n",
              "      <td>1/5/2011 12:02</td>\n",
              "      <td>0.42</td>\n",
              "      <td>14911.0</td>\n",
              "      <td>EIRE</td>\n",
              "    </tr>\n",
              "    <tr>\n",
              "      <th>243332</th>\n",
              "      <td>558445</td>\n",
              "      <td>22034</td>\n",
              "      <td>NaN</td>\n",
              "      <td>-18</td>\n",
              "      <td>6/29/2011 13:39</td>\n",
              "      <td>0.00</td>\n",
              "      <td>NaN</td>\n",
              "      <td>United Kingdom</td>\n",
              "    </tr>\n",
              "    <tr>\n",
              "      <th>270602</th>\n",
              "      <td>560578</td>\n",
              "      <td>22034</td>\n",
              "      <td>NaN</td>\n",
              "      <td>12</td>\n",
              "      <td>7/19/2011 15:12</td>\n",
              "      <td>0.00</td>\n",
              "      <td>NaN</td>\n",
              "      <td>United Kingdom</td>\n",
              "    </tr>\n",
              "    <tr>\n",
              "      <th>469110</th>\n",
              "      <td>576580</td>\n",
              "      <td>22034</td>\n",
              "      <td>NaN</td>\n",
              "      <td>-5</td>\n",
              "      <td>11/15/2011 14:15</td>\n",
              "      <td>0.00</td>\n",
              "      <td>NaN</td>\n",
              "      <td>United Kingdom</td>\n",
              "    </tr>\n",
              "    <tr>\n",
              "      <th>490649</th>\n",
              "      <td>578065</td>\n",
              "      <td>22034</td>\n",
              "      <td>ROBIN CHRISTMAS CARD</td>\n",
              "      <td>1</td>\n",
              "      <td>11/22/2011 15:41</td>\n",
              "      <td>0.83</td>\n",
              "      <td>NaN</td>\n",
              "      <td>United Kingdom</td>\n",
              "    </tr>\n",
              "    <tr>\n",
              "      <th>501878</th>\n",
              "      <td>578833</td>\n",
              "      <td>22034</td>\n",
              "      <td>ROBIN CHRISTMAS CARD</td>\n",
              "      <td>1</td>\n",
              "      <td>11/25/2011 15:23</td>\n",
              "      <td>0.83</td>\n",
              "      <td>NaN</td>\n",
              "      <td>United Kingdom</td>\n",
              "    </tr>\n",
              "  </tbody>\n",
              "</table>\n",
              "</div>\n",
              "      <button class=\"colab-df-convert\" onclick=\"convertToInteractive('df-b57f1a43-7538-4dff-a9df-ba26aab845e1')\"\n",
              "              title=\"Convert this dataframe to an interactive table.\"\n",
              "              style=\"display:none;\">\n",
              "        \n",
              "  <svg xmlns=\"http://www.w3.org/2000/svg\" height=\"24px\"viewBox=\"0 0 24 24\"\n",
              "       width=\"24px\">\n",
              "    <path d=\"M0 0h24v24H0V0z\" fill=\"none\"/>\n",
              "    <path d=\"M18.56 5.44l.94 2.06.94-2.06 2.06-.94-2.06-.94-.94-2.06-.94 2.06-2.06.94zm-11 1L8.5 8.5l.94-2.06 2.06-.94-2.06-.94L8.5 2.5l-.94 2.06-2.06.94zm10 10l.94 2.06.94-2.06 2.06-.94-2.06-.94-.94-2.06-.94 2.06-2.06.94z\"/><path d=\"M17.41 7.96l-1.37-1.37c-.4-.4-.92-.59-1.43-.59-.52 0-1.04.2-1.43.59L10.3 9.45l-7.72 7.72c-.78.78-.78 2.05 0 2.83L4 21.41c.39.39.9.59 1.41.59.51 0 1.02-.2 1.41-.59l7.78-7.78 2.81-2.81c.8-.78.8-2.07 0-2.86zM5.41 20L4 18.59l7.72-7.72 1.47 1.35L5.41 20z\"/>\n",
              "  </svg>\n",
              "      </button>\n",
              "      \n",
              "  <style>\n",
              "    .colab-df-container {\n",
              "      display:flex;\n",
              "      flex-wrap:wrap;\n",
              "      gap: 12px;\n",
              "    }\n",
              "\n",
              "    .colab-df-convert {\n",
              "      background-color: #E8F0FE;\n",
              "      border: none;\n",
              "      border-radius: 50%;\n",
              "      cursor: pointer;\n",
              "      display: none;\n",
              "      fill: #1967D2;\n",
              "      height: 32px;\n",
              "      padding: 0 0 0 0;\n",
              "      width: 32px;\n",
              "    }\n",
              "\n",
              "    .colab-df-convert:hover {\n",
              "      background-color: #E2EBFA;\n",
              "      box-shadow: 0px 1px 2px rgba(60, 64, 67, 0.3), 0px 1px 3px 1px rgba(60, 64, 67, 0.15);\n",
              "      fill: #174EA6;\n",
              "    }\n",
              "\n",
              "    [theme=dark] .colab-df-convert {\n",
              "      background-color: #3B4455;\n",
              "      fill: #D2E3FC;\n",
              "    }\n",
              "\n",
              "    [theme=dark] .colab-df-convert:hover {\n",
              "      background-color: #434B5C;\n",
              "      box-shadow: 0px 1px 3px 1px rgba(0, 0, 0, 0.15);\n",
              "      filter: drop-shadow(0px 1px 2px rgba(0, 0, 0, 0.3));\n",
              "      fill: #FFFFFF;\n",
              "    }\n",
              "  </style>\n",
              "\n",
              "      <script>\n",
              "        const buttonEl =\n",
              "          document.querySelector('#df-b57f1a43-7538-4dff-a9df-ba26aab845e1 button.colab-df-convert');\n",
              "        buttonEl.style.display =\n",
              "          google.colab.kernel.accessAllowed ? 'block' : 'none';\n",
              "\n",
              "        async function convertToInteractive(key) {\n",
              "          const element = document.querySelector('#df-b57f1a43-7538-4dff-a9df-ba26aab845e1');\n",
              "          const dataTable =\n",
              "            await google.colab.kernel.invokeFunction('convertToInteractive',\n",
              "                                                     [key], {});\n",
              "          if (!dataTable) return;\n",
              "\n",
              "          const docLinkHtml = 'Like what you see? Visit the ' +\n",
              "            '<a target=\"_blank\" href=https://colab.research.google.com/notebooks/data_table.ipynb>data table notebook</a>'\n",
              "            + ' to learn more about interactive tables.';\n",
              "          element.innerHTML = '';\n",
              "          dataTable['output_type'] = 'display_data';\n",
              "          await google.colab.output.renderOutput(dataTable, element);\n",
              "          const docLink = document.createElement('div');\n",
              "          docLink.innerHTML = docLinkHtml;\n",
              "          element.appendChild(docLink);\n",
              "        }\n",
              "      </script>\n",
              "    </div>\n",
              "  </div>\n",
              "  "
            ]
          },
          "metadata": {},
          "execution_count": 41
        }
      ]
    },
    {
      "cell_type": "markdown",
      "source": [
        "- unit_price = 0인 이유에 대해 확정짓기 어려움 \n",
        "\n",
        "    - 같은 stock_code인데도 unit_price = 0 인 경우 존재 \n",
        "    -  unit_price = 0 인 경우 중 customer_id이 NaN이었던 경우가 대부분이긴 했으나, 이유를 추측하기 어려움 \n",
        "\n",
        "\n",
        "**추측**\n",
        "1.   단기성 이벤트로 해당 상품을 무료로 증정한 적이 있었다 \n",
        "2.   프로모션이 진행됨에 따라 같은 stock_code여도 unit_price가 다를 수 있다 "
      ],
      "metadata": {
        "id": "bffBBSNjfvoy"
      }
    },
    {
      "cell_type": "markdown",
      "source": [
        "## 2.2 unit_price, quantity에 대한 추가 전처리 \n"
      ],
      "metadata": {
        "id": "HgDO72CCgunz"
      }
    },
    {
      "cell_type": "code",
      "source": [
        "# df_LTV_01['total_price'] = df_LTV_01['quantity'] * df_LTV_01['unit_price']"
      ],
      "metadata": {
        "id": "yO2pZBfglz-Z"
      },
      "execution_count": 42,
      "outputs": []
    },
    {
      "cell_type": "code",
      "source": [
        "# df_LTV_01.groupby('customer_id').agg({\"total_price\": \"sum\"})"
      ],
      "metadata": {
        "id": "AC29Y3srllKV"
      },
      "execution_count": 43,
      "outputs": []
    },
    {
      "cell_type": "code",
      "source": [
        "## rollback을 위해 copy \n",
        "df_LTV_02 = df_LTV_01.copy()\n",
        "# df_LTV_02 = df_LTV_02[df_LTV_02['quantity'] > 0]"
      ],
      "metadata": {
        "id": "LE9t3eS3eK2Y"
      },
      "execution_count": 44,
      "outputs": []
    },
    {
      "cell_type": "code",
      "source": [
        "# ## total_price = quantity * unit_price 열 추가 \n",
        "df_LTV_02['total_price'] = df_LTV_02['quantity'] * df_LTV_02['unit_price']"
      ],
      "metadata": {
        "id": "zqRcQjudO7Fi"
      },
      "execution_count": 45,
      "outputs": []
    },
    {
      "cell_type": "code",
      "source": [
        "# ## total_price = quantity * unit_price 열 추가 \n",
        "# df_LTV_02['total_price'] = df_LTV_02['quantity'] * df_LTV_02['unit_price']"
      ],
      "metadata": {
        "id": "fhOfRzrY8JZM"
      },
      "execution_count": 46,
      "outputs": []
    },
    {
      "cell_type": "code",
      "source": [
        "df_LTV_01.shape"
      ],
      "metadata": {
        "id": "UuNzkwc91OTu",
        "colab": {
          "base_uri": "https://localhost:8080/"
        },
        "outputId": "2d08e05e-ceb9-4b1d-d676-980eb2234f92"
      },
      "execution_count": 47,
      "outputs": [
        {
          "output_type": "execute_result",
          "data": {
            "text/plain": [
              "(541909, 7)"
            ]
          },
          "metadata": {},
          "execution_count": 47
        }
      ]
    },
    {
      "cell_type": "code",
      "source": [
        "df_LTV_02.shape"
      ],
      "metadata": {
        "id": "ycm7M3h11OaI",
        "colab": {
          "base_uri": "https://localhost:8080/"
        },
        "outputId": "0b1b886d-fac6-42ca-edc9-822e5f62cc40"
      },
      "execution_count": 48,
      "outputs": [
        {
          "output_type": "execute_result",
          "data": {
            "text/plain": [
              "(541909, 8)"
            ]
          },
          "metadata": {},
          "execution_count": 48
        }
      ]
    },
    {
      "cell_type": "code",
      "source": [
        "## customer_id == '0'인 경우 drop \n",
        "df_LTV_02 = df_LTV_02[ df_LTV_02['customer_id'] != '0']"
      ],
      "metadata": {
        "id": "cI_zTZMamLL3"
      },
      "execution_count": 49,
      "outputs": []
    },
    {
      "cell_type": "markdown",
      "source": [
        "Hypothetically, we could consider to use the invoice numbers as dummy variables that each represent an otherwise unknown customer. But this would distort our model. We are interested in repeat customers and their demand patterns. \n",
        "\n",
        "(출처: https://towardsdatascience.com/buy-til-you-die-predict-customer-lifetime-value-in-python-9701bfd4ddc0) "
      ],
      "metadata": {
        "id": "Pj2hLCfakp9M"
      }
    },
    {
      "cell_type": "code",
      "source": [
        "df_LTV_02.shape"
      ],
      "metadata": {
        "colab": {
          "base_uri": "https://localhost:8080/"
        },
        "id": "xIa0QmtSmUrk",
        "outputId": "05cc1160-cbed-41e3-803c-ca3b21622b86"
      },
      "execution_count": 50,
      "outputs": [
        {
          "output_type": "execute_result",
          "data": {
            "text/plain": [
              "(406829, 8)"
            ]
          },
          "metadata": {},
          "execution_count": 50
        }
      ]
    },
    {
      "cell_type": "code",
      "source": [
        "df_LTV_02.info() # 최종 LTV 계산에 활용할 데이터 형태 "
      ],
      "metadata": {
        "colab": {
          "base_uri": "https://localhost:8080/"
        },
        "id": "95Z1Ho4MmX3E",
        "outputId": "bd4fd086-7b59-4c26-f900-2333d44ae295"
      },
      "execution_count": 51,
      "outputs": [
        {
          "output_type": "stream",
          "name": "stdout",
          "text": [
            "<class 'pandas.core.frame.DataFrame'>\n",
            "Int64Index: 406829 entries, 0 to 541908\n",
            "Data columns (total 8 columns):\n",
            " #   Column            Non-Null Count   Dtype         \n",
            "---  ------            --------------   -----         \n",
            " 0   invoice_no        406829 non-null  object        \n",
            " 1   stock_code        406829 non-null  object        \n",
            " 2   quantity          406829 non-null  int64         \n",
            " 3   invoice_date      406829 non-null  datetime64[ns]\n",
            " 4   unit_price        406829 non-null  float64       \n",
            " 5   customer_id       406829 non-null  object        \n",
            " 6   invoice_datetime  406829 non-null  datetime64[ns]\n",
            " 7   total_price       406829 non-null  float64       \n",
            "dtypes: datetime64[ns](2), float64(2), int64(1), object(3)\n",
            "memory usage: 27.9+ MB\n"
          ]
        }
      ]
    },
    {
      "cell_type": "code",
      "source": [
        "df_LTV_02.head()"
      ],
      "metadata": {
        "colab": {
          "base_uri": "https://localhost:8080/",
          "height": 206
        },
        "id": "fOJ_rOQmLyDR",
        "outputId": "53a7250e-295e-4062-b2a2-7594e79e50fc"
      },
      "execution_count": 52,
      "outputs": [
        {
          "output_type": "execute_result",
          "data": {
            "text/plain": [
              "  invoice_no stock_code  quantity invoice_date  unit_price customer_id  \\\n",
              "0     536365     85123A         6   2010-12-01        2.55       17850   \n",
              "1     536365      71053         6   2010-12-01        3.39       17850   \n",
              "2     536365     84406B         8   2010-12-01        2.75       17850   \n",
              "3     536365     84029G         6   2010-12-01        3.39       17850   \n",
              "4     536365     84029E         6   2010-12-01        3.39       17850   \n",
              "\n",
              "     invoice_datetime  total_price  \n",
              "0 2010-12-01 08:26:00        15.30  \n",
              "1 2010-12-01 08:26:00        20.34  \n",
              "2 2010-12-01 08:26:00        22.00  \n",
              "3 2010-12-01 08:26:00        20.34  \n",
              "4 2010-12-01 08:26:00        20.34  "
            ],
            "text/html": [
              "\n",
              "  <div id=\"df-d9976dd1-a58e-4d1d-9c25-d7ebe5938fa9\">\n",
              "    <div class=\"colab-df-container\">\n",
              "      <div>\n",
              "<style scoped>\n",
              "    .dataframe tbody tr th:only-of-type {\n",
              "        vertical-align: middle;\n",
              "    }\n",
              "\n",
              "    .dataframe tbody tr th {\n",
              "        vertical-align: top;\n",
              "    }\n",
              "\n",
              "    .dataframe thead th {\n",
              "        text-align: right;\n",
              "    }\n",
              "</style>\n",
              "<table border=\"1\" class=\"dataframe\">\n",
              "  <thead>\n",
              "    <tr style=\"text-align: right;\">\n",
              "      <th></th>\n",
              "      <th>invoice_no</th>\n",
              "      <th>stock_code</th>\n",
              "      <th>quantity</th>\n",
              "      <th>invoice_date</th>\n",
              "      <th>unit_price</th>\n",
              "      <th>customer_id</th>\n",
              "      <th>invoice_datetime</th>\n",
              "      <th>total_price</th>\n",
              "    </tr>\n",
              "  </thead>\n",
              "  <tbody>\n",
              "    <tr>\n",
              "      <th>0</th>\n",
              "      <td>536365</td>\n",
              "      <td>85123A</td>\n",
              "      <td>6</td>\n",
              "      <td>2010-12-01</td>\n",
              "      <td>2.55</td>\n",
              "      <td>17850</td>\n",
              "      <td>2010-12-01 08:26:00</td>\n",
              "      <td>15.30</td>\n",
              "    </tr>\n",
              "    <tr>\n",
              "      <th>1</th>\n",
              "      <td>536365</td>\n",
              "      <td>71053</td>\n",
              "      <td>6</td>\n",
              "      <td>2010-12-01</td>\n",
              "      <td>3.39</td>\n",
              "      <td>17850</td>\n",
              "      <td>2010-12-01 08:26:00</td>\n",
              "      <td>20.34</td>\n",
              "    </tr>\n",
              "    <tr>\n",
              "      <th>2</th>\n",
              "      <td>536365</td>\n",
              "      <td>84406B</td>\n",
              "      <td>8</td>\n",
              "      <td>2010-12-01</td>\n",
              "      <td>2.75</td>\n",
              "      <td>17850</td>\n",
              "      <td>2010-12-01 08:26:00</td>\n",
              "      <td>22.00</td>\n",
              "    </tr>\n",
              "    <tr>\n",
              "      <th>3</th>\n",
              "      <td>536365</td>\n",
              "      <td>84029G</td>\n",
              "      <td>6</td>\n",
              "      <td>2010-12-01</td>\n",
              "      <td>3.39</td>\n",
              "      <td>17850</td>\n",
              "      <td>2010-12-01 08:26:00</td>\n",
              "      <td>20.34</td>\n",
              "    </tr>\n",
              "    <tr>\n",
              "      <th>4</th>\n",
              "      <td>536365</td>\n",
              "      <td>84029E</td>\n",
              "      <td>6</td>\n",
              "      <td>2010-12-01</td>\n",
              "      <td>3.39</td>\n",
              "      <td>17850</td>\n",
              "      <td>2010-12-01 08:26:00</td>\n",
              "      <td>20.34</td>\n",
              "    </tr>\n",
              "  </tbody>\n",
              "</table>\n",
              "</div>\n",
              "      <button class=\"colab-df-convert\" onclick=\"convertToInteractive('df-d9976dd1-a58e-4d1d-9c25-d7ebe5938fa9')\"\n",
              "              title=\"Convert this dataframe to an interactive table.\"\n",
              "              style=\"display:none;\">\n",
              "        \n",
              "  <svg xmlns=\"http://www.w3.org/2000/svg\" height=\"24px\"viewBox=\"0 0 24 24\"\n",
              "       width=\"24px\">\n",
              "    <path d=\"M0 0h24v24H0V0z\" fill=\"none\"/>\n",
              "    <path d=\"M18.56 5.44l.94 2.06.94-2.06 2.06-.94-2.06-.94-.94-2.06-.94 2.06-2.06.94zm-11 1L8.5 8.5l.94-2.06 2.06-.94-2.06-.94L8.5 2.5l-.94 2.06-2.06.94zm10 10l.94 2.06.94-2.06 2.06-.94-2.06-.94-.94-2.06-.94 2.06-2.06.94z\"/><path d=\"M17.41 7.96l-1.37-1.37c-.4-.4-.92-.59-1.43-.59-.52 0-1.04.2-1.43.59L10.3 9.45l-7.72 7.72c-.78.78-.78 2.05 0 2.83L4 21.41c.39.39.9.59 1.41.59.51 0 1.02-.2 1.41-.59l7.78-7.78 2.81-2.81c.8-.78.8-2.07 0-2.86zM5.41 20L4 18.59l7.72-7.72 1.47 1.35L5.41 20z\"/>\n",
              "  </svg>\n",
              "      </button>\n",
              "      \n",
              "  <style>\n",
              "    .colab-df-container {\n",
              "      display:flex;\n",
              "      flex-wrap:wrap;\n",
              "      gap: 12px;\n",
              "    }\n",
              "\n",
              "    .colab-df-convert {\n",
              "      background-color: #E8F0FE;\n",
              "      border: none;\n",
              "      border-radius: 50%;\n",
              "      cursor: pointer;\n",
              "      display: none;\n",
              "      fill: #1967D2;\n",
              "      height: 32px;\n",
              "      padding: 0 0 0 0;\n",
              "      width: 32px;\n",
              "    }\n",
              "\n",
              "    .colab-df-convert:hover {\n",
              "      background-color: #E2EBFA;\n",
              "      box-shadow: 0px 1px 2px rgba(60, 64, 67, 0.3), 0px 1px 3px 1px rgba(60, 64, 67, 0.15);\n",
              "      fill: #174EA6;\n",
              "    }\n",
              "\n",
              "    [theme=dark] .colab-df-convert {\n",
              "      background-color: #3B4455;\n",
              "      fill: #D2E3FC;\n",
              "    }\n",
              "\n",
              "    [theme=dark] .colab-df-convert:hover {\n",
              "      background-color: #434B5C;\n",
              "      box-shadow: 0px 1px 3px 1px rgba(0, 0, 0, 0.15);\n",
              "      filter: drop-shadow(0px 1px 2px rgba(0, 0, 0, 0.3));\n",
              "      fill: #FFFFFF;\n",
              "    }\n",
              "  </style>\n",
              "\n",
              "      <script>\n",
              "        const buttonEl =\n",
              "          document.querySelector('#df-d9976dd1-a58e-4d1d-9c25-d7ebe5938fa9 button.colab-df-convert');\n",
              "        buttonEl.style.display =\n",
              "          google.colab.kernel.accessAllowed ? 'block' : 'none';\n",
              "\n",
              "        async function convertToInteractive(key) {\n",
              "          const element = document.querySelector('#df-d9976dd1-a58e-4d1d-9c25-d7ebe5938fa9');\n",
              "          const dataTable =\n",
              "            await google.colab.kernel.invokeFunction('convertToInteractive',\n",
              "                                                     [key], {});\n",
              "          if (!dataTable) return;\n",
              "\n",
              "          const docLinkHtml = 'Like what you see? Visit the ' +\n",
              "            '<a target=\"_blank\" href=https://colab.research.google.com/notebooks/data_table.ipynb>data table notebook</a>'\n",
              "            + ' to learn more about interactive tables.';\n",
              "          element.innerHTML = '';\n",
              "          dataTable['output_type'] = 'display_data';\n",
              "          await google.colab.output.renderOutput(dataTable, element);\n",
              "          const docLink = document.createElement('div');\n",
              "          docLink.innerHTML = docLinkHtml;\n",
              "          element.appendChild(docLink);\n",
              "        }\n",
              "      </script>\n",
              "    </div>\n",
              "  </div>\n",
              "  "
            ]
          },
          "metadata": {},
          "execution_count": 52
        }
      ]
    },
    {
      "cell_type": "markdown",
      "source": [
        "#_3. Life Time Value (고객 생애가치) 계산 "
      ],
      "metadata": {
        "id": "-mDA6rrfjNuP"
      }
    },
    {
      "cell_type": "code",
      "source": [
        "max(df_LTV_01['invoice_date'])"
      ],
      "metadata": {
        "colab": {
          "base_uri": "https://localhost:8080/"
        },
        "id": "lgbIrXJwMt2B",
        "outputId": "23caae02-6563-4c2c-f00b-80e5a44c19ad"
      },
      "execution_count": 53,
      "outputs": [
        {
          "output_type": "execute_result",
          "data": {
            "text/plain": [
              "Timestamp('2011-12-09 00:00:00')"
            ]
          },
          "metadata": {},
          "execution_count": 53
        }
      ]
    },
    {
      "cell_type": "code",
      "source": [
        "today_date = dt.datetime(2011, 12, 9)"
      ],
      "metadata": {
        "id": "xWrTNKnnMrRV"
      },
      "execution_count": 54,
      "outputs": []
    },
    {
      "cell_type": "markdown",
      "source": [
        "## 3.1 RFM metrics "
      ],
      "metadata": {
        "id": "VIGxVKgrcJAs"
      }
    },
    {
      "cell_type": "markdown",
      "source": [
        "**RFM Metrics**\n",
        "- recency:\n",
        "    - the number of days between her first and her latest transaction \n",
        "    - affects retention, a measure of engagement\n",
        "- frequency:  the number of time periods in which one or more repeat purchases were recorded\n",
        "- monetary: affects a customer's lifetime value \n",
        "- T: the number of days between her “birth” — the first invoice\n",
        "\n",
        "RFM scoring을 통해 고객을 segmentation할 수도 있음 "
      ],
      "metadata": {
        "id": "lfLdX-X3Ocb1"
      }
    },
    {
      "cell_type": "code",
      "source": [
        "df_LTV_02[df_LTV_02['customer_id'] == '14527']"
      ],
      "metadata": {
        "colab": {
          "base_uri": "https://localhost:8080/",
          "height": 423
        },
        "id": "2ikiqOz1mQRr",
        "outputId": "77ed9aa5-c56a-473e-f8f2-c902f2013f6b"
      },
      "execution_count": 55,
      "outputs": [
        {
          "output_type": "execute_result",
          "data": {
            "text/plain": [
              "       invoice_no stock_code  quantity invoice_date  unit_price customer_id  \\\n",
              "141       C536379          D        -1   2010-12-01       27.50       14527   \n",
              "8963       537159      22112         6   2010-12-05        4.95       14527   \n",
              "8964       537159      22111         1   2010-12-05        4.95       14527   \n",
              "8965       537159      21479         1   2010-12-05        3.75       14527   \n",
              "8966       537159      22114         6   2010-12-05        3.95       14527   \n",
              "...           ...        ...       ...          ...         ...         ...   \n",
              "533807     581114      22111         1   2011-12-07        4.95       14527   \n",
              "533808     581114      22835         2   2011-12-07        4.95       14527   \n",
              "533809     581114      22114         6   2011-12-07        4.25       14527   \n",
              "533810     581114      21479         2   2011-12-07        4.25       14527   \n",
              "533811     581114      22112         3   2011-12-07        4.95       14527   \n",
              "\n",
              "          invoice_datetime  total_price  \n",
              "141    2010-12-01 09:41:00       -27.50  \n",
              "8963   2010-12-05 13:17:00        29.70  \n",
              "8964   2010-12-05 13:17:00         4.95  \n",
              "8965   2010-12-05 13:17:00         3.75  \n",
              "8966   2010-12-05 13:17:00        23.70  \n",
              "...                    ...          ...  \n",
              "533807 2011-12-07 12:19:00         4.95  \n",
              "533808 2011-12-07 12:19:00         9.90  \n",
              "533809 2011-12-07 12:19:00        25.50  \n",
              "533810 2011-12-07 12:19:00         8.50  \n",
              "533811 2011-12-07 12:19:00        14.85  \n",
              "\n",
              "[1011 rows x 8 columns]"
            ],
            "text/html": [
              "\n",
              "  <div id=\"df-621278ea-4cef-4dcd-97a3-cd466317f591\">\n",
              "    <div class=\"colab-df-container\">\n",
              "      <div>\n",
              "<style scoped>\n",
              "    .dataframe tbody tr th:only-of-type {\n",
              "        vertical-align: middle;\n",
              "    }\n",
              "\n",
              "    .dataframe tbody tr th {\n",
              "        vertical-align: top;\n",
              "    }\n",
              "\n",
              "    .dataframe thead th {\n",
              "        text-align: right;\n",
              "    }\n",
              "</style>\n",
              "<table border=\"1\" class=\"dataframe\">\n",
              "  <thead>\n",
              "    <tr style=\"text-align: right;\">\n",
              "      <th></th>\n",
              "      <th>invoice_no</th>\n",
              "      <th>stock_code</th>\n",
              "      <th>quantity</th>\n",
              "      <th>invoice_date</th>\n",
              "      <th>unit_price</th>\n",
              "      <th>customer_id</th>\n",
              "      <th>invoice_datetime</th>\n",
              "      <th>total_price</th>\n",
              "    </tr>\n",
              "  </thead>\n",
              "  <tbody>\n",
              "    <tr>\n",
              "      <th>141</th>\n",
              "      <td>C536379</td>\n",
              "      <td>D</td>\n",
              "      <td>-1</td>\n",
              "      <td>2010-12-01</td>\n",
              "      <td>27.50</td>\n",
              "      <td>14527</td>\n",
              "      <td>2010-12-01 09:41:00</td>\n",
              "      <td>-27.50</td>\n",
              "    </tr>\n",
              "    <tr>\n",
              "      <th>8963</th>\n",
              "      <td>537159</td>\n",
              "      <td>22112</td>\n",
              "      <td>6</td>\n",
              "      <td>2010-12-05</td>\n",
              "      <td>4.95</td>\n",
              "      <td>14527</td>\n",
              "      <td>2010-12-05 13:17:00</td>\n",
              "      <td>29.70</td>\n",
              "    </tr>\n",
              "    <tr>\n",
              "      <th>8964</th>\n",
              "      <td>537159</td>\n",
              "      <td>22111</td>\n",
              "      <td>1</td>\n",
              "      <td>2010-12-05</td>\n",
              "      <td>4.95</td>\n",
              "      <td>14527</td>\n",
              "      <td>2010-12-05 13:17:00</td>\n",
              "      <td>4.95</td>\n",
              "    </tr>\n",
              "    <tr>\n",
              "      <th>8965</th>\n",
              "      <td>537159</td>\n",
              "      <td>21479</td>\n",
              "      <td>1</td>\n",
              "      <td>2010-12-05</td>\n",
              "      <td>3.75</td>\n",
              "      <td>14527</td>\n",
              "      <td>2010-12-05 13:17:00</td>\n",
              "      <td>3.75</td>\n",
              "    </tr>\n",
              "    <tr>\n",
              "      <th>8966</th>\n",
              "      <td>537159</td>\n",
              "      <td>22114</td>\n",
              "      <td>6</td>\n",
              "      <td>2010-12-05</td>\n",
              "      <td>3.95</td>\n",
              "      <td>14527</td>\n",
              "      <td>2010-12-05 13:17:00</td>\n",
              "      <td>23.70</td>\n",
              "    </tr>\n",
              "    <tr>\n",
              "      <th>...</th>\n",
              "      <td>...</td>\n",
              "      <td>...</td>\n",
              "      <td>...</td>\n",
              "      <td>...</td>\n",
              "      <td>...</td>\n",
              "      <td>...</td>\n",
              "      <td>...</td>\n",
              "      <td>...</td>\n",
              "    </tr>\n",
              "    <tr>\n",
              "      <th>533807</th>\n",
              "      <td>581114</td>\n",
              "      <td>22111</td>\n",
              "      <td>1</td>\n",
              "      <td>2011-12-07</td>\n",
              "      <td>4.95</td>\n",
              "      <td>14527</td>\n",
              "      <td>2011-12-07 12:19:00</td>\n",
              "      <td>4.95</td>\n",
              "    </tr>\n",
              "    <tr>\n",
              "      <th>533808</th>\n",
              "      <td>581114</td>\n",
              "      <td>22835</td>\n",
              "      <td>2</td>\n",
              "      <td>2011-12-07</td>\n",
              "      <td>4.95</td>\n",
              "      <td>14527</td>\n",
              "      <td>2011-12-07 12:19:00</td>\n",
              "      <td>9.90</td>\n",
              "    </tr>\n",
              "    <tr>\n",
              "      <th>533809</th>\n",
              "      <td>581114</td>\n",
              "      <td>22114</td>\n",
              "      <td>6</td>\n",
              "      <td>2011-12-07</td>\n",
              "      <td>4.25</td>\n",
              "      <td>14527</td>\n",
              "      <td>2011-12-07 12:19:00</td>\n",
              "      <td>25.50</td>\n",
              "    </tr>\n",
              "    <tr>\n",
              "      <th>533810</th>\n",
              "      <td>581114</td>\n",
              "      <td>21479</td>\n",
              "      <td>2</td>\n",
              "      <td>2011-12-07</td>\n",
              "      <td>4.25</td>\n",
              "      <td>14527</td>\n",
              "      <td>2011-12-07 12:19:00</td>\n",
              "      <td>8.50</td>\n",
              "    </tr>\n",
              "    <tr>\n",
              "      <th>533811</th>\n",
              "      <td>581114</td>\n",
              "      <td>22112</td>\n",
              "      <td>3</td>\n",
              "      <td>2011-12-07</td>\n",
              "      <td>4.95</td>\n",
              "      <td>14527</td>\n",
              "      <td>2011-12-07 12:19:00</td>\n",
              "      <td>14.85</td>\n",
              "    </tr>\n",
              "  </tbody>\n",
              "</table>\n",
              "<p>1011 rows × 8 columns</p>\n",
              "</div>\n",
              "      <button class=\"colab-df-convert\" onclick=\"convertToInteractive('df-621278ea-4cef-4dcd-97a3-cd466317f591')\"\n",
              "              title=\"Convert this dataframe to an interactive table.\"\n",
              "              style=\"display:none;\">\n",
              "        \n",
              "  <svg xmlns=\"http://www.w3.org/2000/svg\" height=\"24px\"viewBox=\"0 0 24 24\"\n",
              "       width=\"24px\">\n",
              "    <path d=\"M0 0h24v24H0V0z\" fill=\"none\"/>\n",
              "    <path d=\"M18.56 5.44l.94 2.06.94-2.06 2.06-.94-2.06-.94-.94-2.06-.94 2.06-2.06.94zm-11 1L8.5 8.5l.94-2.06 2.06-.94-2.06-.94L8.5 2.5l-.94 2.06-2.06.94zm10 10l.94 2.06.94-2.06 2.06-.94-2.06-.94-.94-2.06-.94 2.06-2.06.94z\"/><path d=\"M17.41 7.96l-1.37-1.37c-.4-.4-.92-.59-1.43-.59-.52 0-1.04.2-1.43.59L10.3 9.45l-7.72 7.72c-.78.78-.78 2.05 0 2.83L4 21.41c.39.39.9.59 1.41.59.51 0 1.02-.2 1.41-.59l7.78-7.78 2.81-2.81c.8-.78.8-2.07 0-2.86zM5.41 20L4 18.59l7.72-7.72 1.47 1.35L5.41 20z\"/>\n",
              "  </svg>\n",
              "      </button>\n",
              "      \n",
              "  <style>\n",
              "    .colab-df-container {\n",
              "      display:flex;\n",
              "      flex-wrap:wrap;\n",
              "      gap: 12px;\n",
              "    }\n",
              "\n",
              "    .colab-df-convert {\n",
              "      background-color: #E8F0FE;\n",
              "      border: none;\n",
              "      border-radius: 50%;\n",
              "      cursor: pointer;\n",
              "      display: none;\n",
              "      fill: #1967D2;\n",
              "      height: 32px;\n",
              "      padding: 0 0 0 0;\n",
              "      width: 32px;\n",
              "    }\n",
              "\n",
              "    .colab-df-convert:hover {\n",
              "      background-color: #E2EBFA;\n",
              "      box-shadow: 0px 1px 2px rgba(60, 64, 67, 0.3), 0px 1px 3px 1px rgba(60, 64, 67, 0.15);\n",
              "      fill: #174EA6;\n",
              "    }\n",
              "\n",
              "    [theme=dark] .colab-df-convert {\n",
              "      background-color: #3B4455;\n",
              "      fill: #D2E3FC;\n",
              "    }\n",
              "\n",
              "    [theme=dark] .colab-df-convert:hover {\n",
              "      background-color: #434B5C;\n",
              "      box-shadow: 0px 1px 3px 1px rgba(0, 0, 0, 0.15);\n",
              "      filter: drop-shadow(0px 1px 2px rgba(0, 0, 0, 0.3));\n",
              "      fill: #FFFFFF;\n",
              "    }\n",
              "  </style>\n",
              "\n",
              "      <script>\n",
              "        const buttonEl =\n",
              "          document.querySelector('#df-621278ea-4cef-4dcd-97a3-cd466317f591 button.colab-df-convert');\n",
              "        buttonEl.style.display =\n",
              "          google.colab.kernel.accessAllowed ? 'block' : 'none';\n",
              "\n",
              "        async function convertToInteractive(key) {\n",
              "          const element = document.querySelector('#df-621278ea-4cef-4dcd-97a3-cd466317f591');\n",
              "          const dataTable =\n",
              "            await google.colab.kernel.invokeFunction('convertToInteractive',\n",
              "                                                     [key], {});\n",
              "          if (!dataTable) return;\n",
              "\n",
              "          const docLinkHtml = 'Like what you see? Visit the ' +\n",
              "            '<a target=\"_blank\" href=https://colab.research.google.com/notebooks/data_table.ipynb>data table notebook</a>'\n",
              "            + ' to learn more about interactive tables.';\n",
              "          element.innerHTML = '';\n",
              "          dataTable['output_type'] = 'display_data';\n",
              "          await google.colab.output.renderOutput(dataTable, element);\n",
              "          const docLink = document.createElement('div');\n",
              "          docLink.innerHTML = docLinkHtml;\n",
              "          element.appendChild(docLink);\n",
              "        }\n",
              "      </script>\n",
              "    </div>\n",
              "  </div>\n",
              "  "
            ]
          },
          "metadata": {},
          "execution_count": 55
        }
      ]
    },
    {
      "cell_type": "code",
      "source": [
        "# df_LTV_02[df_LTV_02['customer_id'] == '12348']"
      ],
      "metadata": {
        "id": "MrxND-15WbO-"
      },
      "execution_count": 56,
      "outputs": []
    },
    {
      "cell_type": "code",
      "source": [
        "%%time \n",
        "ltv_df = df_LTV_02.groupby(\"customer_id\").agg(\n",
        "    {\n",
        "        \"invoice_date\": [\n",
        "            lambda x: (x.max() - x.min()).days,\n",
        "            lambda x: (today_date - x.min()).days,\n",
        "        ],\n",
        "        \"total_price\": \"sum\",\n",
        "    }\n",
        ")\n",
        "\n",
        "# invoice_df = df_LTV_02[ df_LTV_02['quantity'] > 0 ].groupby(\"customer_id\").agg( { \"invoice_no\": \"nunique\" })\n",
        "invoice_df = df_LTV_02[ df_LTV_02['quantity'] > 0 ].groupby(\"customer_id\").agg( { \"invoice_date\": \"nunique\" })\n",
        "\n",
        "\n",
        "ltv_df.columns = ltv_df.columns.droplevel(0)\n",
        "\n",
        "invoice_df.head()\n",
        "\n",
        "ltv_df = pd.merge(ltv_df, invoice_df, left_index=True, right_index=True)\n",
        "ltv_df.columns = [\"recency\", \"T\", \"monetary\", \"frequency\"]\n",
        "\n",
        "ltv_df.head()"
      ],
      "metadata": {
        "colab": {
          "base_uri": "https://localhost:8080/",
          "height": 273
        },
        "id": "kzDq5xGeRCRi",
        "outputId": "f01c8b3d-b63e-431d-9e4d-696c67da5f64"
      },
      "execution_count": 57,
      "outputs": [
        {
          "output_type": "stream",
          "name": "stdout",
          "text": [
            "CPU times: user 2.84 s, sys: 42.9 ms, total: 2.88 s\n",
            "Wall time: 6.16 s\n"
          ]
        },
        {
          "output_type": "execute_result",
          "data": {
            "text/plain": [
              "             recency    T  monetary  frequency\n",
              "customer_id                                   \n",
              "12346              0  325      0.00          1\n",
              "12347            365  367   4310.00          7\n",
              "12348            283  358   1797.24          4\n",
              "12349              0   18   1757.55          1\n",
              "12350              0  310    334.40          1"
            ],
            "text/html": [
              "\n",
              "  <div id=\"df-bd2023d0-4853-4933-91ab-2ad404c2dee3\">\n",
              "    <div class=\"colab-df-container\">\n",
              "      <div>\n",
              "<style scoped>\n",
              "    .dataframe tbody tr th:only-of-type {\n",
              "        vertical-align: middle;\n",
              "    }\n",
              "\n",
              "    .dataframe tbody tr th {\n",
              "        vertical-align: top;\n",
              "    }\n",
              "\n",
              "    .dataframe thead th {\n",
              "        text-align: right;\n",
              "    }\n",
              "</style>\n",
              "<table border=\"1\" class=\"dataframe\">\n",
              "  <thead>\n",
              "    <tr style=\"text-align: right;\">\n",
              "      <th></th>\n",
              "      <th>recency</th>\n",
              "      <th>T</th>\n",
              "      <th>monetary</th>\n",
              "      <th>frequency</th>\n",
              "    </tr>\n",
              "    <tr>\n",
              "      <th>customer_id</th>\n",
              "      <th></th>\n",
              "      <th></th>\n",
              "      <th></th>\n",
              "      <th></th>\n",
              "    </tr>\n",
              "  </thead>\n",
              "  <tbody>\n",
              "    <tr>\n",
              "      <th>12346</th>\n",
              "      <td>0</td>\n",
              "      <td>325</td>\n",
              "      <td>0.00</td>\n",
              "      <td>1</td>\n",
              "    </tr>\n",
              "    <tr>\n",
              "      <th>12347</th>\n",
              "      <td>365</td>\n",
              "      <td>367</td>\n",
              "      <td>4310.00</td>\n",
              "      <td>7</td>\n",
              "    </tr>\n",
              "    <tr>\n",
              "      <th>12348</th>\n",
              "      <td>283</td>\n",
              "      <td>358</td>\n",
              "      <td>1797.24</td>\n",
              "      <td>4</td>\n",
              "    </tr>\n",
              "    <tr>\n",
              "      <th>12349</th>\n",
              "      <td>0</td>\n",
              "      <td>18</td>\n",
              "      <td>1757.55</td>\n",
              "      <td>1</td>\n",
              "    </tr>\n",
              "    <tr>\n",
              "      <th>12350</th>\n",
              "      <td>0</td>\n",
              "      <td>310</td>\n",
              "      <td>334.40</td>\n",
              "      <td>1</td>\n",
              "    </tr>\n",
              "  </tbody>\n",
              "</table>\n",
              "</div>\n",
              "      <button class=\"colab-df-convert\" onclick=\"convertToInteractive('df-bd2023d0-4853-4933-91ab-2ad404c2dee3')\"\n",
              "              title=\"Convert this dataframe to an interactive table.\"\n",
              "              style=\"display:none;\">\n",
              "        \n",
              "  <svg xmlns=\"http://www.w3.org/2000/svg\" height=\"24px\"viewBox=\"0 0 24 24\"\n",
              "       width=\"24px\">\n",
              "    <path d=\"M0 0h24v24H0V0z\" fill=\"none\"/>\n",
              "    <path d=\"M18.56 5.44l.94 2.06.94-2.06 2.06-.94-2.06-.94-.94-2.06-.94 2.06-2.06.94zm-11 1L8.5 8.5l.94-2.06 2.06-.94-2.06-.94L8.5 2.5l-.94 2.06-2.06.94zm10 10l.94 2.06.94-2.06 2.06-.94-2.06-.94-.94-2.06-.94 2.06-2.06.94z\"/><path d=\"M17.41 7.96l-1.37-1.37c-.4-.4-.92-.59-1.43-.59-.52 0-1.04.2-1.43.59L10.3 9.45l-7.72 7.72c-.78.78-.78 2.05 0 2.83L4 21.41c.39.39.9.59 1.41.59.51 0 1.02-.2 1.41-.59l7.78-7.78 2.81-2.81c.8-.78.8-2.07 0-2.86zM5.41 20L4 18.59l7.72-7.72 1.47 1.35L5.41 20z\"/>\n",
              "  </svg>\n",
              "      </button>\n",
              "      \n",
              "  <style>\n",
              "    .colab-df-container {\n",
              "      display:flex;\n",
              "      flex-wrap:wrap;\n",
              "      gap: 12px;\n",
              "    }\n",
              "\n",
              "    .colab-df-convert {\n",
              "      background-color: #E8F0FE;\n",
              "      border: none;\n",
              "      border-radius: 50%;\n",
              "      cursor: pointer;\n",
              "      display: none;\n",
              "      fill: #1967D2;\n",
              "      height: 32px;\n",
              "      padding: 0 0 0 0;\n",
              "      width: 32px;\n",
              "    }\n",
              "\n",
              "    .colab-df-convert:hover {\n",
              "      background-color: #E2EBFA;\n",
              "      box-shadow: 0px 1px 2px rgba(60, 64, 67, 0.3), 0px 1px 3px 1px rgba(60, 64, 67, 0.15);\n",
              "      fill: #174EA6;\n",
              "    }\n",
              "\n",
              "    [theme=dark] .colab-df-convert {\n",
              "      background-color: #3B4455;\n",
              "      fill: #D2E3FC;\n",
              "    }\n",
              "\n",
              "    [theme=dark] .colab-df-convert:hover {\n",
              "      background-color: #434B5C;\n",
              "      box-shadow: 0px 1px 3px 1px rgba(0, 0, 0, 0.15);\n",
              "      filter: drop-shadow(0px 1px 2px rgba(0, 0, 0, 0.3));\n",
              "      fill: #FFFFFF;\n",
              "    }\n",
              "  </style>\n",
              "\n",
              "      <script>\n",
              "        const buttonEl =\n",
              "          document.querySelector('#df-bd2023d0-4853-4933-91ab-2ad404c2dee3 button.colab-df-convert');\n",
              "        buttonEl.style.display =\n",
              "          google.colab.kernel.accessAllowed ? 'block' : 'none';\n",
              "\n",
              "        async function convertToInteractive(key) {\n",
              "          const element = document.querySelector('#df-bd2023d0-4853-4933-91ab-2ad404c2dee3');\n",
              "          const dataTable =\n",
              "            await google.colab.kernel.invokeFunction('convertToInteractive',\n",
              "                                                     [key], {});\n",
              "          if (!dataTable) return;\n",
              "\n",
              "          const docLinkHtml = 'Like what you see? Visit the ' +\n",
              "            '<a target=\"_blank\" href=https://colab.research.google.com/notebooks/data_table.ipynb>data table notebook</a>'\n",
              "            + ' to learn more about interactive tables.';\n",
              "          element.innerHTML = '';\n",
              "          dataTable['output_type'] = 'display_data';\n",
              "          await google.colab.output.renderOutput(dataTable, element);\n",
              "          const docLink = document.createElement('div');\n",
              "          docLink.innerHTML = docLinkHtml;\n",
              "          element.appendChild(docLink);\n",
              "        }\n",
              "      </script>\n",
              "    </div>\n",
              "  </div>\n",
              "  "
            ]
          },
          "metadata": {},
          "execution_count": 57
        }
      ]
    },
    {
      "cell_type": "code",
      "source": [
        "ltv_df.info()"
      ],
      "metadata": {
        "colab": {
          "base_uri": "https://localhost:8080/"
        },
        "id": "s3eyfGrnSdfR",
        "outputId": "ae136bd1-2a79-454c-e9f4-a95f685fc108"
      },
      "execution_count": 58,
      "outputs": [
        {
          "output_type": "stream",
          "name": "stdout",
          "text": [
            "<class 'pandas.core.frame.DataFrame'>\n",
            "Index: 4339 entries, 12346 to 18287\n",
            "Data columns (total 4 columns):\n",
            " #   Column     Non-Null Count  Dtype  \n",
            "---  ------     --------------  -----  \n",
            " 0   recency    4339 non-null   int64  \n",
            " 1   T          4339 non-null   int64  \n",
            " 2   monetary   4339 non-null   float64\n",
            " 3   frequency  4339 non-null   int64  \n",
            "dtypes: float64(1), int64(3)\n",
            "memory usage: 169.5+ KB\n"
          ]
        }
      ]
    },
    {
      "cell_type": "code",
      "source": [
        "%%time \n",
        "# Regency & Tenure (unit: week)\n",
        "# ltv_df[\"recency\"] = ltv_df[\"recency\"] / 7\n",
        "# ltv_df[\"T\"] = ltv_df[\"T\"] / 7\n",
        "\n",
        "# Frequency (drop if frequency == 0)\n",
        "# it just counts the days that have seen a transaction since the second invoice\n",
        "ltv_df['frequency'] = ltv_df['frequency'] - 1 \n",
        "ltv_df = ltv_df[ltv_df[\"frequency\"] > 1]\n",
        "\n",
        "# Average Order Value  \n",
        "ltv_df[\"monetary\"] = ltv_df[\"monetary\"] / ltv_df[\"frequency\"]\n"
      ],
      "metadata": {
        "id": "3U8isjZSja-J",
        "colab": {
          "base_uri": "https://localhost:8080/"
        },
        "outputId": "fd572576-215f-4a84-877b-84309d050f55"
      },
      "execution_count": 59,
      "outputs": [
        {
          "output_type": "stream",
          "name": "stdout",
          "text": [
            "CPU times: user 3.58 ms, sys: 0 ns, total: 3.58 ms\n",
            "Wall time: 3.83 ms\n"
          ]
        }
      ]
    },
    {
      "cell_type": "code",
      "source": [
        "ltv_df[ ltv_df.index == '15311']"
      ],
      "metadata": {
        "colab": {
          "base_uri": "https://localhost:8080/",
          "height": 112
        },
        "id": "kNDNClrimZ1k",
        "outputId": "7219ced5-3c0e-4e8f-f44f-e7ceb6753701"
      },
      "execution_count": 60,
      "outputs": [
        {
          "output_type": "execute_result",
          "data": {
            "text/plain": [
              "             recency    T    monetary  frequency\n",
              "customer_id                                     \n",
              "15311            373  373  667.633034         89"
            ],
            "text/html": [
              "\n",
              "  <div id=\"df-1d355d2e-3512-453c-8248-4ef46ac1d532\">\n",
              "    <div class=\"colab-df-container\">\n",
              "      <div>\n",
              "<style scoped>\n",
              "    .dataframe tbody tr th:only-of-type {\n",
              "        vertical-align: middle;\n",
              "    }\n",
              "\n",
              "    .dataframe tbody tr th {\n",
              "        vertical-align: top;\n",
              "    }\n",
              "\n",
              "    .dataframe thead th {\n",
              "        text-align: right;\n",
              "    }\n",
              "</style>\n",
              "<table border=\"1\" class=\"dataframe\">\n",
              "  <thead>\n",
              "    <tr style=\"text-align: right;\">\n",
              "      <th></th>\n",
              "      <th>recency</th>\n",
              "      <th>T</th>\n",
              "      <th>monetary</th>\n",
              "      <th>frequency</th>\n",
              "    </tr>\n",
              "    <tr>\n",
              "      <th>customer_id</th>\n",
              "      <th></th>\n",
              "      <th></th>\n",
              "      <th></th>\n",
              "      <th></th>\n",
              "    </tr>\n",
              "  </thead>\n",
              "  <tbody>\n",
              "    <tr>\n",
              "      <th>15311</th>\n",
              "      <td>373</td>\n",
              "      <td>373</td>\n",
              "      <td>667.633034</td>\n",
              "      <td>89</td>\n",
              "    </tr>\n",
              "  </tbody>\n",
              "</table>\n",
              "</div>\n",
              "      <button class=\"colab-df-convert\" onclick=\"convertToInteractive('df-1d355d2e-3512-453c-8248-4ef46ac1d532')\"\n",
              "              title=\"Convert this dataframe to an interactive table.\"\n",
              "              style=\"display:none;\">\n",
              "        \n",
              "  <svg xmlns=\"http://www.w3.org/2000/svg\" height=\"24px\"viewBox=\"0 0 24 24\"\n",
              "       width=\"24px\">\n",
              "    <path d=\"M0 0h24v24H0V0z\" fill=\"none\"/>\n",
              "    <path d=\"M18.56 5.44l.94 2.06.94-2.06 2.06-.94-2.06-.94-.94-2.06-.94 2.06-2.06.94zm-11 1L8.5 8.5l.94-2.06 2.06-.94-2.06-.94L8.5 2.5l-.94 2.06-2.06.94zm10 10l.94 2.06.94-2.06 2.06-.94-2.06-.94-.94-2.06-.94 2.06-2.06.94z\"/><path d=\"M17.41 7.96l-1.37-1.37c-.4-.4-.92-.59-1.43-.59-.52 0-1.04.2-1.43.59L10.3 9.45l-7.72 7.72c-.78.78-.78 2.05 0 2.83L4 21.41c.39.39.9.59 1.41.59.51 0 1.02-.2 1.41-.59l7.78-7.78 2.81-2.81c.8-.78.8-2.07 0-2.86zM5.41 20L4 18.59l7.72-7.72 1.47 1.35L5.41 20z\"/>\n",
              "  </svg>\n",
              "      </button>\n",
              "      \n",
              "  <style>\n",
              "    .colab-df-container {\n",
              "      display:flex;\n",
              "      flex-wrap:wrap;\n",
              "      gap: 12px;\n",
              "    }\n",
              "\n",
              "    .colab-df-convert {\n",
              "      background-color: #E8F0FE;\n",
              "      border: none;\n",
              "      border-radius: 50%;\n",
              "      cursor: pointer;\n",
              "      display: none;\n",
              "      fill: #1967D2;\n",
              "      height: 32px;\n",
              "      padding: 0 0 0 0;\n",
              "      width: 32px;\n",
              "    }\n",
              "\n",
              "    .colab-df-convert:hover {\n",
              "      background-color: #E2EBFA;\n",
              "      box-shadow: 0px 1px 2px rgba(60, 64, 67, 0.3), 0px 1px 3px 1px rgba(60, 64, 67, 0.15);\n",
              "      fill: #174EA6;\n",
              "    }\n",
              "\n",
              "    [theme=dark] .colab-df-convert {\n",
              "      background-color: #3B4455;\n",
              "      fill: #D2E3FC;\n",
              "    }\n",
              "\n",
              "    [theme=dark] .colab-df-convert:hover {\n",
              "      background-color: #434B5C;\n",
              "      box-shadow: 0px 1px 3px 1px rgba(0, 0, 0, 0.15);\n",
              "      filter: drop-shadow(0px 1px 2px rgba(0, 0, 0, 0.3));\n",
              "      fill: #FFFFFF;\n",
              "    }\n",
              "  </style>\n",
              "\n",
              "      <script>\n",
              "        const buttonEl =\n",
              "          document.querySelector('#df-1d355d2e-3512-453c-8248-4ef46ac1d532 button.colab-df-convert');\n",
              "        buttonEl.style.display =\n",
              "          google.colab.kernel.accessAllowed ? 'block' : 'none';\n",
              "\n",
              "        async function convertToInteractive(key) {\n",
              "          const element = document.querySelector('#df-1d355d2e-3512-453c-8248-4ef46ac1d532');\n",
              "          const dataTable =\n",
              "            await google.colab.kernel.invokeFunction('convertToInteractive',\n",
              "                                                     [key], {});\n",
              "          if (!dataTable) return;\n",
              "\n",
              "          const docLinkHtml = 'Like what you see? Visit the ' +\n",
              "            '<a target=\"_blank\" href=https://colab.research.google.com/notebooks/data_table.ipynb>data table notebook</a>'\n",
              "            + ' to learn more about interactive tables.';\n",
              "          element.innerHTML = '';\n",
              "          dataTable['output_type'] = 'display_data';\n",
              "          await google.colab.output.renderOutput(dataTable, element);\n",
              "          const docLink = document.createElement('div');\n",
              "          docLink.innerHTML = docLinkHtml;\n",
              "          element.appendChild(docLink);\n",
              "        }\n",
              "      </script>\n",
              "    </div>\n",
              "  </div>\n",
              "  "
            ]
          },
          "metadata": {},
          "execution_count": 60
        }
      ]
    },
    {
      "cell_type": "code",
      "source": [
        "ltv_df.head()\n",
        "\n",
        "# recency = 가장 최근 구매와 첫 구매와의 차이 (일)\n",
        "# T = 첫 구매 이후 시간 (일) (T <= recency)\n",
        "# frequency = 구매가 발생한 일수 (일)\n",
        "# monetary = 구매 일수 별 평균 구매금액 (원)"
      ],
      "metadata": {
        "colab": {
          "base_uri": "https://localhost:8080/",
          "height": 237
        },
        "id": "QTj20NqyOlhl",
        "outputId": "da11e569-8854-4d23-80a7-29d060512802"
      },
      "execution_count": 61,
      "outputs": [
        {
          "output_type": "execute_result",
          "data": {
            "text/plain": [
              "             recency    T     monetary  frequency\n",
              "customer_id                                      \n",
              "12347            365  367   718.333333          6\n",
              "12348            283  358   599.080000          3\n",
              "12352            260  296   257.568333          6\n",
              "12356            303  325  1405.715000          2\n",
              "12359            324  331  2081.843333          3"
            ],
            "text/html": [
              "\n",
              "  <div id=\"df-700bcbc7-5bf1-4a84-b4fb-240436d50dcc\">\n",
              "    <div class=\"colab-df-container\">\n",
              "      <div>\n",
              "<style scoped>\n",
              "    .dataframe tbody tr th:only-of-type {\n",
              "        vertical-align: middle;\n",
              "    }\n",
              "\n",
              "    .dataframe tbody tr th {\n",
              "        vertical-align: top;\n",
              "    }\n",
              "\n",
              "    .dataframe thead th {\n",
              "        text-align: right;\n",
              "    }\n",
              "</style>\n",
              "<table border=\"1\" class=\"dataframe\">\n",
              "  <thead>\n",
              "    <tr style=\"text-align: right;\">\n",
              "      <th></th>\n",
              "      <th>recency</th>\n",
              "      <th>T</th>\n",
              "      <th>monetary</th>\n",
              "      <th>frequency</th>\n",
              "    </tr>\n",
              "    <tr>\n",
              "      <th>customer_id</th>\n",
              "      <th></th>\n",
              "      <th></th>\n",
              "      <th></th>\n",
              "      <th></th>\n",
              "    </tr>\n",
              "  </thead>\n",
              "  <tbody>\n",
              "    <tr>\n",
              "      <th>12347</th>\n",
              "      <td>365</td>\n",
              "      <td>367</td>\n",
              "      <td>718.333333</td>\n",
              "      <td>6</td>\n",
              "    </tr>\n",
              "    <tr>\n",
              "      <th>12348</th>\n",
              "      <td>283</td>\n",
              "      <td>358</td>\n",
              "      <td>599.080000</td>\n",
              "      <td>3</td>\n",
              "    </tr>\n",
              "    <tr>\n",
              "      <th>12352</th>\n",
              "      <td>260</td>\n",
              "      <td>296</td>\n",
              "      <td>257.568333</td>\n",
              "      <td>6</td>\n",
              "    </tr>\n",
              "    <tr>\n",
              "      <th>12356</th>\n",
              "      <td>303</td>\n",
              "      <td>325</td>\n",
              "      <td>1405.715000</td>\n",
              "      <td>2</td>\n",
              "    </tr>\n",
              "    <tr>\n",
              "      <th>12359</th>\n",
              "      <td>324</td>\n",
              "      <td>331</td>\n",
              "      <td>2081.843333</td>\n",
              "      <td>3</td>\n",
              "    </tr>\n",
              "  </tbody>\n",
              "</table>\n",
              "</div>\n",
              "      <button class=\"colab-df-convert\" onclick=\"convertToInteractive('df-700bcbc7-5bf1-4a84-b4fb-240436d50dcc')\"\n",
              "              title=\"Convert this dataframe to an interactive table.\"\n",
              "              style=\"display:none;\">\n",
              "        \n",
              "  <svg xmlns=\"http://www.w3.org/2000/svg\" height=\"24px\"viewBox=\"0 0 24 24\"\n",
              "       width=\"24px\">\n",
              "    <path d=\"M0 0h24v24H0V0z\" fill=\"none\"/>\n",
              "    <path d=\"M18.56 5.44l.94 2.06.94-2.06 2.06-.94-2.06-.94-.94-2.06-.94 2.06-2.06.94zm-11 1L8.5 8.5l.94-2.06 2.06-.94-2.06-.94L8.5 2.5l-.94 2.06-2.06.94zm10 10l.94 2.06.94-2.06 2.06-.94-2.06-.94-.94-2.06-.94 2.06-2.06.94z\"/><path d=\"M17.41 7.96l-1.37-1.37c-.4-.4-.92-.59-1.43-.59-.52 0-1.04.2-1.43.59L10.3 9.45l-7.72 7.72c-.78.78-.78 2.05 0 2.83L4 21.41c.39.39.9.59 1.41.59.51 0 1.02-.2 1.41-.59l7.78-7.78 2.81-2.81c.8-.78.8-2.07 0-2.86zM5.41 20L4 18.59l7.72-7.72 1.47 1.35L5.41 20z\"/>\n",
              "  </svg>\n",
              "      </button>\n",
              "      \n",
              "  <style>\n",
              "    .colab-df-container {\n",
              "      display:flex;\n",
              "      flex-wrap:wrap;\n",
              "      gap: 12px;\n",
              "    }\n",
              "\n",
              "    .colab-df-convert {\n",
              "      background-color: #E8F0FE;\n",
              "      border: none;\n",
              "      border-radius: 50%;\n",
              "      cursor: pointer;\n",
              "      display: none;\n",
              "      fill: #1967D2;\n",
              "      height: 32px;\n",
              "      padding: 0 0 0 0;\n",
              "      width: 32px;\n",
              "    }\n",
              "\n",
              "    .colab-df-convert:hover {\n",
              "      background-color: #E2EBFA;\n",
              "      box-shadow: 0px 1px 2px rgba(60, 64, 67, 0.3), 0px 1px 3px 1px rgba(60, 64, 67, 0.15);\n",
              "      fill: #174EA6;\n",
              "    }\n",
              "\n",
              "    [theme=dark] .colab-df-convert {\n",
              "      background-color: #3B4455;\n",
              "      fill: #D2E3FC;\n",
              "    }\n",
              "\n",
              "    [theme=dark] .colab-df-convert:hover {\n",
              "      background-color: #434B5C;\n",
              "      box-shadow: 0px 1px 3px 1px rgba(0, 0, 0, 0.15);\n",
              "      filter: drop-shadow(0px 1px 2px rgba(0, 0, 0, 0.3));\n",
              "      fill: #FFFFFF;\n",
              "    }\n",
              "  </style>\n",
              "\n",
              "      <script>\n",
              "        const buttonEl =\n",
              "          document.querySelector('#df-700bcbc7-5bf1-4a84-b4fb-240436d50dcc button.colab-df-convert');\n",
              "        buttonEl.style.display =\n",
              "          google.colab.kernel.accessAllowed ? 'block' : 'none';\n",
              "\n",
              "        async function convertToInteractive(key) {\n",
              "          const element = document.querySelector('#df-700bcbc7-5bf1-4a84-b4fb-240436d50dcc');\n",
              "          const dataTable =\n",
              "            await google.colab.kernel.invokeFunction('convertToInteractive',\n",
              "                                                     [key], {});\n",
              "          if (!dataTable) return;\n",
              "\n",
              "          const docLinkHtml = 'Like what you see? Visit the ' +\n",
              "            '<a target=\"_blank\" href=https://colab.research.google.com/notebooks/data_table.ipynb>data table notebook</a>'\n",
              "            + ' to learn more about interactive tables.';\n",
              "          element.innerHTML = '';\n",
              "          dataTable['output_type'] = 'display_data';\n",
              "          await google.colab.output.renderOutput(dataTable, element);\n",
              "          const docLink = document.createElement('div');\n",
              "          docLink.innerHTML = docLinkHtml;\n",
              "          element.appendChild(docLink);\n",
              "        }\n",
              "      </script>\n",
              "    </div>\n",
              "  </div>\n",
              "  "
            ]
          },
          "metadata": {},
          "execution_count": 61
        }
      ]
    },
    {
      "cell_type": "code",
      "source": [
        "# ltv_df[ ltv_df['recency'] > ltv_df['T'] ]"
      ],
      "metadata": {
        "id": "gSc_Ve9Ypfx1"
      },
      "execution_count": 62,
      "outputs": []
    },
    {
      "cell_type": "code",
      "source": [
        "df_LTV_02 [ df_LTV_02['customer_id'] == '15311']"
      ],
      "metadata": {
        "colab": {
          "base_uri": "https://localhost:8080/",
          "height": 423
        },
        "id": "wLNI2d7SrSLf",
        "outputId": "f371c681-1031-4873-ea80-a2348729944b"
      },
      "execution_count": 63,
      "outputs": [
        {
          "output_type": "execute_result",
          "data": {
            "text/plain": [
              "       invoice_no stock_code  quantity invoice_date  unit_price customer_id  \\\n",
              "106        536381      22139        23   2010-12-01        4.25       15311   \n",
              "107        536381      84854         5   2010-12-01        4.95       15311   \n",
              "108        536381      22411        10   2010-12-01        1.95       15311   \n",
              "109        536381      82567         2   2010-12-01        2.10       15311   \n",
              "110        536381      21672         6   2010-12-01        1.25       15311   \n",
              "...           ...        ...       ...          ...         ...         ...   \n",
              "541746     581571      23167        96   2011-12-09        0.69       15311   \n",
              "541747     581571      21314        48   2011-12-09        1.85       15311   \n",
              "541748     581571      21137        24   2011-12-09        3.39       15311   \n",
              "541749     581571      44234         1   2011-12-09        0.21       15311   \n",
              "541750     581571      84347        24   2011-12-09        2.55       15311   \n",
              "\n",
              "          invoice_datetime  total_price  \n",
              "106    2010-12-01 09:41:00        97.75  \n",
              "107    2010-12-01 09:41:00        24.75  \n",
              "108    2010-12-01 09:41:00        19.50  \n",
              "109    2010-12-01 09:41:00         4.20  \n",
              "110    2010-12-01 09:41:00         7.50  \n",
              "...                    ...          ...  \n",
              "541746 2011-12-09 12:00:00        66.24  \n",
              "541747 2011-12-09 12:00:00        88.80  \n",
              "541748 2011-12-09 12:00:00        81.36  \n",
              "541749 2011-12-09 12:00:00         0.21  \n",
              "541750 2011-12-09 12:00:00        61.20  \n",
              "\n",
              "[2491 rows x 8 columns]"
            ],
            "text/html": [
              "\n",
              "  <div id=\"df-4553d12b-bbd4-438a-9e04-19779fd864ab\">\n",
              "    <div class=\"colab-df-container\">\n",
              "      <div>\n",
              "<style scoped>\n",
              "    .dataframe tbody tr th:only-of-type {\n",
              "        vertical-align: middle;\n",
              "    }\n",
              "\n",
              "    .dataframe tbody tr th {\n",
              "        vertical-align: top;\n",
              "    }\n",
              "\n",
              "    .dataframe thead th {\n",
              "        text-align: right;\n",
              "    }\n",
              "</style>\n",
              "<table border=\"1\" class=\"dataframe\">\n",
              "  <thead>\n",
              "    <tr style=\"text-align: right;\">\n",
              "      <th></th>\n",
              "      <th>invoice_no</th>\n",
              "      <th>stock_code</th>\n",
              "      <th>quantity</th>\n",
              "      <th>invoice_date</th>\n",
              "      <th>unit_price</th>\n",
              "      <th>customer_id</th>\n",
              "      <th>invoice_datetime</th>\n",
              "      <th>total_price</th>\n",
              "    </tr>\n",
              "  </thead>\n",
              "  <tbody>\n",
              "    <tr>\n",
              "      <th>106</th>\n",
              "      <td>536381</td>\n",
              "      <td>22139</td>\n",
              "      <td>23</td>\n",
              "      <td>2010-12-01</td>\n",
              "      <td>4.25</td>\n",
              "      <td>15311</td>\n",
              "      <td>2010-12-01 09:41:00</td>\n",
              "      <td>97.75</td>\n",
              "    </tr>\n",
              "    <tr>\n",
              "      <th>107</th>\n",
              "      <td>536381</td>\n",
              "      <td>84854</td>\n",
              "      <td>5</td>\n",
              "      <td>2010-12-01</td>\n",
              "      <td>4.95</td>\n",
              "      <td>15311</td>\n",
              "      <td>2010-12-01 09:41:00</td>\n",
              "      <td>24.75</td>\n",
              "    </tr>\n",
              "    <tr>\n",
              "      <th>108</th>\n",
              "      <td>536381</td>\n",
              "      <td>22411</td>\n",
              "      <td>10</td>\n",
              "      <td>2010-12-01</td>\n",
              "      <td>1.95</td>\n",
              "      <td>15311</td>\n",
              "      <td>2010-12-01 09:41:00</td>\n",
              "      <td>19.50</td>\n",
              "    </tr>\n",
              "    <tr>\n",
              "      <th>109</th>\n",
              "      <td>536381</td>\n",
              "      <td>82567</td>\n",
              "      <td>2</td>\n",
              "      <td>2010-12-01</td>\n",
              "      <td>2.10</td>\n",
              "      <td>15311</td>\n",
              "      <td>2010-12-01 09:41:00</td>\n",
              "      <td>4.20</td>\n",
              "    </tr>\n",
              "    <tr>\n",
              "      <th>110</th>\n",
              "      <td>536381</td>\n",
              "      <td>21672</td>\n",
              "      <td>6</td>\n",
              "      <td>2010-12-01</td>\n",
              "      <td>1.25</td>\n",
              "      <td>15311</td>\n",
              "      <td>2010-12-01 09:41:00</td>\n",
              "      <td>7.50</td>\n",
              "    </tr>\n",
              "    <tr>\n",
              "      <th>...</th>\n",
              "      <td>...</td>\n",
              "      <td>...</td>\n",
              "      <td>...</td>\n",
              "      <td>...</td>\n",
              "      <td>...</td>\n",
              "      <td>...</td>\n",
              "      <td>...</td>\n",
              "      <td>...</td>\n",
              "    </tr>\n",
              "    <tr>\n",
              "      <th>541746</th>\n",
              "      <td>581571</td>\n",
              "      <td>23167</td>\n",
              "      <td>96</td>\n",
              "      <td>2011-12-09</td>\n",
              "      <td>0.69</td>\n",
              "      <td>15311</td>\n",
              "      <td>2011-12-09 12:00:00</td>\n",
              "      <td>66.24</td>\n",
              "    </tr>\n",
              "    <tr>\n",
              "      <th>541747</th>\n",
              "      <td>581571</td>\n",
              "      <td>21314</td>\n",
              "      <td>48</td>\n",
              "      <td>2011-12-09</td>\n",
              "      <td>1.85</td>\n",
              "      <td>15311</td>\n",
              "      <td>2011-12-09 12:00:00</td>\n",
              "      <td>88.80</td>\n",
              "    </tr>\n",
              "    <tr>\n",
              "      <th>541748</th>\n",
              "      <td>581571</td>\n",
              "      <td>21137</td>\n",
              "      <td>24</td>\n",
              "      <td>2011-12-09</td>\n",
              "      <td>3.39</td>\n",
              "      <td>15311</td>\n",
              "      <td>2011-12-09 12:00:00</td>\n",
              "      <td>81.36</td>\n",
              "    </tr>\n",
              "    <tr>\n",
              "      <th>541749</th>\n",
              "      <td>581571</td>\n",
              "      <td>44234</td>\n",
              "      <td>1</td>\n",
              "      <td>2011-12-09</td>\n",
              "      <td>0.21</td>\n",
              "      <td>15311</td>\n",
              "      <td>2011-12-09 12:00:00</td>\n",
              "      <td>0.21</td>\n",
              "    </tr>\n",
              "    <tr>\n",
              "      <th>541750</th>\n",
              "      <td>581571</td>\n",
              "      <td>84347</td>\n",
              "      <td>24</td>\n",
              "      <td>2011-12-09</td>\n",
              "      <td>2.55</td>\n",
              "      <td>15311</td>\n",
              "      <td>2011-12-09 12:00:00</td>\n",
              "      <td>61.20</td>\n",
              "    </tr>\n",
              "  </tbody>\n",
              "</table>\n",
              "<p>2491 rows × 8 columns</p>\n",
              "</div>\n",
              "      <button class=\"colab-df-convert\" onclick=\"convertToInteractive('df-4553d12b-bbd4-438a-9e04-19779fd864ab')\"\n",
              "              title=\"Convert this dataframe to an interactive table.\"\n",
              "              style=\"display:none;\">\n",
              "        \n",
              "  <svg xmlns=\"http://www.w3.org/2000/svg\" height=\"24px\"viewBox=\"0 0 24 24\"\n",
              "       width=\"24px\">\n",
              "    <path d=\"M0 0h24v24H0V0z\" fill=\"none\"/>\n",
              "    <path d=\"M18.56 5.44l.94 2.06.94-2.06 2.06-.94-2.06-.94-.94-2.06-.94 2.06-2.06.94zm-11 1L8.5 8.5l.94-2.06 2.06-.94-2.06-.94L8.5 2.5l-.94 2.06-2.06.94zm10 10l.94 2.06.94-2.06 2.06-.94-2.06-.94-.94-2.06-.94 2.06-2.06.94z\"/><path d=\"M17.41 7.96l-1.37-1.37c-.4-.4-.92-.59-1.43-.59-.52 0-1.04.2-1.43.59L10.3 9.45l-7.72 7.72c-.78.78-.78 2.05 0 2.83L4 21.41c.39.39.9.59 1.41.59.51 0 1.02-.2 1.41-.59l7.78-7.78 2.81-2.81c.8-.78.8-2.07 0-2.86zM5.41 20L4 18.59l7.72-7.72 1.47 1.35L5.41 20z\"/>\n",
              "  </svg>\n",
              "      </button>\n",
              "      \n",
              "  <style>\n",
              "    .colab-df-container {\n",
              "      display:flex;\n",
              "      flex-wrap:wrap;\n",
              "      gap: 12px;\n",
              "    }\n",
              "\n",
              "    .colab-df-convert {\n",
              "      background-color: #E8F0FE;\n",
              "      border: none;\n",
              "      border-radius: 50%;\n",
              "      cursor: pointer;\n",
              "      display: none;\n",
              "      fill: #1967D2;\n",
              "      height: 32px;\n",
              "      padding: 0 0 0 0;\n",
              "      width: 32px;\n",
              "    }\n",
              "\n",
              "    .colab-df-convert:hover {\n",
              "      background-color: #E2EBFA;\n",
              "      box-shadow: 0px 1px 2px rgba(60, 64, 67, 0.3), 0px 1px 3px 1px rgba(60, 64, 67, 0.15);\n",
              "      fill: #174EA6;\n",
              "    }\n",
              "\n",
              "    [theme=dark] .colab-df-convert {\n",
              "      background-color: #3B4455;\n",
              "      fill: #D2E3FC;\n",
              "    }\n",
              "\n",
              "    [theme=dark] .colab-df-convert:hover {\n",
              "      background-color: #434B5C;\n",
              "      box-shadow: 0px 1px 3px 1px rgba(0, 0, 0, 0.15);\n",
              "      filter: drop-shadow(0px 1px 2px rgba(0, 0, 0, 0.3));\n",
              "      fill: #FFFFFF;\n",
              "    }\n",
              "  </style>\n",
              "\n",
              "      <script>\n",
              "        const buttonEl =\n",
              "          document.querySelector('#df-4553d12b-bbd4-438a-9e04-19779fd864ab button.colab-df-convert');\n",
              "        buttonEl.style.display =\n",
              "          google.colab.kernel.accessAllowed ? 'block' : 'none';\n",
              "\n",
              "        async function convertToInteractive(key) {\n",
              "          const element = document.querySelector('#df-4553d12b-bbd4-438a-9e04-19779fd864ab');\n",
              "          const dataTable =\n",
              "            await google.colab.kernel.invokeFunction('convertToInteractive',\n",
              "                                                     [key], {});\n",
              "          if (!dataTable) return;\n",
              "\n",
              "          const docLinkHtml = 'Like what you see? Visit the ' +\n",
              "            '<a target=\"_blank\" href=https://colab.research.google.com/notebooks/data_table.ipynb>data table notebook</a>'\n",
              "            + ' to learn more about interactive tables.';\n",
              "          element.innerHTML = '';\n",
              "          dataTable['output_type'] = 'display_data';\n",
              "          await google.colab.output.renderOutput(dataTable, element);\n",
              "          const docLink = document.createElement('div');\n",
              "          docLink.innerHTML = docLinkHtml;\n",
              "          element.appendChild(docLink);\n",
              "        }\n",
              "      </script>\n",
              "    </div>\n",
              "  </div>\n",
              "  "
            ]
          },
          "metadata": {},
          "execution_count": 63
        }
      ]
    },
    {
      "cell_type": "code",
      "source": [
        "ltv_df.info()"
      ],
      "metadata": {
        "colab": {
          "base_uri": "https://localhost:8080/"
        },
        "id": "0EI4N5ETtrCg",
        "outputId": "14640598-e37d-4b6c-8608-152c41284545"
      },
      "execution_count": 64,
      "outputs": [
        {
          "output_type": "stream",
          "name": "stdout",
          "text": [
            "<class 'pandas.core.frame.DataFrame'>\n",
            "Index: 1916 entries, 12347 to 18287\n",
            "Data columns (total 4 columns):\n",
            " #   Column     Non-Null Count  Dtype  \n",
            "---  ------     --------------  -----  \n",
            " 0   recency    1916 non-null   int64  \n",
            " 1   T          1916 non-null   int64  \n",
            " 2   monetary   1916 non-null   float64\n",
            " 3   frequency  1916 non-null   int64  \n",
            "dtypes: float64(1), int64(3)\n",
            "memory usage: 74.8+ KB\n"
          ]
        }
      ]
    },
    {
      "cell_type": "markdown",
      "source": [
        "## 3.2.1 Split of Training and Test Dataset \n",
        "- 방법1) calibration_and_holdout_data 사용 \n",
        "  - 장점: 편리, 원하는대로 시각화 쉽게 가능 \n",
        "  - 단점: 내가 생각한대로 custom하여 metrics계산하기 어려움 \n",
        "- 방법2) 직접 240일까지 잘라서 ltv_df_train과 ltv_df_test로 분리 \n",
        "  - 장점: 내가 생각한대로 나눌 수 있음 \n",
        "  - 단점: 성능 보장 X, 더 번거로움 \n",
        "<- 그래도 방법2로 좀 더 해보고,안되면 방법1로 다시 하자 "
      ],
      "metadata": {
        "id": "B5ufDscBpuFm"
      }
    },
    {
      "cell_type": "code",
      "source": [
        "from lifetimes import BetaGeoFitter, GammaGammaFitter\n",
        "from lifetimes.utils import \\\n",
        "    calibration_and_holdout_data, \\\n",
        "    summary_data_from_transaction_data, \\\n",
        "    calculate_alive_path\n",
        "from lifetimes.plotting import \\\n",
        "    plot_frequency_recency_matrix, \\\n",
        "    plot_probability_alive_matrix, \\\n",
        "    plot_period_transactions, \\\n",
        "    plot_history_alive, \\\n",
        "    plot_cumulative_transactions, \\\n",
        "    plot_calibration_purchases_vs_holdout_purchases, \\\n",
        "    plot_transaction_rate_heterogeneity, \\\n",
        "    plot_dropout_rate_heterogeneity"
      ],
      "metadata": {
        "id": "PxxnVkpJc1Ir"
      },
      "execution_count": 65,
      "outputs": []
    },
    {
      "cell_type": "code",
      "source": [
        "# %%time \n",
        "# start_date = min(df_LTV_01['invoice_date'])\n",
        "\n",
        "# delta_days = 240\n",
        "# time_delta = dt.timedelta(days=delta_days)\n",
        "\n",
        "# partition_date = start_date + time_delta\n",
        "# print(partition_date)"
      ],
      "metadata": {
        "id": "GmOkWec41Pkw"
      },
      "execution_count": 66,
      "outputs": []
    },
    {
      "cell_type": "code",
      "source": [
        "# ltv_train = df_LTV_02[df_LTV_02['invoice_date'] <= partition_date ]\n",
        "# ltv_test = df_LTV_02[df_LTV_02['invoice_date'] > partition_date ]\n",
        "\n",
        "# print(ltv_train.shape)\n",
        "# print(ltv_test.shape)"
      ],
      "metadata": {
        "id": "Ay09-gTu1JEo"
      },
      "execution_count": 67,
      "outputs": []
    },
    {
      "cell_type": "code",
      "source": [
        "df_sorted = df_LTV_02.sort_values(by = 'invoice_datetime', ascending = True)\n",
        "\n",
        "df_sorted.head()"
      ],
      "metadata": {
        "colab": {
          "base_uri": "https://localhost:8080/",
          "height": 206
        },
        "id": "gzZrm4DU2w8c",
        "outputId": "cba33db4-0a96-4e0d-dddc-2fd5bb3ab7bc"
      },
      "execution_count": 68,
      "outputs": [
        {
          "output_type": "execute_result",
          "data": {
            "text/plain": [
              "  invoice_no stock_code  quantity invoice_date  unit_price customer_id  \\\n",
              "0     536365     85123A         6   2010-12-01        2.55       17850   \n",
              "1     536365      71053         6   2010-12-01        3.39       17850   \n",
              "2     536365     84406B         8   2010-12-01        2.75       17850   \n",
              "3     536365     84029G         6   2010-12-01        3.39       17850   \n",
              "4     536365     84029E         6   2010-12-01        3.39       17850   \n",
              "\n",
              "     invoice_datetime  total_price  \n",
              "0 2010-12-01 08:26:00        15.30  \n",
              "1 2010-12-01 08:26:00        20.34  \n",
              "2 2010-12-01 08:26:00        22.00  \n",
              "3 2010-12-01 08:26:00        20.34  \n",
              "4 2010-12-01 08:26:00        20.34  "
            ],
            "text/html": [
              "\n",
              "  <div id=\"df-08c300a1-2d05-4ee9-8ed3-a5454a54255b\">\n",
              "    <div class=\"colab-df-container\">\n",
              "      <div>\n",
              "<style scoped>\n",
              "    .dataframe tbody tr th:only-of-type {\n",
              "        vertical-align: middle;\n",
              "    }\n",
              "\n",
              "    .dataframe tbody tr th {\n",
              "        vertical-align: top;\n",
              "    }\n",
              "\n",
              "    .dataframe thead th {\n",
              "        text-align: right;\n",
              "    }\n",
              "</style>\n",
              "<table border=\"1\" class=\"dataframe\">\n",
              "  <thead>\n",
              "    <tr style=\"text-align: right;\">\n",
              "      <th></th>\n",
              "      <th>invoice_no</th>\n",
              "      <th>stock_code</th>\n",
              "      <th>quantity</th>\n",
              "      <th>invoice_date</th>\n",
              "      <th>unit_price</th>\n",
              "      <th>customer_id</th>\n",
              "      <th>invoice_datetime</th>\n",
              "      <th>total_price</th>\n",
              "    </tr>\n",
              "  </thead>\n",
              "  <tbody>\n",
              "    <tr>\n",
              "      <th>0</th>\n",
              "      <td>536365</td>\n",
              "      <td>85123A</td>\n",
              "      <td>6</td>\n",
              "      <td>2010-12-01</td>\n",
              "      <td>2.55</td>\n",
              "      <td>17850</td>\n",
              "      <td>2010-12-01 08:26:00</td>\n",
              "      <td>15.30</td>\n",
              "    </tr>\n",
              "    <tr>\n",
              "      <th>1</th>\n",
              "      <td>536365</td>\n",
              "      <td>71053</td>\n",
              "      <td>6</td>\n",
              "      <td>2010-12-01</td>\n",
              "      <td>3.39</td>\n",
              "      <td>17850</td>\n",
              "      <td>2010-12-01 08:26:00</td>\n",
              "      <td>20.34</td>\n",
              "    </tr>\n",
              "    <tr>\n",
              "      <th>2</th>\n",
              "      <td>536365</td>\n",
              "      <td>84406B</td>\n",
              "      <td>8</td>\n",
              "      <td>2010-12-01</td>\n",
              "      <td>2.75</td>\n",
              "      <td>17850</td>\n",
              "      <td>2010-12-01 08:26:00</td>\n",
              "      <td>22.00</td>\n",
              "    </tr>\n",
              "    <tr>\n",
              "      <th>3</th>\n",
              "      <td>536365</td>\n",
              "      <td>84029G</td>\n",
              "      <td>6</td>\n",
              "      <td>2010-12-01</td>\n",
              "      <td>3.39</td>\n",
              "      <td>17850</td>\n",
              "      <td>2010-12-01 08:26:00</td>\n",
              "      <td>20.34</td>\n",
              "    </tr>\n",
              "    <tr>\n",
              "      <th>4</th>\n",
              "      <td>536365</td>\n",
              "      <td>84029E</td>\n",
              "      <td>6</td>\n",
              "      <td>2010-12-01</td>\n",
              "      <td>3.39</td>\n",
              "      <td>17850</td>\n",
              "      <td>2010-12-01 08:26:00</td>\n",
              "      <td>20.34</td>\n",
              "    </tr>\n",
              "  </tbody>\n",
              "</table>\n",
              "</div>\n",
              "      <button class=\"colab-df-convert\" onclick=\"convertToInteractive('df-08c300a1-2d05-4ee9-8ed3-a5454a54255b')\"\n",
              "              title=\"Convert this dataframe to an interactive table.\"\n",
              "              style=\"display:none;\">\n",
              "        \n",
              "  <svg xmlns=\"http://www.w3.org/2000/svg\" height=\"24px\"viewBox=\"0 0 24 24\"\n",
              "       width=\"24px\">\n",
              "    <path d=\"M0 0h24v24H0V0z\" fill=\"none\"/>\n",
              "    <path d=\"M18.56 5.44l.94 2.06.94-2.06 2.06-.94-2.06-.94-.94-2.06-.94 2.06-2.06.94zm-11 1L8.5 8.5l.94-2.06 2.06-.94-2.06-.94L8.5 2.5l-.94 2.06-2.06.94zm10 10l.94 2.06.94-2.06 2.06-.94-2.06-.94-.94-2.06-.94 2.06-2.06.94z\"/><path d=\"M17.41 7.96l-1.37-1.37c-.4-.4-.92-.59-1.43-.59-.52 0-1.04.2-1.43.59L10.3 9.45l-7.72 7.72c-.78.78-.78 2.05 0 2.83L4 21.41c.39.39.9.59 1.41.59.51 0 1.02-.2 1.41-.59l7.78-7.78 2.81-2.81c.8-.78.8-2.07 0-2.86zM5.41 20L4 18.59l7.72-7.72 1.47 1.35L5.41 20z\"/>\n",
              "  </svg>\n",
              "      </button>\n",
              "      \n",
              "  <style>\n",
              "    .colab-df-container {\n",
              "      display:flex;\n",
              "      flex-wrap:wrap;\n",
              "      gap: 12px;\n",
              "    }\n",
              "\n",
              "    .colab-df-convert {\n",
              "      background-color: #E8F0FE;\n",
              "      border: none;\n",
              "      border-radius: 50%;\n",
              "      cursor: pointer;\n",
              "      display: none;\n",
              "      fill: #1967D2;\n",
              "      height: 32px;\n",
              "      padding: 0 0 0 0;\n",
              "      width: 32px;\n",
              "    }\n",
              "\n",
              "    .colab-df-convert:hover {\n",
              "      background-color: #E2EBFA;\n",
              "      box-shadow: 0px 1px 2px rgba(60, 64, 67, 0.3), 0px 1px 3px 1px rgba(60, 64, 67, 0.15);\n",
              "      fill: #174EA6;\n",
              "    }\n",
              "\n",
              "    [theme=dark] .colab-df-convert {\n",
              "      background-color: #3B4455;\n",
              "      fill: #D2E3FC;\n",
              "    }\n",
              "\n",
              "    [theme=dark] .colab-df-convert:hover {\n",
              "      background-color: #434B5C;\n",
              "      box-shadow: 0px 1px 3px 1px rgba(0, 0, 0, 0.15);\n",
              "      filter: drop-shadow(0px 1px 2px rgba(0, 0, 0, 0.3));\n",
              "      fill: #FFFFFF;\n",
              "    }\n",
              "  </style>\n",
              "\n",
              "      <script>\n",
              "        const buttonEl =\n",
              "          document.querySelector('#df-08c300a1-2d05-4ee9-8ed3-a5454a54255b button.colab-df-convert');\n",
              "        buttonEl.style.display =\n",
              "          google.colab.kernel.accessAllowed ? 'block' : 'none';\n",
              "\n",
              "        async function convertToInteractive(key) {\n",
              "          const element = document.querySelector('#df-08c300a1-2d05-4ee9-8ed3-a5454a54255b');\n",
              "          const dataTable =\n",
              "            await google.colab.kernel.invokeFunction('convertToInteractive',\n",
              "                                                     [key], {});\n",
              "          if (!dataTable) return;\n",
              "\n",
              "          const docLinkHtml = 'Like what you see? Visit the ' +\n",
              "            '<a target=\"_blank\" href=https://colab.research.google.com/notebooks/data_table.ipynb>data table notebook</a>'\n",
              "            + ' to learn more about interactive tables.';\n",
              "          element.innerHTML = '';\n",
              "          dataTable['output_type'] = 'display_data';\n",
              "          await google.colab.output.renderOutput(dataTable, element);\n",
              "          const docLink = document.createElement('div');\n",
              "          docLink.innerHTML = docLinkHtml;\n",
              "          element.appendChild(docLink);\n",
              "        }\n",
              "      </script>\n",
              "    </div>\n",
              "  </div>\n",
              "  "
            ]
          },
          "metadata": {},
          "execution_count": 68
        }
      ]
    },
    {
      "cell_type": "code",
      "source": [
        "import math "
      ],
      "metadata": {
        "id": "SxXg0oeM3Ynj"
      },
      "execution_count": 69,
      "outputs": []
    },
    {
      "cell_type": "code",
      "source": [
        "##  split train and test set \n",
        "rows = df_sorted.shape[0]\n",
        "\n",
        "df_train = df_sorted.loc[:math.floor(rows*0.7)]\n",
        "df_test = df_sorted.loc[math.floor(rows*0.7):]\n",
        "\n",
        "print(df_train.shape)\n",
        "print(df_test.shape)"
      ],
      "metadata": {
        "id": "BZp2OQo331y6",
        "colab": {
          "base_uri": "https://localhost:8080/"
        },
        "outputId": "7fd151d0-c1df-42e8-b16f-3408e9463ba9"
      },
      "execution_count": 70,
      "outputs": [
        {
          "output_type": "stream",
          "name": "stdout",
          "text": [
            "(203728, 8)\n",
            "(203102, 8)\n"
          ]
        }
      ]
    },
    {
      "cell_type": "code",
      "source": [
        "max(df_train['invoice_date'])"
      ],
      "metadata": {
        "colab": {
          "base_uri": "https://localhost:8080/"
        },
        "id": "7iDjhZ9cprRy",
        "outputId": "c57f4248-06ce-437c-bd1c-9d48e728cb56"
      },
      "execution_count": 92,
      "outputs": [
        {
          "output_type": "execute_result",
          "data": {
            "text/plain": [
              "Timestamp('2011-07-31 00:00:00')"
            ]
          },
          "metadata": {},
          "execution_count": 92
        }
      ]
    },
    {
      "cell_type": "code",
      "source": [
        "today_date = dt.datetime(2011, 7, 31)"
      ],
      "metadata": {
        "id": "xMDrqSqbpX_A"
      },
      "execution_count": 94,
      "outputs": []
    },
    {
      "cell_type": "code",
      "source": [
        "## Calculate RFM metrics - train set \n",
        "%%time \n",
        "ltv_train = df_train.groupby(\"customer_id\").agg(\n",
        "    {\n",
        "        \"invoice_date\": [\n",
        "            lambda x: (x.max() - x.min()).days,\n",
        "            lambda x: (today_date - x.min()).days,\n",
        "        ],\n",
        "        \"total_price\": \"sum\",\n",
        "    }\n",
        ")\n",
        "\n",
        "# invoice_df = df_train[ df_train['quantity'] > 0 ].groupby(\"customer_id\").agg( { \"invoice_no\": \"nunique\" })\n",
        "invoice_df = df_train[ df_train['quantity'] > 0 ].groupby(\"customer_id\").agg( { \"invoice_date\": \"nunique\" })\n",
        "\n",
        "ltv_train.columns = ltv_train.columns.droplevel(0)\n",
        "\n",
        "invoice_df.head()\n",
        "\n",
        "ltv_train = pd.merge(ltv_train, invoice_df, left_index=True, right_index=True)\n",
        "ltv_train.columns = [\"recency\", \"T\", \"monetary\", \"frequency\"]\n",
        "\n",
        "train_base = ltv_train.copy()\n",
        "\n",
        "# Frequency \n",
        "ltv_train['frequency'] = ltv_train['frequency'] - 1 \n",
        "ltv_train = ltv_train[ltv_train[\"frequency\"] > 1]\n",
        "\n",
        "# Average Order Value  \n",
        "ltv_train[\"monetary\"] = ltv_train[\"monetary\"] / ltv_train[\"frequency\"]\n",
        "\n",
        "ltv_train.head()\n"
      ],
      "metadata": {
        "colab": {
          "base_uri": "https://localhost:8080/",
          "height": 273
        },
        "id": "C0I4OfEd31-S",
        "outputId": "4b98b75f-a5b2-4b87-c5c2-dd69c2e00b88"
      },
      "execution_count": 98,
      "outputs": [
        {
          "output_type": "stream",
          "name": "stdout",
          "text": [
            "CPU times: user 1.26 s, sys: 11.2 ms, total: 1.27 s\n",
            "Wall time: 1.68 s\n"
          ]
        },
        {
          "output_type": "execute_result",
          "data": {
            "text/plain": [
              "             recency    T  monetary  frequency\n",
              "customer_id                                   \n",
              "12347            184  236   735.317          3\n",
              "12348            110  227   743.620          2\n",
              "12352             34  165   200.393          3\n",
              "12359            142  200 1,729.965          2\n",
              "12362            140  164   636.600          2"
            ],
            "text/html": [
              "\n",
              "  <div id=\"df-c8785851-38e8-42d0-bd52-c90de9b2f4aa\">\n",
              "    <div class=\"colab-df-container\">\n",
              "      <div>\n",
              "<style scoped>\n",
              "    .dataframe tbody tr th:only-of-type {\n",
              "        vertical-align: middle;\n",
              "    }\n",
              "\n",
              "    .dataframe tbody tr th {\n",
              "        vertical-align: top;\n",
              "    }\n",
              "\n",
              "    .dataframe thead th {\n",
              "        text-align: right;\n",
              "    }\n",
              "</style>\n",
              "<table border=\"1\" class=\"dataframe\">\n",
              "  <thead>\n",
              "    <tr style=\"text-align: right;\">\n",
              "      <th></th>\n",
              "      <th>recency</th>\n",
              "      <th>T</th>\n",
              "      <th>monetary</th>\n",
              "      <th>frequency</th>\n",
              "    </tr>\n",
              "    <tr>\n",
              "      <th>customer_id</th>\n",
              "      <th></th>\n",
              "      <th></th>\n",
              "      <th></th>\n",
              "      <th></th>\n",
              "    </tr>\n",
              "  </thead>\n",
              "  <tbody>\n",
              "    <tr>\n",
              "      <th>12347</th>\n",
              "      <td>184</td>\n",
              "      <td>236</td>\n",
              "      <td>735.317</td>\n",
              "      <td>3</td>\n",
              "    </tr>\n",
              "    <tr>\n",
              "      <th>12348</th>\n",
              "      <td>110</td>\n",
              "      <td>227</td>\n",
              "      <td>743.620</td>\n",
              "      <td>2</td>\n",
              "    </tr>\n",
              "    <tr>\n",
              "      <th>12352</th>\n",
              "      <td>34</td>\n",
              "      <td>165</td>\n",
              "      <td>200.393</td>\n",
              "      <td>3</td>\n",
              "    </tr>\n",
              "    <tr>\n",
              "      <th>12359</th>\n",
              "      <td>142</td>\n",
              "      <td>200</td>\n",
              "      <td>1,729.965</td>\n",
              "      <td>2</td>\n",
              "    </tr>\n",
              "    <tr>\n",
              "      <th>12362</th>\n",
              "      <td>140</td>\n",
              "      <td>164</td>\n",
              "      <td>636.600</td>\n",
              "      <td>2</td>\n",
              "    </tr>\n",
              "  </tbody>\n",
              "</table>\n",
              "</div>\n",
              "      <button class=\"colab-df-convert\" onclick=\"convertToInteractive('df-c8785851-38e8-42d0-bd52-c90de9b2f4aa')\"\n",
              "              title=\"Convert this dataframe to an interactive table.\"\n",
              "              style=\"display:none;\">\n",
              "        \n",
              "  <svg xmlns=\"http://www.w3.org/2000/svg\" height=\"24px\"viewBox=\"0 0 24 24\"\n",
              "       width=\"24px\">\n",
              "    <path d=\"M0 0h24v24H0V0z\" fill=\"none\"/>\n",
              "    <path d=\"M18.56 5.44l.94 2.06.94-2.06 2.06-.94-2.06-.94-.94-2.06-.94 2.06-2.06.94zm-11 1L8.5 8.5l.94-2.06 2.06-.94-2.06-.94L8.5 2.5l-.94 2.06-2.06.94zm10 10l.94 2.06.94-2.06 2.06-.94-2.06-.94-.94-2.06-.94 2.06-2.06.94z\"/><path d=\"M17.41 7.96l-1.37-1.37c-.4-.4-.92-.59-1.43-.59-.52 0-1.04.2-1.43.59L10.3 9.45l-7.72 7.72c-.78.78-.78 2.05 0 2.83L4 21.41c.39.39.9.59 1.41.59.51 0 1.02-.2 1.41-.59l7.78-7.78 2.81-2.81c.8-.78.8-2.07 0-2.86zM5.41 20L4 18.59l7.72-7.72 1.47 1.35L5.41 20z\"/>\n",
              "  </svg>\n",
              "      </button>\n",
              "      \n",
              "  <style>\n",
              "    .colab-df-container {\n",
              "      display:flex;\n",
              "      flex-wrap:wrap;\n",
              "      gap: 12px;\n",
              "    }\n",
              "\n",
              "    .colab-df-convert {\n",
              "      background-color: #E8F0FE;\n",
              "      border: none;\n",
              "      border-radius: 50%;\n",
              "      cursor: pointer;\n",
              "      display: none;\n",
              "      fill: #1967D2;\n",
              "      height: 32px;\n",
              "      padding: 0 0 0 0;\n",
              "      width: 32px;\n",
              "    }\n",
              "\n",
              "    .colab-df-convert:hover {\n",
              "      background-color: #E2EBFA;\n",
              "      box-shadow: 0px 1px 2px rgba(60, 64, 67, 0.3), 0px 1px 3px 1px rgba(60, 64, 67, 0.15);\n",
              "      fill: #174EA6;\n",
              "    }\n",
              "\n",
              "    [theme=dark] .colab-df-convert {\n",
              "      background-color: #3B4455;\n",
              "      fill: #D2E3FC;\n",
              "    }\n",
              "\n",
              "    [theme=dark] .colab-df-convert:hover {\n",
              "      background-color: #434B5C;\n",
              "      box-shadow: 0px 1px 3px 1px rgba(0, 0, 0, 0.15);\n",
              "      filter: drop-shadow(0px 1px 2px rgba(0, 0, 0, 0.3));\n",
              "      fill: #FFFFFF;\n",
              "    }\n",
              "  </style>\n",
              "\n",
              "      <script>\n",
              "        const buttonEl =\n",
              "          document.querySelector('#df-c8785851-38e8-42d0-bd52-c90de9b2f4aa button.colab-df-convert');\n",
              "        buttonEl.style.display =\n",
              "          google.colab.kernel.accessAllowed ? 'block' : 'none';\n",
              "\n",
              "        async function convertToInteractive(key) {\n",
              "          const element = document.querySelector('#df-c8785851-38e8-42d0-bd52-c90de9b2f4aa');\n",
              "          const dataTable =\n",
              "            await google.colab.kernel.invokeFunction('convertToInteractive',\n",
              "                                                     [key], {});\n",
              "          if (!dataTable) return;\n",
              "\n",
              "          const docLinkHtml = 'Like what you see? Visit the ' +\n",
              "            '<a target=\"_blank\" href=https://colab.research.google.com/notebooks/data_table.ipynb>data table notebook</a>'\n",
              "            + ' to learn more about interactive tables.';\n",
              "          element.innerHTML = '';\n",
              "          dataTable['output_type'] = 'display_data';\n",
              "          await google.colab.output.renderOutput(dataTable, element);\n",
              "          const docLink = document.createElement('div');\n",
              "          docLink.innerHTML = docLinkHtml;\n",
              "          element.appendChild(docLink);\n",
              "        }\n",
              "      </script>\n",
              "    </div>\n",
              "  </div>\n",
              "  "
            ]
          },
          "metadata": {},
          "execution_count": 98
        }
      ]
    },
    {
      "cell_type": "code",
      "source": [
        "# training: axis length\n",
        "max_freq = train_base[\"frequency\"].quantile(0.98)\n",
        "max_rec = train_base[\"recency\"].max()\n",
        "max_T = train_base[\"T\"].max()\n",
        "\n",
        "\n",
        "# training\n",
        "fig = plt.figure(figsize=(8, 4)) \n",
        "ax = sns.distplot(train_base[\"frequency\"])\n",
        "ax.set_xlim(0, max_freq)\n",
        "ax.set_title(\"frequency (days): distribution of the customers\");\n",
        "\n",
        "\n",
        "# training\n",
        "fig = plt.figure(figsize=(8, 4)) \n",
        "ax = sns.distplot(train_base[\"recency\"])\n",
        "ax.set_xlim(0, max_rec)\n",
        "ax.set_title(\"recency (days): distribution of the customers\")\n",
        "\n",
        "\n",
        "# training\n",
        "fig = plt.figure(figsize=(8, 4)) \n",
        "ax = sns.distplot(train_base[\"T\"])\n",
        "ax.set_xlim(0, max_T)\n",
        "ax.set_title(\"customer age T (days): distribution of the customers\")"
      ],
      "metadata": {
        "colab": {
          "base_uri": "https://localhost:8080/",
          "height": 1000
        },
        "id": "i8Kw2xdZ5JyG",
        "outputId": "c8576063-dd42-4087-a138-9200856364e8"
      },
      "execution_count": 96,
      "outputs": [
        {
          "output_type": "execute_result",
          "data": {
            "text/plain": [
              "Text(0.5, 1.0, 'customer age T (days): distribution of the customers')"
            ]
          },
          "metadata": {},
          "execution_count": 96
        },
        {
          "output_type": "display_data",
          "data": {
            "text/plain": [
              "<Figure size 800x400 with 1 Axes>"
            ],
            "image/png": "[encoded data removed]"
          },
          "metadata": {}
        },
        {
          "output_type": "display_data",
          "data": {
            "text/plain": [
              "<Figure size 800x400 with 1 Axes>"
            ],
            "image/png": "[encoded data removed]"
          },
          "metadata": {}
        },
        {
          "output_type": "display_data",
          "data": {
            "text/plain": [
              "<Figure size 800x400 with 1 Axes>"
            ],
            "image/png": "[encoded data removed]"
          },
          "metadata": {}
        }
      ]
    },
    {
      "cell_type": "code",
      "source": [],
      "metadata": {
        "id": "ZRMTDm-YqBy7"
      },
      "execution_count": null,
      "outputs": []
    },
    {
      "cell_type": "code",
      "source": [],
      "metadata": {
        "id": "3jPcrSfw5NJy"
      },
      "execution_count": 96,
      "outputs": []
    },
    {
      "cell_type": "markdown",
      "source": [
        "## 3.2.2 (Trying..) Fitting BG/NBD Model"
      ],
      "metadata": {
        "id": "mr1HEwPYlzGc"
      }
    },
    {
      "cell_type": "code",
      "source": [
        "# train: BG/NBD model \n",
        "BGF = BetaGeoFitter(penalizer_coef=1e-06)\n",
        "BGF.fit(\n",
        "        frequency = ltv_train[\"frequency\"], \n",
        "        recency = ltv_train[\"recency\"], \n",
        "        T = ltv_train[\"T\"],   \n",
        "        weights = None,  \n",
        "        verbose = True,   \n",
        "        tol = 1e-06)"
      ],
      "metadata": {
        "colab": {
          "base_uri": "https://localhost:8080/"
        },
        "id": "WNHFz0fNlzVw",
        "outputId": "d0060434-2d74-4e34-fe3d-1e52f13bb268"
      },
      "execution_count": 103,
      "outputs": [
        {
          "output_type": "stream",
          "name": "stdout",
          "text": [
            "Optimization terminated successfully.\n",
            "         Current function value: -4.684139\n",
            "         Iterations: 40\n",
            "         Function evaluations: 41\n",
            "         Gradient evaluations: 41\n"
          ]
        },
        {
          "output_type": "execute_result",
          "data": {
            "text/plain": [
              "<lifetimes.BetaGeoFitter: fitted with 1075 subjects, a: 0.00, alpha: 119.74, b: 0.02, r: 3.01>"
            ]
          },
          "metadata": {},
          "execution_count": 103
        }
      ]
    },
    {
      "cell_type": "code",
      "source": [
        "# train: summary \n",
        "BGF.summary"
      ],
      "metadata": {
        "colab": {
          "base_uri": "https://localhost:8080/",
          "height": 174
        },
        "id": "4XGlT99FlzYv",
        "outputId": "8f28048b-84f2-49cf-fefc-81b405f4d98d"
      },
      "execution_count": 101,
      "outputs": [
        {
          "output_type": "execute_result",
          "data": {
            "text/plain": [
              "         coef  se(coef)  lower 95% bound  upper 95% bound\n",
              "r       3.010     0.186            2.646            3.374\n",
              "alpha 119.738     7.856          104.341          135.135\n",
              "a       0.000       NaN              NaN              NaN\n",
              "b       0.021       NaN              NaN              NaN"
            ],
            "text/html": [
              "\n",
              "  <div id=\"df-59bd348a-c7ef-40ed-af6e-5ac6715cdd0f\">\n",
              "    <div class=\"colab-df-container\">\n",
              "      <div>\n",
              "<style scoped>\n",
              "    .dataframe tbody tr th:only-of-type {\n",
              "        vertical-align: middle;\n",
              "    }\n",
              "\n",
              "    .dataframe tbody tr th {\n",
              "        vertical-align: top;\n",
              "    }\n",
              "\n",
              "    .dataframe thead th {\n",
              "        text-align: right;\n",
              "    }\n",
              "</style>\n",
              "<table border=\"1\" class=\"dataframe\">\n",
              "  <thead>\n",
              "    <tr style=\"text-align: right;\">\n",
              "      <th></th>\n",
              "      <th>coef</th>\n",
              "      <th>se(coef)</th>\n",
              "      <th>lower 95% bound</th>\n",
              "      <th>upper 95% bound</th>\n",
              "    </tr>\n",
              "  </thead>\n",
              "  <tbody>\n",
              "    <tr>\n",
              "      <th>r</th>\n",
              "      <td>3.010</td>\n",
              "      <td>0.186</td>\n",
              "      <td>2.646</td>\n",
              "      <td>3.374</td>\n",
              "    </tr>\n",
              "    <tr>\n",
              "      <th>alpha</th>\n",
              "      <td>119.738</td>\n",
              "      <td>7.856</td>\n",
              "      <td>104.341</td>\n",
              "      <td>135.135</td>\n",
              "    </tr>\n",
              "    <tr>\n",
              "      <th>a</th>\n",
              "      <td>0.000</td>\n",
              "      <td>NaN</td>\n",
              "      <td>NaN</td>\n",
              "      <td>NaN</td>\n",
              "    </tr>\n",
              "    <tr>\n",
              "      <th>b</th>\n",
              "      <td>0.021</td>\n",
              "      <td>NaN</td>\n",
              "      <td>NaN</td>\n",
              "      <td>NaN</td>\n",
              "    </tr>\n",
              "  </tbody>\n",
              "</table>\n",
              "</div>\n",
              "      <button class=\"colab-df-convert\" onclick=\"convertToInteractive('df-59bd348a-c7ef-40ed-af6e-5ac6715cdd0f')\"\n",
              "              title=\"Convert this dataframe to an interactive table.\"\n",
              "              style=\"display:none;\">\n",
              "        \n",
              "  <svg xmlns=\"http://www.w3.org/2000/svg\" height=\"24px\"viewBox=\"0 0 24 24\"\n",
              "       width=\"24px\">\n",
              "    <path d=\"M0 0h24v24H0V0z\" fill=\"none\"/>\n",
              "    <path d=\"M18.56 5.44l.94 2.06.94-2.06 2.06-.94-2.06-.94-.94-2.06-.94 2.06-2.06.94zm-11 1L8.5 8.5l.94-2.06 2.06-.94-2.06-.94L8.5 2.5l-.94 2.06-2.06.94zm10 10l.94 2.06.94-2.06 2.06-.94-2.06-.94-.94-2.06-.94 2.06-2.06.94z\"/><path d=\"M17.41 7.96l-1.37-1.37c-.4-.4-.92-.59-1.43-.59-.52 0-1.04.2-1.43.59L10.3 9.45l-7.72 7.72c-.78.78-.78 2.05 0 2.83L4 21.41c.39.39.9.59 1.41.59.51 0 1.02-.2 1.41-.59l7.78-7.78 2.81-2.81c.8-.78.8-2.07 0-2.86zM5.41 20L4 18.59l7.72-7.72 1.47 1.35L5.41 20z\"/>\n",
              "  </svg>\n",
              "      </button>\n",
              "      \n",
              "  <style>\n",
              "    .colab-df-container {\n",
              "      display:flex;\n",
              "      flex-wrap:wrap;\n",
              "      gap: 12px;\n",
              "    }\n",
              "\n",
              "    .colab-df-convert {\n",
              "      background-color: #E8F0FE;\n",
              "      border: none;\n",
              "      border-radius: 50%;\n",
              "      cursor: pointer;\n",
              "      display: none;\n",
              "      fill: #1967D2;\n",
              "      height: 32px;\n",
              "      padding: 0 0 0 0;\n",
              "      width: 32px;\n",
              "    }\n",
              "\n",
              "    .colab-df-convert:hover {\n",
              "      background-color: #E2EBFA;\n",
              "      box-shadow: 0px 1px 2px rgba(60, 64, 67, 0.3), 0px 1px 3px 1px rgba(60, 64, 67, 0.15);\n",
              "      fill: #174EA6;\n",
              "    }\n",
              "\n",
              "    [theme=dark] .colab-df-convert {\n",
              "      background-color: #3B4455;\n",
              "      fill: #D2E3FC;\n",
              "    }\n",
              "\n",
              "    [theme=dark] .colab-df-convert:hover {\n",
              "      background-color: #434B5C;\n",
              "      box-shadow: 0px 1px 3px 1px rgba(0, 0, 0, 0.15);\n",
              "      filter: drop-shadow(0px 1px 2px rgba(0, 0, 0, 0.3));\n",
              "      fill: #FFFFFF;\n",
              "    }\n",
              "  </style>\n",
              "\n",
              "      <script>\n",
              "        const buttonEl =\n",
              "          document.querySelector('#df-59bd348a-c7ef-40ed-af6e-5ac6715cdd0f button.colab-df-convert');\n",
              "        buttonEl.style.display =\n",
              "          google.colab.kernel.accessAllowed ? 'block' : 'none';\n",
              "\n",
              "        async function convertToInteractive(key) {\n",
              "          const element = document.querySelector('#df-59bd348a-c7ef-40ed-af6e-5ac6715cdd0f');\n",
              "          const dataTable =\n",
              "            await google.colab.kernel.invokeFunction('convertToInteractive',\n",
              "                                                     [key], {});\n",
              "          if (!dataTable) return;\n",
              "\n",
              "          const docLinkHtml = 'Like what you see? Visit the ' +\n",
              "            '<a target=\"_blank\" href=https://colab.research.google.com/notebooks/data_table.ipynb>data table notebook</a>'\n",
              "            + ' to learn more about interactive tables.';\n",
              "          element.innerHTML = '';\n",
              "          dataTable['output_type'] = 'display_data';\n",
              "          await google.colab.output.renderOutput(dataTable, element);\n",
              "          const docLink = document.createElement('div');\n",
              "          docLink.innerHTML = docLinkHtml;\n",
              "          element.appendChild(docLink);\n",
              "        }\n",
              "      </script>\n",
              "    </div>\n",
              "  </div>\n",
              "  "
            ]
          },
          "metadata": {},
          "execution_count": 101
        }
      ]
    },
    {
      "cell_type": "code",
      "source": [
        "# training: does the model reflect the actual data closely enough?\n",
        "\n",
        "# frequency of repeat transactions: predicted vs actual\n",
        "fig = plt.figure(figsize=(12, 12))\n",
        "plot_period_transactions(BGF);"
      ],
      "metadata": {
        "colab": {
          "base_uri": "https://localhost:8080/",
          "height": 507
        },
        "id": "r_1_RwPvlzil",
        "outputId": "b47d0c80-aa31-4439-8487-7bc9e5dbf8c9"
      },
      "execution_count": 104,
      "outputs": [
        {
          "output_type": "display_data",
          "data": {
            "text/plain": [
              "<Figure size 1200x1200 with 0 Axes>"
            ]
          },
          "metadata": {}
        },
        {
          "output_type": "display_data",
          "data": {
            "text/plain": [
              "<Figure size 640x480 with 1 Axes>"
            ],
            "image/png": "[encoded data removed]"
          },
          "metadata": {}
        }
      ]
    },
    {
      "cell_type": "markdown",
      "source": [
        "## 3.3.1 Split using libraries "
      ],
      "metadata": {
        "id": "aVwPjOYo5KeH"
      }
    },
    {
      "cell_type": "code",
      "source": [
        "df_LTV_03 = df_LTV_02[df_LTV_02['quantity'] > 0]"
      ],
      "metadata": {
        "id": "reyJGk6B6kuV"
      },
      "execution_count": null,
      "outputs": []
    },
    {
      "cell_type": "code",
      "source": [
        "%%time \n",
        "# train/test split (calibration/holdout)\n",
        "rows = df_sorted.shape[0]\n",
        "t_holdout = math.floor(rows*0.7)                                         # days to reserve for holdout period\n",
        "\n",
        "min_date =df_LTV_03[\"invoice_date\"].min()                     # end date of observations\n",
        "print(\"start of observations:\", min_date)\n",
        "\n",
        "max_date =df_LTV_03[\"invoice_date\"].max()\n",
        "print(\"end of observations:\", max_date)   \n",
        "\n",
        "max_cal_date = max_date - dt.timedelta(days=t_holdout)     # end date of chosen calibration period\n",
        "print(\"end of calibration period:\", max_cal_date)\n",
        "\n",
        "df_ch = calibration_and_holdout_data(\n",
        "        transactions =df_LTV_03, \n",
        "        customer_id_col = \"customer_id\", \n",
        "        datetime_col = \"invoice_date\",\n",
        "        monetary_value_col = \"total_price\", \n",
        "        calibration_period_end = max_cal_date, \n",
        "        observation_period_end = max_date, \n",
        "        freq = \"D\")  # Default 'D' for days, 'W' for weeks, 'h' for hours\n",
        "\n",
        "print(\"customer behavior in calibration and holdout periods\")\n",
        "pd.options.display.float_format = '{:,.0f}'.format\n",
        "df_ch"
      ],
      "metadata": {
        "id": "z_xUvqxOpy2c"
      },
      "execution_count": null,
      "outputs": []
    },
    {
      "cell_type": "code",
      "source": [
        "df_ch.info()"
      ],
      "metadata": {
        "id": "14SKoXTGtnNS"
      },
      "execution_count": null,
      "outputs": []
    },
    {
      "cell_type": "code",
      "source": [
        "# training: frequency\n",
        "pd.options.display.float_format = '{:,.3f}'.format\n",
        "\n",
        "x = df_ch[\"frequency_cal\"].value_counts(normalize=True)\n",
        "x = x.nlargest(15)\n",
        "print(\"frequency:\")\n",
        "x.sort_index(ascending=True)"
      ],
      "metadata": {
        "id": "0aqmhz08t6Gs"
      },
      "execution_count": null,
      "outputs": []
    },
    {
      "cell_type": "code",
      "source": [
        "# training: axis length\n",
        "max_freq = df_ch[\"frequency_cal\"].quantile(0.98)\n",
        "max_rec = df_ch[\"recency_cal\"].max()\n",
        "max_T = df_ch[\"T_cal\"].max()\n",
        "\n",
        "\n",
        "# training\n",
        "fig = plt.figure(figsize=(8, 4)) \n",
        "ax = sns.distplot(df_ch[\"frequency_cal\"])\n",
        "ax.set_xlim(0, max_freq)\n",
        "ax.set_title(\"frequency (days): distribution of the customers\");\n",
        "\n",
        "\n",
        "# training\n",
        "fig = plt.figure(figsize=(8, 4)) \n",
        "ax = sns.distplot(df_ch[\"recency_cal\"])\n",
        "ax.set_xlim(0, max_rec)\n",
        "ax.set_title(\"recency (days): distribution of the customers\")\n",
        "\n",
        "\n",
        "# training\n",
        "fig = plt.figure(figsize=(8, 4)) \n",
        "ax = sns.distplot(df_ch[\"T_cal\"])\n",
        "ax.set_xlim(0, max_T)\n",
        "ax.set_title(\"customer age T (days): distribution of the customers\")"
      ],
      "metadata": {
        "id": "j2lcPkQfuBPX"
      },
      "execution_count": null,
      "outputs": []
    },
    {
      "cell_type": "markdown",
      "source": [
        "## 3.3.2 BG/NBD \n",
        "- BG(Beta Geometric)/NBD(Negative Binomial Distribution)\n",
        "-  assume that the number of transactions made by each customer follows a Poisson process with a heterogeneity in transaction rates across customers following a gamma distribution\n",
        "\n",
        "by using `BetaGeoFitter` and `lifetimes` packages."
      ],
      "metadata": {
        "id": "KOtFWtaOcDlN"
      }
    },
    {
      "cell_type": "code",
      "source": [
        "# BGF = BetaGeoFitter(penalizer_coef=0.001)  # avoid overfitting\n",
        "# ## In typical applications, penalizers on the order of 0.001 to 0.1 are effective\n",
        "\n",
        "# BGF.fit(ltv_df[\"frequency\"], ltv_df[\"recency\"], ltv_df[\"T\"])"
      ],
      "metadata": {
        "id": "f1f2ROo4OlkX"
      },
      "execution_count": null,
      "outputs": []
    },
    {
      "cell_type": "code",
      "source": [
        "BGF.summary"
      ],
      "metadata": {
        "id": "izgzHrO9ZoF9"
      },
      "execution_count": null,
      "outputs": []
    },
    {
      "cell_type": "markdown",
      "source": [
        "## 3.3 Visualization \n"
      ],
      "metadata": {
        "id": "V_wCQnivdxnx"
      }
    },
    {
      "cell_type": "code",
      "source": [
        "# from lifetimes.plotting import plot_frequency_recency_matrix\n",
        "# from lifetimes.plotting import plot_probability_alive_matrix"
      ],
      "metadata": {
        "id": "L-zVkcKQd1A7"
      },
      "execution_count": null,
      "outputs": []
    },
    {
      "cell_type": "code",
      "source": [
        "# plot_frequency_recency_matrix(BGF)"
      ],
      "metadata": {
        "id": "1xsGicWNd1D2"
      },
      "execution_count": null,
      "outputs": []
    },
    {
      "cell_type": "code",
      "source": [
        "# plot_probability_alive_matrix(BGF)"
      ],
      "metadata": {
        "id": "YApZUvpId1H_"
      },
      "execution_count": null,
      "outputs": []
    },
    {
      "cell_type": "markdown",
      "source": [
        "## Expectation \n",
        "- Top 10 Expected Number of Transaction (1 Week) \n",
        "- Top 10 Expected Number of Transaction (1 Month) "
      ],
      "metadata": {
        "id": "JkLKtKYEzK6c"
      }
    },
    {
      "cell_type": "code",
      "source": [
        "# ## - Top 10 Expected Number of Transaction (1 Week)  \n",
        "# BGF.conditional_expected_number_of_purchases_up_to_time(\n",
        "#     1, ltv_df[\"frequency\"], ltv_df[\"recency\"], ltv_df[\"T\"]\n",
        "# ).sort_values(ascending=False).head(10).to_frame(\n",
        "#     \"Expected Number of Transactions\"\n",
        "# ).reset_index()"
      ],
      "metadata": {
        "id": "Zw91cgTOOlmu"
      },
      "execution_count": null,
      "outputs": []
    },
    {
      "cell_type": "code",
      "source": [
        "# ## Top 10 Expected Number of Transaction (1 Month)\n",
        "# BGF.conditional_expected_number_of_purchases_up_to_time(\n",
        "#     4, ltv_df[\"frequency\"], ltv_df[\"recency\"], ltv_df[\"T\"]\n",
        "# ).sort_values(ascending=False).head(10).to_frame(\n",
        "#     \"Expected Number of Transactions\"\n",
        "# ).reset_index()"
      ],
      "metadata": {
        "id": "dq1FG2t8za5i"
      },
      "execution_count": null,
      "outputs": []
    },
    {
      "cell_type": "markdown",
      "source": [
        "- bg-nbd 모델에서 출력해볼 수 있는 값들 살펴보기 \n",
        "- 그래프 그려볼 수 있는 것 그려보기 \n",
        "\n",
        "-- https://lifetimes.readthedocs.io/en/latest/Quickstart.html 살펴보기 (lifetimes 문서) "
      ],
      "metadata": {
        "id": "hNnau9ziz1bk"
      }
    },
    {
      "cell_type": "code",
      "source": [
        "# from lifetimes.plotting import plot_period_transactions"
      ],
      "metadata": {
        "id": "IgBWX5VRfKsZ"
      },
      "execution_count": null,
      "outputs": []
    },
    {
      "cell_type": "code",
      "source": [
        "# # Model Fitting \n",
        "# plot_period_transactions(BGF)"
      ],
      "metadata": {
        "id": "2d67V-PCfOnH"
      },
      "execution_count": null,
      "outputs": []
    }
  ]
}